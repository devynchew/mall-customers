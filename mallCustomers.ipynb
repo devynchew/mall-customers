{
 "cells": [
  {
   "cell_type": "code",
   "execution_count": 4,
   "metadata": {},
   "outputs": [],
   "source": [
    "import pandas as pd\n",
    "import matplotlib.pyplot as plt\n",
    "import seaborn as sns\n",
    "import plotly.express as px\n",
    "from sklearn.cluster import KMeans\n",
    "from sklearn.preprocessing import StandardScaler\n",
    "from sklearn.metrics import silhouette_score\n",
    "from sklearn.cluster import MeanShift"
   ]
  },
  {
   "cell_type": "code",
   "execution_count": 5,
   "metadata": {},
   "outputs": [
    {
     "data": {
      "text/html": [
       "<div>\n",
       "<style scoped>\n",
       "    .dataframe tbody tr th:only-of-type {\n",
       "        vertical-align: middle;\n",
       "    }\n",
       "\n",
       "    .dataframe tbody tr th {\n",
       "        vertical-align: top;\n",
       "    }\n",
       "\n",
       "    .dataframe thead th {\n",
       "        text-align: right;\n",
       "    }\n",
       "</style>\n",
       "<table border=\"1\" class=\"dataframe\">\n",
       "  <thead>\n",
       "    <tr style=\"text-align: right;\">\n",
       "      <th></th>\n",
       "      <th>CustomerID</th>\n",
       "      <th>Genre</th>\n",
       "      <th>Age</th>\n",
       "      <th>Annual Income (k$)</th>\n",
       "      <th>Spending Score (1-100)</th>\n",
       "    </tr>\n",
       "  </thead>\n",
       "  <tbody>\n",
       "    <tr>\n",
       "      <th>0</th>\n",
       "      <td>1</td>\n",
       "      <td>Male</td>\n",
       "      <td>19</td>\n",
       "      <td>15</td>\n",
       "      <td>39</td>\n",
       "    </tr>\n",
       "    <tr>\n",
       "      <th>1</th>\n",
       "      <td>2</td>\n",
       "      <td>Male</td>\n",
       "      <td>21</td>\n",
       "      <td>15</td>\n",
       "      <td>81</td>\n",
       "    </tr>\n",
       "    <tr>\n",
       "      <th>2</th>\n",
       "      <td>3</td>\n",
       "      <td>Female</td>\n",
       "      <td>20</td>\n",
       "      <td>16</td>\n",
       "      <td>6</td>\n",
       "    </tr>\n",
       "    <tr>\n",
       "      <th>3</th>\n",
       "      <td>4</td>\n",
       "      <td>Female</td>\n",
       "      <td>23</td>\n",
       "      <td>16</td>\n",
       "      <td>77</td>\n",
       "    </tr>\n",
       "    <tr>\n",
       "      <th>4</th>\n",
       "      <td>5</td>\n",
       "      <td>Female</td>\n",
       "      <td>31</td>\n",
       "      <td>17</td>\n",
       "      <td>40</td>\n",
       "    </tr>\n",
       "  </tbody>\n",
       "</table>\n",
       "</div>"
      ],
      "text/plain": [
       "   CustomerID   Genre  Age  Annual Income (k$)  Spending Score (1-100)\n",
       "0           1    Male   19                  15                      39\n",
       "1           2    Male   21                  15                      81\n",
       "2           3  Female   20                  16                       6\n",
       "3           4  Female   23                  16                      77\n",
       "4           5  Female   31                  17                      40"
      ]
     },
     "execution_count": 5,
     "metadata": {},
     "output_type": "execute_result"
    }
   ],
   "source": [
    "# Load the dataset\n",
    "dataset = pd.read_csv(\"Mall_Customers.csv\")\n",
    "dataset.head()"
   ]
  },
  {
   "cell_type": "code",
   "execution_count": 6,
   "metadata": {},
   "outputs": [
    {
     "name": "stdout",
     "output_type": "stream",
     "text": [
      "<class 'pandas.core.frame.DataFrame'>\n",
      "RangeIndex: 200 entries, 0 to 199\n",
      "Data columns (total 5 columns):\n",
      " #   Column                  Non-Null Count  Dtype \n",
      "---  ------                  --------------  ----- \n",
      " 0   CustomerID              200 non-null    int64 \n",
      " 1   Genre                   200 non-null    object\n",
      " 2   Age                     200 non-null    int64 \n",
      " 3   Annual Income (k$)      200 non-null    int64 \n",
      " 4   Spending Score (1-100)  200 non-null    int64 \n",
      "dtypes: int64(4), object(1)\n",
      "memory usage: 7.9+ KB\n"
     ]
    }
   ],
   "source": [
    "# Checking for data types\n",
    "dataset.info()"
   ]
  },
  {
   "cell_type": "code",
   "execution_count": 7,
   "metadata": {},
   "outputs": [
    {
     "data": {
      "text/plain": [
       "(200, 5)"
      ]
     },
     "execution_count": 7,
     "metadata": {},
     "output_type": "execute_result"
    }
   ],
   "source": [
    "dataset.shape"
   ]
  },
  {
   "cell_type": "code",
   "execution_count": 8,
   "metadata": {},
   "outputs": [
    {
     "data": {
      "text/html": [
       "<div>\n",
       "<style scoped>\n",
       "    .dataframe tbody tr th:only-of-type {\n",
       "        vertical-align: middle;\n",
       "    }\n",
       "\n",
       "    .dataframe tbody tr th {\n",
       "        vertical-align: top;\n",
       "    }\n",
       "\n",
       "    .dataframe thead th {\n",
       "        text-align: right;\n",
       "    }\n",
       "</style>\n",
       "<table border=\"1\" class=\"dataframe\">\n",
       "  <thead>\n",
       "    <tr style=\"text-align: right;\">\n",
       "      <th></th>\n",
       "      <th>Age</th>\n",
       "      <th>Annual Income (k$)</th>\n",
       "      <th>Spending Score (1-100)</th>\n",
       "    </tr>\n",
       "  </thead>\n",
       "  <tbody>\n",
       "    <tr>\n",
       "      <th>0</th>\n",
       "      <td>19</td>\n",
       "      <td>15</td>\n",
       "      <td>39</td>\n",
       "    </tr>\n",
       "    <tr>\n",
       "      <th>1</th>\n",
       "      <td>21</td>\n",
       "      <td>15</td>\n",
       "      <td>81</td>\n",
       "    </tr>\n",
       "    <tr>\n",
       "      <th>2</th>\n",
       "      <td>20</td>\n",
       "      <td>16</td>\n",
       "      <td>6</td>\n",
       "    </tr>\n",
       "    <tr>\n",
       "      <th>3</th>\n",
       "      <td>23</td>\n",
       "      <td>16</td>\n",
       "      <td>77</td>\n",
       "    </tr>\n",
       "    <tr>\n",
       "      <th>4</th>\n",
       "      <td>31</td>\n",
       "      <td>17</td>\n",
       "      <td>40</td>\n",
       "    </tr>\n",
       "  </tbody>\n",
       "</table>\n",
       "</div>"
      ],
      "text/plain": [
       "   Age  Annual Income (k$)  Spending Score (1-100)\n",
       "0   19                  15                      39\n",
       "1   21                  15                      81\n",
       "2   20                  16                       6\n",
       "3   23                  16                      77\n",
       "4   31                  17                      40"
      ]
     },
     "execution_count": 8,
     "metadata": {},
     "output_type": "execute_result"
    }
   ],
   "source": [
    "df = dataset[['Age', 'Annual Income (k$)', 'Spending Score (1-100)']]\n",
    "df.head()\n"
   ]
  },
  {
   "cell_type": "code",
   "execution_count": 9,
   "metadata": {},
   "outputs": [
    {
     "data": {
      "text/html": [
       "<div>\n",
       "<style scoped>\n",
       "    .dataframe tbody tr th:only-of-type {\n",
       "        vertical-align: middle;\n",
       "    }\n",
       "\n",
       "    .dataframe tbody tr th {\n",
       "        vertical-align: top;\n",
       "    }\n",
       "\n",
       "    .dataframe thead th {\n",
       "        text-align: right;\n",
       "    }\n",
       "</style>\n",
       "<table border=\"1\" class=\"dataframe\">\n",
       "  <thead>\n",
       "    <tr style=\"text-align: right;\">\n",
       "      <th></th>\n",
       "      <th>Age</th>\n",
       "      <th>Annual Income (k$)</th>\n",
       "      <th>Spending Score (1-100)</th>\n",
       "    </tr>\n",
       "  </thead>\n",
       "  <tbody>\n",
       "    <tr>\n",
       "      <th>count</th>\n",
       "      <td>200.000000</td>\n",
       "      <td>200.000000</td>\n",
       "      <td>200.000000</td>\n",
       "    </tr>\n",
       "    <tr>\n",
       "      <th>mean</th>\n",
       "      <td>38.850000</td>\n",
       "      <td>60.560000</td>\n",
       "      <td>50.200000</td>\n",
       "    </tr>\n",
       "    <tr>\n",
       "      <th>std</th>\n",
       "      <td>13.969007</td>\n",
       "      <td>26.264721</td>\n",
       "      <td>25.823522</td>\n",
       "    </tr>\n",
       "    <tr>\n",
       "      <th>min</th>\n",
       "      <td>18.000000</td>\n",
       "      <td>15.000000</td>\n",
       "      <td>1.000000</td>\n",
       "    </tr>\n",
       "    <tr>\n",
       "      <th>25%</th>\n",
       "      <td>28.750000</td>\n",
       "      <td>41.500000</td>\n",
       "      <td>34.750000</td>\n",
       "    </tr>\n",
       "    <tr>\n",
       "      <th>50%</th>\n",
       "      <td>36.000000</td>\n",
       "      <td>61.500000</td>\n",
       "      <td>50.000000</td>\n",
       "    </tr>\n",
       "    <tr>\n",
       "      <th>75%</th>\n",
       "      <td>49.000000</td>\n",
       "      <td>78.000000</td>\n",
       "      <td>73.000000</td>\n",
       "    </tr>\n",
       "    <tr>\n",
       "      <th>max</th>\n",
       "      <td>70.000000</td>\n",
       "      <td>137.000000</td>\n",
       "      <td>99.000000</td>\n",
       "    </tr>\n",
       "  </tbody>\n",
       "</table>\n",
       "</div>"
      ],
      "text/plain": [
       "              Age  Annual Income (k$)  Spending Score (1-100)\n",
       "count  200.000000          200.000000              200.000000\n",
       "mean    38.850000           60.560000               50.200000\n",
       "std     13.969007           26.264721               25.823522\n",
       "min     18.000000           15.000000                1.000000\n",
       "25%     28.750000           41.500000               34.750000\n",
       "50%     36.000000           61.500000               50.000000\n",
       "75%     49.000000           78.000000               73.000000\n",
       "max     70.000000          137.000000               99.000000"
      ]
     },
     "execution_count": 9,
     "metadata": {},
     "output_type": "execute_result"
    }
   ],
   "source": [
    "df.describe()"
   ]
  },
  {
   "cell_type": "code",
   "execution_count": 10,
   "metadata": {},
   "outputs": [
    {
     "data": {
      "text/plain": [
       "array([[<AxesSubplot:title={'center':'Age'}>,\n",
       "        <AxesSubplot:title={'center':'Annual Income (k$)'}>,\n",
       "        <AxesSubplot:title={'center':'Spending Score (1-100)'}>]],\n",
       "      dtype=object)"
      ]
     },
     "execution_count": 10,
     "metadata": {},
     "output_type": "execute_result"
    },
    {
     "data": {
      "image/png": "[encoded data removed]",
      "image/svg+xml": "<?xml version=\"1.0\" encoding=\"utf-8\" standalone=\"no\"?>\r\n<!DOCTYPE svg PUBLIC \"-//W3C//DTD SVG 1.1//EN\"\r\n  \"http://www.w3.org/Graphics/SVG/1.1/DTD/svg11.dtd\">\r\n<!-- Created with matplotlib (https://matplotlib.org/) -->\r\n<svg height=\"209.27625pt\" version=\"1.1\" viewBox=\"0 0 1150.125 209.27625\" width=\"1150.125pt\" xmlns=\"http://www.w3.org/2000/svg\" xmlns:xlink=\"http://www.w3.org/1999/xlink\">\r\n <metadata>\r\n  <rdf:RDF xmlns:cc=\"http://creativecommons.org/ns#\" xmlns:dc=\"http://purl.org/dc/elements/1.1/\" xmlns:rdf=\"http://www.w3.org/1999/02/22-rdf-syntax-ns#\">\r\n   <cc:Work>\r\n    <dc:type rdf:resource=\"http://purl.org/dc/dcmitype/StillImage\"/>\r\n    <dc:date>2021-08-13T21:13:21.104574</dc:date>\r\n    <dc:format>image/svg+xml</dc:format>\r\n    <dc:creator>\r\n     <cc:Agent>\r\n      <dc:title>Matplotlib v3.3.3, https://matplotlib.org/</dc:title>\r\n     </cc:Agent>\r\n    </dc:creator>\r\n   </cc:Work>\r\n  </rdf:RDF>\r\n </metadata>\r\n <defs>\r\n  <style type=\"text/css\">*{stroke-linecap:butt;stroke-linejoin:round;}</style>\r\n </defs>\r\n <g id=\"figure_1\">\r\n  <g id=\"patch_1\">\r\n   <path d=\"M 0 209.27625 \r\nL 1150.125 209.27625 \r\nL 1150.125 0 \r\nL 0 0 \r\nz\r\n\" style=\"fill:none;\"/>\r\n  </g>\r\n  <g id=\"axes_1\">\r\n   <g id=\"patch_2\">\r\n    <path d=\"M 26.925 185.398125 \r\nL 336.925 185.398125 \r\nL 336.925 22.318125 \r\nL 26.925 22.318125 \r\nz\r\n\" style=\"fill:#ffffff;\"/>\r\n   </g>\r\n   <g id=\"patch_3\">\r\n    <path clip-path=\"url(#p28fd9afd36)\" d=\"M 41.015909 185.398125 \r\nL 59.803788 185.398125 \r\nL 59.803788 63.365472 \r\nL 41.015909 63.365472 \r\nz\r\n\" style=\"fill:#1f77b4;\"/>\r\n   </g>\r\n   <g id=\"patch_4\">\r\n    <path clip-path=\"url(#p28fd9afd36)\" d=\"M 59.803788 185.398125 \r\nL 78.591667 185.398125 \r\nL 78.591667 113.287921 \r\nL 59.803788 113.287921 \r\nz\r\n\" style=\"fill:#1f77b4;\"/>\r\n   </g>\r\n   <g id=\"patch_5\">\r\n    <path clip-path=\"url(#p28fd9afd36)\" d=\"M 78.591667 185.398125 \r\nL 97.379545 185.398125 \r\nL 97.379545 102.194043 \r\nL 78.591667 102.194043 \r\nz\r\n\" style=\"fill:#1f77b4;\"/>\r\n   </g>\r\n   <g id=\"patch_6\">\r\n    <path clip-path=\"url(#p28fd9afd36)\" d=\"M 97.379545 185.398125 \r\nL 116.167424 185.398125 \r\nL 116.167424 74.459349 \r\nL 97.379545 74.459349 \r\nz\r\n\" style=\"fill:#1f77b4;\"/>\r\n   </g>\r\n   <g id=\"patch_7\">\r\n    <path clip-path=\"url(#p28fd9afd36)\" d=\"M 116.167424 185.398125 \r\nL 134.955303 185.398125 \r\nL 134.955303 30.083839 \r\nL 116.167424 30.083839 \r\nz\r\n\" style=\"fill:#1f77b4;\"/>\r\n   </g>\r\n   <g id=\"patch_8\">\r\n    <path clip-path=\"url(#p28fd9afd36)\" d=\"M 134.955303 185.398125 \r\nL 153.743182 185.398125 \r\nL 153.743182 102.194043 \r\nL 134.955303 102.194043 \r\nz\r\n\" style=\"fill:#1f77b4;\"/>\r\n   </g>\r\n   <g id=\"patch_9\">\r\n    <path clip-path=\"url(#p28fd9afd36)\" d=\"M 153.743182 185.398125 \r\nL 172.531061 185.398125 \r\nL 172.531061 113.287921 \r\nL 153.743182 113.287921 \r\nz\r\n\" style=\"fill:#1f77b4;\"/>\r\n   </g>\r\n   <g id=\"patch_10\">\r\n    <path clip-path=\"url(#p28fd9afd36)\" d=\"M 172.531061 185.398125 \r\nL 191.318939 185.398125 \r\nL 191.318939 141.022615 \r\nL 172.531061 141.022615 \r\nz\r\n\" style=\"fill:#1f77b4;\"/>\r\n   </g>\r\n   <g id=\"patch_11\">\r\n    <path clip-path=\"url(#p28fd9afd36)\" d=\"M 191.318939 185.398125 \r\nL 210.106818 185.398125 \r\nL 210.106818 68.912411 \r\nL 191.318939 68.912411 \r\nz\r\n\" style=\"fill:#1f77b4;\"/>\r\n   </g>\r\n   <g id=\"patch_12\">\r\n    <path clip-path=\"url(#p28fd9afd36)\" d=\"M 210.106818 185.398125 \r\nL 228.894697 185.398125 \r\nL 228.894697 135.475676 \r\nL 210.106818 135.475676 \r\nz\r\n\" style=\"fill:#1f77b4;\"/>\r\n   </g>\r\n   <g id=\"patch_13\">\r\n    <path clip-path=\"url(#p28fd9afd36)\" d=\"M 228.894697 185.398125 \r\nL 247.682576 185.398125 \r\nL 247.682576 141.022615 \r\nL 228.894697 141.022615 \r\nz\r\n\" style=\"fill:#1f77b4;\"/>\r\n   </g>\r\n   <g id=\"patch_14\">\r\n    <path clip-path=\"url(#p28fd9afd36)\" d=\"M 247.682576 185.398125 \r\nL 266.470455 185.398125 \r\nL 266.470455 141.022615 \r\nL 247.682576 141.022615 \r\nz\r\n\" style=\"fill:#1f77b4;\"/>\r\n   </g>\r\n   <g id=\"patch_15\">\r\n    <path clip-path=\"url(#p28fd9afd36)\" d=\"M 266.470455 185.398125 \r\nL 285.258333 185.398125 \r\nL 285.258333 157.663431 \r\nL 266.470455 157.663431 \r\nz\r\n\" style=\"fill:#1f77b4;\"/>\r\n   </g>\r\n   <g id=\"patch_16\">\r\n    <path clip-path=\"url(#p28fd9afd36)\" d=\"M 285.258333 185.398125 \r\nL 304.046212 185.398125 \r\nL 304.046212 157.663431 \r\nL 285.258333 157.663431 \r\nz\r\n\" style=\"fill:#1f77b4;\"/>\r\n   </g>\r\n   <g id=\"patch_17\">\r\n    <path clip-path=\"url(#p28fd9afd36)\" d=\"M 304.046212 185.398125 \r\nL 322.834091 185.398125 \r\nL 322.834091 129.928737 \r\nL 304.046212 129.928737 \r\nz\r\n\" style=\"fill:#1f77b4;\"/>\r\n   </g>\r\n   <g id=\"matplotlib.axis_1\">\r\n    <g id=\"xtick_1\">\r\n     <g id=\"line2d_1\">\r\n      <path clip-path=\"url(#p28fd9afd36)\" d=\"M 51.85507 185.398125 \r\nL 51.85507 22.318125 \r\n\" style=\"fill:none;stroke:#b0b0b0;stroke-linecap:square;stroke-width:0.8;\"/>\r\n     </g>\r\n     <g id=\"line2d_2\">\r\n      <defs>\r\n       <path d=\"M 0 0 \r\nL 0 3.5 \r\n\" id=\"m8a83286038\" style=\"stroke:#000000;stroke-width:0.8;\"/>\r\n      </defs>\r\n      <g>\r\n       <use style=\"stroke:#000000;stroke-width:0.8;\" x=\"51.85507\" xlink:href=\"#m8a83286038\" y=\"185.398125\"/>\r\n      </g>\r\n     </g>\r\n     <g id=\"text_1\">\r\n      <!-- 20 -->\r\n      <g transform=\"translate(45.49257 199.996563)scale(0.1 -0.1)\">\r\n       <defs>\r\n        <path d=\"M 19.1875 8.296875 \r\nL 53.609375 8.296875 \r\nL 53.609375 0 \r\nL 7.328125 0 \r\nL 7.328125 8.296875 \r\nQ 12.9375 14.109375 22.625 23.890625 \r\nQ 32.328125 33.6875 34.8125 36.53125 \r\nQ 39.546875 41.84375 41.421875 45.53125 \r\nQ 43.3125 49.21875 43.3125 52.78125 \r\nQ 43.3125 58.59375 39.234375 62.25 \r\nQ 35.15625 65.921875 28.609375 65.921875 \r\nQ 23.96875 65.921875 18.8125 64.3125 \r\nQ 13.671875 62.703125 7.8125 59.421875 \r\nL 7.8125 69.390625 \r\nQ 13.765625 71.78125 18.9375 73 \r\nQ 24.125 74.21875 28.421875 74.21875 \r\nQ 39.75 74.21875 46.484375 68.546875 \r\nQ 53.21875 62.890625 53.21875 53.421875 \r\nQ 53.21875 48.921875 51.53125 44.890625 \r\nQ 49.859375 40.875 45.40625 35.40625 \r\nQ 44.1875 33.984375 37.640625 27.21875 \r\nQ 31.109375 20.453125 19.1875 8.296875 \r\nz\r\n\" id=\"DejaVuSans-50\"/>\r\n        <path d=\"M 31.78125 66.40625 \r\nQ 24.171875 66.40625 20.328125 58.90625 \r\nQ 16.5 51.421875 16.5 36.375 \r\nQ 16.5 21.390625 20.328125 13.890625 \r\nQ 24.171875 6.390625 31.78125 6.390625 \r\nQ 39.453125 6.390625 43.28125 13.890625 \r\nQ 47.125 21.390625 47.125 36.375 \r\nQ 47.125 51.421875 43.28125 58.90625 \r\nQ 39.453125 66.40625 31.78125 66.40625 \r\nz\r\nM 31.78125 74.21875 \r\nQ 44.046875 74.21875 50.515625 64.515625 \r\nQ 56.984375 54.828125 56.984375 36.375 \r\nQ 56.984375 17.96875 50.515625 8.265625 \r\nQ 44.046875 -1.421875 31.78125 -1.421875 \r\nQ 19.53125 -1.421875 13.0625 8.265625 \r\nQ 6.59375 17.96875 6.59375 36.375 \r\nQ 6.59375 54.828125 13.0625 64.515625 \r\nQ 19.53125 74.21875 31.78125 74.21875 \r\nz\r\n\" id=\"DejaVuSans-48\"/>\r\n       </defs>\r\n       <use xlink:href=\"#DejaVuSans-50\"/>\r\n       <use x=\"63.623047\" xlink:href=\"#DejaVuSans-48\"/>\r\n      </g>\r\n     </g>\r\n    </g>\r\n    <g id=\"xtick_2\">\r\n     <g id=\"line2d_3\">\r\n      <path clip-path=\"url(#p28fd9afd36)\" d=\"M 106.050874 185.398125 \r\nL 106.050874 22.318125 \r\n\" style=\"fill:none;stroke:#b0b0b0;stroke-linecap:square;stroke-width:0.8;\"/>\r\n     </g>\r\n     <g id=\"line2d_4\">\r\n      <g>\r\n       <use style=\"stroke:#000000;stroke-width:0.8;\" x=\"106.050874\" xlink:href=\"#m8a83286038\" y=\"185.398125\"/>\r\n      </g>\r\n     </g>\r\n     <g id=\"text_2\">\r\n      <!-- 30 -->\r\n      <g transform=\"translate(99.688374 199.996563)scale(0.1 -0.1)\">\r\n       <defs>\r\n        <path d=\"M 40.578125 39.3125 \r\nQ 47.65625 37.796875 51.625 33 \r\nQ 55.609375 28.21875 55.609375 21.1875 \r\nQ 55.609375 10.40625 48.1875 4.484375 \r\nQ 40.765625 -1.421875 27.09375 -1.421875 \r\nQ 22.515625 -1.421875 17.65625 -0.515625 \r\nQ 12.796875 0.390625 7.625 2.203125 \r\nL 7.625 11.71875 \r\nQ 11.71875 9.328125 16.59375 8.109375 \r\nQ 21.484375 6.890625 26.8125 6.890625 \r\nQ 36.078125 6.890625 40.9375 10.546875 \r\nQ 45.796875 14.203125 45.796875 21.1875 \r\nQ 45.796875 27.640625 41.28125 31.265625 \r\nQ 36.765625 34.90625 28.71875 34.90625 \r\nL 20.21875 34.90625 \r\nL 20.21875 43.015625 \r\nL 29.109375 43.015625 \r\nQ 36.375 43.015625 40.234375 45.921875 \r\nQ 44.09375 48.828125 44.09375 54.296875 \r\nQ 44.09375 59.90625 40.109375 62.90625 \r\nQ 36.140625 65.921875 28.71875 65.921875 \r\nQ 24.65625 65.921875 20.015625 65.03125 \r\nQ 15.375 64.15625 9.8125 62.3125 \r\nL 9.8125 71.09375 \r\nQ 15.4375 72.65625 20.34375 73.4375 \r\nQ 25.25 74.21875 29.59375 74.21875 \r\nQ 40.828125 74.21875 47.359375 69.109375 \r\nQ 53.90625 64.015625 53.90625 55.328125 \r\nQ 53.90625 49.265625 50.4375 45.09375 \r\nQ 46.96875 40.921875 40.578125 39.3125 \r\nz\r\n\" id=\"DejaVuSans-51\"/>\r\n       </defs>\r\n       <use xlink:href=\"#DejaVuSans-51\"/>\r\n       <use x=\"63.623047\" xlink:href=\"#DejaVuSans-48\"/>\r\n      </g>\r\n     </g>\r\n    </g>\r\n    <g id=\"xtick_3\">\r\n     <g id=\"line2d_5\">\r\n      <path clip-path=\"url(#p28fd9afd36)\" d=\"M 160.246678 185.398125 \r\nL 160.246678 22.318125 \r\n\" style=\"fill:none;stroke:#b0b0b0;stroke-linecap:square;stroke-width:0.8;\"/>\r\n     </g>\r\n     <g id=\"line2d_6\">\r\n      <g>\r\n       <use style=\"stroke:#000000;stroke-width:0.8;\" x=\"160.246678\" xlink:href=\"#m8a83286038\" y=\"185.398125\"/>\r\n      </g>\r\n     </g>\r\n     <g id=\"text_3\">\r\n      <!-- 40 -->\r\n      <g transform=\"translate(153.884178 199.996563)scale(0.1 -0.1)\">\r\n       <defs>\r\n        <path d=\"M 37.796875 64.3125 \r\nL 12.890625 25.390625 \r\nL 37.796875 25.390625 \r\nz\r\nM 35.203125 72.90625 \r\nL 47.609375 72.90625 \r\nL 47.609375 25.390625 \r\nL 58.015625 25.390625 \r\nL 58.015625 17.1875 \r\nL 47.609375 17.1875 \r\nL 47.609375 0 \r\nL 37.796875 0 \r\nL 37.796875 17.1875 \r\nL 4.890625 17.1875 \r\nL 4.890625 26.703125 \r\nz\r\n\" id=\"DejaVuSans-52\"/>\r\n       </defs>\r\n       <use xlink:href=\"#DejaVuSans-52\"/>\r\n       <use x=\"63.623047\" xlink:href=\"#DejaVuSans-48\"/>\r\n      </g>\r\n     </g>\r\n    </g>\r\n    <g id=\"xtick_4\">\r\n     <g id=\"line2d_7\">\r\n      <path clip-path=\"url(#p28fd9afd36)\" d=\"M 214.442483 185.398125 \r\nL 214.442483 22.318125 \r\n\" style=\"fill:none;stroke:#b0b0b0;stroke-linecap:square;stroke-width:0.8;\"/>\r\n     </g>\r\n     <g id=\"line2d_8\">\r\n      <g>\r\n       <use style=\"stroke:#000000;stroke-width:0.8;\" x=\"214.442483\" xlink:href=\"#m8a83286038\" y=\"185.398125\"/>\r\n      </g>\r\n     </g>\r\n     <g id=\"text_4\">\r\n      <!-- 50 -->\r\n      <g transform=\"translate(208.079983 199.996563)scale(0.1 -0.1)\">\r\n       <defs>\r\n        <path d=\"M 10.796875 72.90625 \r\nL 49.515625 72.90625 \r\nL 49.515625 64.59375 \r\nL 19.828125 64.59375 \r\nL 19.828125 46.734375 \r\nQ 21.96875 47.46875 24.109375 47.828125 \r\nQ 26.265625 48.1875 28.421875 48.1875 \r\nQ 40.625 48.1875 47.75 41.5 \r\nQ 54.890625 34.8125 54.890625 23.390625 \r\nQ 54.890625 11.625 47.5625 5.09375 \r\nQ 40.234375 -1.421875 26.90625 -1.421875 \r\nQ 22.3125 -1.421875 17.546875 -0.640625 \r\nQ 12.796875 0.140625 7.71875 1.703125 \r\nL 7.71875 11.625 \r\nQ 12.109375 9.234375 16.796875 8.0625 \r\nQ 21.484375 6.890625 26.703125 6.890625 \r\nQ 35.15625 6.890625 40.078125 11.328125 \r\nQ 45.015625 15.765625 45.015625 23.390625 \r\nQ 45.015625 31 40.078125 35.4375 \r\nQ 35.15625 39.890625 26.703125 39.890625 \r\nQ 22.75 39.890625 18.8125 39.015625 \r\nQ 14.890625 38.140625 10.796875 36.28125 \r\nz\r\n\" id=\"DejaVuSans-53\"/>\r\n       </defs>\r\n       <use xlink:href=\"#DejaVuSans-53\"/>\r\n       <use x=\"63.623047\" xlink:href=\"#DejaVuSans-48\"/>\r\n      </g>\r\n     </g>\r\n    </g>\r\n    <g id=\"xtick_5\">\r\n     <g id=\"line2d_9\">\r\n      <path clip-path=\"url(#p28fd9afd36)\" d=\"M 268.638287 185.398125 \r\nL 268.638287 22.318125 \r\n\" style=\"fill:none;stroke:#b0b0b0;stroke-linecap:square;stroke-width:0.8;\"/>\r\n     </g>\r\n     <g id=\"line2d_10\">\r\n      <g>\r\n       <use style=\"stroke:#000000;stroke-width:0.8;\" x=\"268.638287\" xlink:href=\"#m8a83286038\" y=\"185.398125\"/>\r\n      </g>\r\n     </g>\r\n     <g id=\"text_5\">\r\n      <!-- 60 -->\r\n      <g transform=\"translate(262.275787 199.996563)scale(0.1 -0.1)\">\r\n       <defs>\r\n        <path d=\"M 33.015625 40.375 \r\nQ 26.375 40.375 22.484375 35.828125 \r\nQ 18.609375 31.296875 18.609375 23.390625 \r\nQ 18.609375 15.53125 22.484375 10.953125 \r\nQ 26.375 6.390625 33.015625 6.390625 \r\nQ 39.65625 6.390625 43.53125 10.953125 \r\nQ 47.40625 15.53125 47.40625 23.390625 \r\nQ 47.40625 31.296875 43.53125 35.828125 \r\nQ 39.65625 40.375 33.015625 40.375 \r\nz\r\nM 52.59375 71.296875 \r\nL 52.59375 62.3125 \r\nQ 48.875 64.0625 45.09375 64.984375 \r\nQ 41.3125 65.921875 37.59375 65.921875 \r\nQ 27.828125 65.921875 22.671875 59.328125 \r\nQ 17.53125 52.734375 16.796875 39.40625 \r\nQ 19.671875 43.65625 24.015625 45.921875 \r\nQ 28.375 48.1875 33.59375 48.1875 \r\nQ 44.578125 48.1875 50.953125 41.515625 \r\nQ 57.328125 34.859375 57.328125 23.390625 \r\nQ 57.328125 12.15625 50.6875 5.359375 \r\nQ 44.046875 -1.421875 33.015625 -1.421875 \r\nQ 20.359375 -1.421875 13.671875 8.265625 \r\nQ 6.984375 17.96875 6.984375 36.375 \r\nQ 6.984375 53.65625 15.1875 63.9375 \r\nQ 23.390625 74.21875 37.203125 74.21875 \r\nQ 40.921875 74.21875 44.703125 73.484375 \r\nQ 48.484375 72.75 52.59375 71.296875 \r\nz\r\n\" id=\"DejaVuSans-54\"/>\r\n       </defs>\r\n       <use xlink:href=\"#DejaVuSans-54\"/>\r\n       <use x=\"63.623047\" xlink:href=\"#DejaVuSans-48\"/>\r\n      </g>\r\n     </g>\r\n    </g>\r\n    <g id=\"xtick_6\">\r\n     <g id=\"line2d_11\">\r\n      <path clip-path=\"url(#p28fd9afd36)\" d=\"M 322.834091 185.398125 \r\nL 322.834091 22.318125 \r\n\" style=\"fill:none;stroke:#b0b0b0;stroke-linecap:square;stroke-width:0.8;\"/>\r\n     </g>\r\n     <g id=\"line2d_12\">\r\n      <g>\r\n       <use style=\"stroke:#000000;stroke-width:0.8;\" x=\"322.834091\" xlink:href=\"#m8a83286038\" y=\"185.398125\"/>\r\n      </g>\r\n     </g>\r\n     <g id=\"text_6\">\r\n      <!-- 70 -->\r\n      <g transform=\"translate(316.471591 199.996563)scale(0.1 -0.1)\">\r\n       <defs>\r\n        <path d=\"M 8.203125 72.90625 \r\nL 55.078125 72.90625 \r\nL 55.078125 68.703125 \r\nL 28.609375 0 \r\nL 18.3125 0 \r\nL 43.21875 64.59375 \r\nL 8.203125 64.59375 \r\nz\r\n\" id=\"DejaVuSans-55\"/>\r\n       </defs>\r\n       <use xlink:href=\"#DejaVuSans-55\"/>\r\n       <use x=\"63.623047\" xlink:href=\"#DejaVuSans-48\"/>\r\n      </g>\r\n     </g>\r\n    </g>\r\n   </g>\r\n   <g id=\"matplotlib.axis_2\">\r\n    <g id=\"ytick_1\">\r\n     <g id=\"line2d_13\">\r\n      <path clip-path=\"url(#p28fd9afd36)\" d=\"M 26.925 185.398125 \r\nL 336.925 185.398125 \r\n\" style=\"fill:none;stroke:#b0b0b0;stroke-linecap:square;stroke-width:0.8;\"/>\r\n     </g>\r\n     <g id=\"line2d_14\">\r\n      <defs>\r\n       <path d=\"M 0 0 \r\nL -3.5 0 \r\n\" id=\"me19fc85a00\" style=\"stroke:#000000;stroke-width:0.8;\"/>\r\n      </defs>\r\n      <g>\r\n       <use style=\"stroke:#000000;stroke-width:0.8;\" x=\"26.925\" xlink:href=\"#me19fc85a00\" y=\"185.398125\"/>\r\n      </g>\r\n     </g>\r\n     <g id=\"text_7\">\r\n      <!-- 0 -->\r\n      <g transform=\"translate(13.5625 189.197344)scale(0.1 -0.1)\">\r\n       <use xlink:href=\"#DejaVuSans-48\"/>\r\n      </g>\r\n     </g>\r\n    </g>\r\n    <g id=\"ytick_2\">\r\n     <g id=\"line2d_15\">\r\n      <path clip-path=\"url(#p28fd9afd36)\" d=\"M 26.925 157.663431 \r\nL 336.925 157.663431 \r\n\" style=\"fill:none;stroke:#b0b0b0;stroke-linecap:square;stroke-width:0.8;\"/>\r\n     </g>\r\n     <g id=\"line2d_16\">\r\n      <g>\r\n       <use style=\"stroke:#000000;stroke-width:0.8;\" x=\"26.925\" xlink:href=\"#me19fc85a00\" y=\"157.663431\"/>\r\n      </g>\r\n     </g>\r\n     <g id=\"text_8\">\r\n      <!-- 5 -->\r\n      <g transform=\"translate(13.5625 161.46265)scale(0.1 -0.1)\">\r\n       <use xlink:href=\"#DejaVuSans-53\"/>\r\n      </g>\r\n     </g>\r\n    </g>\r\n    <g id=\"ytick_3\">\r\n     <g id=\"line2d_17\">\r\n      <path clip-path=\"url(#p28fd9afd36)\" d=\"M 26.925 129.928737 \r\nL 336.925 129.928737 \r\n\" style=\"fill:none;stroke:#b0b0b0;stroke-linecap:square;stroke-width:0.8;\"/>\r\n     </g>\r\n     <g id=\"line2d_18\">\r\n      <g>\r\n       <use style=\"stroke:#000000;stroke-width:0.8;\" x=\"26.925\" xlink:href=\"#me19fc85a00\" y=\"129.928737\"/>\r\n      </g>\r\n     </g>\r\n     <g id=\"text_9\">\r\n      <!-- 10 -->\r\n      <g transform=\"translate(7.2 133.727956)scale(0.1 -0.1)\">\r\n       <defs>\r\n        <path d=\"M 12.40625 8.296875 \r\nL 28.515625 8.296875 \r\nL 28.515625 63.921875 \r\nL 10.984375 60.40625 \r\nL 10.984375 69.390625 \r\nL 28.421875 72.90625 \r\nL 38.28125 72.90625 \r\nL 38.28125 8.296875 \r\nL 54.390625 8.296875 \r\nL 54.390625 0 \r\nL 12.40625 0 \r\nz\r\n\" id=\"DejaVuSans-49\"/>\r\n       </defs>\r\n       <use xlink:href=\"#DejaVuSans-49\"/>\r\n       <use x=\"63.623047\" xlink:href=\"#DejaVuSans-48\"/>\r\n      </g>\r\n     </g>\r\n    </g>\r\n    <g id=\"ytick_4\">\r\n     <g id=\"line2d_19\">\r\n      <path clip-path=\"url(#p28fd9afd36)\" d=\"M 26.925 102.194043 \r\nL 336.925 102.194043 \r\n\" style=\"fill:none;stroke:#b0b0b0;stroke-linecap:square;stroke-width:0.8;\"/>\r\n     </g>\r\n     <g id=\"line2d_20\">\r\n      <g>\r\n       <use style=\"stroke:#000000;stroke-width:0.8;\" x=\"26.925\" xlink:href=\"#me19fc85a00\" y=\"102.194043\"/>\r\n      </g>\r\n     </g>\r\n     <g id=\"text_10\">\r\n      <!-- 15 -->\r\n      <g transform=\"translate(7.2 105.993262)scale(0.1 -0.1)\">\r\n       <use xlink:href=\"#DejaVuSans-49\"/>\r\n       <use x=\"63.623047\" xlink:href=\"#DejaVuSans-53\"/>\r\n      </g>\r\n     </g>\r\n    </g>\r\n    <g id=\"ytick_5\">\r\n     <g id=\"line2d_21\">\r\n      <path clip-path=\"url(#p28fd9afd36)\" d=\"M 26.925 74.459349 \r\nL 336.925 74.459349 \r\n\" style=\"fill:none;stroke:#b0b0b0;stroke-linecap:square;stroke-width:0.8;\"/>\r\n     </g>\r\n     <g id=\"line2d_22\">\r\n      <g>\r\n       <use style=\"stroke:#000000;stroke-width:0.8;\" x=\"26.925\" xlink:href=\"#me19fc85a00\" y=\"74.459349\"/>\r\n      </g>\r\n     </g>\r\n     <g id=\"text_11\">\r\n      <!-- 20 -->\r\n      <g transform=\"translate(7.2 78.258568)scale(0.1 -0.1)\">\r\n       <use xlink:href=\"#DejaVuSans-50\"/>\r\n       <use x=\"63.623047\" xlink:href=\"#DejaVuSans-48\"/>\r\n      </g>\r\n     </g>\r\n    </g>\r\n    <g id=\"ytick_6\">\r\n     <g id=\"line2d_23\">\r\n      <path clip-path=\"url(#p28fd9afd36)\" d=\"M 26.925 46.724656 \r\nL 336.925 46.724656 \r\n\" style=\"fill:none;stroke:#b0b0b0;stroke-linecap:square;stroke-width:0.8;\"/>\r\n     </g>\r\n     <g id=\"line2d_24\">\r\n      <g>\r\n       <use style=\"stroke:#000000;stroke-width:0.8;\" x=\"26.925\" xlink:href=\"#me19fc85a00\" y=\"46.724656\"/>\r\n      </g>\r\n     </g>\r\n     <g id=\"text_12\">\r\n      <!-- 25 -->\r\n      <g transform=\"translate(7.2 50.523874)scale(0.1 -0.1)\">\r\n       <use xlink:href=\"#DejaVuSans-50\"/>\r\n       <use x=\"63.623047\" xlink:href=\"#DejaVuSans-53\"/>\r\n      </g>\r\n     </g>\r\n    </g>\r\n   </g>\r\n   <g id=\"patch_18\">\r\n    <path d=\"M 26.925 185.398125 \r\nL 26.925 22.318125 \r\n\" style=\"fill:none;stroke:#000000;stroke-linecap:square;stroke-linejoin:miter;stroke-width:0.8;\"/>\r\n   </g>\r\n   <g id=\"patch_19\">\r\n    <path d=\"M 336.925 185.398125 \r\nL 336.925 22.318125 \r\n\" style=\"fill:none;stroke:#000000;stroke-linecap:square;stroke-linejoin:miter;stroke-width:0.8;\"/>\r\n   </g>\r\n   <g id=\"patch_20\">\r\n    <path d=\"M 26.925 185.398125 \r\nL 336.925 185.398125 \r\n\" style=\"fill:none;stroke:#000000;stroke-linecap:square;stroke-linejoin:miter;stroke-width:0.8;\"/>\r\n   </g>\r\n   <g id=\"patch_21\">\r\n    <path d=\"M 26.925 22.318125 \r\nL 336.925 22.318125 \r\n\" style=\"fill:none;stroke:#000000;stroke-linecap:square;stroke-linejoin:miter;stroke-width:0.8;\"/>\r\n   </g>\r\n   <g id=\"text_13\">\r\n    <!-- Age -->\r\n    <g transform=\"translate(170.319688 16.318125)scale(0.12 -0.12)\">\r\n     <defs>\r\n      <path d=\"M 34.1875 63.1875 \r\nL 20.796875 26.90625 \r\nL 47.609375 26.90625 \r\nz\r\nM 28.609375 72.90625 \r\nL 39.796875 72.90625 \r\nL 67.578125 0 \r\nL 57.328125 0 \r\nL 50.6875 18.703125 \r\nL 17.828125 18.703125 \r\nL 11.1875 0 \r\nL 0.78125 0 \r\nz\r\n\" id=\"DejaVuSans-65\"/>\r\n      <path d=\"M 45.40625 27.984375 \r\nQ 45.40625 37.75 41.375 43.109375 \r\nQ 37.359375 48.484375 30.078125 48.484375 \r\nQ 22.859375 48.484375 18.828125 43.109375 \r\nQ 14.796875 37.75 14.796875 27.984375 \r\nQ 14.796875 18.265625 18.828125 12.890625 \r\nQ 22.859375 7.515625 30.078125 7.515625 \r\nQ 37.359375 7.515625 41.375 12.890625 \r\nQ 45.40625 18.265625 45.40625 27.984375 \r\nz\r\nM 54.390625 6.78125 \r\nQ 54.390625 -7.171875 48.1875 -13.984375 \r\nQ 42 -20.796875 29.203125 -20.796875 \r\nQ 24.46875 -20.796875 20.265625 -20.09375 \r\nQ 16.0625 -19.390625 12.109375 -17.921875 \r\nL 12.109375 -9.1875 \r\nQ 16.0625 -11.328125 19.921875 -12.34375 \r\nQ 23.78125 -13.375 27.78125 -13.375 \r\nQ 36.625 -13.375 41.015625 -8.765625 \r\nQ 45.40625 -4.15625 45.40625 5.171875 \r\nL 45.40625 9.625 \r\nQ 42.625 4.78125 38.28125 2.390625 \r\nQ 33.9375 0 27.875 0 \r\nQ 17.828125 0 11.671875 7.65625 \r\nQ 5.515625 15.328125 5.515625 27.984375 \r\nQ 5.515625 40.671875 11.671875 48.328125 \r\nQ 17.828125 56 27.875 56 \r\nQ 33.9375 56 38.28125 53.609375 \r\nQ 42.625 51.21875 45.40625 46.390625 \r\nL 45.40625 54.6875 \r\nL 54.390625 54.6875 \r\nz\r\n\" id=\"DejaVuSans-103\"/>\r\n      <path d=\"M 56.203125 29.59375 \r\nL 56.203125 25.203125 \r\nL 14.890625 25.203125 \r\nQ 15.484375 15.921875 20.484375 11.0625 \r\nQ 25.484375 6.203125 34.421875 6.203125 \r\nQ 39.59375 6.203125 44.453125 7.46875 \r\nQ 49.3125 8.734375 54.109375 11.28125 \r\nL 54.109375 2.78125 \r\nQ 49.265625 0.734375 44.1875 -0.34375 \r\nQ 39.109375 -1.421875 33.890625 -1.421875 \r\nQ 20.796875 -1.421875 13.15625 6.1875 \r\nQ 5.515625 13.8125 5.515625 26.8125 \r\nQ 5.515625 40.234375 12.765625 48.109375 \r\nQ 20.015625 56 32.328125 56 \r\nQ 43.359375 56 49.78125 48.890625 \r\nQ 56.203125 41.796875 56.203125 29.59375 \r\nz\r\nM 47.21875 32.234375 \r\nQ 47.125 39.59375 43.09375 43.984375 \r\nQ 39.0625 48.390625 32.421875 48.390625 \r\nQ 24.90625 48.390625 20.390625 44.140625 \r\nQ 15.875 39.890625 15.1875 32.171875 \r\nz\r\n\" id=\"DejaVuSans-101\"/>\r\n     </defs>\r\n     <use xlink:href=\"#DejaVuSans-65\"/>\r\n     <use x=\"68.408203\" xlink:href=\"#DejaVuSans-103\"/>\r\n     <use x=\"131.884766\" xlink:href=\"#DejaVuSans-101\"/>\r\n    </g>\r\n   </g>\r\n  </g>\r\n  <g id=\"axes_2\">\r\n   <g id=\"patch_22\">\r\n    <path d=\"M 429.925 185.398125 \r\nL 739.925 185.398125 \r\nL 739.925 22.318125 \r\nL 429.925 22.318125 \r\nz\r\n\" style=\"fill:#ffffff;\"/>\r\n   </g>\r\n   <g id=\"patch_23\">\r\n    <path clip-path=\"url(#p5afeafce1e)\" d=\"M 444.015909 185.398125 \r\nL 462.803788 185.398125 \r\nL 462.803788 81.855268 \r\nL 444.015909 81.855268 \r\nz\r\n\" style=\"fill:#1f77b4;\"/>\r\n   </g>\r\n   <g id=\"patch_24\">\r\n    <path clip-path=\"url(#p5afeafce1e)\" d=\"M 462.803788 185.398125 \r\nL 481.591667 185.398125 \r\nL 481.591667 123.272411 \r\nL 462.803788 123.272411 \r\nz\r\n\" style=\"fill:#1f77b4;\"/>\r\n   </g>\r\n   <g id=\"patch_25\">\r\n    <path clip-path=\"url(#p5afeafce1e)\" d=\"M 481.591667 185.398125 \r\nL 500.379545 185.398125 \r\nL 500.379545 112.918125 \r\nL 481.591667 112.918125 \r\nz\r\n\" style=\"fill:#1f77b4;\"/>\r\n   </g>\r\n   <g id=\"patch_26\">\r\n    <path clip-path=\"url(#p5afeafce1e)\" d=\"M 500.379545 185.398125 \r\nL 519.167424 185.398125 \r\nL 519.167424 92.209554 \r\nL 500.379545 92.209554 \r\nz\r\n\" style=\"fill:#1f77b4;\"/>\r\n   </g>\r\n   <g id=\"patch_27\">\r\n    <path clip-path=\"url(#p5afeafce1e)\" d=\"M 519.167424 185.398125 \r\nL 537.955303 185.398125 \r\nL 537.955303 71.500982 \r\nL 519.167424 71.500982 \r\nz\r\n\" style=\"fill:#1f77b4;\"/>\r\n   </g>\r\n   <g id=\"patch_28\">\r\n    <path clip-path=\"url(#p5afeafce1e)\" d=\"M 537.955303 185.398125 \r\nL 556.743182 185.398125 \r\nL 556.743182 50.792411 \r\nL 537.955303 50.792411 \r\nz\r\n\" style=\"fill:#1f77b4;\"/>\r\n   </g>\r\n   <g id=\"patch_29\">\r\n    <path clip-path=\"url(#p5afeafce1e)\" d=\"M 556.743182 185.398125 \r\nL 575.531061 185.398125 \r\nL 575.531061 81.855268 \r\nL 556.743182 81.855268 \r\nz\r\n\" style=\"fill:#1f77b4;\"/>\r\n   </g>\r\n   <g id=\"patch_30\">\r\n    <path clip-path=\"url(#p5afeafce1e)\" d=\"M 575.531061 185.398125 \r\nL 594.318939 185.398125 \r\nL 594.318939 30.083839 \r\nL 575.531061 30.083839 \r\nz\r\n\" style=\"fill:#1f77b4;\"/>\r\n   </g>\r\n   <g id=\"patch_31\">\r\n    <path clip-path=\"url(#p5afeafce1e)\" d=\"M 594.318939 185.398125 \r\nL 613.106818 185.398125 \r\nL 613.106818 102.563839 \r\nL 594.318939 102.563839 \r\nz\r\n\" style=\"fill:#1f77b4;\"/>\r\n   </g>\r\n   <g id=\"patch_32\">\r\n    <path clip-path=\"url(#p5afeafce1e)\" d=\"M 613.106818 185.398125 \r\nL 631.894697 185.398125 \r\nL 631.894697 175.043839 \r\nL 613.106818 175.043839 \r\nz\r\n\" style=\"fill:#1f77b4;\"/>\r\n   </g>\r\n   <g id=\"patch_33\">\r\n    <path clip-path=\"url(#p5afeafce1e)\" d=\"M 631.894697 185.398125 \r\nL 650.682576 185.398125 \r\nL 650.682576 123.272411 \r\nL 631.894697 123.272411 \r\nz\r\n\" style=\"fill:#1f77b4;\"/>\r\n   </g>\r\n   <g id=\"patch_34\">\r\n    <path clip-path=\"url(#p5afeafce1e)\" d=\"M 650.682576 185.398125 \r\nL 669.470455 185.398125 \r\nL 669.470455 185.398125 \r\nL 650.682576 185.398125 \r\nz\r\n\" style=\"fill:#1f77b4;\"/>\r\n   </g>\r\n   <g id=\"patch_35\">\r\n    <path clip-path=\"url(#p5afeafce1e)\" d=\"M 669.470455 185.398125 \r\nL 688.258333 185.398125 \r\nL 688.258333 164.689554 \r\nL 669.470455 164.689554 \r\nz\r\n\" style=\"fill:#1f77b4;\"/>\r\n   </g>\r\n   <g id=\"patch_36\">\r\n    <path clip-path=\"url(#p5afeafce1e)\" d=\"M 688.258333 185.398125 \r\nL 707.046212 185.398125 \r\nL 707.046212 175.043839 \r\nL 688.258333 175.043839 \r\nz\r\n\" style=\"fill:#1f77b4;\"/>\r\n   </g>\r\n   <g id=\"patch_37\">\r\n    <path clip-path=\"url(#p5afeafce1e)\" d=\"M 707.046212 185.398125 \r\nL 725.834091 185.398125 \r\nL 725.834091 175.043839 \r\nL 707.046212 175.043839 \r\nz\r\n\" style=\"fill:#1f77b4;\"/>\r\n   </g>\r\n   <g id=\"matplotlib.axis_3\">\r\n    <g id=\"xtick_7\">\r\n     <g id=\"line2d_25\">\r\n      <path clip-path=\"url(#p5afeafce1e)\" d=\"M 455.565835 185.398125 \r\nL 455.565835 22.318125 \r\n\" style=\"fill:none;stroke:#b0b0b0;stroke-linecap:square;stroke-width:0.8;\"/>\r\n     </g>\r\n     <g id=\"line2d_26\">\r\n      <g>\r\n       <use style=\"stroke:#000000;stroke-width:0.8;\" x=\"455.565835\" xlink:href=\"#m8a83286038\" y=\"185.398125\"/>\r\n      </g>\r\n     </g>\r\n     <g id=\"text_14\">\r\n      <!-- 20 -->\r\n      <g transform=\"translate(449.203335 199.996563)scale(0.1 -0.1)\">\r\n       <use xlink:href=\"#DejaVuSans-50\"/>\r\n       <use x=\"63.623047\" xlink:href=\"#DejaVuSans-48\"/>\r\n      </g>\r\n     </g>\r\n    </g>\r\n    <g id=\"xtick_8\">\r\n     <g id=\"line2d_27\">\r\n      <path clip-path=\"url(#p5afeafce1e)\" d=\"M 501.765537 185.398125 \r\nL 501.765537 22.318125 \r\n\" style=\"fill:none;stroke:#b0b0b0;stroke-linecap:square;stroke-width:0.8;\"/>\r\n     </g>\r\n     <g id=\"line2d_28\">\r\n      <g>\r\n       <use style=\"stroke:#000000;stroke-width:0.8;\" x=\"501.765537\" xlink:href=\"#m8a83286038\" y=\"185.398125\"/>\r\n      </g>\r\n     </g>\r\n     <g id=\"text_15\">\r\n      <!-- 40 -->\r\n      <g transform=\"translate(495.403037 199.996563)scale(0.1 -0.1)\">\r\n       <use xlink:href=\"#DejaVuSans-52\"/>\r\n       <use x=\"63.623047\" xlink:href=\"#DejaVuSans-48\"/>\r\n      </g>\r\n     </g>\r\n    </g>\r\n    <g id=\"xtick_9\">\r\n     <g id=\"line2d_29\">\r\n      <path clip-path=\"url(#p5afeafce1e)\" d=\"M 547.965238 185.398125 \r\nL 547.965238 22.318125 \r\n\" style=\"fill:none;stroke:#b0b0b0;stroke-linecap:square;stroke-width:0.8;\"/>\r\n     </g>\r\n     <g id=\"line2d_30\">\r\n      <g>\r\n       <use style=\"stroke:#000000;stroke-width:0.8;\" x=\"547.965238\" xlink:href=\"#m8a83286038\" y=\"185.398125\"/>\r\n      </g>\r\n     </g>\r\n     <g id=\"text_16\">\r\n      <!-- 60 -->\r\n      <g transform=\"translate(541.602738 199.996563)scale(0.1 -0.1)\">\r\n       <use xlink:href=\"#DejaVuSans-54\"/>\r\n       <use x=\"63.623047\" xlink:href=\"#DejaVuSans-48\"/>\r\n      </g>\r\n     </g>\r\n    </g>\r\n    <g id=\"xtick_10\">\r\n     <g id=\"line2d_31\">\r\n      <path clip-path=\"url(#p5afeafce1e)\" d=\"M 594.16494 185.398125 \r\nL 594.16494 22.318125 \r\n\" style=\"fill:none;stroke:#b0b0b0;stroke-linecap:square;stroke-width:0.8;\"/>\r\n     </g>\r\n     <g id=\"line2d_32\">\r\n      <g>\r\n       <use style=\"stroke:#000000;stroke-width:0.8;\" x=\"594.16494\" xlink:href=\"#m8a83286038\" y=\"185.398125\"/>\r\n      </g>\r\n     </g>\r\n     <g id=\"text_17\">\r\n      <!-- 80 -->\r\n      <g transform=\"translate(587.80244 199.996563)scale(0.1 -0.1)\">\r\n       <defs>\r\n        <path d=\"M 31.78125 34.625 \r\nQ 24.75 34.625 20.71875 30.859375 \r\nQ 16.703125 27.09375 16.703125 20.515625 \r\nQ 16.703125 13.921875 20.71875 10.15625 \r\nQ 24.75 6.390625 31.78125 6.390625 \r\nQ 38.8125 6.390625 42.859375 10.171875 \r\nQ 46.921875 13.96875 46.921875 20.515625 \r\nQ 46.921875 27.09375 42.890625 30.859375 \r\nQ 38.875 34.625 31.78125 34.625 \r\nz\r\nM 21.921875 38.8125 \r\nQ 15.578125 40.375 12.03125 44.71875 \r\nQ 8.5 49.078125 8.5 55.328125 \r\nQ 8.5 64.0625 14.71875 69.140625 \r\nQ 20.953125 74.21875 31.78125 74.21875 \r\nQ 42.671875 74.21875 48.875 69.140625 \r\nQ 55.078125 64.0625 55.078125 55.328125 \r\nQ 55.078125 49.078125 51.53125 44.71875 \r\nQ 48 40.375 41.703125 38.8125 \r\nQ 48.828125 37.15625 52.796875 32.3125 \r\nQ 56.78125 27.484375 56.78125 20.515625 \r\nQ 56.78125 9.90625 50.3125 4.234375 \r\nQ 43.84375 -1.421875 31.78125 -1.421875 \r\nQ 19.734375 -1.421875 13.25 4.234375 \r\nQ 6.78125 9.90625 6.78125 20.515625 \r\nQ 6.78125 27.484375 10.78125 32.3125 \r\nQ 14.796875 37.15625 21.921875 38.8125 \r\nz\r\nM 18.3125 54.390625 \r\nQ 18.3125 48.734375 21.84375 45.5625 \r\nQ 25.390625 42.390625 31.78125 42.390625 \r\nQ 38.140625 42.390625 41.71875 45.5625 \r\nQ 45.3125 48.734375 45.3125 54.390625 \r\nQ 45.3125 60.0625 41.71875 63.234375 \r\nQ 38.140625 66.40625 31.78125 66.40625 \r\nQ 25.390625 66.40625 21.84375 63.234375 \r\nQ 18.3125 60.0625 18.3125 54.390625 \r\nz\r\n\" id=\"DejaVuSans-56\"/>\r\n       </defs>\r\n       <use xlink:href=\"#DejaVuSans-56\"/>\r\n       <use x=\"63.623047\" xlink:href=\"#DejaVuSans-48\"/>\r\n      </g>\r\n     </g>\r\n    </g>\r\n    <g id=\"xtick_11\">\r\n     <g id=\"line2d_33\">\r\n      <path clip-path=\"url(#p5afeafce1e)\" d=\"M 640.364642 185.398125 \r\nL 640.364642 22.318125 \r\n\" style=\"fill:none;stroke:#b0b0b0;stroke-linecap:square;stroke-width:0.8;\"/>\r\n     </g>\r\n     <g id=\"line2d_34\">\r\n      <g>\r\n       <use style=\"stroke:#000000;stroke-width:0.8;\" x=\"640.364642\" xlink:href=\"#m8a83286038\" y=\"185.398125\"/>\r\n      </g>\r\n     </g>\r\n     <g id=\"text_18\">\r\n      <!-- 100 -->\r\n      <g transform=\"translate(630.820892 199.996563)scale(0.1 -0.1)\">\r\n       <use xlink:href=\"#DejaVuSans-49\"/>\r\n       <use x=\"63.623047\" xlink:href=\"#DejaVuSans-48\"/>\r\n       <use x=\"127.246094\" xlink:href=\"#DejaVuSans-48\"/>\r\n      </g>\r\n     </g>\r\n    </g>\r\n    <g id=\"xtick_12\">\r\n     <g id=\"line2d_35\">\r\n      <path clip-path=\"url(#p5afeafce1e)\" d=\"M 686.564344 185.398125 \r\nL 686.564344 22.318125 \r\n\" style=\"fill:none;stroke:#b0b0b0;stroke-linecap:square;stroke-width:0.8;\"/>\r\n     </g>\r\n     <g id=\"line2d_36\">\r\n      <g>\r\n       <use style=\"stroke:#000000;stroke-width:0.8;\" x=\"686.564344\" xlink:href=\"#m8a83286038\" y=\"185.398125\"/>\r\n      </g>\r\n     </g>\r\n     <g id=\"text_19\">\r\n      <!-- 120 -->\r\n      <g transform=\"translate(677.020594 199.996563)scale(0.1 -0.1)\">\r\n       <use xlink:href=\"#DejaVuSans-49\"/>\r\n       <use x=\"63.623047\" xlink:href=\"#DejaVuSans-50\"/>\r\n       <use x=\"127.246094\" xlink:href=\"#DejaVuSans-48\"/>\r\n      </g>\r\n     </g>\r\n    </g>\r\n    <g id=\"xtick_13\">\r\n     <g id=\"line2d_37\">\r\n      <path clip-path=\"url(#p5afeafce1e)\" d=\"M 732.764046 185.398125 \r\nL 732.764046 22.318125 \r\n\" style=\"fill:none;stroke:#b0b0b0;stroke-linecap:square;stroke-width:0.8;\"/>\r\n     </g>\r\n     <g id=\"line2d_38\">\r\n      <g>\r\n       <use style=\"stroke:#000000;stroke-width:0.8;\" x=\"732.764046\" xlink:href=\"#m8a83286038\" y=\"185.398125\"/>\r\n      </g>\r\n     </g>\r\n     <g id=\"text_20\">\r\n      <!-- 140 -->\r\n      <g transform=\"translate(723.220296 199.996563)scale(0.1 -0.1)\">\r\n       <use xlink:href=\"#DejaVuSans-49\"/>\r\n       <use x=\"63.623047\" xlink:href=\"#DejaVuSans-52\"/>\r\n       <use x=\"127.246094\" xlink:href=\"#DejaVuSans-48\"/>\r\n      </g>\r\n     </g>\r\n    </g>\r\n   </g>\r\n   <g id=\"matplotlib.axis_4\">\r\n    <g id=\"ytick_7\">\r\n     <g id=\"line2d_39\">\r\n      <path clip-path=\"url(#p5afeafce1e)\" d=\"M 429.925 185.398125 \r\nL 739.925 185.398125 \r\n\" style=\"fill:none;stroke:#b0b0b0;stroke-linecap:square;stroke-width:0.8;\"/>\r\n     </g>\r\n     <g id=\"line2d_40\">\r\n      <g>\r\n       <use style=\"stroke:#000000;stroke-width:0.8;\" x=\"429.925\" xlink:href=\"#me19fc85a00\" y=\"185.398125\"/>\r\n      </g>\r\n     </g>\r\n     <g id=\"text_21\">\r\n      <!-- 0 -->\r\n      <g transform=\"translate(416.5625 189.197344)scale(0.1 -0.1)\">\r\n       <use xlink:href=\"#DejaVuSans-48\"/>\r\n      </g>\r\n     </g>\r\n    </g>\r\n    <g id=\"ytick_8\">\r\n     <g id=\"line2d_41\">\r\n      <path clip-path=\"url(#p5afeafce1e)\" d=\"M 429.925 159.512411 \r\nL 739.925 159.512411 \r\n\" style=\"fill:none;stroke:#b0b0b0;stroke-linecap:square;stroke-width:0.8;\"/>\r\n     </g>\r\n     <g id=\"line2d_42\">\r\n      <g>\r\n       <use style=\"stroke:#000000;stroke-width:0.8;\" x=\"429.925\" xlink:href=\"#me19fc85a00\" y=\"159.512411\"/>\r\n      </g>\r\n     </g>\r\n     <g id=\"text_22\">\r\n      <!-- 5 -->\r\n      <g transform=\"translate(416.5625 163.311629)scale(0.1 -0.1)\">\r\n       <use xlink:href=\"#DejaVuSans-53\"/>\r\n      </g>\r\n     </g>\r\n    </g>\r\n    <g id=\"ytick_9\">\r\n     <g id=\"line2d_43\">\r\n      <path clip-path=\"url(#p5afeafce1e)\" d=\"M 429.925 133.626696 \r\nL 739.925 133.626696 \r\n\" style=\"fill:none;stroke:#b0b0b0;stroke-linecap:square;stroke-width:0.8;\"/>\r\n     </g>\r\n     <g id=\"line2d_44\">\r\n      <g>\r\n       <use style=\"stroke:#000000;stroke-width:0.8;\" x=\"429.925\" xlink:href=\"#me19fc85a00\" y=\"133.626696\"/>\r\n      </g>\r\n     </g>\r\n     <g id=\"text_23\">\r\n      <!-- 10 -->\r\n      <g transform=\"translate(410.2 137.425915)scale(0.1 -0.1)\">\r\n       <use xlink:href=\"#DejaVuSans-49\"/>\r\n       <use x=\"63.623047\" xlink:href=\"#DejaVuSans-48\"/>\r\n      </g>\r\n     </g>\r\n    </g>\r\n    <g id=\"ytick_10\">\r\n     <g id=\"line2d_45\">\r\n      <path clip-path=\"url(#p5afeafce1e)\" d=\"M 429.925 107.740982 \r\nL 739.925 107.740982 \r\n\" style=\"fill:none;stroke:#b0b0b0;stroke-linecap:square;stroke-width:0.8;\"/>\r\n     </g>\r\n     <g id=\"line2d_46\">\r\n      <g>\r\n       <use style=\"stroke:#000000;stroke-width:0.8;\" x=\"429.925\" xlink:href=\"#me19fc85a00\" y=\"107.740982\"/>\r\n      </g>\r\n     </g>\r\n     <g id=\"text_24\">\r\n      <!-- 15 -->\r\n      <g transform=\"translate(410.2 111.540201)scale(0.1 -0.1)\">\r\n       <use xlink:href=\"#DejaVuSans-49\"/>\r\n       <use x=\"63.623047\" xlink:href=\"#DejaVuSans-53\"/>\r\n      </g>\r\n     </g>\r\n    </g>\r\n    <g id=\"ytick_11\">\r\n     <g id=\"line2d_47\">\r\n      <path clip-path=\"url(#p5afeafce1e)\" d=\"M 429.925 81.855268 \r\nL 739.925 81.855268 \r\n\" style=\"fill:none;stroke:#b0b0b0;stroke-linecap:square;stroke-width:0.8;\"/>\r\n     </g>\r\n     <g id=\"line2d_48\">\r\n      <g>\r\n       <use style=\"stroke:#000000;stroke-width:0.8;\" x=\"429.925\" xlink:href=\"#me19fc85a00\" y=\"81.855268\"/>\r\n      </g>\r\n     </g>\r\n     <g id=\"text_25\">\r\n      <!-- 20 -->\r\n      <g transform=\"translate(410.2 85.654487)scale(0.1 -0.1)\">\r\n       <use xlink:href=\"#DejaVuSans-50\"/>\r\n       <use x=\"63.623047\" xlink:href=\"#DejaVuSans-48\"/>\r\n      </g>\r\n     </g>\r\n    </g>\r\n    <g id=\"ytick_12\">\r\n     <g id=\"line2d_49\">\r\n      <path clip-path=\"url(#p5afeafce1e)\" d=\"M 429.925 55.969554 \r\nL 739.925 55.969554 \r\n\" style=\"fill:none;stroke:#b0b0b0;stroke-linecap:square;stroke-width:0.8;\"/>\r\n     </g>\r\n     <g id=\"line2d_50\">\r\n      <g>\r\n       <use style=\"stroke:#000000;stroke-width:0.8;\" x=\"429.925\" xlink:href=\"#me19fc85a00\" y=\"55.969554\"/>\r\n      </g>\r\n     </g>\r\n     <g id=\"text_26\">\r\n      <!-- 25 -->\r\n      <g transform=\"translate(410.2 59.768772)scale(0.1 -0.1)\">\r\n       <use xlink:href=\"#DejaVuSans-50\"/>\r\n       <use x=\"63.623047\" xlink:href=\"#DejaVuSans-53\"/>\r\n      </g>\r\n     </g>\r\n    </g>\r\n    <g id=\"ytick_13\">\r\n     <g id=\"line2d_51\">\r\n      <path clip-path=\"url(#p5afeafce1e)\" d=\"M 429.925 30.083839 \r\nL 739.925 30.083839 \r\n\" style=\"fill:none;stroke:#b0b0b0;stroke-linecap:square;stroke-width:0.8;\"/>\r\n     </g>\r\n     <g id=\"line2d_52\">\r\n      <g>\r\n       <use style=\"stroke:#000000;stroke-width:0.8;\" x=\"429.925\" xlink:href=\"#me19fc85a00\" y=\"30.083839\"/>\r\n      </g>\r\n     </g>\r\n     <g id=\"text_27\">\r\n      <!-- 30 -->\r\n      <g transform=\"translate(410.2 33.883058)scale(0.1 -0.1)\">\r\n       <use xlink:href=\"#DejaVuSans-51\"/>\r\n       <use x=\"63.623047\" xlink:href=\"#DejaVuSans-48\"/>\r\n      </g>\r\n     </g>\r\n    </g>\r\n   </g>\r\n   <g id=\"patch_38\">\r\n    <path d=\"M 429.925 185.398125 \r\nL 429.925 22.318125 \r\n\" style=\"fill:none;stroke:#000000;stroke-linecap:square;stroke-linejoin:miter;stroke-width:0.8;\"/>\r\n   </g>\r\n   <g id=\"patch_39\">\r\n    <path d=\"M 739.925 185.398125 \r\nL 739.925 22.318125 \r\n\" style=\"fill:none;stroke:#000000;stroke-linecap:square;stroke-linejoin:miter;stroke-width:0.8;\"/>\r\n   </g>\r\n   <g id=\"patch_40\">\r\n    <path d=\"M 429.925 185.398125 \r\nL 739.925 185.398125 \r\n\" style=\"fill:none;stroke:#000000;stroke-linecap:square;stroke-linejoin:miter;stroke-width:0.8;\"/>\r\n   </g>\r\n   <g id=\"patch_41\">\r\n    <path d=\"M 429.925 22.318125 \r\nL 739.925 22.318125 \r\n\" style=\"fill:none;stroke:#000000;stroke-linecap:square;stroke-linejoin:miter;stroke-width:0.8;\"/>\r\n   </g>\r\n   <g id=\"text_28\">\r\n    <!-- Annual Income (k$) -->\r\n    <g transform=\"translate(526.202812 16.318125)scale(0.12 -0.12)\">\r\n     <defs>\r\n      <path d=\"M 54.890625 33.015625 \r\nL 54.890625 0 \r\nL 45.90625 0 \r\nL 45.90625 32.71875 \r\nQ 45.90625 40.484375 42.875 44.328125 \r\nQ 39.84375 48.1875 33.796875 48.1875 \r\nQ 26.515625 48.1875 22.3125 43.546875 \r\nQ 18.109375 38.921875 18.109375 30.90625 \r\nL 18.109375 0 \r\nL 9.078125 0 \r\nL 9.078125 54.6875 \r\nL 18.109375 54.6875 \r\nL 18.109375 46.1875 \r\nQ 21.34375 51.125 25.703125 53.5625 \r\nQ 30.078125 56 35.796875 56 \r\nQ 45.21875 56 50.046875 50.171875 \r\nQ 54.890625 44.34375 54.890625 33.015625 \r\nz\r\n\" id=\"DejaVuSans-110\"/>\r\n      <path d=\"M 8.5 21.578125 \r\nL 8.5 54.6875 \r\nL 17.484375 54.6875 \r\nL 17.484375 21.921875 \r\nQ 17.484375 14.15625 20.5 10.265625 \r\nQ 23.53125 6.390625 29.59375 6.390625 \r\nQ 36.859375 6.390625 41.078125 11.03125 \r\nQ 45.3125 15.671875 45.3125 23.6875 \r\nL 45.3125 54.6875 \r\nL 54.296875 54.6875 \r\nL 54.296875 0 \r\nL 45.3125 0 \r\nL 45.3125 8.40625 \r\nQ 42.046875 3.421875 37.71875 1 \r\nQ 33.40625 -1.421875 27.6875 -1.421875 \r\nQ 18.265625 -1.421875 13.375 4.4375 \r\nQ 8.5 10.296875 8.5 21.578125 \r\nz\r\nM 31.109375 56 \r\nz\r\n\" id=\"DejaVuSans-117\"/>\r\n      <path d=\"M 34.28125 27.484375 \r\nQ 23.390625 27.484375 19.1875 25 \r\nQ 14.984375 22.515625 14.984375 16.5 \r\nQ 14.984375 11.71875 18.140625 8.90625 \r\nQ 21.296875 6.109375 26.703125 6.109375 \r\nQ 34.1875 6.109375 38.703125 11.40625 \r\nQ 43.21875 16.703125 43.21875 25.484375 \r\nL 43.21875 27.484375 \r\nz\r\nM 52.203125 31.203125 \r\nL 52.203125 0 \r\nL 43.21875 0 \r\nL 43.21875 8.296875 \r\nQ 40.140625 3.328125 35.546875 0.953125 \r\nQ 30.953125 -1.421875 24.3125 -1.421875 \r\nQ 15.921875 -1.421875 10.953125 3.296875 \r\nQ 6 8.015625 6 15.921875 \r\nQ 6 25.140625 12.171875 29.828125 \r\nQ 18.359375 34.515625 30.609375 34.515625 \r\nL 43.21875 34.515625 \r\nL 43.21875 35.40625 \r\nQ 43.21875 41.609375 39.140625 45 \r\nQ 35.0625 48.390625 27.6875 48.390625 \r\nQ 23 48.390625 18.546875 47.265625 \r\nQ 14.109375 46.140625 10.015625 43.890625 \r\nL 10.015625 52.203125 \r\nQ 14.9375 54.109375 19.578125 55.046875 \r\nQ 24.21875 56 28.609375 56 \r\nQ 40.484375 56 46.34375 49.84375 \r\nQ 52.203125 43.703125 52.203125 31.203125 \r\nz\r\n\" id=\"DejaVuSans-97\"/>\r\n      <path d=\"M 9.421875 75.984375 \r\nL 18.40625 75.984375 \r\nL 18.40625 0 \r\nL 9.421875 0 \r\nz\r\n\" id=\"DejaVuSans-108\"/>\r\n      <path id=\"DejaVuSans-32\"/>\r\n      <path d=\"M 9.8125 72.90625 \r\nL 19.671875 72.90625 \r\nL 19.671875 0 \r\nL 9.8125 0 \r\nz\r\n\" id=\"DejaVuSans-73\"/>\r\n      <path d=\"M 48.78125 52.59375 \r\nL 48.78125 44.1875 \r\nQ 44.96875 46.296875 41.140625 47.34375 \r\nQ 37.3125 48.390625 33.40625 48.390625 \r\nQ 24.65625 48.390625 19.8125 42.84375 \r\nQ 14.984375 37.3125 14.984375 27.296875 \r\nQ 14.984375 17.28125 19.8125 11.734375 \r\nQ 24.65625 6.203125 33.40625 6.203125 \r\nQ 37.3125 6.203125 41.140625 7.25 \r\nQ 44.96875 8.296875 48.78125 10.40625 \r\nL 48.78125 2.09375 \r\nQ 45.015625 0.34375 40.984375 -0.53125 \r\nQ 36.96875 -1.421875 32.421875 -1.421875 \r\nQ 20.0625 -1.421875 12.78125 6.34375 \r\nQ 5.515625 14.109375 5.515625 27.296875 \r\nQ 5.515625 40.671875 12.859375 48.328125 \r\nQ 20.21875 56 33.015625 56 \r\nQ 37.15625 56 41.109375 55.140625 \r\nQ 45.0625 54.296875 48.78125 52.59375 \r\nz\r\n\" id=\"DejaVuSans-99\"/>\r\n      <path d=\"M 30.609375 48.390625 \r\nQ 23.390625 48.390625 19.1875 42.75 \r\nQ 14.984375 37.109375 14.984375 27.296875 \r\nQ 14.984375 17.484375 19.15625 11.84375 \r\nQ 23.34375 6.203125 30.609375 6.203125 \r\nQ 37.796875 6.203125 41.984375 11.859375 \r\nQ 46.1875 17.53125 46.1875 27.296875 \r\nQ 46.1875 37.015625 41.984375 42.703125 \r\nQ 37.796875 48.390625 30.609375 48.390625 \r\nz\r\nM 30.609375 56 \r\nQ 42.328125 56 49.015625 48.375 \r\nQ 55.71875 40.765625 55.71875 27.296875 \r\nQ 55.71875 13.875 49.015625 6.21875 \r\nQ 42.328125 -1.421875 30.609375 -1.421875 \r\nQ 18.84375 -1.421875 12.171875 6.21875 \r\nQ 5.515625 13.875 5.515625 27.296875 \r\nQ 5.515625 40.765625 12.171875 48.375 \r\nQ 18.84375 56 30.609375 56 \r\nz\r\n\" id=\"DejaVuSans-111\"/>\r\n      <path d=\"M 52 44.1875 \r\nQ 55.375 50.25 60.0625 53.125 \r\nQ 64.75 56 71.09375 56 \r\nQ 79.640625 56 84.28125 50.015625 \r\nQ 88.921875 44.046875 88.921875 33.015625 \r\nL 88.921875 0 \r\nL 79.890625 0 \r\nL 79.890625 32.71875 \r\nQ 79.890625 40.578125 77.09375 44.375 \r\nQ 74.3125 48.1875 68.609375 48.1875 \r\nQ 61.625 48.1875 57.5625 43.546875 \r\nQ 53.515625 38.921875 53.515625 30.90625 \r\nL 53.515625 0 \r\nL 44.484375 0 \r\nL 44.484375 32.71875 \r\nQ 44.484375 40.625 41.703125 44.40625 \r\nQ 38.921875 48.1875 33.109375 48.1875 \r\nQ 26.21875 48.1875 22.15625 43.53125 \r\nQ 18.109375 38.875 18.109375 30.90625 \r\nL 18.109375 0 \r\nL 9.078125 0 \r\nL 9.078125 54.6875 \r\nL 18.109375 54.6875 \r\nL 18.109375 46.1875 \r\nQ 21.1875 51.21875 25.484375 53.609375 \r\nQ 29.78125 56 35.6875 56 \r\nQ 41.65625 56 45.828125 52.96875 \r\nQ 50 49.953125 52 44.1875 \r\nz\r\n\" id=\"DejaVuSans-109\"/>\r\n      <path d=\"M 31 75.875 \r\nQ 24.46875 64.65625 21.28125 53.65625 \r\nQ 18.109375 42.671875 18.109375 31.390625 \r\nQ 18.109375 20.125 21.3125 9.0625 \r\nQ 24.515625 -2 31 -13.1875 \r\nL 23.1875 -13.1875 \r\nQ 15.875 -1.703125 12.234375 9.375 \r\nQ 8.59375 20.453125 8.59375 31.390625 \r\nQ 8.59375 42.28125 12.203125 53.3125 \r\nQ 15.828125 64.359375 23.1875 75.875 \r\nz\r\n\" id=\"DejaVuSans-40\"/>\r\n      <path d=\"M 9.078125 75.984375 \r\nL 18.109375 75.984375 \r\nL 18.109375 31.109375 \r\nL 44.921875 54.6875 \r\nL 56.390625 54.6875 \r\nL 27.390625 29.109375 \r\nL 57.625 0 \r\nL 45.90625 0 \r\nL 18.109375 26.703125 \r\nL 18.109375 0 \r\nL 9.078125 0 \r\nz\r\n\" id=\"DejaVuSans-107\"/>\r\n      <path d=\"M 33.796875 -14.703125 \r\nL 28.90625 -14.703125 \r\nL 28.859375 0 \r\nQ 23.734375 0.09375 18.609375 1.1875 \r\nQ 13.484375 2.296875 8.296875 4.5 \r\nL 8.296875 13.28125 \r\nQ 13.28125 10.15625 18.375 8.5625 \r\nQ 23.484375 6.984375 28.90625 6.9375 \r\nL 28.90625 29.203125 \r\nQ 18.109375 30.953125 13.203125 35.15625 \r\nQ 8.296875 39.359375 8.296875 46.6875 \r\nQ 8.296875 54.640625 13.625 59.21875 \r\nQ 18.953125 63.8125 28.90625 64.5 \r\nL 28.90625 75.984375 \r\nL 33.796875 75.984375 \r\nL 33.796875 64.65625 \r\nQ 38.328125 64.453125 42.578125 63.6875 \r\nQ 46.828125 62.9375 50.875 61.625 \r\nL 50.875 53.078125 \r\nQ 46.828125 55.125 42.546875 56.25 \r\nQ 38.28125 57.375 33.796875 57.5625 \r\nL 33.796875 36.71875 \r\nQ 44.875 35.015625 50.09375 30.609375 \r\nQ 55.328125 26.21875 55.328125 18.609375 \r\nQ 55.328125 10.359375 49.78125 5.59375 \r\nQ 44.234375 0.828125 33.796875 0.09375 \r\nz\r\nM 28.90625 37.59375 \r\nL 28.90625 57.625 \r\nQ 23.25 56.984375 20.265625 54.390625 \r\nQ 17.28125 51.8125 17.28125 47.515625 \r\nQ 17.28125 43.3125 20.03125 40.96875 \r\nQ 22.796875 38.625 28.90625 37.59375 \r\nz\r\nM 33.796875 28.21875 \r\nL 33.796875 7.078125 \r\nQ 39.984375 7.90625 43.140625 10.59375 \r\nQ 46.296875 13.28125 46.296875 17.671875 \r\nQ 46.296875 21.96875 43.28125 24.5 \r\nQ 40.28125 27.046875 33.796875 28.21875 \r\nz\r\n\" id=\"DejaVuSans-36\"/>\r\n      <path d=\"M 8.015625 75.875 \r\nL 15.828125 75.875 \r\nQ 23.140625 64.359375 26.78125 53.3125 \r\nQ 30.421875 42.28125 30.421875 31.390625 \r\nQ 30.421875 20.453125 26.78125 9.375 \r\nQ 23.140625 -1.703125 15.828125 -13.1875 \r\nL 8.015625 -13.1875 \r\nQ 14.5 -2 17.703125 9.0625 \r\nQ 20.90625 20.125 20.90625 31.390625 \r\nQ 20.90625 42.671875 17.703125 53.65625 \r\nQ 14.5 64.65625 8.015625 75.875 \r\nz\r\n\" id=\"DejaVuSans-41\"/>\r\n     </defs>\r\n     <use xlink:href=\"#DejaVuSans-65\"/>\r\n     <use x=\"68.408203\" xlink:href=\"#DejaVuSans-110\"/>\r\n     <use x=\"131.787109\" xlink:href=\"#DejaVuSans-110\"/>\r\n     <use x=\"195.166016\" xlink:href=\"#DejaVuSans-117\"/>\r\n     <use x=\"258.544922\" xlink:href=\"#DejaVuSans-97\"/>\r\n     <use x=\"319.824219\" xlink:href=\"#DejaVuSans-108\"/>\r\n     <use x=\"347.607422\" xlink:href=\"#DejaVuSans-32\"/>\r\n     <use x=\"379.394531\" xlink:href=\"#DejaVuSans-73\"/>\r\n     <use x=\"408.886719\" xlink:href=\"#DejaVuSans-110\"/>\r\n     <use x=\"472.265625\" xlink:href=\"#DejaVuSans-99\"/>\r\n     <use x=\"527.246094\" xlink:href=\"#DejaVuSans-111\"/>\r\n     <use x=\"588.427734\" xlink:href=\"#DejaVuSans-109\"/>\r\n     <use x=\"685.839844\" xlink:href=\"#DejaVuSans-101\"/>\r\n     <use x=\"747.363281\" xlink:href=\"#DejaVuSans-32\"/>\r\n     <use x=\"779.150391\" xlink:href=\"#DejaVuSans-40\"/>\r\n     <use x=\"818.164062\" xlink:href=\"#DejaVuSans-107\"/>\r\n     <use x=\"876.074219\" xlink:href=\"#DejaVuSans-36\"/>\r\n     <use x=\"939.697266\" xlink:href=\"#DejaVuSans-41\"/>\r\n    </g>\r\n   </g>\r\n  </g>\r\n  <g id=\"axes_3\">\r\n   <g id=\"patch_42\">\r\n    <path d=\"M 832.925 185.398125 \r\nL 1142.925 185.398125 \r\nL 1142.925 22.318125 \r\nL 832.925 22.318125 \r\nz\r\n\" style=\"fill:#ffffff;\"/>\r\n   </g>\r\n   <g id=\"patch_43\">\r\n    <path clip-path=\"url(#pa6c56d9137)\" d=\"M 847.015909 185.398125 \r\nL 865.803788 185.398125 \r\nL 865.803788 113.714609 \r\nL 847.015909 113.714609 \r\nz\r\n\" style=\"fill:#1f77b4;\"/>\r\n   </g>\r\n   <g id=\"patch_44\">\r\n    <path clip-path=\"url(#pa6c56d9137)\" d=\"M 865.803788 185.398125 \r\nL 884.591667 185.398125 \r\nL 884.591667 107.740982 \r\nL 865.803788 107.740982 \r\nz\r\n\" style=\"fill:#1f77b4;\"/>\r\n   </g>\r\n   <g id=\"patch_45\">\r\n    <path clip-path=\"url(#pa6c56d9137)\" d=\"M 884.591667 185.398125 \r\nL 903.379545 185.398125 \r\nL 903.379545 119.688235 \r\nL 884.591667 119.688235 \r\nz\r\n\" style=\"fill:#1f77b4;\"/>\r\n   </g>\r\n   <g id=\"patch_46\">\r\n    <path clip-path=\"url(#pa6c56d9137)\" d=\"M 903.379545 185.398125 \r\nL 922.167424 185.398125 \r\nL 922.167424 149.556367 \r\nL 903.379545 149.556367 \r\nz\r\n\" style=\"fill:#1f77b4;\"/>\r\n   </g>\r\n   <g id=\"patch_47\">\r\n    <path clip-path=\"url(#pa6c56d9137)\" d=\"M 922.167424 185.398125 \r\nL 940.955303 185.398125 \r\nL 940.955303 143.58274 \r\nL 922.167424 143.58274 \r\nz\r\n\" style=\"fill:#1f77b4;\"/>\r\n   </g>\r\n   <g id=\"patch_48\">\r\n    <path clip-path=\"url(#pa6c56d9137)\" d=\"M 940.955303 185.398125 \r\nL 959.743182 185.398125 \r\nL 959.743182 101.767356 \r\nL 940.955303 101.767356 \r\nz\r\n\" style=\"fill:#1f77b4;\"/>\r\n   </g>\r\n   <g id=\"patch_49\">\r\n    <path clip-path=\"url(#pa6c56d9137)\" d=\"M 959.743182 185.398125 \r\nL 978.531061 185.398125 \r\nL 978.531061 48.004718 \r\nL 959.743182 48.004718 \r\nz\r\n\" style=\"fill:#1f77b4;\"/>\r\n   </g>\r\n   <g id=\"patch_50\">\r\n    <path clip-path=\"url(#pa6c56d9137)\" d=\"M 978.531061 185.398125 \r\nL 997.318939 185.398125 \r\nL 997.318939 30.083839 \r\nL 978.531061 30.083839 \r\nz\r\n\" style=\"fill:#1f77b4;\"/>\r\n   </g>\r\n   <g id=\"patch_51\">\r\n    <path clip-path=\"url(#pa6c56d9137)\" d=\"M 997.318939 185.398125 \r\nL 1016.106818 185.398125 \r\nL 1016.106818 48.004718 \r\nL 997.318939 48.004718 \r\nz\r\n\" style=\"fill:#1f77b4;\"/>\r\n   </g>\r\n   <g id=\"patch_52\">\r\n    <path clip-path=\"url(#pa6c56d9137)\" d=\"M 1016.106818 185.398125 \r\nL 1034.894697 185.398125 \r\nL 1034.894697 137.609114 \r\nL 1016.106818 137.609114 \r\nz\r\n\" style=\"fill:#1f77b4;\"/>\r\n   </g>\r\n   <g id=\"patch_53\">\r\n    <path clip-path=\"url(#pa6c56d9137)\" d=\"M 1034.894697 185.398125 \r\nL 1053.682576 185.398125 \r\nL 1053.682576 149.556367 \r\nL 1034.894697 149.556367 \r\nz\r\n\" style=\"fill:#1f77b4;\"/>\r\n   </g>\r\n   <g id=\"patch_54\">\r\n    <path clip-path=\"url(#pa6c56d9137)\" d=\"M 1053.682576 185.398125 \r\nL 1072.470455 185.398125 \r\nL 1072.470455 59.951971 \r\nL 1053.682576 59.951971 \r\nz\r\n\" style=\"fill:#1f77b4;\"/>\r\n   </g>\r\n   <g id=\"patch_55\">\r\n    <path clip-path=\"url(#pa6c56d9137)\" d=\"M 1072.470455 185.398125 \r\nL 1091.258333 185.398125 \r\nL 1091.258333 149.556367 \r\nL 1072.470455 149.556367 \r\nz\r\n\" style=\"fill:#1f77b4;\"/>\r\n   </g>\r\n   <g id=\"patch_56\">\r\n    <path clip-path=\"url(#pa6c56d9137)\" d=\"M 1091.258333 185.398125 \r\nL 1110.046212 185.398125 \r\nL 1110.046212 95.793729 \r\nL 1091.258333 95.793729 \r\nz\r\n\" style=\"fill:#1f77b4;\"/>\r\n   </g>\r\n   <g id=\"patch_57\">\r\n    <path clip-path=\"url(#pa6c56d9137)\" d=\"M 1110.046212 185.398125 \r\nL 1128.834091 185.398125 \r\nL 1128.834091 131.635488 \r\nL 1110.046212 131.635488 \r\nz\r\n\" style=\"fill:#1f77b4;\"/>\r\n   </g>\r\n   <g id=\"matplotlib.axis_5\">\r\n    <g id=\"xtick_14\">\r\n     <g id=\"line2d_53\">\r\n      <path clip-path=\"url(#pa6c56d9137)\" d=\"M 844.140213 185.398125 \r\nL 844.140213 22.318125 \r\n\" style=\"fill:none;stroke:#b0b0b0;stroke-linecap:square;stroke-width:0.8;\"/>\r\n     </g>\r\n     <g id=\"line2d_54\">\r\n      <g>\r\n       <use style=\"stroke:#000000;stroke-width:0.8;\" x=\"844.140213\" xlink:href=\"#m8a83286038\" y=\"185.398125\"/>\r\n      </g>\r\n     </g>\r\n     <g id=\"text_29\">\r\n      <!-- 0 -->\r\n      <g transform=\"translate(840.958963 199.996563)scale(0.1 -0.1)\">\r\n       <use xlink:href=\"#DejaVuSans-48\"/>\r\n      </g>\r\n     </g>\r\n    </g>\r\n    <g id=\"xtick_15\">\r\n     <g id=\"line2d_55\">\r\n      <path clip-path=\"url(#pa6c56d9137)\" d=\"M 901.654128 185.398125 \r\nL 901.654128 22.318125 \r\n\" style=\"fill:none;stroke:#b0b0b0;stroke-linecap:square;stroke-width:0.8;\"/>\r\n     </g>\r\n     <g id=\"line2d_56\">\r\n      <g>\r\n       <use style=\"stroke:#000000;stroke-width:0.8;\" x=\"901.654128\" xlink:href=\"#m8a83286038\" y=\"185.398125\"/>\r\n      </g>\r\n     </g>\r\n     <g id=\"text_30\">\r\n      <!-- 20 -->\r\n      <g transform=\"translate(895.291628 199.996563)scale(0.1 -0.1)\">\r\n       <use xlink:href=\"#DejaVuSans-50\"/>\r\n       <use x=\"63.623047\" xlink:href=\"#DejaVuSans-48\"/>\r\n      </g>\r\n     </g>\r\n    </g>\r\n    <g id=\"xtick_16\">\r\n     <g id=\"line2d_57\">\r\n      <path clip-path=\"url(#pa6c56d9137)\" d=\"M 959.168043 185.398125 \r\nL 959.168043 22.318125 \r\n\" style=\"fill:none;stroke:#b0b0b0;stroke-linecap:square;stroke-width:0.8;\"/>\r\n     </g>\r\n     <g id=\"line2d_58\">\r\n      <g>\r\n       <use style=\"stroke:#000000;stroke-width:0.8;\" x=\"959.168043\" xlink:href=\"#m8a83286038\" y=\"185.398125\"/>\r\n      </g>\r\n     </g>\r\n     <g id=\"text_31\">\r\n      <!-- 40 -->\r\n      <g transform=\"translate(952.805543 199.996563)scale(0.1 -0.1)\">\r\n       <use xlink:href=\"#DejaVuSans-52\"/>\r\n       <use x=\"63.623047\" xlink:href=\"#DejaVuSans-48\"/>\r\n      </g>\r\n     </g>\r\n    </g>\r\n    <g id=\"xtick_17\">\r\n     <g id=\"line2d_59\">\r\n      <path clip-path=\"url(#pa6c56d9137)\" d=\"M 1016.681957 185.398125 \r\nL 1016.681957 22.318125 \r\n\" style=\"fill:none;stroke:#b0b0b0;stroke-linecap:square;stroke-width:0.8;\"/>\r\n     </g>\r\n     <g id=\"line2d_60\">\r\n      <g>\r\n       <use style=\"stroke:#000000;stroke-width:0.8;\" x=\"1016.681957\" xlink:href=\"#m8a83286038\" y=\"185.398125\"/>\r\n      </g>\r\n     </g>\r\n     <g id=\"text_32\">\r\n      <!-- 60 -->\r\n      <g transform=\"translate(1010.319457 199.996563)scale(0.1 -0.1)\">\r\n       <use xlink:href=\"#DejaVuSans-54\"/>\r\n       <use x=\"63.623047\" xlink:href=\"#DejaVuSans-48\"/>\r\n      </g>\r\n     </g>\r\n    </g>\r\n    <g id=\"xtick_18\">\r\n     <g id=\"line2d_61\">\r\n      <path clip-path=\"url(#pa6c56d9137)\" d=\"M 1074.195872 185.398125 \r\nL 1074.195872 22.318125 \r\n\" style=\"fill:none;stroke:#b0b0b0;stroke-linecap:square;stroke-width:0.8;\"/>\r\n     </g>\r\n     <g id=\"line2d_62\">\r\n      <g>\r\n       <use style=\"stroke:#000000;stroke-width:0.8;\" x=\"1074.195872\" xlink:href=\"#m8a83286038\" y=\"185.398125\"/>\r\n      </g>\r\n     </g>\r\n     <g id=\"text_33\">\r\n      <!-- 80 -->\r\n      <g transform=\"translate(1067.833372 199.996563)scale(0.1 -0.1)\">\r\n       <use xlink:href=\"#DejaVuSans-56\"/>\r\n       <use x=\"63.623047\" xlink:href=\"#DejaVuSans-48\"/>\r\n      </g>\r\n     </g>\r\n    </g>\r\n    <g id=\"xtick_19\">\r\n     <g id=\"line2d_63\">\r\n      <path clip-path=\"url(#pa6c56d9137)\" d=\"M 1131.709787 185.398125 \r\nL 1131.709787 22.318125 \r\n\" style=\"fill:none;stroke:#b0b0b0;stroke-linecap:square;stroke-width:0.8;\"/>\r\n     </g>\r\n     <g id=\"line2d_64\">\r\n      <g>\r\n       <use style=\"stroke:#000000;stroke-width:0.8;\" x=\"1131.709787\" xlink:href=\"#m8a83286038\" y=\"185.398125\"/>\r\n      </g>\r\n     </g>\r\n     <g id=\"text_34\">\r\n      <!-- 100 -->\r\n      <g transform=\"translate(1122.166037 199.996563)scale(0.1 -0.1)\">\r\n       <use xlink:href=\"#DejaVuSans-49\"/>\r\n       <use x=\"63.623047\" xlink:href=\"#DejaVuSans-48\"/>\r\n       <use x=\"127.246094\" xlink:href=\"#DejaVuSans-48\"/>\r\n      </g>\r\n     </g>\r\n    </g>\r\n   </g>\r\n   <g id=\"matplotlib.axis_6\">\r\n    <g id=\"ytick_14\">\r\n     <g id=\"line2d_65\">\r\n      <path clip-path=\"url(#pa6c56d9137)\" d=\"M 832.925 185.398125 \r\nL 1142.925 185.398125 \r\n\" style=\"fill:none;stroke:#b0b0b0;stroke-linecap:square;stroke-width:0.8;\"/>\r\n     </g>\r\n     <g id=\"line2d_66\">\r\n      <g>\r\n       <use style=\"stroke:#000000;stroke-width:0.8;\" x=\"832.925\" xlink:href=\"#me19fc85a00\" y=\"185.398125\"/>\r\n      </g>\r\n     </g>\r\n     <g id=\"text_35\">\r\n      <!-- 0 -->\r\n      <g transform=\"translate(819.5625 189.197344)scale(0.1 -0.1)\">\r\n       <use xlink:href=\"#DejaVuSans-48\"/>\r\n      </g>\r\n     </g>\r\n    </g>\r\n    <g id=\"ytick_15\">\r\n     <g id=\"line2d_67\">\r\n      <path clip-path=\"url(#pa6c56d9137)\" d=\"M 832.925 155.529993 \r\nL 1142.925 155.529993 \r\n\" style=\"fill:none;stroke:#b0b0b0;stroke-linecap:square;stroke-width:0.8;\"/>\r\n     </g>\r\n     <g id=\"line2d_68\">\r\n      <g>\r\n       <use style=\"stroke:#000000;stroke-width:0.8;\" x=\"832.925\" xlink:href=\"#me19fc85a00\" y=\"155.529993\"/>\r\n      </g>\r\n     </g>\r\n     <g id=\"text_36\">\r\n      <!-- 5 -->\r\n      <g transform=\"translate(819.5625 159.329212)scale(0.1 -0.1)\">\r\n       <use xlink:href=\"#DejaVuSans-53\"/>\r\n      </g>\r\n     </g>\r\n    </g>\r\n    <g id=\"ytick_16\">\r\n     <g id=\"line2d_69\">\r\n      <path clip-path=\"url(#pa6c56d9137)\" d=\"M 832.925 125.661861 \r\nL 1142.925 125.661861 \r\n\" style=\"fill:none;stroke:#b0b0b0;stroke-linecap:square;stroke-width:0.8;\"/>\r\n     </g>\r\n     <g id=\"line2d_70\">\r\n      <g>\r\n       <use style=\"stroke:#000000;stroke-width:0.8;\" x=\"832.925\" xlink:href=\"#me19fc85a00\" y=\"125.661861\"/>\r\n      </g>\r\n     </g>\r\n     <g id=\"text_37\">\r\n      <!-- 10 -->\r\n      <g transform=\"translate(813.2 129.46108)scale(0.1 -0.1)\">\r\n       <use xlink:href=\"#DejaVuSans-49\"/>\r\n       <use x=\"63.623047\" xlink:href=\"#DejaVuSans-48\"/>\r\n      </g>\r\n     </g>\r\n    </g>\r\n    <g id=\"ytick_17\">\r\n     <g id=\"line2d_71\">\r\n      <path clip-path=\"url(#pa6c56d9137)\" d=\"M 832.925 95.793729 \r\nL 1142.925 95.793729 \r\n\" style=\"fill:none;stroke:#b0b0b0;stroke-linecap:square;stroke-width:0.8;\"/>\r\n     </g>\r\n     <g id=\"line2d_72\">\r\n      <g>\r\n       <use style=\"stroke:#000000;stroke-width:0.8;\" x=\"832.925\" xlink:href=\"#me19fc85a00\" y=\"95.793729\"/>\r\n      </g>\r\n     </g>\r\n     <g id=\"text_38\">\r\n      <!-- 15 -->\r\n      <g transform=\"translate(813.2 99.592948)scale(0.1 -0.1)\">\r\n       <use xlink:href=\"#DejaVuSans-49\"/>\r\n       <use x=\"63.623047\" xlink:href=\"#DejaVuSans-53\"/>\r\n      </g>\r\n     </g>\r\n    </g>\r\n    <g id=\"ytick_18\">\r\n     <g id=\"line2d_73\">\r\n      <path clip-path=\"url(#pa6c56d9137)\" d=\"M 832.925 65.925598 \r\nL 1142.925 65.925598 \r\n\" style=\"fill:none;stroke:#b0b0b0;stroke-linecap:square;stroke-width:0.8;\"/>\r\n     </g>\r\n     <g id=\"line2d_74\">\r\n      <g>\r\n       <use style=\"stroke:#000000;stroke-width:0.8;\" x=\"832.925\" xlink:href=\"#me19fc85a00\" y=\"65.925598\"/>\r\n      </g>\r\n     </g>\r\n     <g id=\"text_39\">\r\n      <!-- 20 -->\r\n      <g transform=\"translate(813.2 69.724816)scale(0.1 -0.1)\">\r\n       <use xlink:href=\"#DejaVuSans-50\"/>\r\n       <use x=\"63.623047\" xlink:href=\"#DejaVuSans-48\"/>\r\n      </g>\r\n     </g>\r\n    </g>\r\n    <g id=\"ytick_19\">\r\n     <g id=\"line2d_75\">\r\n      <path clip-path=\"url(#pa6c56d9137)\" d=\"M 832.925 36.057466 \r\nL 1142.925 36.057466 \r\n\" style=\"fill:none;stroke:#b0b0b0;stroke-linecap:square;stroke-width:0.8;\"/>\r\n     </g>\r\n     <g id=\"line2d_76\">\r\n      <g>\r\n       <use style=\"stroke:#000000;stroke-width:0.8;\" x=\"832.925\" xlink:href=\"#me19fc85a00\" y=\"36.057466\"/>\r\n      </g>\r\n     </g>\r\n     <g id=\"text_40\">\r\n      <!-- 25 -->\r\n      <g transform=\"translate(813.2 39.856684)scale(0.1 -0.1)\">\r\n       <use xlink:href=\"#DejaVuSans-50\"/>\r\n       <use x=\"63.623047\" xlink:href=\"#DejaVuSans-53\"/>\r\n      </g>\r\n     </g>\r\n    </g>\r\n   </g>\r\n   <g id=\"patch_58\">\r\n    <path d=\"M 832.925 185.398125 \r\nL 832.925 22.318125 \r\n\" style=\"fill:none;stroke:#000000;stroke-linecap:square;stroke-linejoin:miter;stroke-width:0.8;\"/>\r\n   </g>\r\n   <g id=\"patch_59\">\r\n    <path d=\"M 1142.925 185.398125 \r\nL 1142.925 22.318125 \r\n\" style=\"fill:none;stroke:#000000;stroke-linecap:square;stroke-linejoin:miter;stroke-width:0.8;\"/>\r\n   </g>\r\n   <g id=\"patch_60\">\r\n    <path d=\"M 832.925 185.398125 \r\nL 1142.925 185.398125 \r\n\" style=\"fill:none;stroke:#000000;stroke-linecap:square;stroke-linejoin:miter;stroke-width:0.8;\"/>\r\n   </g>\r\n   <g id=\"patch_61\">\r\n    <path d=\"M 832.925 22.318125 \r\nL 1142.925 22.318125 \r\n\" style=\"fill:none;stroke:#000000;stroke-linecap:square;stroke-linejoin:miter;stroke-width:0.8;\"/>\r\n   </g>\r\n   <g id=\"text_41\">\r\n    <!-- Spending Score (1-100) -->\r\n    <g transform=\"translate(916.991875 16.318125)scale(0.12 -0.12)\">\r\n     <defs>\r\n      <path d=\"M 53.515625 70.515625 \r\nL 53.515625 60.890625 \r\nQ 47.90625 63.578125 42.921875 64.890625 \r\nQ 37.9375 66.21875 33.296875 66.21875 \r\nQ 25.25 66.21875 20.875 63.09375 \r\nQ 16.5 59.96875 16.5 54.203125 \r\nQ 16.5 49.359375 19.40625 46.890625 \r\nQ 22.3125 44.4375 30.421875 42.921875 \r\nL 36.375 41.703125 \r\nQ 47.40625 39.59375 52.65625 34.296875 \r\nQ 57.90625 29 57.90625 20.125 \r\nQ 57.90625 9.515625 50.796875 4.046875 \r\nQ 43.703125 -1.421875 29.984375 -1.421875 \r\nQ 24.8125 -1.421875 18.96875 -0.25 \r\nQ 13.140625 0.921875 6.890625 3.21875 \r\nL 6.890625 13.375 \r\nQ 12.890625 10.015625 18.65625 8.296875 \r\nQ 24.421875 6.59375 29.984375 6.59375 \r\nQ 38.421875 6.59375 43.015625 9.90625 \r\nQ 47.609375 13.234375 47.609375 19.390625 \r\nQ 47.609375 24.75 44.3125 27.78125 \r\nQ 41.015625 30.8125 33.5 32.328125 \r\nL 27.484375 33.5 \r\nQ 16.453125 35.6875 11.515625 40.375 \r\nQ 6.59375 45.0625 6.59375 53.421875 \r\nQ 6.59375 63.09375 13.40625 68.65625 \r\nQ 20.21875 74.21875 32.171875 74.21875 \r\nQ 37.3125 74.21875 42.625 73.28125 \r\nQ 47.953125 72.359375 53.515625 70.515625 \r\nz\r\n\" id=\"DejaVuSans-83\"/>\r\n      <path d=\"M 18.109375 8.203125 \r\nL 18.109375 -20.796875 \r\nL 9.078125 -20.796875 \r\nL 9.078125 54.6875 \r\nL 18.109375 54.6875 \r\nL 18.109375 46.390625 \r\nQ 20.953125 51.265625 25.265625 53.625 \r\nQ 29.59375 56 35.59375 56 \r\nQ 45.5625 56 51.78125 48.09375 \r\nQ 58.015625 40.1875 58.015625 27.296875 \r\nQ 58.015625 14.40625 51.78125 6.484375 \r\nQ 45.5625 -1.421875 35.59375 -1.421875 \r\nQ 29.59375 -1.421875 25.265625 0.953125 \r\nQ 20.953125 3.328125 18.109375 8.203125 \r\nz\r\nM 48.6875 27.296875 \r\nQ 48.6875 37.203125 44.609375 42.84375 \r\nQ 40.53125 48.484375 33.40625 48.484375 \r\nQ 26.265625 48.484375 22.1875 42.84375 \r\nQ 18.109375 37.203125 18.109375 27.296875 \r\nQ 18.109375 17.390625 22.1875 11.75 \r\nQ 26.265625 6.109375 33.40625 6.109375 \r\nQ 40.53125 6.109375 44.609375 11.75 \r\nQ 48.6875 17.390625 48.6875 27.296875 \r\nz\r\n\" id=\"DejaVuSans-112\"/>\r\n      <path d=\"M 45.40625 46.390625 \r\nL 45.40625 75.984375 \r\nL 54.390625 75.984375 \r\nL 54.390625 0 \r\nL 45.40625 0 \r\nL 45.40625 8.203125 \r\nQ 42.578125 3.328125 38.25 0.953125 \r\nQ 33.9375 -1.421875 27.875 -1.421875 \r\nQ 17.96875 -1.421875 11.734375 6.484375 \r\nQ 5.515625 14.40625 5.515625 27.296875 \r\nQ 5.515625 40.1875 11.734375 48.09375 \r\nQ 17.96875 56 27.875 56 \r\nQ 33.9375 56 38.25 53.625 \r\nQ 42.578125 51.265625 45.40625 46.390625 \r\nz\r\nM 14.796875 27.296875 \r\nQ 14.796875 17.390625 18.875 11.75 \r\nQ 22.953125 6.109375 30.078125 6.109375 \r\nQ 37.203125 6.109375 41.296875 11.75 \r\nQ 45.40625 17.390625 45.40625 27.296875 \r\nQ 45.40625 37.203125 41.296875 42.84375 \r\nQ 37.203125 48.484375 30.078125 48.484375 \r\nQ 22.953125 48.484375 18.875 42.84375 \r\nQ 14.796875 37.203125 14.796875 27.296875 \r\nz\r\n\" id=\"DejaVuSans-100\"/>\r\n      <path d=\"M 9.421875 54.6875 \r\nL 18.40625 54.6875 \r\nL 18.40625 0 \r\nL 9.421875 0 \r\nz\r\nM 9.421875 75.984375 \r\nL 18.40625 75.984375 \r\nL 18.40625 64.59375 \r\nL 9.421875 64.59375 \r\nz\r\n\" id=\"DejaVuSans-105\"/>\r\n      <path d=\"M 41.109375 46.296875 \r\nQ 39.59375 47.171875 37.8125 47.578125 \r\nQ 36.03125 48 33.890625 48 \r\nQ 26.265625 48 22.1875 43.046875 \r\nQ 18.109375 38.09375 18.109375 28.8125 \r\nL 18.109375 0 \r\nL 9.078125 0 \r\nL 9.078125 54.6875 \r\nL 18.109375 54.6875 \r\nL 18.109375 46.1875 \r\nQ 20.953125 51.171875 25.484375 53.578125 \r\nQ 30.03125 56 36.53125 56 \r\nQ 37.453125 56 38.578125 55.875 \r\nQ 39.703125 55.765625 41.0625 55.515625 \r\nz\r\n\" id=\"DejaVuSans-114\"/>\r\n      <path d=\"M 4.890625 31.390625 \r\nL 31.203125 31.390625 \r\nL 31.203125 23.390625 \r\nL 4.890625 23.390625 \r\nz\r\n\" id=\"DejaVuSans-45\"/>\r\n     </defs>\r\n     <use xlink:href=\"#DejaVuSans-83\"/>\r\n     <use x=\"63.476562\" xlink:href=\"#DejaVuSans-112\"/>\r\n     <use x=\"126.953125\" xlink:href=\"#DejaVuSans-101\"/>\r\n     <use x=\"188.476562\" xlink:href=\"#DejaVuSans-110\"/>\r\n     <use x=\"251.855469\" xlink:href=\"#DejaVuSans-100\"/>\r\n     <use x=\"315.332031\" xlink:href=\"#DejaVuSans-105\"/>\r\n     <use x=\"343.115234\" xlink:href=\"#DejaVuSans-110\"/>\r\n     <use x=\"406.494141\" xlink:href=\"#DejaVuSans-103\"/>\r\n     <use x=\"469.970703\" xlink:href=\"#DejaVuSans-32\"/>\r\n     <use x=\"501.757812\" xlink:href=\"#DejaVuSans-83\"/>\r\n     <use x=\"565.234375\" xlink:href=\"#DejaVuSans-99\"/>\r\n     <use x=\"620.214844\" xlink:href=\"#DejaVuSans-111\"/>\r\n     <use x=\"681.396484\" xlink:href=\"#DejaVuSans-114\"/>\r\n     <use x=\"720.259766\" xlink:href=\"#DejaVuSans-101\"/>\r\n     <use x=\"781.783203\" xlink:href=\"#DejaVuSans-32\"/>\r\n     <use x=\"813.570312\" xlink:href=\"#DejaVuSans-40\"/>\r\n     <use x=\"852.583984\" xlink:href=\"#DejaVuSans-49\"/>\r\n     <use x=\"916.207031\" xlink:href=\"#DejaVuSans-45\"/>\r\n     <use x=\"952.291016\" xlink:href=\"#DejaVuSans-49\"/>\r\n     <use x=\"1015.914062\" xlink:href=\"#DejaVuSans-48\"/>\r\n     <use x=\"1079.537109\" xlink:href=\"#DejaVuSans-48\"/>\r\n     <use x=\"1143.160156\" xlink:href=\"#DejaVuSans-41\"/>\r\n    </g>\r\n   </g>\r\n  </g>\r\n </g>\r\n <defs>\r\n  <clipPath id=\"p28fd9afd36\">\r\n   <rect height=\"163.08\" width=\"310\" x=\"26.925\" y=\"22.318125\"/>\r\n  </clipPath>\r\n  <clipPath id=\"p5afeafce1e\">\r\n   <rect height=\"163.08\" width=\"310\" x=\"429.925\" y=\"22.318125\"/>\r\n  </clipPath>\r\n  <clipPath id=\"pa6c56d9137\">\r\n   <rect height=\"163.08\" width=\"310\" x=\"832.925\" y=\"22.318125\"/>\r\n  </clipPath>\r\n </defs>\r\n</svg>\r\n",
      "text/plain": [
       "<Figure size 1440x216 with 3 Axes>"
      ]
     },
     "metadata": {
      "needs_background": "light"
     },
     "output_type": "display_data"
    }
   ],
   "source": [
    "# EDA for the numerical features\n",
    "df.hist(bins=15, figsize=(20,3), layout=(1,3))"
   ]
  },
  {
   "cell_type": "code",
   "execution_count": 11,
   "metadata": {},
   "outputs": [
    {
     "data": {
      "application/vnd.plotly.v1+json": {
       "config": {
        "plotlyServerURL": "https://plot.ly"
       },
       "data": [
        {
         "dimensions": [
          {
           "axis": {
            "matches": true
           },
           "label": "Age",
           "values": [
            19,
            21,
            20,
            23,
            31,
            22,
            35,
            23,
            64,
            30,
            67,
            35,
            58,
            24,
            37,
            22,
            35,
            20,
            52,
            35,
            35,
            25,
            46,
            31,
            54,
            29,
            45,
            35,
            40,
            23,
            60,
            21,
            53,
            18,
            49,
            21,
            42,
            30,
            36,
            20,
            65,
            24,
            48,
            31,
            49,
            24,
            50,
            27,
            29,
            31,
            49,
            33,
            31,
            59,
            50,
            47,
            51,
            69,
            27,
            53,
            70,
            19,
            67,
            54,
            63,
            18,
            43,
            68,
            19,
            32,
            70,
            47,
            60,
            60,
            59,
            26,
            45,
            40,
            23,
            49,
            57,
            38,
            67,
            46,
            21,
            48,
            55,
            22,
            34,
            50,
            68,
            18,
            48,
            40,
            32,
            24,
            47,
            27,
            48,
            20,
            23,
            49,
            67,
            26,
            49,
            21,
            66,
            54,
            68,
            66,
            65,
            19,
            38,
            19,
            18,
            19,
            63,
            49,
            51,
            50,
            27,
            38,
            40,
            39,
            23,
            31,
            43,
            40,
            59,
            38,
            47,
            39,
            25,
            31,
            20,
            29,
            44,
            32,
            19,
            35,
            57,
            32,
            28,
            32,
            25,
            28,
            48,
            32,
            34,
            34,
            43,
            39,
            44,
            38,
            47,
            27,
            37,
            30,
            34,
            30,
            56,
            29,
            19,
            31,
            50,
            36,
            42,
            33,
            36,
            32,
            40,
            28,
            36,
            36,
            52,
            30,
            58,
            27,
            59,
            35,
            37,
            32,
            46,
            29,
            41,
            30,
            54,
            28,
            41,
            36,
            34,
            32,
            33,
            38,
            47,
            35,
            45,
            32,
            32,
            30
           ]
          },
          {
           "axis": {
            "matches": true
           },
           "label": "Annual Income (k$)",
           "values": [
            15,
            15,
            16,
            16,
            17,
            17,
            18,
            18,
            19,
            19,
            19,
            19,
            20,
            20,
            20,
            20,
            21,
            21,
            23,
            23,
            24,
            24,
            25,
            25,
            28,
            28,
            28,
            28,
            29,
            29,
            30,
            30,
            33,
            33,
            33,
            33,
            34,
            34,
            37,
            37,
            38,
            38,
            39,
            39,
            39,
            39,
            40,
            40,
            40,
            40,
            42,
            42,
            43,
            43,
            43,
            43,
            44,
            44,
            46,
            46,
            46,
            46,
            47,
            47,
            48,
            48,
            48,
            48,
            48,
            48,
            49,
            49,
            50,
            50,
            54,
            54,
            54,
            54,
            54,
            54,
            54,
            54,
            54,
            54,
            54,
            54,
            57,
            57,
            58,
            58,
            59,
            59,
            60,
            60,
            60,
            60,
            60,
            60,
            61,
            61,
            62,
            62,
            62,
            62,
            62,
            62,
            63,
            63,
            63,
            63,
            63,
            63,
            64,
            64,
            65,
            65,
            65,
            65,
            67,
            67,
            67,
            67,
            69,
            69,
            70,
            70,
            71,
            71,
            71,
            71,
            71,
            71,
            72,
            72,
            73,
            73,
            73,
            73,
            74,
            74,
            75,
            75,
            76,
            76,
            77,
            77,
            77,
            77,
            78,
            78,
            78,
            78,
            78,
            78,
            78,
            78,
            78,
            78,
            78,
            78,
            79,
            79,
            81,
            81,
            85,
            85,
            86,
            86,
            87,
            87,
            87,
            87,
            87,
            87,
            88,
            88,
            88,
            88,
            93,
            93,
            97,
            97,
            98,
            98,
            99,
            99,
            101,
            101,
            103,
            103,
            103,
            103,
            113,
            113,
            120,
            120,
            126,
            126,
            137,
            137
           ]
          },
          {
           "axis": {
            "matches": true
           },
           "label": "Spending Score (1-100)",
           "values": [
            39,
            81,
            6,
            77,
            40,
            76,
            6,
            94,
            3,
            72,
            14,
            99,
            15,
            77,
            13,
            79,
            35,
            66,
            29,
            98,
            35,
            73,
            5,
            73,
            14,
            82,
            32,
            61,
            31,
            87,
            4,
            73,
            4,
            92,
            14,
            81,
            17,
            73,
            26,
            75,
            35,
            92,
            36,
            61,
            28,
            65,
            55,
            47,
            42,
            42,
            52,
            60,
            54,
            60,
            45,
            41,
            50,
            46,
            51,
            46,
            56,
            55,
            52,
            59,
            51,
            59,
            50,
            48,
            59,
            47,
            55,
            42,
            49,
            56,
            47,
            54,
            53,
            48,
            52,
            42,
            51,
            55,
            41,
            44,
            57,
            46,
            58,
            55,
            60,
            46,
            55,
            41,
            49,
            40,
            42,
            52,
            47,
            50,
            42,
            49,
            41,
            48,
            59,
            55,
            56,
            42,
            50,
            46,
            43,
            48,
            52,
            54,
            42,
            46,
            48,
            50,
            43,
            59,
            43,
            57,
            56,
            40,
            58,
            91,
            29,
            77,
            35,
            95,
            11,
            75,
            9,
            75,
            34,
            71,
            5,
            88,
            7,
            73,
            10,
            72,
            5,
            93,
            40,
            87,
            12,
            97,
            36,
            74,
            22,
            90,
            17,
            88,
            20,
            76,
            16,
            89,
            1,
            78,
            1,
            73,
            35,
            83,
            5,
            93,
            26,
            75,
            20,
            95,
            27,
            63,
            13,
            75,
            10,
            92,
            13,
            86,
            15,
            69,
            14,
            90,
            32,
            86,
            15,
            88,
            39,
            97,
            24,
            68,
            17,
            85,
            23,
            69,
            8,
            91,
            16,
            79,
            28,
            74,
            18,
            83
           ]
          }
         ],
         "hovertemplate": "%{xaxis.title.text}=%{x}<br>%{yaxis.title.text}=%{y}<extra></extra>",
         "legendgroup": "",
         "marker": {
          "color": "#636efa",
          "symbol": "circle"
         },
         "name": "",
         "showlegend": false,
         "type": "splom"
        }
       ],
       "layout": {
        "dragmode": "select",
        "height": 800,
        "legend": {
         "tracegroupgap": 0
        },
        "margin": {
         "t": 60
        },
        "template": {
         "data": {
          "bar": [
           {
            "error_x": {
             "color": "#2a3f5f"
            },
            "error_y": {
             "color": "#2a3f5f"
            },
            "marker": {
             "line": {
              "color": "#E5ECF6",
              "width": 0.5
             }
            },
            "type": "bar"
           }
          ],
          "barpolar": [
           {
            "marker": {
             "line": {
              "color": "#E5ECF6",
              "width": 0.5
             }
            },
            "type": "barpolar"
           }
          ],
          "carpet": [
           {
            "aaxis": {
             "endlinecolor": "#2a3f5f",
             "gridcolor": "white",
             "linecolor": "white",
             "minorgridcolor": "white",
             "startlinecolor": "#2a3f5f"
            },
            "baxis": {
             "endlinecolor": "#2a3f5f",
             "gridcolor": "white",
             "linecolor": "white",
             "minorgridcolor": "white",
             "startlinecolor": "#2a3f5f"
            },
            "type": "carpet"
           }
          ],
          "choropleth": [
           {
            "colorbar": {
             "outlinewidth": 0,
             "ticks": ""
            },
            "type": "choropleth"
           }
          ],
          "contour": [
           {
            "colorbar": {
             "outlinewidth": 0,
             "ticks": ""
            },
            "colorscale": [
             [
              0,
              "#0d0887"
             ],
             [
              0.1111111111111111,
              "#46039f"
             ],
             [
              0.2222222222222222,
              "#7201a8"
             ],
             [
              0.3333333333333333,
              "#9c179e"
             ],
             [
              0.4444444444444444,
              "#bd3786"
             ],
             [
              0.5555555555555556,
              "#d8576b"
             ],
             [
              0.6666666666666666,
              "#ed7953"
             ],
             [
              0.7777777777777778,
              "#fb9f3a"
             ],
             [
              0.8888888888888888,
              "#fdca26"
             ],
             [
              1,
              "#f0f921"
             ]
            ],
            "type": "contour"
           }
          ],
          "contourcarpet": [
           {
            "colorbar": {
             "outlinewidth": 0,
             "ticks": ""
            },
            "type": "contourcarpet"
           }
          ],
          "heatmap": [
           {
            "colorbar": {
             "outlinewidth": 0,
             "ticks": ""
            },
            "colorscale": [
             [
              0,
              "#0d0887"
             ],
             [
              0.1111111111111111,
              "#46039f"
             ],
             [
              0.2222222222222222,
              "#7201a8"
             ],
             [
              0.3333333333333333,
              "#9c179e"
             ],
             [
              0.4444444444444444,
              "#bd3786"
             ],
             [
              0.5555555555555556,
              "#d8576b"
             ],
             [
              0.6666666666666666,
              "#ed7953"
             ],
             [
              0.7777777777777778,
              "#fb9f3a"
             ],
             [
              0.8888888888888888,
              "#fdca26"
             ],
             [
              1,
              "#f0f921"
             ]
            ],
            "type": "heatmap"
           }
          ],
          "heatmapgl": [
           {
            "colorbar": {
             "outlinewidth": 0,
             "ticks": ""
            },
            "colorscale": [
             [
              0,
              "#0d0887"
             ],
             [
              0.1111111111111111,
              "#46039f"
             ],
             [
              0.2222222222222222,
              "#7201a8"
             ],
             [
              0.3333333333333333,
              "#9c179e"
             ],
             [
              0.4444444444444444,
              "#bd3786"
             ],
             [
              0.5555555555555556,
              "#d8576b"
             ],
             [
              0.6666666666666666,
              "#ed7953"
             ],
             [
              0.7777777777777778,
              "#fb9f3a"
             ],
             [
              0.8888888888888888,
              "#fdca26"
             ],
             [
              1,
              "#f0f921"
             ]
            ],
            "type": "heatmapgl"
           }
          ],
          "histogram": [
           {
            "marker": {
             "colorbar": {
              "outlinewidth": 0,
              "ticks": ""
             }
            },
            "type": "histogram"
           }
          ],
          "histogram2d": [
           {
            "colorbar": {
             "outlinewidth": 0,
             "ticks": ""
            },
            "colorscale": [
             [
              0,
              "#0d0887"
             ],
             [
              0.1111111111111111,
              "#46039f"
             ],
             [
              0.2222222222222222,
              "#7201a8"
             ],
             [
              0.3333333333333333,
              "#9c179e"
             ],
             [
              0.4444444444444444,
              "#bd3786"
             ],
             [
              0.5555555555555556,
              "#d8576b"
             ],
             [
              0.6666666666666666,
              "#ed7953"
             ],
             [
              0.7777777777777778,
              "#fb9f3a"
             ],
             [
              0.8888888888888888,
              "#fdca26"
             ],
             [
              1,
              "#f0f921"
             ]
            ],
            "type": "histogram2d"
           }
          ],
          "histogram2dcontour": [
           {
            "colorbar": {
             "outlinewidth": 0,
             "ticks": ""
            },
            "colorscale": [
             [
              0,
              "#0d0887"
             ],
             [
              0.1111111111111111,
              "#46039f"
             ],
             [
              0.2222222222222222,
              "#7201a8"
             ],
             [
              0.3333333333333333,
              "#9c179e"
             ],
             [
              0.4444444444444444,
              "#bd3786"
             ],
             [
              0.5555555555555556,
              "#d8576b"
             ],
             [
              0.6666666666666666,
              "#ed7953"
             ],
             [
              0.7777777777777778,
              "#fb9f3a"
             ],
             [
              0.8888888888888888,
              "#fdca26"
             ],
             [
              1,
              "#f0f921"
             ]
            ],
            "type": "histogram2dcontour"
           }
          ],
          "mesh3d": [
           {
            "colorbar": {
             "outlinewidth": 0,
             "ticks": ""
            },
            "type": "mesh3d"
           }
          ],
          "parcoords": [
           {
            "line": {
             "colorbar": {
              "outlinewidth": 0,
              "ticks": ""
             }
            },
            "type": "parcoords"
           }
          ],
          "pie": [
           {
            "automargin": true,
            "type": "pie"
           }
          ],
          "scatter": [
           {
            "marker": {
             "colorbar": {
              "outlinewidth": 0,
              "ticks": ""
             }
            },
            "type": "scatter"
           }
          ],
          "scatter3d": [
           {
            "line": {
             "colorbar": {
              "outlinewidth": 0,
              "ticks": ""
             }
            },
            "marker": {
             "colorbar": {
              "outlinewidth": 0,
              "ticks": ""
             }
            },
            "type": "scatter3d"
           }
          ],
          "scattercarpet": [
           {
            "marker": {
             "colorbar": {
              "outlinewidth": 0,
              "ticks": ""
             }
            },
            "type": "scattercarpet"
           }
          ],
          "scattergeo": [
           {
            "marker": {
             "colorbar": {
              "outlinewidth": 0,
              "ticks": ""
             }
            },
            "type": "scattergeo"
           }
          ],
          "scattergl": [
           {
            "marker": {
             "colorbar": {
              "outlinewidth": 0,
              "ticks": ""
             }
            },
            "type": "scattergl"
           }
          ],
          "scattermapbox": [
           {
            "marker": {
             "colorbar": {
              "outlinewidth": 0,
              "ticks": ""
             }
            },
            "type": "scattermapbox"
           }
          ],
          "scatterpolar": [
           {
            "marker": {
             "colorbar": {
              "outlinewidth": 0,
              "ticks": ""
             }
            },
            "type": "scatterpolar"
           }
          ],
          "scatterpolargl": [
           {
            "marker": {
             "colorbar": {
              "outlinewidth": 0,
              "ticks": ""
             }
            },
            "type": "scatterpolargl"
           }
          ],
          "scatterternary": [
           {
            "marker": {
             "colorbar": {
              "outlinewidth": 0,
              "ticks": ""
             }
            },
            "type": "scatterternary"
           }
          ],
          "surface": [
           {
            "colorbar": {
             "outlinewidth": 0,
             "ticks": ""
            },
            "colorscale": [
             [
              0,
              "#0d0887"
             ],
             [
              0.1111111111111111,
              "#46039f"
             ],
             [
              0.2222222222222222,
              "#7201a8"
             ],
             [
              0.3333333333333333,
              "#9c179e"
             ],
             [
              0.4444444444444444,
              "#bd3786"
             ],
             [
              0.5555555555555556,
              "#d8576b"
             ],
             [
              0.6666666666666666,
              "#ed7953"
             ],
             [
              0.7777777777777778,
              "#fb9f3a"
             ],
             [
              0.8888888888888888,
              "#fdca26"
             ],
             [
              1,
              "#f0f921"
             ]
            ],
            "type": "surface"
           }
          ],
          "table": [
           {
            "cells": {
             "fill": {
              "color": "#EBF0F8"
             },
             "line": {
              "color": "white"
             }
            },
            "header": {
             "fill": {
              "color": "#C8D4E3"
             },
             "line": {
              "color": "white"
             }
            },
            "type": "table"
           }
          ]
         },
         "layout": {
          "annotationdefaults": {
           "arrowcolor": "#2a3f5f",
           "arrowhead": 0,
           "arrowwidth": 1
          },
          "autotypenumbers": "strict",
          "coloraxis": {
           "colorbar": {
            "outlinewidth": 0,
            "ticks": ""
           }
          },
          "colorscale": {
           "diverging": [
            [
             0,
             "#8e0152"
            ],
            [
             0.1,
             "#c51b7d"
            ],
            [
             0.2,
             "#de77ae"
            ],
            [
             0.3,
             "#f1b6da"
            ],
            [
             0.4,
             "#fde0ef"
            ],
            [
             0.5,
             "#f7f7f7"
            ],
            [
             0.6,
             "#e6f5d0"
            ],
            [
             0.7,
             "#b8e186"
            ],
            [
             0.8,
             "#7fbc41"
            ],
            [
             0.9,
             "#4d9221"
            ],
            [
             1,
             "#276419"
            ]
           ],
           "sequential": [
            [
             0,
             "#0d0887"
            ],
            [
             0.1111111111111111,
             "#46039f"
            ],
            [
             0.2222222222222222,
             "#7201a8"
            ],
            [
             0.3333333333333333,
             "#9c179e"
            ],
            [
             0.4444444444444444,
             "#bd3786"
            ],
            [
             0.5555555555555556,
             "#d8576b"
            ],
            [
             0.6666666666666666,
             "#ed7953"
            ],
            [
             0.7777777777777778,
             "#fb9f3a"
            ],
            [
             0.8888888888888888,
             "#fdca26"
            ],
            [
             1,
             "#f0f921"
            ]
           ],
           "sequentialminus": [
            [
             0,
             "#0d0887"
            ],
            [
             0.1111111111111111,
             "#46039f"
            ],
            [
             0.2222222222222222,
             "#7201a8"
            ],
            [
             0.3333333333333333,
             "#9c179e"
            ],
            [
             0.4444444444444444,
             "#bd3786"
            ],
            [
             0.5555555555555556,
             "#d8576b"
            ],
            [
             0.6666666666666666,
             "#ed7953"
            ],
            [
             0.7777777777777778,
             "#fb9f3a"
            ],
            [
             0.8888888888888888,
             "#fdca26"
            ],
            [
             1,
             "#f0f921"
            ]
           ]
          },
          "colorway": [
           "#636efa",
           "#EF553B",
           "#00cc96",
           "#ab63fa",
           "#FFA15A",
           "#19d3f3",
           "#FF6692",
           "#B6E880",
           "#FF97FF",
           "#FECB52"
          ],
          "font": {
           "color": "#2a3f5f"
          },
          "geo": {
           "bgcolor": "white",
           "lakecolor": "white",
           "landcolor": "#E5ECF6",
           "showlakes": true,
           "showland": true,
           "subunitcolor": "white"
          },
          "hoverlabel": {
           "align": "left"
          },
          "hovermode": "closest",
          "mapbox": {
           "style": "light"
          },
          "paper_bgcolor": "white",
          "plot_bgcolor": "#E5ECF6",
          "polar": {
           "angularaxis": {
            "gridcolor": "white",
            "linecolor": "white",
            "ticks": ""
           },
           "bgcolor": "#E5ECF6",
           "radialaxis": {
            "gridcolor": "white",
            "linecolor": "white",
            "ticks": ""
           }
          },
          "scene": {
           "xaxis": {
            "backgroundcolor": "#E5ECF6",
            "gridcolor": "white",
            "gridwidth": 2,
            "linecolor": "white",
            "showbackground": true,
            "ticks": "",
            "zerolinecolor": "white"
           },
           "yaxis": {
            "backgroundcolor": "#E5ECF6",
            "gridcolor": "white",
            "gridwidth": 2,
            "linecolor": "white",
            "showbackground": true,
            "ticks": "",
            "zerolinecolor": "white"
           },
           "zaxis": {
            "backgroundcolor": "#E5ECF6",
            "gridcolor": "white",
            "gridwidth": 2,
            "linecolor": "white",
            "showbackground": true,
            "ticks": "",
            "zerolinecolor": "white"
           }
          },
          "shapedefaults": {
           "line": {
            "color": "#2a3f5f"
           }
          },
          "ternary": {
           "aaxis": {
            "gridcolor": "white",
            "linecolor": "white",
            "ticks": ""
           },
           "baxis": {
            "gridcolor": "white",
            "linecolor": "white",
            "ticks": ""
           },
           "bgcolor": "#E5ECF6",
           "caxis": {
            "gridcolor": "white",
            "linecolor": "white",
            "ticks": ""
           }
          },
          "title": {
           "x": 0.05
          },
          "xaxis": {
           "automargin": true,
           "gridcolor": "white",
           "linecolor": "white",
           "ticks": "",
           "title": {
            "standoff": 15
           },
           "zerolinecolor": "white",
           "zerolinewidth": 2
          },
          "yaxis": {
           "automargin": true,
           "gridcolor": "white",
           "linecolor": "white",
           "ticks": "",
           "title": {
            "standoff": 15
           },
           "zerolinecolor": "white",
           "zerolinewidth": 2
          }
         }
        },
        "width": 800
       }
      }
     },
     "metadata": {},
     "output_type": "display_data"
    }
   ],
   "source": [
    "fig = px.scatter_matrix(df, width=800, height=800)\n",
    "fig.show()"
   ]
  },
  {
   "cell_type": "code",
   "execution_count": 12,
   "metadata": {},
   "outputs": [
    {
     "data": {
      "application/vnd.plotly.v1+json": {
       "config": {
        "plotlyServerURL": "https://plot.ly"
       },
       "data": [
        {
         "hovertemplate": "Age=%{x}<br>Annual Income (k$)=%{y}<br>Spending Score (1-100)=%{marker.size}<extra></extra>",
         "legendgroup": "",
         "marker": {
          "color": "#636efa",
          "size": [
           39,
           81,
           6,
           77,
           40,
           76,
           6,
           94,
           3,
           72,
           14,
           99,
           15,
           77,
           13,
           79,
           35,
           66,
           29,
           98,
           35,
           73,
           5,
           73,
           14,
           82,
           32,
           61,
           31,
           87,
           4,
           73,
           4,
           92,
           14,
           81,
           17,
           73,
           26,
           75,
           35,
           92,
           36,
           61,
           28,
           65,
           55,
           47,
           42,
           42,
           52,
           60,
           54,
           60,
           45,
           41,
           50,
           46,
           51,
           46,
           56,
           55,
           52,
           59,
           51,
           59,
           50,
           48,
           59,
           47,
           55,
           42,
           49,
           56,
           47,
           54,
           53,
           48,
           52,
           42,
           51,
           55,
           41,
           44,
           57,
           46,
           58,
           55,
           60,
           46,
           55,
           41,
           49,
           40,
           42,
           52,
           47,
           50,
           42,
           49,
           41,
           48,
           59,
           55,
           56,
           42,
           50,
           46,
           43,
           48,
           52,
           54,
           42,
           46,
           48,
           50,
           43,
           59,
           43,
           57,
           56,
           40,
           58,
           91,
           29,
           77,
           35,
           95,
           11,
           75,
           9,
           75,
           34,
           71,
           5,
           88,
           7,
           73,
           10,
           72,
           5,
           93,
           40,
           87,
           12,
           97,
           36,
           74,
           22,
           90,
           17,
           88,
           20,
           76,
           16,
           89,
           1,
           78,
           1,
           73,
           35,
           83,
           5,
           93,
           26,
           75,
           20,
           95,
           27,
           63,
           13,
           75,
           10,
           92,
           13,
           86,
           15,
           69,
           14,
           90,
           32,
           86,
           15,
           88,
           39,
           97,
           24,
           68,
           17,
           85,
           23,
           69,
           8,
           91,
           16,
           79,
           28,
           74,
           18,
           83
          ],
          "sizemode": "area",
          "sizeref": 0.2475,
          "symbol": "circle"
         },
         "mode": "markers",
         "name": "",
         "orientation": "v",
         "showlegend": false,
         "type": "scatter",
         "x": [
          19,
          21,
          20,
          23,
          31,
          22,
          35,
          23,
          64,
          30,
          67,
          35,
          58,
          24,
          37,
          22,
          35,
          20,
          52,
          35,
          35,
          25,
          46,
          31,
          54,
          29,
          45,
          35,
          40,
          23,
          60,
          21,
          53,
          18,
          49,
          21,
          42,
          30,
          36,
          20,
          65,
          24,
          48,
          31,
          49,
          24,
          50,
          27,
          29,
          31,
          49,
          33,
          31,
          59,
          50,
          47,
          51,
          69,
          27,
          53,
          70,
          19,
          67,
          54,
          63,
          18,
          43,
          68,
          19,
          32,
          70,
          47,
          60,
          60,
          59,
          26,
          45,
          40,
          23,
          49,
          57,
          38,
          67,
          46,
          21,
          48,
          55,
          22,
          34,
          50,
          68,
          18,
          48,
          40,
          32,
          24,
          47,
          27,
          48,
          20,
          23,
          49,
          67,
          26,
          49,
          21,
          66,
          54,
          68,
          66,
          65,
          19,
          38,
          19,
          18,
          19,
          63,
          49,
          51,
          50,
          27,
          38,
          40,
          39,
          23,
          31,
          43,
          40,
          59,
          38,
          47,
          39,
          25,
          31,
          20,
          29,
          44,
          32,
          19,
          35,
          57,
          32,
          28,
          32,
          25,
          28,
          48,
          32,
          34,
          34,
          43,
          39,
          44,
          38,
          47,
          27,
          37,
          30,
          34,
          30,
          56,
          29,
          19,
          31,
          50,
          36,
          42,
          33,
          36,
          32,
          40,
          28,
          36,
          36,
          52,
          30,
          58,
          27,
          59,
          35,
          37,
          32,
          46,
          29,
          41,
          30,
          54,
          28,
          41,
          36,
          34,
          32,
          33,
          38,
          47,
          35,
          45,
          32,
          32,
          30
         ],
         "xaxis": "x",
         "y": [
          15,
          15,
          16,
          16,
          17,
          17,
          18,
          18,
          19,
          19,
          19,
          19,
          20,
          20,
          20,
          20,
          21,
          21,
          23,
          23,
          24,
          24,
          25,
          25,
          28,
          28,
          28,
          28,
          29,
          29,
          30,
          30,
          33,
          33,
          33,
          33,
          34,
          34,
          37,
          37,
          38,
          38,
          39,
          39,
          39,
          39,
          40,
          40,
          40,
          40,
          42,
          42,
          43,
          43,
          43,
          43,
          44,
          44,
          46,
          46,
          46,
          46,
          47,
          47,
          48,
          48,
          48,
          48,
          48,
          48,
          49,
          49,
          50,
          50,
          54,
          54,
          54,
          54,
          54,
          54,
          54,
          54,
          54,
          54,
          54,
          54,
          57,
          57,
          58,
          58,
          59,
          59,
          60,
          60,
          60,
          60,
          60,
          60,
          61,
          61,
          62,
          62,
          62,
          62,
          62,
          62,
          63,
          63,
          63,
          63,
          63,
          63,
          64,
          64,
          65,
          65,
          65,
          65,
          67,
          67,
          67,
          67,
          69,
          69,
          70,
          70,
          71,
          71,
          71,
          71,
          71,
          71,
          72,
          72,
          73,
          73,
          73,
          73,
          74,
          74,
          75,
          75,
          76,
          76,
          77,
          77,
          77,
          77,
          78,
          78,
          78,
          78,
          78,
          78,
          78,
          78,
          78,
          78,
          78,
          78,
          79,
          79,
          81,
          81,
          85,
          85,
          86,
          86,
          87,
          87,
          87,
          87,
          87,
          87,
          88,
          88,
          88,
          88,
          93,
          93,
          97,
          97,
          98,
          98,
          99,
          99,
          101,
          101,
          103,
          103,
          103,
          103,
          113,
          113,
          120,
          120,
          126,
          126,
          137,
          137
         ],
         "yaxis": "y"
        }
       ],
       "layout": {
        "legend": {
         "itemsizing": "constant",
         "tracegroupgap": 0
        },
        "margin": {
         "t": 60
        },
        "template": {
         "data": {
          "bar": [
           {
            "error_x": {
             "color": "#2a3f5f"
            },
            "error_y": {
             "color": "#2a3f5f"
            },
            "marker": {
             "line": {
              "color": "#E5ECF6",
              "width": 0.5
             }
            },
            "type": "bar"
           }
          ],
          "barpolar": [
           {
            "marker": {
             "line": {
              "color": "#E5ECF6",
              "width": 0.5
             }
            },
            "type": "barpolar"
           }
          ],
          "carpet": [
           {
            "aaxis": {
             "endlinecolor": "#2a3f5f",
             "gridcolor": "white",
             "linecolor": "white",
             "minorgridcolor": "white",
             "startlinecolor": "#2a3f5f"
            },
            "baxis": {
             "endlinecolor": "#2a3f5f",
             "gridcolor": "white",
             "linecolor": "white",
             "minorgridcolor": "white",
             "startlinecolor": "#2a3f5f"
            },
            "type": "carpet"
           }
          ],
          "choropleth": [
           {
            "colorbar": {
             "outlinewidth": 0,
             "ticks": ""
            },
            "type": "choropleth"
           }
          ],
          "contour": [
           {
            "colorbar": {
             "outlinewidth": 0,
             "ticks": ""
            },
            "colorscale": [
             [
              0,
              "#0d0887"
             ],
             [
              0.1111111111111111,
              "#46039f"
             ],
             [
              0.2222222222222222,
              "#7201a8"
             ],
             [
              0.3333333333333333,
              "#9c179e"
             ],
             [
              0.4444444444444444,
              "#bd3786"
             ],
             [
              0.5555555555555556,
              "#d8576b"
             ],
             [
              0.6666666666666666,
              "#ed7953"
             ],
             [
              0.7777777777777778,
              "#fb9f3a"
             ],
             [
              0.8888888888888888,
              "#fdca26"
             ],
             [
              1,
              "#f0f921"
             ]
            ],
            "type": "contour"
           }
          ],
          "contourcarpet": [
           {
            "colorbar": {
             "outlinewidth": 0,
             "ticks": ""
            },
            "type": "contourcarpet"
           }
          ],
          "heatmap": [
           {
            "colorbar": {
             "outlinewidth": 0,
             "ticks": ""
            },
            "colorscale": [
             [
              0,
              "#0d0887"
             ],
             [
              0.1111111111111111,
              "#46039f"
             ],
             [
              0.2222222222222222,
              "#7201a8"
             ],
             [
              0.3333333333333333,
              "#9c179e"
             ],
             [
              0.4444444444444444,
              "#bd3786"
             ],
             [
              0.5555555555555556,
              "#d8576b"
             ],
             [
              0.6666666666666666,
              "#ed7953"
             ],
             [
              0.7777777777777778,
              "#fb9f3a"
             ],
             [
              0.8888888888888888,
              "#fdca26"
             ],
             [
              1,
              "#f0f921"
             ]
            ],
            "type": "heatmap"
           }
          ],
          "heatmapgl": [
           {
            "colorbar": {
             "outlinewidth": 0,
             "ticks": ""
            },
            "colorscale": [
             [
              0,
              "#0d0887"
             ],
             [
              0.1111111111111111,
              "#46039f"
             ],
             [
              0.2222222222222222,
              "#7201a8"
             ],
             [
              0.3333333333333333,
              "#9c179e"
             ],
             [
              0.4444444444444444,
              "#bd3786"
             ],
             [
              0.5555555555555556,
              "#d8576b"
             ],
             [
              0.6666666666666666,
              "#ed7953"
             ],
             [
              0.7777777777777778,
              "#fb9f3a"
             ],
             [
              0.8888888888888888,
              "#fdca26"
             ],
             [
              1,
              "#f0f921"
             ]
            ],
            "type": "heatmapgl"
           }
          ],
          "histogram": [
           {
            "marker": {
             "colorbar": {
              "outlinewidth": 0,
              "ticks": ""
             }
            },
            "type": "histogram"
           }
          ],
          "histogram2d": [
           {
            "colorbar": {
             "outlinewidth": 0,
             "ticks": ""
            },
            "colorscale": [
             [
              0,
              "#0d0887"
             ],
             [
              0.1111111111111111,
              "#46039f"
             ],
             [
              0.2222222222222222,
              "#7201a8"
             ],
             [
              0.3333333333333333,
              "#9c179e"
             ],
             [
              0.4444444444444444,
              "#bd3786"
             ],
             [
              0.5555555555555556,
              "#d8576b"
             ],
             [
              0.6666666666666666,
              "#ed7953"
             ],
             [
              0.7777777777777778,
              "#fb9f3a"
             ],
             [
              0.8888888888888888,
              "#fdca26"
             ],
             [
              1,
              "#f0f921"
             ]
            ],
            "type": "histogram2d"
           }
          ],
          "histogram2dcontour": [
           {
            "colorbar": {
             "outlinewidth": 0,
             "ticks": ""
            },
            "colorscale": [
             [
              0,
              "#0d0887"
             ],
             [
              0.1111111111111111,
              "#46039f"
             ],
             [
              0.2222222222222222,
              "#7201a8"
             ],
             [
              0.3333333333333333,
              "#9c179e"
             ],
             [
              0.4444444444444444,
              "#bd3786"
             ],
             [
              0.5555555555555556,
              "#d8576b"
             ],
             [
              0.6666666666666666,
              "#ed7953"
             ],
             [
              0.7777777777777778,
              "#fb9f3a"
             ],
             [
              0.8888888888888888,
              "#fdca26"
             ],
             [
              1,
              "#f0f921"
             ]
            ],
            "type": "histogram2dcontour"
           }
          ],
          "mesh3d": [
           {
            "colorbar": {
             "outlinewidth": 0,
             "ticks": ""
            },
            "type": "mesh3d"
           }
          ],
          "parcoords": [
           {
            "line": {
             "colorbar": {
              "outlinewidth": 0,
              "ticks": ""
             }
            },
            "type": "parcoords"
           }
          ],
          "pie": [
           {
            "automargin": true,
            "type": "pie"
           }
          ],
          "scatter": [
           {
            "marker": {
             "colorbar": {
              "outlinewidth": 0,
              "ticks": ""
             }
            },
            "type": "scatter"
           }
          ],
          "scatter3d": [
           {
            "line": {
             "colorbar": {
              "outlinewidth": 0,
              "ticks": ""
             }
            },
            "marker": {
             "colorbar": {
              "outlinewidth": 0,
              "ticks": ""
             }
            },
            "type": "scatter3d"
           }
          ],
          "scattercarpet": [
           {
            "marker": {
             "colorbar": {
              "outlinewidth": 0,
              "ticks": ""
             }
            },
            "type": "scattercarpet"
           }
          ],
          "scattergeo": [
           {
            "marker": {
             "colorbar": {
              "outlinewidth": 0,
              "ticks": ""
             }
            },
            "type": "scattergeo"
           }
          ],
          "scattergl": [
           {
            "marker": {
             "colorbar": {
              "outlinewidth": 0,
              "ticks": ""
             }
            },
            "type": "scattergl"
           }
          ],
          "scattermapbox": [
           {
            "marker": {
             "colorbar": {
              "outlinewidth": 0,
              "ticks": ""
             }
            },
            "type": "scattermapbox"
           }
          ],
          "scatterpolar": [
           {
            "marker": {
             "colorbar": {
              "outlinewidth": 0,
              "ticks": ""
             }
            },
            "type": "scatterpolar"
           }
          ],
          "scatterpolargl": [
           {
            "marker": {
             "colorbar": {
              "outlinewidth": 0,
              "ticks": ""
             }
            },
            "type": "scatterpolargl"
           }
          ],
          "scatterternary": [
           {
            "marker": {
             "colorbar": {
              "outlinewidth": 0,
              "ticks": ""
             }
            },
            "type": "scatterternary"
           }
          ],
          "surface": [
           {
            "colorbar": {
             "outlinewidth": 0,
             "ticks": ""
            },
            "colorscale": [
             [
              0,
              "#0d0887"
             ],
             [
              0.1111111111111111,
              "#46039f"
             ],
             [
              0.2222222222222222,
              "#7201a8"
             ],
             [
              0.3333333333333333,
              "#9c179e"
             ],
             [
              0.4444444444444444,
              "#bd3786"
             ],
             [
              0.5555555555555556,
              "#d8576b"
             ],
             [
              0.6666666666666666,
              "#ed7953"
             ],
             [
              0.7777777777777778,
              "#fb9f3a"
             ],
             [
              0.8888888888888888,
              "#fdca26"
             ],
             [
              1,
              "#f0f921"
             ]
            ],
            "type": "surface"
           }
          ],
          "table": [
           {
            "cells": {
             "fill": {
              "color": "#EBF0F8"
             },
             "line": {
              "color": "white"
             }
            },
            "header": {
             "fill": {
              "color": "#C8D4E3"
             },
             "line": {
              "color": "white"
             }
            },
            "type": "table"
           }
          ]
         },
         "layout": {
          "annotationdefaults": {
           "arrowcolor": "#2a3f5f",
           "arrowhead": 0,
           "arrowwidth": 1
          },
          "autotypenumbers": "strict",
          "coloraxis": {
           "colorbar": {
            "outlinewidth": 0,
            "ticks": ""
           }
          },
          "colorscale": {
           "diverging": [
            [
             0,
             "#8e0152"
            ],
            [
             0.1,
             "#c51b7d"
            ],
            [
             0.2,
             "#de77ae"
            ],
            [
             0.3,
             "#f1b6da"
            ],
            [
             0.4,
             "#fde0ef"
            ],
            [
             0.5,
             "#f7f7f7"
            ],
            [
             0.6,
             "#e6f5d0"
            ],
            [
             0.7,
             "#b8e186"
            ],
            [
             0.8,
             "#7fbc41"
            ],
            [
             0.9,
             "#4d9221"
            ],
            [
             1,
             "#276419"
            ]
           ],
           "sequential": [
            [
             0,
             "#0d0887"
            ],
            [
             0.1111111111111111,
             "#46039f"
            ],
            [
             0.2222222222222222,
             "#7201a8"
            ],
            [
             0.3333333333333333,
             "#9c179e"
            ],
            [
             0.4444444444444444,
             "#bd3786"
            ],
            [
             0.5555555555555556,
             "#d8576b"
            ],
            [
             0.6666666666666666,
             "#ed7953"
            ],
            [
             0.7777777777777778,
             "#fb9f3a"
            ],
            [
             0.8888888888888888,
             "#fdca26"
            ],
            [
             1,
             "#f0f921"
            ]
           ],
           "sequentialminus": [
            [
             0,
             "#0d0887"
            ],
            [
             0.1111111111111111,
             "#46039f"
            ],
            [
             0.2222222222222222,
             "#7201a8"
            ],
            [
             0.3333333333333333,
             "#9c179e"
            ],
            [
             0.4444444444444444,
             "#bd3786"
            ],
            [
             0.5555555555555556,
             "#d8576b"
            ],
            [
             0.6666666666666666,
             "#ed7953"
            ],
            [
             0.7777777777777778,
             "#fb9f3a"
            ],
            [
             0.8888888888888888,
             "#fdca26"
            ],
            [
             1,
             "#f0f921"
            ]
           ]
          },
          "colorway": [
           "#636efa",
           "#EF553B",
           "#00cc96",
           "#ab63fa",
           "#FFA15A",
           "#19d3f3",
           "#FF6692",
           "#B6E880",
           "#FF97FF",
           "#FECB52"
          ],
          "font": {
           "color": "#2a3f5f"
          },
          "geo": {
           "bgcolor": "white",
           "lakecolor": "white",
           "landcolor": "#E5ECF6",
           "showlakes": true,
           "showland": true,
           "subunitcolor": "white"
          },
          "hoverlabel": {
           "align": "left"
          },
          "hovermode": "closest",
          "mapbox": {
           "style": "light"
          },
          "paper_bgcolor": "white",
          "plot_bgcolor": "#E5ECF6",
          "polar": {
           "angularaxis": {
            "gridcolor": "white",
            "linecolor": "white",
            "ticks": ""
           },
           "bgcolor": "#E5ECF6",
           "radialaxis": {
            "gridcolor": "white",
            "linecolor": "white",
            "ticks": ""
           }
          },
          "scene": {
           "xaxis": {
            "backgroundcolor": "#E5ECF6",
            "gridcolor": "white",
            "gridwidth": 2,
            "linecolor": "white",
            "showbackground": true,
            "ticks": "",
            "zerolinecolor": "white"
           },
           "yaxis": {
            "backgroundcolor": "#E5ECF6",
            "gridcolor": "white",
            "gridwidth": 2,
            "linecolor": "white",
            "showbackground": true,
            "ticks": "",
            "zerolinecolor": "white"
           },
           "zaxis": {
            "backgroundcolor": "#E5ECF6",
            "gridcolor": "white",
            "gridwidth": 2,
            "linecolor": "white",
            "showbackground": true,
            "ticks": "",
            "zerolinecolor": "white"
           }
          },
          "shapedefaults": {
           "line": {
            "color": "#2a3f5f"
           }
          },
          "ternary": {
           "aaxis": {
            "gridcolor": "white",
            "linecolor": "white",
            "ticks": ""
           },
           "baxis": {
            "gridcolor": "white",
            "linecolor": "white",
            "ticks": ""
           },
           "bgcolor": "#E5ECF6",
           "caxis": {
            "gridcolor": "white",
            "linecolor": "white",
            "ticks": ""
           }
          },
          "title": {
           "x": 0.05
          },
          "xaxis": {
           "automargin": true,
           "gridcolor": "white",
           "linecolor": "white",
           "ticks": "",
           "title": {
            "standoff": 15
           },
           "zerolinecolor": "white",
           "zerolinewidth": 2
          },
          "yaxis": {
           "automargin": true,
           "gridcolor": "white",
           "linecolor": "white",
           "ticks": "",
           "title": {
            "standoff": 15
           },
           "zerolinecolor": "white",
           "zerolinewidth": 2
          }
         }
        },
        "title": {
         "text": "3 Features Representation"
        },
        "xaxis": {
         "anchor": "y",
         "domain": [
          0,
          1
         ],
         "title": {
          "text": "Age"
         }
        },
        "yaxis": {
         "anchor": "x",
         "domain": [
          0,
          1
         ],
         "title": {
          "text": "Annual Income (k$)"
         }
        }
       }
      }
     },
     "metadata": {},
     "output_type": "display_data"
    }
   ],
   "source": [
    "fig1 = px.scatter(df, x='Age', y='Annual Income (k$)', size='Spending Score (1-100)')\n",
    "fig1.update_layout(title=\"3 Features Representation\")\n",
    "fig1.show()"
   ]
  },
  {
   "cell_type": "markdown",
   "metadata": {},
   "source": [
    "## From here we can see that the larger circles are on the left of the chart, indicating that our customers who are young adults have higher spending score. Spending score seems to be evenly distributed across the range of annual income, showinng no strong correlation."
   ]
  },
  {
   "cell_type": "code",
   "execution_count": 13,
   "metadata": {},
   "outputs": [
    {
     "data": {
      "text/html": [
       "<div>\n",
       "<style scoped>\n",
       "    .dataframe tbody tr th:only-of-type {\n",
       "        vertical-align: middle;\n",
       "    }\n",
       "\n",
       "    .dataframe tbody tr th {\n",
       "        vertical-align: top;\n",
       "    }\n",
       "\n",
       "    .dataframe thead th {\n",
       "        text-align: right;\n",
       "    }\n",
       "</style>\n",
       "<table border=\"1\" class=\"dataframe\">\n",
       "  <thead>\n",
       "    <tr style=\"text-align: right;\">\n",
       "      <th></th>\n",
       "      <th>Age</th>\n",
       "      <th>Annual Income</th>\n",
       "      <th>Spending Score</th>\n",
       "    </tr>\n",
       "  </thead>\n",
       "  <tbody>\n",
       "    <tr>\n",
       "      <th>0</th>\n",
       "      <td>-1.424569</td>\n",
       "      <td>-1.738999</td>\n",
       "      <td>-0.434801</td>\n",
       "    </tr>\n",
       "    <tr>\n",
       "      <th>1</th>\n",
       "      <td>-1.281035</td>\n",
       "      <td>-1.738999</td>\n",
       "      <td>1.195704</td>\n",
       "    </tr>\n",
       "    <tr>\n",
       "      <th>2</th>\n",
       "      <td>-1.352802</td>\n",
       "      <td>-1.700830</td>\n",
       "      <td>-1.715913</td>\n",
       "    </tr>\n",
       "    <tr>\n",
       "      <th>3</th>\n",
       "      <td>-1.137502</td>\n",
       "      <td>-1.700830</td>\n",
       "      <td>1.040418</td>\n",
       "    </tr>\n",
       "    <tr>\n",
       "      <th>4</th>\n",
       "      <td>-0.563369</td>\n",
       "      <td>-1.662660</td>\n",
       "      <td>-0.395980</td>\n",
       "    </tr>\n",
       "  </tbody>\n",
       "</table>\n",
       "</div>"
      ],
      "text/plain": [
       "        Age  Annual Income  Spending Score\n",
       "0 -1.424569      -1.738999       -0.434801\n",
       "1 -1.281035      -1.738999        1.195704\n",
       "2 -1.352802      -1.700830       -1.715913\n",
       "3 -1.137502      -1.700830        1.040418\n",
       "4 -0.563369      -1.662660       -0.395980"
      ]
     },
     "execution_count": 13,
     "metadata": {},
     "output_type": "execute_result"
    }
   ],
   "source": [
    "# standardizing the data\n",
    "scaler = StandardScaler()\n",
    "data_scaled = scaler.fit_transform(df)\n",
    "df_scaled = pd.DataFrame(data_scaled, columns=['Age', 'Annual Income', 'Spending Score'])\n",
    "df_scaled.head()\n"
   ]
  },
  {
   "cell_type": "code",
   "execution_count": 14,
   "metadata": {},
   "outputs": [
    {
     "data": {
      "text/plain": [
       "Text(0.5, 1.0, 'Elbow Method')"
      ]
     },
     "execution_count": 14,
     "metadata": {},
     "output_type": "execute_result"
    },
    {
     "data": {
      "image/png": "[encoded data removed]",
      "image/svg+xml": "<?xml version=\"1.0\" encoding=\"utf-8\" standalone=\"no\"?>\r\n<!DOCTYPE svg PUBLIC \"-//W3C//DTD SVG 1.1//EN\"\r\n  \"http://www.w3.org/Graphics/SVG/1.1/DTD/svg11.dtd\">\r\n<!-- Created with matplotlib (https://matplotlib.org/) -->\r\n<svg height=\"386.034375pt\" version=\"1.1\" viewBox=\"0 0 723.765625 386.034375\" width=\"723.765625pt\" xmlns=\"http://www.w3.org/2000/svg\" xmlns:xlink=\"http://www.w3.org/1999/xlink\">\r\n <metadata>\r\n  <rdf:RDF xmlns:cc=\"http://creativecommons.org/ns#\" xmlns:dc=\"http://purl.org/dc/elements/1.1/\" xmlns:rdf=\"http://www.w3.org/1999/02/22-rdf-syntax-ns#\">\r\n   <cc:Work>\r\n    <dc:type rdf:resource=\"http://purl.org/dc/dcmitype/StillImage\"/>\r\n    <dc:date>2021-08-13T21:13:27.169802</dc:date>\r\n    <dc:format>image/svg+xml</dc:format>\r\n    <dc:creator>\r\n     <cc:Agent>\r\n      <dc:title>Matplotlib v3.3.3, https://matplotlib.org/</dc:title>\r\n     </cc:Agent>\r\n    </dc:creator>\r\n   </cc:Work>\r\n  </rdf:RDF>\r\n </metadata>\r\n <defs>\r\n  <style type=\"text/css\">*{stroke-linecap:butt;stroke-linejoin:round;}</style>\r\n </defs>\r\n <g id=\"figure_1\">\r\n  <g id=\"patch_1\">\r\n   <path d=\"M 0 386.034375 \r\nL 723.765625 386.034375 \r\nL 723.765625 0 \r\nL 0 0 \r\nz\r\n\" style=\"fill:none;\"/>\r\n  </g>\r\n  <g id=\"axes_1\">\r\n   <g id=\"patch_2\">\r\n    <path d=\"M 46.965625 348.478125 \r\nL 716.565625 348.478125 \r\nL 716.565625 22.318125 \r\nL 46.965625 22.318125 \r\nz\r\n\" style=\"fill:#ffffff;\"/>\r\n   </g>\r\n   <g id=\"matplotlib.axis_1\">\r\n    <g id=\"xtick_1\">\r\n     <g id=\"line2d_1\">\r\n      <defs>\r\n       <path d=\"M 0 0 \r\nL 0 3.5 \r\n\" id=\"m9400b7dfdb\" style=\"stroke:#000000;stroke-width:0.8;\"/>\r\n      </defs>\r\n      <g>\r\n       <use style=\"stroke:#000000;stroke-width:0.8;\" x=\"145.038352\" xlink:href=\"#m9400b7dfdb\" y=\"348.478125\"/>\r\n      </g>\r\n     </g>\r\n     <g id=\"text_1\">\r\n      <!-- 2 -->\r\n      <g transform=\"translate(141.857102 363.076562)scale(0.1 -0.1)\">\r\n       <defs>\r\n        <path d=\"M 19.1875 8.296875 \r\nL 53.609375 8.296875 \r\nL 53.609375 0 \r\nL 7.328125 0 \r\nL 7.328125 8.296875 \r\nQ 12.9375 14.109375 22.625 23.890625 \r\nQ 32.328125 33.6875 34.8125 36.53125 \r\nQ 39.546875 41.84375 41.421875 45.53125 \r\nQ 43.3125 49.21875 43.3125 52.78125 \r\nQ 43.3125 58.59375 39.234375 62.25 \r\nQ 35.15625 65.921875 28.609375 65.921875 \r\nQ 23.96875 65.921875 18.8125 64.3125 \r\nQ 13.671875 62.703125 7.8125 59.421875 \r\nL 7.8125 69.390625 \r\nQ 13.765625 71.78125 18.9375 73 \r\nQ 24.125 74.21875 28.421875 74.21875 \r\nQ 39.75 74.21875 46.484375 68.546875 \r\nQ 53.21875 62.890625 53.21875 53.421875 \r\nQ 53.21875 48.921875 51.53125 44.890625 \r\nQ 49.859375 40.875 45.40625 35.40625 \r\nQ 44.1875 33.984375 37.640625 27.21875 \r\nQ 31.109375 20.453125 19.1875 8.296875 \r\nz\r\n\" id=\"DejaVuSans-50\"/>\r\n       </defs>\r\n       <use xlink:href=\"#DejaVuSans-50\"/>\r\n      </g>\r\n     </g>\r\n    </g>\r\n    <g id=\"xtick_2\">\r\n     <g id=\"line2d_2\">\r\n      <g>\r\n       <use style=\"stroke:#000000;stroke-width:0.8;\" x=\"280.31108\" xlink:href=\"#m9400b7dfdb\" y=\"348.478125\"/>\r\n      </g>\r\n     </g>\r\n     <g id=\"text_2\">\r\n      <!-- 4 -->\r\n      <g transform=\"translate(277.12983 363.076562)scale(0.1 -0.1)\">\r\n       <defs>\r\n        <path d=\"M 37.796875 64.3125 \r\nL 12.890625 25.390625 \r\nL 37.796875 25.390625 \r\nz\r\nM 35.203125 72.90625 \r\nL 47.609375 72.90625 \r\nL 47.609375 25.390625 \r\nL 58.015625 25.390625 \r\nL 58.015625 17.1875 \r\nL 47.609375 17.1875 \r\nL 47.609375 0 \r\nL 37.796875 0 \r\nL 37.796875 17.1875 \r\nL 4.890625 17.1875 \r\nL 4.890625 26.703125 \r\nz\r\n\" id=\"DejaVuSans-52\"/>\r\n       </defs>\r\n       <use xlink:href=\"#DejaVuSans-52\"/>\r\n      </g>\r\n     </g>\r\n    </g>\r\n    <g id=\"xtick_3\">\r\n     <g id=\"line2d_3\">\r\n      <g>\r\n       <use style=\"stroke:#000000;stroke-width:0.8;\" x=\"415.583807\" xlink:href=\"#m9400b7dfdb\" y=\"348.478125\"/>\r\n      </g>\r\n     </g>\r\n     <g id=\"text_3\">\r\n      <!-- 6 -->\r\n      <g transform=\"translate(412.402557 363.076562)scale(0.1 -0.1)\">\r\n       <defs>\r\n        <path d=\"M 33.015625 40.375 \r\nQ 26.375 40.375 22.484375 35.828125 \r\nQ 18.609375 31.296875 18.609375 23.390625 \r\nQ 18.609375 15.53125 22.484375 10.953125 \r\nQ 26.375 6.390625 33.015625 6.390625 \r\nQ 39.65625 6.390625 43.53125 10.953125 \r\nQ 47.40625 15.53125 47.40625 23.390625 \r\nQ 47.40625 31.296875 43.53125 35.828125 \r\nQ 39.65625 40.375 33.015625 40.375 \r\nz\r\nM 52.59375 71.296875 \r\nL 52.59375 62.3125 \r\nQ 48.875 64.0625 45.09375 64.984375 \r\nQ 41.3125 65.921875 37.59375 65.921875 \r\nQ 27.828125 65.921875 22.671875 59.328125 \r\nQ 17.53125 52.734375 16.796875 39.40625 \r\nQ 19.671875 43.65625 24.015625 45.921875 \r\nQ 28.375 48.1875 33.59375 48.1875 \r\nQ 44.578125 48.1875 50.953125 41.515625 \r\nQ 57.328125 34.859375 57.328125 23.390625 \r\nQ 57.328125 12.15625 50.6875 5.359375 \r\nQ 44.046875 -1.421875 33.015625 -1.421875 \r\nQ 20.359375 -1.421875 13.671875 8.265625 \r\nQ 6.984375 17.96875 6.984375 36.375 \r\nQ 6.984375 53.65625 15.1875 63.9375 \r\nQ 23.390625 74.21875 37.203125 74.21875 \r\nQ 40.921875 74.21875 44.703125 73.484375 \r\nQ 48.484375 72.75 52.59375 71.296875 \r\nz\r\n\" id=\"DejaVuSans-54\"/>\r\n       </defs>\r\n       <use xlink:href=\"#DejaVuSans-54\"/>\r\n      </g>\r\n     </g>\r\n    </g>\r\n    <g id=\"xtick_4\">\r\n     <g id=\"line2d_4\">\r\n      <g>\r\n       <use style=\"stroke:#000000;stroke-width:0.8;\" x=\"550.856534\" xlink:href=\"#m9400b7dfdb\" y=\"348.478125\"/>\r\n      </g>\r\n     </g>\r\n     <g id=\"text_4\">\r\n      <!-- 8 -->\r\n      <g transform=\"translate(547.675284 363.076562)scale(0.1 -0.1)\">\r\n       <defs>\r\n        <path d=\"M 31.78125 34.625 \r\nQ 24.75 34.625 20.71875 30.859375 \r\nQ 16.703125 27.09375 16.703125 20.515625 \r\nQ 16.703125 13.921875 20.71875 10.15625 \r\nQ 24.75 6.390625 31.78125 6.390625 \r\nQ 38.8125 6.390625 42.859375 10.171875 \r\nQ 46.921875 13.96875 46.921875 20.515625 \r\nQ 46.921875 27.09375 42.890625 30.859375 \r\nQ 38.875 34.625 31.78125 34.625 \r\nz\r\nM 21.921875 38.8125 \r\nQ 15.578125 40.375 12.03125 44.71875 \r\nQ 8.5 49.078125 8.5 55.328125 \r\nQ 8.5 64.0625 14.71875 69.140625 \r\nQ 20.953125 74.21875 31.78125 74.21875 \r\nQ 42.671875 74.21875 48.875 69.140625 \r\nQ 55.078125 64.0625 55.078125 55.328125 \r\nQ 55.078125 49.078125 51.53125 44.71875 \r\nQ 48 40.375 41.703125 38.8125 \r\nQ 48.828125 37.15625 52.796875 32.3125 \r\nQ 56.78125 27.484375 56.78125 20.515625 \r\nQ 56.78125 9.90625 50.3125 4.234375 \r\nQ 43.84375 -1.421875 31.78125 -1.421875 \r\nQ 19.734375 -1.421875 13.25 4.234375 \r\nQ 6.78125 9.90625 6.78125 20.515625 \r\nQ 6.78125 27.484375 10.78125 32.3125 \r\nQ 14.796875 37.15625 21.921875 38.8125 \r\nz\r\nM 18.3125 54.390625 \r\nQ 18.3125 48.734375 21.84375 45.5625 \r\nQ 25.390625 42.390625 31.78125 42.390625 \r\nQ 38.140625 42.390625 41.71875 45.5625 \r\nQ 45.3125 48.734375 45.3125 54.390625 \r\nQ 45.3125 60.0625 41.71875 63.234375 \r\nQ 38.140625 66.40625 31.78125 66.40625 \r\nQ 25.390625 66.40625 21.84375 63.234375 \r\nQ 18.3125 60.0625 18.3125 54.390625 \r\nz\r\n\" id=\"DejaVuSans-56\"/>\r\n       </defs>\r\n       <use xlink:href=\"#DejaVuSans-56\"/>\r\n      </g>\r\n     </g>\r\n    </g>\r\n    <g id=\"xtick_5\">\r\n     <g id=\"line2d_5\">\r\n      <g>\r\n       <use style=\"stroke:#000000;stroke-width:0.8;\" x=\"686.129261\" xlink:href=\"#m9400b7dfdb\" y=\"348.478125\"/>\r\n      </g>\r\n     </g>\r\n     <g id=\"text_5\">\r\n      <!-- 10 -->\r\n      <g transform=\"translate(679.766761 363.076562)scale(0.1 -0.1)\">\r\n       <defs>\r\n        <path d=\"M 12.40625 8.296875 \r\nL 28.515625 8.296875 \r\nL 28.515625 63.921875 \r\nL 10.984375 60.40625 \r\nL 10.984375 69.390625 \r\nL 28.421875 72.90625 \r\nL 38.28125 72.90625 \r\nL 38.28125 8.296875 \r\nL 54.390625 8.296875 \r\nL 54.390625 0 \r\nL 12.40625 0 \r\nz\r\n\" id=\"DejaVuSans-49\"/>\r\n        <path d=\"M 31.78125 66.40625 \r\nQ 24.171875 66.40625 20.328125 58.90625 \r\nQ 16.5 51.421875 16.5 36.375 \r\nQ 16.5 21.390625 20.328125 13.890625 \r\nQ 24.171875 6.390625 31.78125 6.390625 \r\nQ 39.453125 6.390625 43.28125 13.890625 \r\nQ 47.125 21.390625 47.125 36.375 \r\nQ 47.125 51.421875 43.28125 58.90625 \r\nQ 39.453125 66.40625 31.78125 66.40625 \r\nz\r\nM 31.78125 74.21875 \r\nQ 44.046875 74.21875 50.515625 64.515625 \r\nQ 56.984375 54.828125 56.984375 36.375 \r\nQ 56.984375 17.96875 50.515625 8.265625 \r\nQ 44.046875 -1.421875 31.78125 -1.421875 \r\nQ 19.53125 -1.421875 13.0625 8.265625 \r\nQ 6.59375 17.96875 6.59375 36.375 \r\nQ 6.59375 54.828125 13.0625 64.515625 \r\nQ 19.53125 74.21875 31.78125 74.21875 \r\nz\r\n\" id=\"DejaVuSans-48\"/>\r\n       </defs>\r\n       <use xlink:href=\"#DejaVuSans-49\"/>\r\n       <use x=\"63.623047\" xlink:href=\"#DejaVuSans-48\"/>\r\n      </g>\r\n     </g>\r\n    </g>\r\n    <g id=\"text_6\">\r\n     <!-- Number of clusters -->\r\n     <g transform=\"translate(334.073438 376.754687)scale(0.1 -0.1)\">\r\n      <defs>\r\n       <path d=\"M 9.8125 72.90625 \r\nL 23.09375 72.90625 \r\nL 55.421875 11.921875 \r\nL 55.421875 72.90625 \r\nL 64.984375 72.90625 \r\nL 64.984375 0 \r\nL 51.703125 0 \r\nL 19.390625 60.984375 \r\nL 19.390625 0 \r\nL 9.8125 0 \r\nz\r\n\" id=\"DejaVuSans-78\"/>\r\n       <path d=\"M 8.5 21.578125 \r\nL 8.5 54.6875 \r\nL 17.484375 54.6875 \r\nL 17.484375 21.921875 \r\nQ 17.484375 14.15625 20.5 10.265625 \r\nQ 23.53125 6.390625 29.59375 6.390625 \r\nQ 36.859375 6.390625 41.078125 11.03125 \r\nQ 45.3125 15.671875 45.3125 23.6875 \r\nL 45.3125 54.6875 \r\nL 54.296875 54.6875 \r\nL 54.296875 0 \r\nL 45.3125 0 \r\nL 45.3125 8.40625 \r\nQ 42.046875 3.421875 37.71875 1 \r\nQ 33.40625 -1.421875 27.6875 -1.421875 \r\nQ 18.265625 -1.421875 13.375 4.4375 \r\nQ 8.5 10.296875 8.5 21.578125 \r\nz\r\nM 31.109375 56 \r\nz\r\n\" id=\"DejaVuSans-117\"/>\r\n       <path d=\"M 52 44.1875 \r\nQ 55.375 50.25 60.0625 53.125 \r\nQ 64.75 56 71.09375 56 \r\nQ 79.640625 56 84.28125 50.015625 \r\nQ 88.921875 44.046875 88.921875 33.015625 \r\nL 88.921875 0 \r\nL 79.890625 0 \r\nL 79.890625 32.71875 \r\nQ 79.890625 40.578125 77.09375 44.375 \r\nQ 74.3125 48.1875 68.609375 48.1875 \r\nQ 61.625 48.1875 57.5625 43.546875 \r\nQ 53.515625 38.921875 53.515625 30.90625 \r\nL 53.515625 0 \r\nL 44.484375 0 \r\nL 44.484375 32.71875 \r\nQ 44.484375 40.625 41.703125 44.40625 \r\nQ 38.921875 48.1875 33.109375 48.1875 \r\nQ 26.21875 48.1875 22.15625 43.53125 \r\nQ 18.109375 38.875 18.109375 30.90625 \r\nL 18.109375 0 \r\nL 9.078125 0 \r\nL 9.078125 54.6875 \r\nL 18.109375 54.6875 \r\nL 18.109375 46.1875 \r\nQ 21.1875 51.21875 25.484375 53.609375 \r\nQ 29.78125 56 35.6875 56 \r\nQ 41.65625 56 45.828125 52.96875 \r\nQ 50 49.953125 52 44.1875 \r\nz\r\n\" id=\"DejaVuSans-109\"/>\r\n       <path d=\"M 48.6875 27.296875 \r\nQ 48.6875 37.203125 44.609375 42.84375 \r\nQ 40.53125 48.484375 33.40625 48.484375 \r\nQ 26.265625 48.484375 22.1875 42.84375 \r\nQ 18.109375 37.203125 18.109375 27.296875 \r\nQ 18.109375 17.390625 22.1875 11.75 \r\nQ 26.265625 6.109375 33.40625 6.109375 \r\nQ 40.53125 6.109375 44.609375 11.75 \r\nQ 48.6875 17.390625 48.6875 27.296875 \r\nz\r\nM 18.109375 46.390625 \r\nQ 20.953125 51.265625 25.265625 53.625 \r\nQ 29.59375 56 35.59375 56 \r\nQ 45.5625 56 51.78125 48.09375 \r\nQ 58.015625 40.1875 58.015625 27.296875 \r\nQ 58.015625 14.40625 51.78125 6.484375 \r\nQ 45.5625 -1.421875 35.59375 -1.421875 \r\nQ 29.59375 -1.421875 25.265625 0.953125 \r\nQ 20.953125 3.328125 18.109375 8.203125 \r\nL 18.109375 0 \r\nL 9.078125 0 \r\nL 9.078125 75.984375 \r\nL 18.109375 75.984375 \r\nz\r\n\" id=\"DejaVuSans-98\"/>\r\n       <path d=\"M 56.203125 29.59375 \r\nL 56.203125 25.203125 \r\nL 14.890625 25.203125 \r\nQ 15.484375 15.921875 20.484375 11.0625 \r\nQ 25.484375 6.203125 34.421875 6.203125 \r\nQ 39.59375 6.203125 44.453125 7.46875 \r\nQ 49.3125 8.734375 54.109375 11.28125 \r\nL 54.109375 2.78125 \r\nQ 49.265625 0.734375 44.1875 -0.34375 \r\nQ 39.109375 -1.421875 33.890625 -1.421875 \r\nQ 20.796875 -1.421875 13.15625 6.1875 \r\nQ 5.515625 13.8125 5.515625 26.8125 \r\nQ 5.515625 40.234375 12.765625 48.109375 \r\nQ 20.015625 56 32.328125 56 \r\nQ 43.359375 56 49.78125 48.890625 \r\nQ 56.203125 41.796875 56.203125 29.59375 \r\nz\r\nM 47.21875 32.234375 \r\nQ 47.125 39.59375 43.09375 43.984375 \r\nQ 39.0625 48.390625 32.421875 48.390625 \r\nQ 24.90625 48.390625 20.390625 44.140625 \r\nQ 15.875 39.890625 15.1875 32.171875 \r\nz\r\n\" id=\"DejaVuSans-101\"/>\r\n       <path d=\"M 41.109375 46.296875 \r\nQ 39.59375 47.171875 37.8125 47.578125 \r\nQ 36.03125 48 33.890625 48 \r\nQ 26.265625 48 22.1875 43.046875 \r\nQ 18.109375 38.09375 18.109375 28.8125 \r\nL 18.109375 0 \r\nL 9.078125 0 \r\nL 9.078125 54.6875 \r\nL 18.109375 54.6875 \r\nL 18.109375 46.1875 \r\nQ 20.953125 51.171875 25.484375 53.578125 \r\nQ 30.03125 56 36.53125 56 \r\nQ 37.453125 56 38.578125 55.875 \r\nQ 39.703125 55.765625 41.0625 55.515625 \r\nz\r\n\" id=\"DejaVuSans-114\"/>\r\n       <path id=\"DejaVuSans-32\"/>\r\n       <path d=\"M 30.609375 48.390625 \r\nQ 23.390625 48.390625 19.1875 42.75 \r\nQ 14.984375 37.109375 14.984375 27.296875 \r\nQ 14.984375 17.484375 19.15625 11.84375 \r\nQ 23.34375 6.203125 30.609375 6.203125 \r\nQ 37.796875 6.203125 41.984375 11.859375 \r\nQ 46.1875 17.53125 46.1875 27.296875 \r\nQ 46.1875 37.015625 41.984375 42.703125 \r\nQ 37.796875 48.390625 30.609375 48.390625 \r\nz\r\nM 30.609375 56 \r\nQ 42.328125 56 49.015625 48.375 \r\nQ 55.71875 40.765625 55.71875 27.296875 \r\nQ 55.71875 13.875 49.015625 6.21875 \r\nQ 42.328125 -1.421875 30.609375 -1.421875 \r\nQ 18.84375 -1.421875 12.171875 6.21875 \r\nQ 5.515625 13.875 5.515625 27.296875 \r\nQ 5.515625 40.765625 12.171875 48.375 \r\nQ 18.84375 56 30.609375 56 \r\nz\r\n\" id=\"DejaVuSans-111\"/>\r\n       <path d=\"M 37.109375 75.984375 \r\nL 37.109375 68.5 \r\nL 28.515625 68.5 \r\nQ 23.6875 68.5 21.796875 66.546875 \r\nQ 19.921875 64.59375 19.921875 59.515625 \r\nL 19.921875 54.6875 \r\nL 34.71875 54.6875 \r\nL 34.71875 47.703125 \r\nL 19.921875 47.703125 \r\nL 19.921875 0 \r\nL 10.890625 0 \r\nL 10.890625 47.703125 \r\nL 2.296875 47.703125 \r\nL 2.296875 54.6875 \r\nL 10.890625 54.6875 \r\nL 10.890625 58.5 \r\nQ 10.890625 67.625 15.140625 71.796875 \r\nQ 19.390625 75.984375 28.609375 75.984375 \r\nz\r\n\" id=\"DejaVuSans-102\"/>\r\n       <path d=\"M 48.78125 52.59375 \r\nL 48.78125 44.1875 \r\nQ 44.96875 46.296875 41.140625 47.34375 \r\nQ 37.3125 48.390625 33.40625 48.390625 \r\nQ 24.65625 48.390625 19.8125 42.84375 \r\nQ 14.984375 37.3125 14.984375 27.296875 \r\nQ 14.984375 17.28125 19.8125 11.734375 \r\nQ 24.65625 6.203125 33.40625 6.203125 \r\nQ 37.3125 6.203125 41.140625 7.25 \r\nQ 44.96875 8.296875 48.78125 10.40625 \r\nL 48.78125 2.09375 \r\nQ 45.015625 0.34375 40.984375 -0.53125 \r\nQ 36.96875 -1.421875 32.421875 -1.421875 \r\nQ 20.0625 -1.421875 12.78125 6.34375 \r\nQ 5.515625 14.109375 5.515625 27.296875 \r\nQ 5.515625 40.671875 12.859375 48.328125 \r\nQ 20.21875 56 33.015625 56 \r\nQ 37.15625 56 41.109375 55.140625 \r\nQ 45.0625 54.296875 48.78125 52.59375 \r\nz\r\n\" id=\"DejaVuSans-99\"/>\r\n       <path d=\"M 9.421875 75.984375 \r\nL 18.40625 75.984375 \r\nL 18.40625 0 \r\nL 9.421875 0 \r\nz\r\n\" id=\"DejaVuSans-108\"/>\r\n       <path d=\"M 44.28125 53.078125 \r\nL 44.28125 44.578125 \r\nQ 40.484375 46.53125 36.375 47.5 \r\nQ 32.28125 48.484375 27.875 48.484375 \r\nQ 21.1875 48.484375 17.84375 46.4375 \r\nQ 14.5 44.390625 14.5 40.28125 \r\nQ 14.5 37.15625 16.890625 35.375 \r\nQ 19.28125 33.59375 26.515625 31.984375 \r\nL 29.59375 31.296875 \r\nQ 39.15625 29.25 43.1875 25.515625 \r\nQ 47.21875 21.78125 47.21875 15.09375 \r\nQ 47.21875 7.46875 41.1875 3.015625 \r\nQ 35.15625 -1.421875 24.609375 -1.421875 \r\nQ 20.21875 -1.421875 15.453125 -0.5625 \r\nQ 10.6875 0.296875 5.421875 2 \r\nL 5.421875 11.28125 \r\nQ 10.40625 8.6875 15.234375 7.390625 \r\nQ 20.0625 6.109375 24.8125 6.109375 \r\nQ 31.15625 6.109375 34.5625 8.28125 \r\nQ 37.984375 10.453125 37.984375 14.40625 \r\nQ 37.984375 18.0625 35.515625 20.015625 \r\nQ 33.0625 21.96875 24.703125 23.78125 \r\nL 21.578125 24.515625 \r\nQ 13.234375 26.265625 9.515625 29.90625 \r\nQ 5.8125 33.546875 5.8125 39.890625 \r\nQ 5.8125 47.609375 11.28125 51.796875 \r\nQ 16.75 56 26.8125 56 \r\nQ 31.78125 56 36.171875 55.265625 \r\nQ 40.578125 54.546875 44.28125 53.078125 \r\nz\r\n\" id=\"DejaVuSans-115\"/>\r\n       <path d=\"M 18.3125 70.21875 \r\nL 18.3125 54.6875 \r\nL 36.8125 54.6875 \r\nL 36.8125 47.703125 \r\nL 18.3125 47.703125 \r\nL 18.3125 18.015625 \r\nQ 18.3125 11.328125 20.140625 9.421875 \r\nQ 21.96875 7.515625 27.59375 7.515625 \r\nL 36.8125 7.515625 \r\nL 36.8125 0 \r\nL 27.59375 0 \r\nQ 17.1875 0 13.234375 3.875 \r\nQ 9.28125 7.765625 9.28125 18.015625 \r\nL 9.28125 47.703125 \r\nL 2.6875 47.703125 \r\nL 2.6875 54.6875 \r\nL 9.28125 54.6875 \r\nL 9.28125 70.21875 \r\nz\r\n\" id=\"DejaVuSans-116\"/>\r\n      </defs>\r\n      <use xlink:href=\"#DejaVuSans-78\"/>\r\n      <use x=\"74.804688\" xlink:href=\"#DejaVuSans-117\"/>\r\n      <use x=\"138.183594\" xlink:href=\"#DejaVuSans-109\"/>\r\n      <use x=\"235.595703\" xlink:href=\"#DejaVuSans-98\"/>\r\n      <use x=\"299.072266\" xlink:href=\"#DejaVuSans-101\"/>\r\n      <use x=\"360.595703\" xlink:href=\"#DejaVuSans-114\"/>\r\n      <use x=\"401.708984\" xlink:href=\"#DejaVuSans-32\"/>\r\n      <use x=\"433.496094\" xlink:href=\"#DejaVuSans-111\"/>\r\n      <use x=\"494.677734\" xlink:href=\"#DejaVuSans-102\"/>\r\n      <use x=\"529.882812\" xlink:href=\"#DejaVuSans-32\"/>\r\n      <use x=\"561.669922\" xlink:href=\"#DejaVuSans-99\"/>\r\n      <use x=\"616.650391\" xlink:href=\"#DejaVuSans-108\"/>\r\n      <use x=\"644.433594\" xlink:href=\"#DejaVuSans-117\"/>\r\n      <use x=\"707.8125\" xlink:href=\"#DejaVuSans-115\"/>\r\n      <use x=\"759.912109\" xlink:href=\"#DejaVuSans-116\"/>\r\n      <use x=\"799.121094\" xlink:href=\"#DejaVuSans-101\"/>\r\n      <use x=\"860.644531\" xlink:href=\"#DejaVuSans-114\"/>\r\n      <use x=\"901.757812\" xlink:href=\"#DejaVuSans-115\"/>\r\n     </g>\r\n    </g>\r\n   </g>\r\n   <g id=\"matplotlib.axis_2\">\r\n    <g id=\"ytick_1\">\r\n     <g id=\"line2d_6\">\r\n      <defs>\r\n       <path d=\"M 0 0 \r\nL -3.5 0 \r\n\" id=\"m6128bcefad\" style=\"stroke:#000000;stroke-width:0.8;\"/>\r\n      </defs>\r\n      <g>\r\n       <use style=\"stroke:#000000;stroke-width:0.8;\" x=\"46.965625\" xlink:href=\"#m6128bcefad\" y=\"323.259588\"/>\r\n      </g>\r\n     </g>\r\n     <g id=\"text_7\">\r\n      <!-- 100 -->\r\n      <g transform=\"translate(20.878125 327.058806)scale(0.1 -0.1)\">\r\n       <use xlink:href=\"#DejaVuSans-49\"/>\r\n       <use x=\"63.623047\" xlink:href=\"#DejaVuSans-48\"/>\r\n       <use x=\"127.246094\" xlink:href=\"#DejaVuSans-48\"/>\r\n      </g>\r\n     </g>\r\n    </g>\r\n    <g id=\"ytick_2\">\r\n     <g id=\"line2d_7\">\r\n      <g>\r\n       <use style=\"stroke:#000000;stroke-width:0.8;\" x=\"46.965625\" xlink:href=\"#m6128bcefad\" y=\"266.036386\"/>\r\n      </g>\r\n     </g>\r\n     <g id=\"text_8\">\r\n      <!-- 200 -->\r\n      <g transform=\"translate(20.878125 269.835605)scale(0.1 -0.1)\">\r\n       <use xlink:href=\"#DejaVuSans-50\"/>\r\n       <use x=\"63.623047\" xlink:href=\"#DejaVuSans-48\"/>\r\n       <use x=\"127.246094\" xlink:href=\"#DejaVuSans-48\"/>\r\n      </g>\r\n     </g>\r\n    </g>\r\n    <g id=\"ytick_3\">\r\n     <g id=\"line2d_8\">\r\n      <g>\r\n       <use style=\"stroke:#000000;stroke-width:0.8;\" x=\"46.965625\" xlink:href=\"#m6128bcefad\" y=\"208.813184\"/>\r\n      </g>\r\n     </g>\r\n     <g id=\"text_9\">\r\n      <!-- 300 -->\r\n      <g transform=\"translate(20.878125 212.612403)scale(0.1 -0.1)\">\r\n       <defs>\r\n        <path d=\"M 40.578125 39.3125 \r\nQ 47.65625 37.796875 51.625 33 \r\nQ 55.609375 28.21875 55.609375 21.1875 \r\nQ 55.609375 10.40625 48.1875 4.484375 \r\nQ 40.765625 -1.421875 27.09375 -1.421875 \r\nQ 22.515625 -1.421875 17.65625 -0.515625 \r\nQ 12.796875 0.390625 7.625 2.203125 \r\nL 7.625 11.71875 \r\nQ 11.71875 9.328125 16.59375 8.109375 \r\nQ 21.484375 6.890625 26.8125 6.890625 \r\nQ 36.078125 6.890625 40.9375 10.546875 \r\nQ 45.796875 14.203125 45.796875 21.1875 \r\nQ 45.796875 27.640625 41.28125 31.265625 \r\nQ 36.765625 34.90625 28.71875 34.90625 \r\nL 20.21875 34.90625 \r\nL 20.21875 43.015625 \r\nL 29.109375 43.015625 \r\nQ 36.375 43.015625 40.234375 45.921875 \r\nQ 44.09375 48.828125 44.09375 54.296875 \r\nQ 44.09375 59.90625 40.109375 62.90625 \r\nQ 36.140625 65.921875 28.71875 65.921875 \r\nQ 24.65625 65.921875 20.015625 65.03125 \r\nQ 15.375 64.15625 9.8125 62.3125 \r\nL 9.8125 71.09375 \r\nQ 15.4375 72.65625 20.34375 73.4375 \r\nQ 25.25 74.21875 29.59375 74.21875 \r\nQ 40.828125 74.21875 47.359375 69.109375 \r\nQ 53.90625 64.015625 53.90625 55.328125 \r\nQ 53.90625 49.265625 50.4375 45.09375 \r\nQ 46.96875 40.921875 40.578125 39.3125 \r\nz\r\n\" id=\"DejaVuSans-51\"/>\r\n       </defs>\r\n       <use xlink:href=\"#DejaVuSans-51\"/>\r\n       <use x=\"63.623047\" xlink:href=\"#DejaVuSans-48\"/>\r\n       <use x=\"127.246094\" xlink:href=\"#DejaVuSans-48\"/>\r\n      </g>\r\n     </g>\r\n    </g>\r\n    <g id=\"ytick_4\">\r\n     <g id=\"line2d_9\">\r\n      <g>\r\n       <use style=\"stroke:#000000;stroke-width:0.8;\" x=\"46.965625\" xlink:href=\"#m6128bcefad\" y=\"151.589983\"/>\r\n      </g>\r\n     </g>\r\n     <g id=\"text_10\">\r\n      <!-- 400 -->\r\n      <g transform=\"translate(20.878125 155.389201)scale(0.1 -0.1)\">\r\n       <use xlink:href=\"#DejaVuSans-52\"/>\r\n       <use x=\"63.623047\" xlink:href=\"#DejaVuSans-48\"/>\r\n       <use x=\"127.246094\" xlink:href=\"#DejaVuSans-48\"/>\r\n      </g>\r\n     </g>\r\n    </g>\r\n    <g id=\"ytick_5\">\r\n     <g id=\"line2d_10\">\r\n      <g>\r\n       <use style=\"stroke:#000000;stroke-width:0.8;\" x=\"46.965625\" xlink:href=\"#m6128bcefad\" y=\"94.366781\"/>\r\n      </g>\r\n     </g>\r\n     <g id=\"text_11\">\r\n      <!-- 500 -->\r\n      <g transform=\"translate(20.878125 98.166)scale(0.1 -0.1)\">\r\n       <defs>\r\n        <path d=\"M 10.796875 72.90625 \r\nL 49.515625 72.90625 \r\nL 49.515625 64.59375 \r\nL 19.828125 64.59375 \r\nL 19.828125 46.734375 \r\nQ 21.96875 47.46875 24.109375 47.828125 \r\nQ 26.265625 48.1875 28.421875 48.1875 \r\nQ 40.625 48.1875 47.75 41.5 \r\nQ 54.890625 34.8125 54.890625 23.390625 \r\nQ 54.890625 11.625 47.5625 5.09375 \r\nQ 40.234375 -1.421875 26.90625 -1.421875 \r\nQ 22.3125 -1.421875 17.546875 -0.640625 \r\nQ 12.796875 0.140625 7.71875 1.703125 \r\nL 7.71875 11.625 \r\nQ 12.109375 9.234375 16.796875 8.0625 \r\nQ 21.484375 6.890625 26.703125 6.890625 \r\nQ 35.15625 6.890625 40.078125 11.328125 \r\nQ 45.015625 15.765625 45.015625 23.390625 \r\nQ 45.015625 31 40.078125 35.4375 \r\nQ 35.15625 39.890625 26.703125 39.890625 \r\nQ 22.75 39.890625 18.8125 39.015625 \r\nQ 14.890625 38.140625 10.796875 36.28125 \r\nz\r\n\" id=\"DejaVuSans-53\"/>\r\n       </defs>\r\n       <use xlink:href=\"#DejaVuSans-53\"/>\r\n       <use x=\"63.623047\" xlink:href=\"#DejaVuSans-48\"/>\r\n       <use x=\"127.246094\" xlink:href=\"#DejaVuSans-48\"/>\r\n      </g>\r\n     </g>\r\n    </g>\r\n    <g id=\"ytick_6\">\r\n     <g id=\"line2d_11\">\r\n      <g>\r\n       <use style=\"stroke:#000000;stroke-width:0.8;\" x=\"46.965625\" xlink:href=\"#m6128bcefad\" y=\"37.14358\"/>\r\n      </g>\r\n     </g>\r\n     <g id=\"text_12\">\r\n      <!-- 600 -->\r\n      <g transform=\"translate(20.878125 40.942798)scale(0.1 -0.1)\">\r\n       <use xlink:href=\"#DejaVuSans-54\"/>\r\n       <use x=\"63.623047\" xlink:href=\"#DejaVuSans-48\"/>\r\n       <use x=\"127.246094\" xlink:href=\"#DejaVuSans-48\"/>\r\n      </g>\r\n     </g>\r\n    </g>\r\n    <g id=\"text_13\">\r\n     <!-- Inertia -->\r\n     <g transform=\"translate(14.798438 201.587187)rotate(-90)scale(0.1 -0.1)\">\r\n      <defs>\r\n       <path d=\"M 9.8125 72.90625 \r\nL 19.671875 72.90625 \r\nL 19.671875 0 \r\nL 9.8125 0 \r\nz\r\n\" id=\"DejaVuSans-73\"/>\r\n       <path d=\"M 54.890625 33.015625 \r\nL 54.890625 0 \r\nL 45.90625 0 \r\nL 45.90625 32.71875 \r\nQ 45.90625 40.484375 42.875 44.328125 \r\nQ 39.84375 48.1875 33.796875 48.1875 \r\nQ 26.515625 48.1875 22.3125 43.546875 \r\nQ 18.109375 38.921875 18.109375 30.90625 \r\nL 18.109375 0 \r\nL 9.078125 0 \r\nL 9.078125 54.6875 \r\nL 18.109375 54.6875 \r\nL 18.109375 46.1875 \r\nQ 21.34375 51.125 25.703125 53.5625 \r\nQ 30.078125 56 35.796875 56 \r\nQ 45.21875 56 50.046875 50.171875 \r\nQ 54.890625 44.34375 54.890625 33.015625 \r\nz\r\n\" id=\"DejaVuSans-110\"/>\r\n       <path d=\"M 9.421875 54.6875 \r\nL 18.40625 54.6875 \r\nL 18.40625 0 \r\nL 9.421875 0 \r\nz\r\nM 9.421875 75.984375 \r\nL 18.40625 75.984375 \r\nL 18.40625 64.59375 \r\nL 9.421875 64.59375 \r\nz\r\n\" id=\"DejaVuSans-105\"/>\r\n       <path d=\"M 34.28125 27.484375 \r\nQ 23.390625 27.484375 19.1875 25 \r\nQ 14.984375 22.515625 14.984375 16.5 \r\nQ 14.984375 11.71875 18.140625 8.90625 \r\nQ 21.296875 6.109375 26.703125 6.109375 \r\nQ 34.1875 6.109375 38.703125 11.40625 \r\nQ 43.21875 16.703125 43.21875 25.484375 \r\nL 43.21875 27.484375 \r\nz\r\nM 52.203125 31.203125 \r\nL 52.203125 0 \r\nL 43.21875 0 \r\nL 43.21875 8.296875 \r\nQ 40.140625 3.328125 35.546875 0.953125 \r\nQ 30.953125 -1.421875 24.3125 -1.421875 \r\nQ 15.921875 -1.421875 10.953125 3.296875 \r\nQ 6 8.015625 6 15.921875 \r\nQ 6 25.140625 12.171875 29.828125 \r\nQ 18.359375 34.515625 30.609375 34.515625 \r\nL 43.21875 34.515625 \r\nL 43.21875 35.40625 \r\nQ 43.21875 41.609375 39.140625 45 \r\nQ 35.0625 48.390625 27.6875 48.390625 \r\nQ 23 48.390625 18.546875 47.265625 \r\nQ 14.109375 46.140625 10.015625 43.890625 \r\nL 10.015625 52.203125 \r\nQ 14.9375 54.109375 19.578125 55.046875 \r\nQ 24.21875 56 28.609375 56 \r\nQ 40.484375 56 46.34375 49.84375 \r\nQ 52.203125 43.703125 52.203125 31.203125 \r\nz\r\n\" id=\"DejaVuSans-97\"/>\r\n      </defs>\r\n      <use xlink:href=\"#DejaVuSans-73\"/>\r\n      <use x=\"29.492188\" xlink:href=\"#DejaVuSans-110\"/>\r\n      <use x=\"92.871094\" xlink:href=\"#DejaVuSans-101\"/>\r\n      <use x=\"154.394531\" xlink:href=\"#DejaVuSans-114\"/>\r\n      <use x=\"195.507812\" xlink:href=\"#DejaVuSans-116\"/>\r\n      <use x=\"234.716797\" xlink:href=\"#DejaVuSans-105\"/>\r\n      <use x=\"262.5\" xlink:href=\"#DejaVuSans-97\"/>\r\n     </g>\r\n    </g>\r\n   </g>\r\n   <g id=\"line2d_12\">\r\n    <path clip-path=\"url(#p56798721cc)\" d=\"M 77.401989 37.14358 \r\nL 145.038352 157.663545 \r\nL 212.674716 211.55289 \r\nL 280.31108 263.046389 \r\nL 347.947443 284.206137 \r\nL 415.583807 303.879043 \r\nL 483.22017 313.525031 \r\nL 550.856534 321.085788 \r\nL 618.492898 326.58973 \r\nL 686.129261 333.65267 \r\n\" style=\"fill:none;stroke:#1f77b4;stroke-linecap:square;stroke-width:1.5;\"/>\r\n    <defs>\r\n     <path d=\"M 0 3 \r\nC 0.795609 3 1.55874 2.683901 2.12132 2.12132 \r\nC 2.683901 1.55874 3 0.795609 3 0 \r\nC 3 -0.795609 2.683901 -1.55874 2.12132 -2.12132 \r\nC 1.55874 -2.683901 0.795609 -3 0 -3 \r\nC -0.795609 -3 -1.55874 -2.683901 -2.12132 -2.12132 \r\nC -2.683901 -1.55874 -3 -0.795609 -3 0 \r\nC -3 0.795609 -2.683901 1.55874 -2.12132 2.12132 \r\nC -1.55874 2.683901 -0.795609 3 0 3 \r\nz\r\n\" id=\"m614068c0a8\" style=\"stroke:#1f77b4;\"/>\r\n    </defs>\r\n    <g clip-path=\"url(#p56798721cc)\">\r\n     <use style=\"fill:#1f77b4;stroke:#1f77b4;\" x=\"77.401989\" xlink:href=\"#m614068c0a8\" y=\"37.14358\"/>\r\n     <use style=\"fill:#1f77b4;stroke:#1f77b4;\" x=\"145.038352\" xlink:href=\"#m614068c0a8\" y=\"157.663545\"/>\r\n     <use style=\"fill:#1f77b4;stroke:#1f77b4;\" x=\"212.674716\" xlink:href=\"#m614068c0a8\" y=\"211.55289\"/>\r\n     <use style=\"fill:#1f77b4;stroke:#1f77b4;\" x=\"280.31108\" xlink:href=\"#m614068c0a8\" y=\"263.046389\"/>\r\n     <use style=\"fill:#1f77b4;stroke:#1f77b4;\" x=\"347.947443\" xlink:href=\"#m614068c0a8\" y=\"284.206137\"/>\r\n     <use style=\"fill:#1f77b4;stroke:#1f77b4;\" x=\"415.583807\" xlink:href=\"#m614068c0a8\" y=\"303.879043\"/>\r\n     <use style=\"fill:#1f77b4;stroke:#1f77b4;\" x=\"483.22017\" xlink:href=\"#m614068c0a8\" y=\"313.525031\"/>\r\n     <use style=\"fill:#1f77b4;stroke:#1f77b4;\" x=\"550.856534\" xlink:href=\"#m614068c0a8\" y=\"321.085788\"/>\r\n     <use style=\"fill:#1f77b4;stroke:#1f77b4;\" x=\"618.492898\" xlink:href=\"#m614068c0a8\" y=\"326.58973\"/>\r\n     <use style=\"fill:#1f77b4;stroke:#1f77b4;\" x=\"686.129261\" xlink:href=\"#m614068c0a8\" y=\"333.65267\"/>\r\n    </g>\r\n   </g>\r\n   <g id=\"patch_3\">\r\n    <path d=\"M 46.965625 348.478125 \r\nL 46.965625 22.318125 \r\n\" style=\"fill:none;stroke:#000000;stroke-linecap:square;stroke-linejoin:miter;stroke-width:0.8;\"/>\r\n   </g>\r\n   <g id=\"patch_4\">\r\n    <path d=\"M 716.565625 348.478125 \r\nL 716.565625 22.318125 \r\n\" style=\"fill:none;stroke:#000000;stroke-linecap:square;stroke-linejoin:miter;stroke-width:0.8;\"/>\r\n   </g>\r\n   <g id=\"patch_5\">\r\n    <path d=\"M 46.965625 348.478125 \r\nL 716.565625 348.478125 \r\n\" style=\"fill:none;stroke:#000000;stroke-linecap:square;stroke-linejoin:miter;stroke-width:0.8;\"/>\r\n   </g>\r\n   <g id=\"patch_6\">\r\n    <path d=\"M 46.965625 22.318125 \r\nL 716.565625 22.318125 \r\n\" style=\"fill:none;stroke:#000000;stroke-linecap:square;stroke-linejoin:miter;stroke-width:0.8;\"/>\r\n   </g>\r\n   <g id=\"text_14\">\r\n    <!-- Elbow Method -->\r\n    <g transform=\"translate(339.509687 16.318125)scale(0.12 -0.12)\">\r\n     <defs>\r\n      <path d=\"M 9.8125 72.90625 \r\nL 55.90625 72.90625 \r\nL 55.90625 64.59375 \r\nL 19.671875 64.59375 \r\nL 19.671875 43.015625 \r\nL 54.390625 43.015625 \r\nL 54.390625 34.71875 \r\nL 19.671875 34.71875 \r\nL 19.671875 8.296875 \r\nL 56.78125 8.296875 \r\nL 56.78125 0 \r\nL 9.8125 0 \r\nz\r\n\" id=\"DejaVuSans-69\"/>\r\n      <path d=\"M 4.203125 54.6875 \r\nL 13.1875 54.6875 \r\nL 24.421875 12.015625 \r\nL 35.59375 54.6875 \r\nL 46.1875 54.6875 \r\nL 57.421875 12.015625 \r\nL 68.609375 54.6875 \r\nL 77.59375 54.6875 \r\nL 63.28125 0 \r\nL 52.6875 0 \r\nL 40.921875 44.828125 \r\nL 29.109375 0 \r\nL 18.5 0 \r\nz\r\n\" id=\"DejaVuSans-119\"/>\r\n      <path d=\"M 9.8125 72.90625 \r\nL 24.515625 72.90625 \r\nL 43.109375 23.296875 \r\nL 61.8125 72.90625 \r\nL 76.515625 72.90625 \r\nL 76.515625 0 \r\nL 66.890625 0 \r\nL 66.890625 64.015625 \r\nL 48.09375 14.015625 \r\nL 38.1875 14.015625 \r\nL 19.390625 64.015625 \r\nL 19.390625 0 \r\nL 9.8125 0 \r\nz\r\n\" id=\"DejaVuSans-77\"/>\r\n      <path d=\"M 54.890625 33.015625 \r\nL 54.890625 0 \r\nL 45.90625 0 \r\nL 45.90625 32.71875 \r\nQ 45.90625 40.484375 42.875 44.328125 \r\nQ 39.84375 48.1875 33.796875 48.1875 \r\nQ 26.515625 48.1875 22.3125 43.546875 \r\nQ 18.109375 38.921875 18.109375 30.90625 \r\nL 18.109375 0 \r\nL 9.078125 0 \r\nL 9.078125 75.984375 \r\nL 18.109375 75.984375 \r\nL 18.109375 46.1875 \r\nQ 21.34375 51.125 25.703125 53.5625 \r\nQ 30.078125 56 35.796875 56 \r\nQ 45.21875 56 50.046875 50.171875 \r\nQ 54.890625 44.34375 54.890625 33.015625 \r\nz\r\n\" id=\"DejaVuSans-104\"/>\r\n      <path d=\"M 45.40625 46.390625 \r\nL 45.40625 75.984375 \r\nL 54.390625 75.984375 \r\nL 54.390625 0 \r\nL 45.40625 0 \r\nL 45.40625 8.203125 \r\nQ 42.578125 3.328125 38.25 0.953125 \r\nQ 33.9375 -1.421875 27.875 -1.421875 \r\nQ 17.96875 -1.421875 11.734375 6.484375 \r\nQ 5.515625 14.40625 5.515625 27.296875 \r\nQ 5.515625 40.1875 11.734375 48.09375 \r\nQ 17.96875 56 27.875 56 \r\nQ 33.9375 56 38.25 53.625 \r\nQ 42.578125 51.265625 45.40625 46.390625 \r\nz\r\nM 14.796875 27.296875 \r\nQ 14.796875 17.390625 18.875 11.75 \r\nQ 22.953125 6.109375 30.078125 6.109375 \r\nQ 37.203125 6.109375 41.296875 11.75 \r\nQ 45.40625 17.390625 45.40625 27.296875 \r\nQ 45.40625 37.203125 41.296875 42.84375 \r\nQ 37.203125 48.484375 30.078125 48.484375 \r\nQ 22.953125 48.484375 18.875 42.84375 \r\nQ 14.796875 37.203125 14.796875 27.296875 \r\nz\r\n\" id=\"DejaVuSans-100\"/>\r\n     </defs>\r\n     <use xlink:href=\"#DejaVuSans-69\"/>\r\n     <use x=\"63.183594\" xlink:href=\"#DejaVuSans-108\"/>\r\n     <use x=\"90.966797\" xlink:href=\"#DejaVuSans-98\"/>\r\n     <use x=\"154.443359\" xlink:href=\"#DejaVuSans-111\"/>\r\n     <use x=\"215.625\" xlink:href=\"#DejaVuSans-119\"/>\r\n     <use x=\"297.412109\" xlink:href=\"#DejaVuSans-32\"/>\r\n     <use x=\"329.199219\" xlink:href=\"#DejaVuSans-77\"/>\r\n     <use x=\"415.478516\" xlink:href=\"#DejaVuSans-101\"/>\r\n     <use x=\"477.001953\" xlink:href=\"#DejaVuSans-116\"/>\r\n     <use x=\"516.210938\" xlink:href=\"#DejaVuSans-104\"/>\r\n     <use x=\"579.589844\" xlink:href=\"#DejaVuSans-111\"/>\r\n     <use x=\"640.771484\" xlink:href=\"#DejaVuSans-100\"/>\r\n    </g>\r\n   </g>\r\n  </g>\r\n </g>\r\n <defs>\r\n  <clipPath id=\"p56798721cc\">\r\n   <rect height=\"326.16\" width=\"669.6\" x=\"46.965625\" y=\"22.318125\"/>\r\n  </clipPath>\r\n </defs>\r\n</svg>\r\n",
      "text/plain": [
       "<Figure size 864x432 with 1 Axes>"
      ]
     },
     "metadata": {
      "needs_background": "light"
     },
     "output_type": "display_data"
    }
   ],
   "source": [
    "# fitting multiple k-means algorithms and storing the values in an empty list\n",
    "SSE = []\n",
    "for cluster in range(1,11):\n",
    "    kmeans = KMeans(n_clusters = cluster, init='k-means++')\n",
    "    kmeans.fit(df_scaled)\n",
    "    SSE.append(kmeans.inertia_)\n",
    "\n",
    "# converting the results into a dataframe and plotting them\n",
    "frame = pd.DataFrame({'Cluster':range(1,11), 'SSE':SSE})\n",
    "plt.figure(figsize=(12,6))\n",
    "plt.plot(frame['Cluster'], frame['SSE'], marker='o')\n",
    "plt.xlabel('Number of clusters')\n",
    "plt.ylabel('Inertia')\n",
    "plt.title('Elbow Method')"
   ]
  },
  {
   "cell_type": "markdown",
   "metadata": {},
   "source": [
    "## Looks like the 'elbow' is at no. of clusters = 4 to 6"
   ]
  },
  {
   "cell_type": "code",
   "execution_count": 15,
   "metadata": {},
   "outputs": [
    {
     "name": "stdout",
     "output_type": "stream",
     "text": [
      "For n_clusters=2, The Silhouette Coefficient is 0.33547192894004574\n",
      "For n_clusters=3, The Silhouette Coefficient is 0.357793388710272\n",
      "For n_clusters=4, The Silhouette Coefficient is 0.4039582785148566\n",
      "For n_clusters=5, The Silhouette Coefficient is 0.41664341513732767\n",
      "For n_clusters=6, The Silhouette Coefficient is 0.4268547747113388\n",
      "For n_clusters=7, The Silhouette Coefficient is 0.41749371992606155\n",
      "For n_clusters=8, The Silhouette Coefficient is 0.4100960228678141\n",
      "For n_clusters=9, The Silhouette Coefficient is 0.393790580883\n",
      "For n_clusters=10, The Silhouette Coefficient is 0.39954962427664414\n"
     ]
    }
   ],
   "source": [
    "# Clustering silhouette_score\n",
    "for n_cluster in range(2, 11):\n",
    " kmeans = KMeans(n_clusters=n_cluster).fit(df_scaled)\n",
    " label = kmeans.labels_\n",
    " sil_coeff = silhouette_score(df_scaled.values, label, metric='euclidean')\n",
    " print(\"For n_clusters={}, The Silhouette Coefficient is {}\".format(\n",
    " n_cluster, sil_coeff))"
   ]
  },
  {
   "cell_type": "markdown",
   "metadata": {},
   "source": [
    "## From the silhouette score, it seems that 6 clusters are most ideal, so we will go with that."
   ]
  },
  {
   "cell_type": "code",
   "execution_count": 16,
   "metadata": {},
   "outputs": [
    {
     "data": {
      "text/plain": [
       "array([2, 2, 0, 2, 0, 2, 0, 2, 0, 2, 0, 2, 0, 2, 0, 2, 0, 2, 0, 2, 0, 2,\n",
       "       0, 2, 0, 2, 0, 2, 0, 2, 0, 2, 0, 2, 0, 2, 0, 2, 0, 2, 3, 2, 0, 1,\n",
       "       0, 2, 3, 1, 1, 1, 3, 1, 1, 3, 3, 3, 3, 3, 1, 3, 3, 1, 3, 3, 3, 1,\n",
       "       3, 3, 1, 1, 3, 3, 3, 3, 3, 1, 3, 1, 1, 3, 3, 1, 3, 3, 1, 3, 3, 1,\n",
       "       1, 3, 3, 1, 3, 1, 1, 1, 3, 1, 3, 1, 1, 3, 3, 1, 3, 1, 3, 3, 3, 3,\n",
       "       3, 1, 1, 1, 1, 1, 3, 3, 3, 3, 1, 1, 1, 5, 1, 5, 4, 5, 4, 5, 4, 5,\n",
       "       1, 5, 4, 5, 4, 5, 4, 5, 4, 5, 1, 5, 4, 5, 4, 5, 4, 5, 4, 5, 4, 5,\n",
       "       4, 5, 4, 5, 4, 5, 3, 5, 4, 5, 4, 5, 4, 5, 4, 5, 4, 5, 4, 5, 4, 5,\n",
       "       4, 5, 4, 5, 4, 5, 4, 5, 4, 5, 4, 5, 4, 5, 4, 5, 4, 5, 4, 5, 4, 5,\n",
       "       4, 5])"
      ]
     },
     "execution_count": 16,
     "metadata": {},
     "output_type": "execute_result"
    }
   ],
   "source": [
    "# k means using 6 clusters and k-means++ initialization\n",
    "kmeans = KMeans(n_clusters = 6, init='k-means++')\n",
    "kmeans.fit(df_scaled)\n",
    "y_kmeans = kmeans.predict(df_scaled)\n",
    "y_kmeans"
   ]
  },
  {
   "cell_type": "code",
   "execution_count": 17,
   "metadata": {},
   "outputs": [
    {
     "data": {
      "application/vnd.plotly.v1+json": {
       "config": {
        "plotlyServerURL": "https://plot.ly"
       },
       "data": [
        {
         "hovertemplate": "label=0<br>value=%{r}<br>variable=%{theta}<extra></extra>",
         "legendgroup": "0",
         "line": {
          "color": "#636efa",
          "dash": "solid"
         },
         "mode": "lines",
         "name": "0",
         "r": [
          0.47895721704643696,
          -1.3082299209845178,
          -1.1964435282144246,
          0.47895721704643696
         ],
         "showlegend": true,
         "subplot": "polar",
         "theta": [
          "Age",
          "Annual Income",
          "Spending Score",
          "Age"
         ],
         "type": "scatterpolar"
        },
        {
         "hovertemplate": "label=1<br>value=%{r}<br>variable=%{theta}<extra></extra>",
         "legendgroup": "1",
         "line": {
          "color": "#EF553B",
          "dash": "solid"
         },
         "mode": "lines",
         "name": "1",
         "r": [
          -0.8504352726507735,
          -0.1489411304629054,
          -0.041477772760214894,
          -0.8504352726507735
         ],
         "showlegend": true,
         "subplot": "polar",
         "theta": [
          "Age",
          "Annual Income",
          "Spending Score",
          "Age"
         ],
         "type": "scatterpolar"
        },
        {
         "hovertemplate": "label=2<br>value=%{r}<br>variable=%{theta}<extra></extra>",
         "legendgroup": "2",
         "line": {
          "color": "#00cc96",
          "dash": "solid"
         },
         "mode": "lines",
         "name": "2",
         "r": [
          -0.9939686520011147,
          -1.347347658955589,
          1.064048342284747,
          -0.9939686520011147
         ],
         "showlegend": true,
         "subplot": "polar",
         "theta": [
          "Age",
          "Annual Income",
          "Spending Score",
          "Age"
         ],
         "type": "scatterpolar"
        },
        {
         "hovertemplate": "label=3<br>value=%{r}<br>variable=%{theta}<extra></extra>",
         "legendgroup": "3",
         "line": {
          "color": "#ab63fa",
          "dash": "solid"
         },
         "mode": "lines",
         "name": "3",
         "r": [
          1.254720957820902,
          -0.240212940921021,
          -0.043997768806402,
          1.254720957820902
         ],
         "showlegend": true,
         "subplot": "polar",
         "theta": [
          "Age",
          "Annual Income",
          "Spending Score",
          "Age"
         ],
         "type": "scatterpolar"
        },
        {
         "hovertemplate": "label=4<br>value=%{r}<br>variable=%{theta}<extra></extra>",
         "legendgroup": "4",
         "line": {
          "color": "#FFA15A",
          "dash": "solid"
         },
         "mode": "lines",
         "name": "4",
         "r": [
          0.17329544771563277,
          1.0664538510593193,
          -1.2980103004961332,
          0.17329544771563277
         ],
         "showlegend": true,
         "subplot": "polar",
         "theta": [
          "Age",
          "Annual Income",
          "Spending Score",
          "Age"
         ],
         "type": "scatterpolar"
        },
        {
         "hovertemplate": "label=5<br>value=%{r}<br>variable=%{theta}<extra></extra>",
         "legendgroup": "5",
         "line": {
          "color": "#19d3f3",
          "dash": "solid"
         },
         "mode": "lines",
         "name": "5",
         "r": [
          -0.44191719296133997,
          0.9915830476839196,
          1.2395027537948333,
          -0.44191719296133997
         ],
         "showlegend": true,
         "subplot": "polar",
         "theta": [
          "Age",
          "Annual Income",
          "Spending Score",
          "Age"
         ],
         "type": "scatterpolar"
        }
       ],
       "layout": {
        "height": 800,
        "legend": {
         "title": {
          "text": "label"
         },
         "tracegroupgap": 0
        },
        "polar": {
         "angularaxis": {
          "direction": "clockwise",
          "rotation": 90
         },
         "domain": {
          "x": [
           0,
           1
          ],
          "y": [
           0,
           1
          ]
         }
        },
        "template": {
         "data": {
          "bar": [
           {
            "error_x": {
             "color": "#2a3f5f"
            },
            "error_y": {
             "color": "#2a3f5f"
            },
            "marker": {
             "line": {
              "color": "#E5ECF6",
              "width": 0.5
             }
            },
            "type": "bar"
           }
          ],
          "barpolar": [
           {
            "marker": {
             "line": {
              "color": "#E5ECF6",
              "width": 0.5
             }
            },
            "type": "barpolar"
           }
          ],
          "carpet": [
           {
            "aaxis": {
             "endlinecolor": "#2a3f5f",
             "gridcolor": "white",
             "linecolor": "white",
             "minorgridcolor": "white",
             "startlinecolor": "#2a3f5f"
            },
            "baxis": {
             "endlinecolor": "#2a3f5f",
             "gridcolor": "white",
             "linecolor": "white",
             "minorgridcolor": "white",
             "startlinecolor": "#2a3f5f"
            },
            "type": "carpet"
           }
          ],
          "choropleth": [
           {
            "colorbar": {
             "outlinewidth": 0,
             "ticks": ""
            },
            "type": "choropleth"
           }
          ],
          "contour": [
           {
            "colorbar": {
             "outlinewidth": 0,
             "ticks": ""
            },
            "colorscale": [
             [
              0,
              "#0d0887"
             ],
             [
              0.1111111111111111,
              "#46039f"
             ],
             [
              0.2222222222222222,
              "#7201a8"
             ],
             [
              0.3333333333333333,
              "#9c179e"
             ],
             [
              0.4444444444444444,
              "#bd3786"
             ],
             [
              0.5555555555555556,
              "#d8576b"
             ],
             [
              0.6666666666666666,
              "#ed7953"
             ],
             [
              0.7777777777777778,
              "#fb9f3a"
             ],
             [
              0.8888888888888888,
              "#fdca26"
             ],
             [
              1,
              "#f0f921"
             ]
            ],
            "type": "contour"
           }
          ],
          "contourcarpet": [
           {
            "colorbar": {
             "outlinewidth": 0,
             "ticks": ""
            },
            "type": "contourcarpet"
           }
          ],
          "heatmap": [
           {
            "colorbar": {
             "outlinewidth": 0,
             "ticks": ""
            },
            "colorscale": [
             [
              0,
              "#0d0887"
             ],
             [
              0.1111111111111111,
              "#46039f"
             ],
             [
              0.2222222222222222,
              "#7201a8"
             ],
             [
              0.3333333333333333,
              "#9c179e"
             ],
             [
              0.4444444444444444,
              "#bd3786"
             ],
             [
              0.5555555555555556,
              "#d8576b"
             ],
             [
              0.6666666666666666,
              "#ed7953"
             ],
             [
              0.7777777777777778,
              "#fb9f3a"
             ],
             [
              0.8888888888888888,
              "#fdca26"
             ],
             [
              1,
              "#f0f921"
             ]
            ],
            "type": "heatmap"
           }
          ],
          "heatmapgl": [
           {
            "colorbar": {
             "outlinewidth": 0,
             "ticks": ""
            },
            "colorscale": [
             [
              0,
              "#0d0887"
             ],
             [
              0.1111111111111111,
              "#46039f"
             ],
             [
              0.2222222222222222,
              "#7201a8"
             ],
             [
              0.3333333333333333,
              "#9c179e"
             ],
             [
              0.4444444444444444,
              "#bd3786"
             ],
             [
              0.5555555555555556,
              "#d8576b"
             ],
             [
              0.6666666666666666,
              "#ed7953"
             ],
             [
              0.7777777777777778,
              "#fb9f3a"
             ],
             [
              0.8888888888888888,
              "#fdca26"
             ],
             [
              1,
              "#f0f921"
             ]
            ],
            "type": "heatmapgl"
           }
          ],
          "histogram": [
           {
            "marker": {
             "colorbar": {
              "outlinewidth": 0,
              "ticks": ""
             }
            },
            "type": "histogram"
           }
          ],
          "histogram2d": [
           {
            "colorbar": {
             "outlinewidth": 0,
             "ticks": ""
            },
            "colorscale": [
             [
              0,
              "#0d0887"
             ],
             [
              0.1111111111111111,
              "#46039f"
             ],
             [
              0.2222222222222222,
              "#7201a8"
             ],
             [
              0.3333333333333333,
              "#9c179e"
             ],
             [
              0.4444444444444444,
              "#bd3786"
             ],
             [
              0.5555555555555556,
              "#d8576b"
             ],
             [
              0.6666666666666666,
              "#ed7953"
             ],
             [
              0.7777777777777778,
              "#fb9f3a"
             ],
             [
              0.8888888888888888,
              "#fdca26"
             ],
             [
              1,
              "#f0f921"
             ]
            ],
            "type": "histogram2d"
           }
          ],
          "histogram2dcontour": [
           {
            "colorbar": {
             "outlinewidth": 0,
             "ticks": ""
            },
            "colorscale": [
             [
              0,
              "#0d0887"
             ],
             [
              0.1111111111111111,
              "#46039f"
             ],
             [
              0.2222222222222222,
              "#7201a8"
             ],
             [
              0.3333333333333333,
              "#9c179e"
             ],
             [
              0.4444444444444444,
              "#bd3786"
             ],
             [
              0.5555555555555556,
              "#d8576b"
             ],
             [
              0.6666666666666666,
              "#ed7953"
             ],
             [
              0.7777777777777778,
              "#fb9f3a"
             ],
             [
              0.8888888888888888,
              "#fdca26"
             ],
             [
              1,
              "#f0f921"
             ]
            ],
            "type": "histogram2dcontour"
           }
          ],
          "mesh3d": [
           {
            "colorbar": {
             "outlinewidth": 0,
             "ticks": ""
            },
            "type": "mesh3d"
           }
          ],
          "parcoords": [
           {
            "line": {
             "colorbar": {
              "outlinewidth": 0,
              "ticks": ""
             }
            },
            "type": "parcoords"
           }
          ],
          "pie": [
           {
            "automargin": true,
            "type": "pie"
           }
          ],
          "scatter": [
           {
            "marker": {
             "colorbar": {
              "outlinewidth": 0,
              "ticks": ""
             }
            },
            "type": "scatter"
           }
          ],
          "scatter3d": [
           {
            "line": {
             "colorbar": {
              "outlinewidth": 0,
              "ticks": ""
             }
            },
            "marker": {
             "colorbar": {
              "outlinewidth": 0,
              "ticks": ""
             }
            },
            "type": "scatter3d"
           }
          ],
          "scattercarpet": [
           {
            "marker": {
             "colorbar": {
              "outlinewidth": 0,
              "ticks": ""
             }
            },
            "type": "scattercarpet"
           }
          ],
          "scattergeo": [
           {
            "marker": {
             "colorbar": {
              "outlinewidth": 0,
              "ticks": ""
             }
            },
            "type": "scattergeo"
           }
          ],
          "scattergl": [
           {
            "marker": {
             "colorbar": {
              "outlinewidth": 0,
              "ticks": ""
             }
            },
            "type": "scattergl"
           }
          ],
          "scattermapbox": [
           {
            "marker": {
             "colorbar": {
              "outlinewidth": 0,
              "ticks": ""
             }
            },
            "type": "scattermapbox"
           }
          ],
          "scatterpolar": [
           {
            "marker": {
             "colorbar": {
              "outlinewidth": 0,
              "ticks": ""
             }
            },
            "type": "scatterpolar"
           }
          ],
          "scatterpolargl": [
           {
            "marker": {
             "colorbar": {
              "outlinewidth": 0,
              "ticks": ""
             }
            },
            "type": "scatterpolargl"
           }
          ],
          "scatterternary": [
           {
            "marker": {
             "colorbar": {
              "outlinewidth": 0,
              "ticks": ""
             }
            },
            "type": "scatterternary"
           }
          ],
          "surface": [
           {
            "colorbar": {
             "outlinewidth": 0,
             "ticks": ""
            },
            "colorscale": [
             [
              0,
              "#0d0887"
             ],
             [
              0.1111111111111111,
              "#46039f"
             ],
             [
              0.2222222222222222,
              "#7201a8"
             ],
             [
              0.3333333333333333,
              "#9c179e"
             ],
             [
              0.4444444444444444,
              "#bd3786"
             ],
             [
              0.5555555555555556,
              "#d8576b"
             ],
             [
              0.6666666666666666,
              "#ed7953"
             ],
             [
              0.7777777777777778,
              "#fb9f3a"
             ],
             [
              0.8888888888888888,
              "#fdca26"
             ],
             [
              1,
              "#f0f921"
             ]
            ],
            "type": "surface"
           }
          ],
          "table": [
           {
            "cells": {
             "fill": {
              "color": "#EBF0F8"
             },
             "line": {
              "color": "white"
             }
            },
            "header": {
             "fill": {
              "color": "#C8D4E3"
             },
             "line": {
              "color": "white"
             }
            },
            "type": "table"
           }
          ]
         },
         "layout": {
          "annotationdefaults": {
           "arrowcolor": "#2a3f5f",
           "arrowhead": 0,
           "arrowwidth": 1
          },
          "autotypenumbers": "strict",
          "coloraxis": {
           "colorbar": {
            "outlinewidth": 0,
            "ticks": ""
           }
          },
          "colorscale": {
           "diverging": [
            [
             0,
             "#8e0152"
            ],
            [
             0.1,
             "#c51b7d"
            ],
            [
             0.2,
             "#de77ae"
            ],
            [
             0.3,
             "#f1b6da"
            ],
            [
             0.4,
             "#fde0ef"
            ],
            [
             0.5,
             "#f7f7f7"
            ],
            [
             0.6,
             "#e6f5d0"
            ],
            [
             0.7,
             "#b8e186"
            ],
            [
             0.8,
             "#7fbc41"
            ],
            [
             0.9,
             "#4d9221"
            ],
            [
             1,
             "#276419"
            ]
           ],
           "sequential": [
            [
             0,
             "#0d0887"
            ],
            [
             0.1111111111111111,
             "#46039f"
            ],
            [
             0.2222222222222222,
             "#7201a8"
            ],
            [
             0.3333333333333333,
             "#9c179e"
            ],
            [
             0.4444444444444444,
             "#bd3786"
            ],
            [
             0.5555555555555556,
             "#d8576b"
            ],
            [
             0.6666666666666666,
             "#ed7953"
            ],
            [
             0.7777777777777778,
             "#fb9f3a"
            ],
            [
             0.8888888888888888,
             "#fdca26"
            ],
            [
             1,
             "#f0f921"
            ]
           ],
           "sequentialminus": [
            [
             0,
             "#0d0887"
            ],
            [
             0.1111111111111111,
             "#46039f"
            ],
            [
             0.2222222222222222,
             "#7201a8"
            ],
            [
             0.3333333333333333,
             "#9c179e"
            ],
            [
             0.4444444444444444,
             "#bd3786"
            ],
            [
             0.5555555555555556,
             "#d8576b"
            ],
            [
             0.6666666666666666,
             "#ed7953"
            ],
            [
             0.7777777777777778,
             "#fb9f3a"
            ],
            [
             0.8888888888888888,
             "#fdca26"
            ],
            [
             1,
             "#f0f921"
            ]
           ]
          },
          "colorway": [
           "#636efa",
           "#EF553B",
           "#00cc96",
           "#ab63fa",
           "#FFA15A",
           "#19d3f3",
           "#FF6692",
           "#B6E880",
           "#FF97FF",
           "#FECB52"
          ],
          "font": {
           "color": "#2a3f5f"
          },
          "geo": {
           "bgcolor": "white",
           "lakecolor": "white",
           "landcolor": "#E5ECF6",
           "showlakes": true,
           "showland": true,
           "subunitcolor": "white"
          },
          "hoverlabel": {
           "align": "left"
          },
          "hovermode": "closest",
          "mapbox": {
           "style": "light"
          },
          "paper_bgcolor": "white",
          "plot_bgcolor": "#E5ECF6",
          "polar": {
           "angularaxis": {
            "gridcolor": "white",
            "linecolor": "white",
            "ticks": ""
           },
           "bgcolor": "#E5ECF6",
           "radialaxis": {
            "gridcolor": "white",
            "linecolor": "white",
            "ticks": ""
           }
          },
          "scene": {
           "xaxis": {
            "backgroundcolor": "#E5ECF6",
            "gridcolor": "white",
            "gridwidth": 2,
            "linecolor": "white",
            "showbackground": true,
            "ticks": "",
            "zerolinecolor": "white"
           },
           "yaxis": {
            "backgroundcolor": "#E5ECF6",
            "gridcolor": "white",
            "gridwidth": 2,
            "linecolor": "white",
            "showbackground": true,
            "ticks": "",
            "zerolinecolor": "white"
           },
           "zaxis": {
            "backgroundcolor": "#E5ECF6",
            "gridcolor": "white",
            "gridwidth": 2,
            "linecolor": "white",
            "showbackground": true,
            "ticks": "",
            "zerolinecolor": "white"
           }
          },
          "shapedefaults": {
           "line": {
            "color": "#2a3f5f"
           }
          },
          "ternary": {
           "aaxis": {
            "gridcolor": "white",
            "linecolor": "white",
            "ticks": ""
           },
           "baxis": {
            "gridcolor": "white",
            "linecolor": "white",
            "ticks": ""
           },
           "bgcolor": "#E5ECF6",
           "caxis": {
            "gridcolor": "white",
            "linecolor": "white",
            "ticks": ""
           }
          },
          "title": {
           "x": 0.05
          },
          "xaxis": {
           "automargin": true,
           "gridcolor": "white",
           "linecolor": "white",
           "ticks": "",
           "title": {
            "standoff": 15
           },
           "zerolinecolor": "white",
           "zerolinewidth": 2
          },
          "yaxis": {
           "automargin": true,
           "gridcolor": "white",
           "linecolor": "white",
           "ticks": "",
           "title": {
            "standoff": 15
           },
           "zerolinecolor": "white",
           "zerolinewidth": 2
          }
         }
        },
        "title": {
         "text": "Line polar chart to visualise the 6 different groups of customers"
        },
        "width": 1000
       }
      }
     },
     "metadata": {},
     "output_type": "display_data"
    }
   ],
   "source": [
    "# Visualising the 6 different groups of customers\n",
    "df_scaled_new = df_scaled\n",
    "df_scaled_new['label']=kmeans.labels_\n",
    "polar=df_scaled_new.groupby(\"label\").mean().reset_index()\n",
    "polar=pd.melt(polar,id_vars=[\"label\"])\n",
    "fig2 = px.line_polar(polar, r=\"value\", theta=\"variable\", color=\"label\", line_close=True,height=800,width=1000, title=\"Line polar chart to visualise the 6 different groups of customers\")\n",
    "fig2.show()"
   ]
  },
  {
   "cell_type": "markdown",
   "metadata": {},
   "source": [
    "## From this polar line chart, we see 6 possible different types of customers.  \n",
    "### label 0: 'The poor' These customers are middle aged adults, with very low annual income and very low spending score <br>  label 1: 'The conservative' These customers are young adults, with low annual income and low spending score <br>label 2: 'The overspender' These customers are young adults, with low annual income but very high spending score <br>  <br>label 4: 'The thrifty' These customers are middle-aged adults, with high annual income and very low spending score <br>  label 5: 'The rich' These customers are young adults, with very high annual income and very high spending score <br>   Labels 2 and 5 have the highest spending score.\n"
   ]
  },
  {
   "cell_type": "code",
   "execution_count": 18,
   "metadata": {},
   "outputs": [
    {
     "data": {
      "application/vnd.plotly.v1+json": {
       "config": {
        "plotlyServerURL": "https://plot.ly"
       },
       "data": [
        {
         "domain": {
          "x": [
           0,
           1
          ],
          "y": [
           0,
           1
          ]
         },
         "hovertemplate": "label=%{label}<br>value=%{value}<extra></extra>",
         "labels": [
          0,
          1,
          2,
          3,
          4,
          5
         ],
         "legendgroup": "",
         "name": "",
         "showlegend": true,
         "type": "pie",
         "values": [
          21,
          38,
          23,
          45,
          34,
          39
         ]
        }
       ],
       "layout": {
        "legend": {
         "tracegroupgap": 0
        },
        "template": {
         "data": {
          "bar": [
           {
            "error_x": {
             "color": "#2a3f5f"
            },
            "error_y": {
             "color": "#2a3f5f"
            },
            "marker": {
             "line": {
              "color": "#E5ECF6",
              "width": 0.5
             }
            },
            "type": "bar"
           }
          ],
          "barpolar": [
           {
            "marker": {
             "line": {
              "color": "#E5ECF6",
              "width": 0.5
             }
            },
            "type": "barpolar"
           }
          ],
          "carpet": [
           {
            "aaxis": {
             "endlinecolor": "#2a3f5f",
             "gridcolor": "white",
             "linecolor": "white",
             "minorgridcolor": "white",
             "startlinecolor": "#2a3f5f"
            },
            "baxis": {
             "endlinecolor": "#2a3f5f",
             "gridcolor": "white",
             "linecolor": "white",
             "minorgridcolor": "white",
             "startlinecolor": "#2a3f5f"
            },
            "type": "carpet"
           }
          ],
          "choropleth": [
           {
            "colorbar": {
             "outlinewidth": 0,
             "ticks": ""
            },
            "type": "choropleth"
           }
          ],
          "contour": [
           {
            "colorbar": {
             "outlinewidth": 0,
             "ticks": ""
            },
            "colorscale": [
             [
              0,
              "#0d0887"
             ],
             [
              0.1111111111111111,
              "#46039f"
             ],
             [
              0.2222222222222222,
              "#7201a8"
             ],
             [
              0.3333333333333333,
              "#9c179e"
             ],
             [
              0.4444444444444444,
              "#bd3786"
             ],
             [
              0.5555555555555556,
              "#d8576b"
             ],
             [
              0.6666666666666666,
              "#ed7953"
             ],
             [
              0.7777777777777778,
              "#fb9f3a"
             ],
             [
              0.8888888888888888,
              "#fdca26"
             ],
             [
              1,
              "#f0f921"
             ]
            ],
            "type": "contour"
           }
          ],
          "contourcarpet": [
           {
            "colorbar": {
             "outlinewidth": 0,
             "ticks": ""
            },
            "type": "contourcarpet"
           }
          ],
          "heatmap": [
           {
            "colorbar": {
             "outlinewidth": 0,
             "ticks": ""
            },
            "colorscale": [
             [
              0,
              "#0d0887"
             ],
             [
              0.1111111111111111,
              "#46039f"
             ],
             [
              0.2222222222222222,
              "#7201a8"
             ],
             [
              0.3333333333333333,
              "#9c179e"
             ],
             [
              0.4444444444444444,
              "#bd3786"
             ],
             [
              0.5555555555555556,
              "#d8576b"
             ],
             [
              0.6666666666666666,
              "#ed7953"
             ],
             [
              0.7777777777777778,
              "#fb9f3a"
             ],
             [
              0.8888888888888888,
              "#fdca26"
             ],
             [
              1,
              "#f0f921"
             ]
            ],
            "type": "heatmap"
           }
          ],
          "heatmapgl": [
           {
            "colorbar": {
             "outlinewidth": 0,
             "ticks": ""
            },
            "colorscale": [
             [
              0,
              "#0d0887"
             ],
             [
              0.1111111111111111,
              "#46039f"
             ],
             [
              0.2222222222222222,
              "#7201a8"
             ],
             [
              0.3333333333333333,
              "#9c179e"
             ],
             [
              0.4444444444444444,
              "#bd3786"
             ],
             [
              0.5555555555555556,
              "#d8576b"
             ],
             [
              0.6666666666666666,
              "#ed7953"
             ],
             [
              0.7777777777777778,
              "#fb9f3a"
             ],
             [
              0.8888888888888888,
              "#fdca26"
             ],
             [
              1,
              "#f0f921"
             ]
            ],
            "type": "heatmapgl"
           }
          ],
          "histogram": [
           {
            "marker": {
             "colorbar": {
              "outlinewidth": 0,
              "ticks": ""
             }
            },
            "type": "histogram"
           }
          ],
          "histogram2d": [
           {
            "colorbar": {
             "outlinewidth": 0,
             "ticks": ""
            },
            "colorscale": [
             [
              0,
              "#0d0887"
             ],
             [
              0.1111111111111111,
              "#46039f"
             ],
             [
              0.2222222222222222,
              "#7201a8"
             ],
             [
              0.3333333333333333,
              "#9c179e"
             ],
             [
              0.4444444444444444,
              "#bd3786"
             ],
             [
              0.5555555555555556,
              "#d8576b"
             ],
             [
              0.6666666666666666,
              "#ed7953"
             ],
             [
              0.7777777777777778,
              "#fb9f3a"
             ],
             [
              0.8888888888888888,
              "#fdca26"
             ],
             [
              1,
              "#f0f921"
             ]
            ],
            "type": "histogram2d"
           }
          ],
          "histogram2dcontour": [
           {
            "colorbar": {
             "outlinewidth": 0,
             "ticks": ""
            },
            "colorscale": [
             [
              0,
              "#0d0887"
             ],
             [
              0.1111111111111111,
              "#46039f"
             ],
             [
              0.2222222222222222,
              "#7201a8"
             ],
             [
              0.3333333333333333,
              "#9c179e"
             ],
             [
              0.4444444444444444,
              "#bd3786"
             ],
             [
              0.5555555555555556,
              "#d8576b"
             ],
             [
              0.6666666666666666,
              "#ed7953"
             ],
             [
              0.7777777777777778,
              "#fb9f3a"
             ],
             [
              0.8888888888888888,
              "#fdca26"
             ],
             [
              1,
              "#f0f921"
             ]
            ],
            "type": "histogram2dcontour"
           }
          ],
          "mesh3d": [
           {
            "colorbar": {
             "outlinewidth": 0,
             "ticks": ""
            },
            "type": "mesh3d"
           }
          ],
          "parcoords": [
           {
            "line": {
             "colorbar": {
              "outlinewidth": 0,
              "ticks": ""
             }
            },
            "type": "parcoords"
           }
          ],
          "pie": [
           {
            "automargin": true,
            "type": "pie"
           }
          ],
          "scatter": [
           {
            "marker": {
             "colorbar": {
              "outlinewidth": 0,
              "ticks": ""
             }
            },
            "type": "scatter"
           }
          ],
          "scatter3d": [
           {
            "line": {
             "colorbar": {
              "outlinewidth": 0,
              "ticks": ""
             }
            },
            "marker": {
             "colorbar": {
              "outlinewidth": 0,
              "ticks": ""
             }
            },
            "type": "scatter3d"
           }
          ],
          "scattercarpet": [
           {
            "marker": {
             "colorbar": {
              "outlinewidth": 0,
              "ticks": ""
             }
            },
            "type": "scattercarpet"
           }
          ],
          "scattergeo": [
           {
            "marker": {
             "colorbar": {
              "outlinewidth": 0,
              "ticks": ""
             }
            },
            "type": "scattergeo"
           }
          ],
          "scattergl": [
           {
            "marker": {
             "colorbar": {
              "outlinewidth": 0,
              "ticks": ""
             }
            },
            "type": "scattergl"
           }
          ],
          "scattermapbox": [
           {
            "marker": {
             "colorbar": {
              "outlinewidth": 0,
              "ticks": ""
             }
            },
            "type": "scattermapbox"
           }
          ],
          "scatterpolar": [
           {
            "marker": {
             "colorbar": {
              "outlinewidth": 0,
              "ticks": ""
             }
            },
            "type": "scatterpolar"
           }
          ],
          "scatterpolargl": [
           {
            "marker": {
             "colorbar": {
              "outlinewidth": 0,
              "ticks": ""
             }
            },
            "type": "scatterpolargl"
           }
          ],
          "scatterternary": [
           {
            "marker": {
             "colorbar": {
              "outlinewidth": 0,
              "ticks": ""
             }
            },
            "type": "scatterternary"
           }
          ],
          "surface": [
           {
            "colorbar": {
             "outlinewidth": 0,
             "ticks": ""
            },
            "colorscale": [
             [
              0,
              "#0d0887"
             ],
             [
              0.1111111111111111,
              "#46039f"
             ],
             [
              0.2222222222222222,
              "#7201a8"
             ],
             [
              0.3333333333333333,
              "#9c179e"
             ],
             [
              0.4444444444444444,
              "#bd3786"
             ],
             [
              0.5555555555555556,
              "#d8576b"
             ],
             [
              0.6666666666666666,
              "#ed7953"
             ],
             [
              0.7777777777777778,
              "#fb9f3a"
             ],
             [
              0.8888888888888888,
              "#fdca26"
             ],
             [
              1,
              "#f0f921"
             ]
            ],
            "type": "surface"
           }
          ],
          "table": [
           {
            "cells": {
             "fill": {
              "color": "#EBF0F8"
             },
             "line": {
              "color": "white"
             }
            },
            "header": {
             "fill": {
              "color": "#C8D4E3"
             },
             "line": {
              "color": "white"
             }
            },
            "type": "table"
           }
          ]
         },
         "layout": {
          "annotationdefaults": {
           "arrowcolor": "#2a3f5f",
           "arrowhead": 0,
           "arrowwidth": 1
          },
          "autotypenumbers": "strict",
          "coloraxis": {
           "colorbar": {
            "outlinewidth": 0,
            "ticks": ""
           }
          },
          "colorscale": {
           "diverging": [
            [
             0,
             "#8e0152"
            ],
            [
             0.1,
             "#c51b7d"
            ],
            [
             0.2,
             "#de77ae"
            ],
            [
             0.3,
             "#f1b6da"
            ],
            [
             0.4,
             "#fde0ef"
            ],
            [
             0.5,
             "#f7f7f7"
            ],
            [
             0.6,
             "#e6f5d0"
            ],
            [
             0.7,
             "#b8e186"
            ],
            [
             0.8,
             "#7fbc41"
            ],
            [
             0.9,
             "#4d9221"
            ],
            [
             1,
             "#276419"
            ]
           ],
           "sequential": [
            [
             0,
             "#0d0887"
            ],
            [
             0.1111111111111111,
             "#46039f"
            ],
            [
             0.2222222222222222,
             "#7201a8"
            ],
            [
             0.3333333333333333,
             "#9c179e"
            ],
            [
             0.4444444444444444,
             "#bd3786"
            ],
            [
             0.5555555555555556,
             "#d8576b"
            ],
            [
             0.6666666666666666,
             "#ed7953"
            ],
            [
             0.7777777777777778,
             "#fb9f3a"
            ],
            [
             0.8888888888888888,
             "#fdca26"
            ],
            [
             1,
             "#f0f921"
            ]
           ],
           "sequentialminus": [
            [
             0,
             "#0d0887"
            ],
            [
             0.1111111111111111,
             "#46039f"
            ],
            [
             0.2222222222222222,
             "#7201a8"
            ],
            [
             0.3333333333333333,
             "#9c179e"
            ],
            [
             0.4444444444444444,
             "#bd3786"
            ],
            [
             0.5555555555555556,
             "#d8576b"
            ],
            [
             0.6666666666666666,
             "#ed7953"
            ],
            [
             0.7777777777777778,
             "#fb9f3a"
            ],
            [
             0.8888888888888888,
             "#fdca26"
            ],
            [
             1,
             "#f0f921"
            ]
           ]
          },
          "colorway": [
           "#636efa",
           "#EF553B",
           "#00cc96",
           "#ab63fa",
           "#FFA15A",
           "#19d3f3",
           "#FF6692",
           "#B6E880",
           "#FF97FF",
           "#FECB52"
          ],
          "font": {
           "color": "#2a3f5f"
          },
          "geo": {
           "bgcolor": "white",
           "lakecolor": "white",
           "landcolor": "#E5ECF6",
           "showlakes": true,
           "showland": true,
           "subunitcolor": "white"
          },
          "hoverlabel": {
           "align": "left"
          },
          "hovermode": "closest",
          "mapbox": {
           "style": "light"
          },
          "paper_bgcolor": "white",
          "plot_bgcolor": "#E5ECF6",
          "polar": {
           "angularaxis": {
            "gridcolor": "white",
            "linecolor": "white",
            "ticks": ""
           },
           "bgcolor": "#E5ECF6",
           "radialaxis": {
            "gridcolor": "white",
            "linecolor": "white",
            "ticks": ""
           }
          },
          "scene": {
           "xaxis": {
            "backgroundcolor": "#E5ECF6",
            "gridcolor": "white",
            "gridwidth": 2,
            "linecolor": "white",
            "showbackground": true,
            "ticks": "",
            "zerolinecolor": "white"
           },
           "yaxis": {
            "backgroundcolor": "#E5ECF6",
            "gridcolor": "white",
            "gridwidth": 2,
            "linecolor": "white",
            "showbackground": true,
            "ticks": "",
            "zerolinecolor": "white"
           },
           "zaxis": {
            "backgroundcolor": "#E5ECF6",
            "gridcolor": "white",
            "gridwidth": 2,
            "linecolor": "white",
            "showbackground": true,
            "ticks": "",
            "zerolinecolor": "white"
           }
          },
          "shapedefaults": {
           "line": {
            "color": "#2a3f5f"
           }
          },
          "ternary": {
           "aaxis": {
            "gridcolor": "white",
            "linecolor": "white",
            "ticks": ""
           },
           "baxis": {
            "gridcolor": "white",
            "linecolor": "white",
            "ticks": ""
           },
           "bgcolor": "#E5ECF6",
           "caxis": {
            "gridcolor": "white",
            "linecolor": "white",
            "ticks": ""
           }
          },
          "title": {
           "x": 0.05
          },
          "xaxis": {
           "automargin": true,
           "gridcolor": "white",
           "linecolor": "white",
           "ticks": "",
           "title": {
            "standoff": 15
           },
           "zerolinecolor": "white",
           "zerolinewidth": 2
          },
          "yaxis": {
           "automargin": true,
           "gridcolor": "white",
           "linecolor": "white",
           "ticks": "",
           "title": {
            "standoff": 15
           },
           "zerolinecolor": "white",
           "zerolinewidth": 2
          }
         }
        },
        "title": {
         "text": "Size of each customer group"
        }
       }
      }
     },
     "metadata": {},
     "output_type": "display_data"
    }
   ],
   "source": [
    "# Size of each group\n",
    "pie=df_scaled_new.groupby('label').size().reset_index()\n",
    "pie.columns=['label','value']\n",
    "px.pie(pie,values='value',names='label', title='Size of each customer group')"
   ]
  },
  {
   "cell_type": "markdown",
   "metadata": {},
   "source": [
    "### Size of each cluster/customer group seems to be fairly evenly distributed, with a larger number of customers belonging to label 3 (Older customers with medium annual income and spending score). <br>The mall can target its largest group of customers by selling more products that older adults would use. <br>However, the younger adults (label 2 and 5) are not to be neglected as well since they hold the highest spending scores. <br>Hence the mall should also offer products catered to a younger audience."
   ]
  },
  {
   "cell_type": "code",
   "execution_count": 19,
   "metadata": {},
   "outputs": [
    {
     "data": {
      "image/png": "[encoded data removed]",
      "image/svg+xml": "<?xml version=\"1.0\" encoding=\"utf-8\" standalone=\"no\"?>\r\n<!DOCTYPE svg PUBLIC \"-//W3C//DTD SVG 1.1//EN\"\r\n  \"http://www.w3.org/Graphics/SVG/1.1/DTD/svg11.dtd\">\r\n<!-- Created with matplotlib (https://matplotlib.org/) -->\r\n<svg height=\"561pt\" version=\"1.1\" viewBox=\"0 0 1004.227188 561\" width=\"1004.227188pt\" xmlns=\"http://www.w3.org/2000/svg\" xmlns:xlink=\"http://www.w3.org/1999/xlink\">\r\n <metadata>\r\n  <rdf:RDF xmlns:cc=\"http://creativecommons.org/ns#\" xmlns:dc=\"http://purl.org/dc/elements/1.1/\" xmlns:rdf=\"http://www.w3.org/1999/02/22-rdf-syntax-ns#\">\r\n   <cc:Work>\r\n    <dc:type rdf:resource=\"http://purl.org/dc/dcmitype/StillImage\"/>\r\n    <dc:date>2021-08-13T21:13:30.248652</dc:date>\r\n    <dc:format>image/svg+xml</dc:format>\r\n    <dc:creator>\r\n     <cc:Agent>\r\n      <dc:title>Matplotlib v3.3.3, https://matplotlib.org/</dc:title>\r\n     </cc:Agent>\r\n    </dc:creator>\r\n   </cc:Work>\r\n  </rdf:RDF>\r\n </metadata>\r\n <defs>\r\n  <style type=\"text/css\">*{stroke-linecap:butt;stroke-linejoin:round;}</style>\r\n </defs>\r\n <g id=\"figure_1\">\r\n  <g id=\"patch_1\">\r\n   <path d=\"M -0 561 \r\nL 1004.227188 561 \r\nL 1004.227188 -0 \r\nL -0 -0 \r\nz\r\n\" style=\"fill:none;\"/>\r\n  </g>\r\n  <g id=\"axes_1\">\r\n   <g id=\"patch_2\">\r\n    <path d=\"M 48.427188 517.636875 \r\nL 997.027188 517.636875 \r\nL 997.027188 28.396875 \r\nL 48.427188 28.396875 \r\nz\r\n\" style=\"fill:#ffffff;\"/>\r\n   </g>\r\n   <g id=\"PathCollection_1\">\r\n    <path clip-path=\"url(#pc3c312444b)\" d=\"M 108.129285 503.728624 \r\nC 110.338409 503.728624 112.45735 502.85093 114.019436 501.288844 \r\nC 115.581523 499.726758 116.459217 497.607817 116.459217 495.398693 \r\nC 116.459217 493.18957 115.581523 491.070629 114.019436 489.508542 \r\nC 112.45735 487.946456 110.338409 487.068762 108.129285 487.068762 \r\nC 105.920162 487.068762 103.801221 487.946456 102.239135 489.508542 \r\nC 100.677048 491.070629 99.799354 493.18957 99.799354 495.398693 \r\nC 99.799354 497.607817 100.677048 499.726758 102.239135 501.288844 \r\nC 103.801221 502.85093 105.920162 503.728624 108.129285 503.728624 \r\nz\r\n\" style=\"fill:#800080;fill-opacity:0.7;stroke:#ffffff;stroke-opacity:0.7;stroke-width:0.777647;\"/>\r\n    <path clip-path=\"url(#pc3c312444b)\" d=\"M 141.297118 507.370173 \r\nC 144.471991 507.370173 147.517257 506.108782 149.762232 503.863808 \r\nC 152.007207 501.618833 153.268597 498.573567 153.268597 495.398693 \r\nC 153.268597 492.22382 152.007207 489.178553 149.762232 486.933579 \r\nC 147.517257 484.688604 144.471991 483.427213 141.297118 483.427213 \r\nC 138.122244 483.427213 135.076978 484.688604 132.832003 486.933579 \r\nC 130.587028 489.178553 129.325638 492.22382 129.325638 495.398693 \r\nC 129.325638 498.573567 130.587028 501.618833 132.832003 503.863808 \r\nC 135.076978 506.108782 138.122244 507.370173 141.297118 507.370173 \r\nz\r\n\" style=\"fill:#800080;fill-opacity:0.7;stroke:#ffffff;stroke-opacity:0.7;stroke-width:0.777647;\"/>\r\n    <path clip-path=\"url(#pc3c312444b)\" d=\"M 124.713201 495.114789 \r\nC 125.604734 495.114789 126.459873 494.760579 127.090282 494.13017 \r\nC 127.720691 493.499761 128.074901 492.644623 128.074901 491.75309 \r\nC 128.074901 490.861557 127.720691 490.006418 127.090282 489.376009 \r\nC 126.459873 488.7456 125.604734 488.391391 124.713201 488.391391 \r\nC 123.821668 488.391391 122.96653 488.7456 122.336121 489.376009 \r\nC 121.705712 490.006418 121.351502 490.861557 121.351502 491.75309 \r\nC 121.351502 492.644623 121.705712 493.499761 122.336121 494.13017 \r\nC 122.96653 494.760579 123.821668 495.114789 124.713201 495.114789 \r\nz\r\n\" style=\"fill:#ff0000;fill-opacity:0.7;stroke:#ffffff;stroke-opacity:0.7;stroke-width:0.777647;\"/>\r\n    <path clip-path=\"url(#pc3c312444b)\" d=\"M 174.46495 503.4268 \r\nC 177.560854 503.4268 180.530375 502.196784 182.719509 500.007649 \r\nC 184.908644 497.818514 186.13866 494.848994 186.13866 491.75309 \r\nC 186.13866 488.657185 184.908644 485.687665 182.719509 483.49853 \r\nC 180.530375 481.309395 177.560854 480.079379 174.46495 480.079379 \r\nC 171.369046 480.079379 168.399525 481.309395 166.21039 483.49853 \r\nC 164.021255 485.687665 162.79124 488.657185 162.79124 491.75309 \r\nC 162.79124 494.848994 164.021255 497.818514 166.21039 500.007649 \r\nC 168.399525 502.196784 171.369046 503.4268 174.46495 503.4268 \r\nz\r\n\" style=\"fill:#800080;fill-opacity:0.7;stroke:#ffffff;stroke-opacity:0.7;stroke-width:0.777647;\"/>\r\n    <path clip-path=\"url(#pc3c312444b)\" d=\"M 307.136278 496.542411 \r\nC 309.373247 496.542411 311.518896 495.653654 313.100671 494.071879 \r\nC 314.682446 492.490103 315.571203 490.344454 315.571203 488.107486 \r\nC 315.571203 485.870518 314.682446 483.724869 313.100671 482.143093 \r\nC 311.518896 480.561318 309.373247 479.672561 307.136278 479.672561 \r\nC 304.89931 479.672561 302.753661 480.561318 301.171886 482.143093 \r\nC 299.59011 483.724869 298.701353 485.870518 298.701353 488.107486 \r\nC 298.701353 490.344454 299.59011 492.490103 301.171886 494.071879 \r\nC 302.753661 495.653654 304.89931 496.542411 307.136278 496.542411 \r\nz\r\n\" style=\"fill:#ff0000;fill-opacity:0.7;stroke:#ffffff;stroke-opacity:0.7;stroke-width:0.777647;\"/>\r\n    <path clip-path=\"url(#pc3c312444b)\" d=\"M 157.881034 499.705559 \r\nC 160.956879 499.705559 163.907159 498.483513 166.08211 496.308562 \r\nC 168.257061 494.133611 169.479107 491.183331 169.479107 488.107486 \r\nC 169.479107 485.031641 168.257061 482.081361 166.08211 479.90641 \r\nC 163.907159 477.731459 160.956879 476.509413 157.881034 476.509413 \r\nC 154.805189 476.509413 151.854908 477.731459 149.679957 479.90641 \r\nC 147.505006 482.081361 146.28296 485.031641 146.28296 488.107486 \r\nC 146.28296 491.183331 147.505006 494.133611 149.679957 496.308562 \r\nC 151.854908 498.483513 154.805189 499.705559 157.881034 499.705559 \r\nz\r\n\" style=\"fill:#800080;fill-opacity:0.7;stroke:#ffffff;stroke-opacity:0.7;stroke-width:0.777647;\"/>\r\n    <path clip-path=\"url(#pc3c312444b)\" d=\"M 373.471943 487.823581 \r\nC 374.363476 487.823581 375.218614 487.469372 375.849023 486.838963 \r\nC 376.479432 486.208554 376.833642 485.353415 376.833642 484.461882 \r\nC 376.833642 483.570349 376.479432 482.715211 375.849023 482.084802 \r\nC 375.218614 481.454393 374.363476 481.100183 373.471943 481.100183 \r\nC 372.58041 481.100183 371.725272 481.454393 371.094863 482.084802 \r\nC 370.464454 482.715211 370.110244 483.570349 370.110244 484.461882 \r\nC 370.110244 485.353415 370.464454 486.208554 371.094863 486.838963 \r\nC 371.725272 487.469372 372.58041 487.823581 373.471943 487.823581 \r\nz\r\n\" style=\"fill:#ff0000;fill-opacity:0.7;stroke:#ffffff;stroke-opacity:0.7;stroke-width:0.777647;\"/>\r\n    <path clip-path=\"url(#pc3c312444b)\" d=\"M 174.46495 497.353701 \r\nC 177.8839 497.353701 181.163279 495.995337 183.580842 493.577775 \r\nC 185.998405 491.160212 187.356768 487.880833 187.356768 484.461882 \r\nC 187.356768 481.042932 185.998405 477.763553 183.580842 475.34599 \r\nC 181.163279 472.928427 177.8839 471.570064 174.46495 471.570064 \r\nC 171.046 471.570064 167.76662 472.928427 165.349058 475.34599 \r\nC 162.931495 477.763553 161.573131 481.042932 161.573131 484.461882 \r\nC 161.573131 487.880833 162.931495 491.160212 165.349058 493.577775 \r\nC 167.76662 495.995337 171.046 497.353701 174.46495 497.353701 \r\nz\r\n\" style=\"fill:#800080;fill-opacity:0.7;stroke:#ffffff;stroke-opacity:0.7;stroke-width:0.777647;\"/>\r\n    <path clip-path=\"url(#pc3c312444b)\" d=\"M 854.405509 483.269931 \r\nC 855.056225 483.269931 855.680377 483.011399 856.140503 482.551273 \r\nC 856.600629 482.091147 856.859161 481.466995 856.859161 480.816279 \r\nC 856.859161 480.165563 856.600629 479.541411 856.140503 479.081285 \r\nC 855.680377 478.621159 855.056225 478.362627 854.405509 478.362627 \r\nC 853.754793 478.362627 853.130641 478.621159 852.670515 479.081285 \r\nC 852.210389 479.541411 851.951857 480.165563 851.951857 480.816279 \r\nC 851.951857 481.466995 852.210389 482.091147 852.670515 482.551273 \r\nC 853.130641 483.011399 853.754793 483.269931 854.405509 483.269931 \r\nz\r\n\" style=\"fill:#ff0000;fill-opacity:0.7;stroke:#ffffff;stroke-opacity:0.7;stroke-width:0.777647;\"/>\r\n    <path clip-path=\"url(#pc3c312444b)\" d=\"M 290.552362 492.106739 \r\nC 293.546627 492.106739 296.418658 490.917105 298.535923 488.79984 \r\nC 300.653188 486.682575 301.842822 483.810544 301.842822 480.816279 \r\nC 301.842822 477.822014 300.653188 474.949983 298.535923 472.832718 \r\nC 296.418658 470.715453 293.546627 469.525819 290.552362 469.525819 \r\nC 287.558097 469.525819 284.686067 470.715453 282.568801 472.832718 \r\nC 280.451536 474.949983 279.261902 477.822014 279.261902 480.816279 \r\nC 279.261902 483.810544 280.451536 486.682575 282.568801 488.79984 \r\nC 284.686067 490.917105 287.558097 492.106739 290.552362 492.106739 \r\nz\r\n\" style=\"fill:#800080;fill-opacity:0.7;stroke:#ffffff;stroke-opacity:0.7;stroke-width:0.777647;\"/>\r\n    <path clip-path=\"url(#pc3c312444b)\" d=\"M 904.157257 485.854399 \r\nC 905.493382 485.854399 906.774963 485.323551 907.719746 484.378768 \r\nC 908.664529 483.433985 909.195377 482.152404 909.195377 480.816279 \r\nC 909.195377 479.480154 908.664529 478.198573 907.719746 477.25379 \r\nC 906.774963 476.309007 905.493382 475.778159 904.157257 475.778159 \r\nC 902.821132 475.778159 901.539552 476.309007 900.594769 477.25379 \r\nC 899.649986 478.198573 899.119137 479.480154 899.119137 480.816279 \r\nC 899.119137 482.152404 899.649986 483.433985 900.594769 484.378768 \r\nC 901.539552 485.323551 902.821132 485.854399 904.157257 485.854399 \r\nz\r\n\" style=\"fill:#ff0000;fill-opacity:0.7;stroke:#ffffff;stroke-opacity:0.7;stroke-width:0.777647;\"/>\r\n    <path clip-path=\"url(#pc3c312444b)\" d=\"M 373.471943 494.045035 \r\nC 376.98025 494.045035 380.345338 492.65117 382.826086 490.170422 \r\nC 385.306834 487.689674 386.700699 484.324586 386.700699 480.816279 \r\nC 386.700699 477.307972 385.306834 473.942883 382.826086 471.462135 \r\nC 380.345338 468.981388 376.98025 467.587522 373.471943 467.587522 \r\nC 369.963635 467.587522 366.598547 468.981388 364.117799 471.462135 \r\nC 361.637051 473.942883 360.243186 477.307972 360.243186 480.816279 \r\nC 360.243186 484.324586 361.637051 487.689674 364.117799 490.170422 \r\nC 366.598547 492.65117 369.963635 494.045035 373.471943 494.045035 \r\nz\r\n\" style=\"fill:#800080;fill-opacity:0.7;stroke:#ffffff;stroke-opacity:0.7;stroke-width:0.777647;\"/>\r\n    <path clip-path=\"url(#pc3c312444b)\" d=\"M 754.902013 482.380556 \r\nC 756.283689 482.380556 757.608962 481.83161 758.585955 480.854617 \r\nC 759.562947 479.877624 760.111893 478.552352 760.111893 477.170675 \r\nC 760.111893 475.788999 759.562947 474.463726 758.585955 473.486733 \r\nC 757.608962 472.50974 756.283689 471.960795 754.902013 471.960795 \r\nC 753.520336 471.960795 752.195064 472.50974 751.218071 473.486733 \r\nC 750.241078 474.463726 749.692132 475.788999 749.692132 477.170675 \r\nC 749.692132 478.552352 750.241078 479.877624 751.218071 480.854617 \r\nC 752.195064 481.83161 753.520336 482.380556 754.902013 482.380556 \r\nz\r\n\" style=\"fill:#ff0000;fill-opacity:0.7;stroke:#ffffff;stroke-opacity:0.7;stroke-width:0.777647;\"/>\r\n    <path clip-path=\"url(#pc3c312444b)\" d=\"M 191.048866 488.844386 \r\nC 194.14477 488.844386 197.114291 487.61437 199.303425 485.425235 \r\nC 201.49256 483.2361 202.722576 480.266579 202.722576 477.170675 \r\nC 202.722576 474.074771 201.49256 471.10525 199.303425 468.916116 \r\nC 197.114291 466.726981 194.14477 465.496965 191.048866 465.496965 \r\nC 187.952962 465.496965 184.983441 466.726981 182.794306 468.916116 \r\nC 180.605171 471.10525 179.375156 474.074771 179.375156 477.170675 \r\nC 179.375156 480.266579 180.605171 483.2361 182.794306 485.425235 \r\nC 184.983441 487.61437 187.952962 488.844386 191.048866 488.844386 \r\nz\r\n\" style=\"fill:#800080;fill-opacity:0.7;stroke:#ffffff;stroke-opacity:0.7;stroke-width:0.777647;\"/>\r\n    <path clip-path=\"url(#pc3c312444b)\" d=\"M 406.639775 482.030968 \r\nC 407.92874 482.030968 409.165085 481.518857 410.076521 480.607422 \r\nC 410.987957 479.695986 411.500068 478.45964 411.500068 477.170675 \r\nC 411.500068 475.881711 410.987957 474.645365 410.076521 473.733929 \r\nC 409.165085 472.822493 407.92874 472.310382 406.639775 472.310382 \r\nC 405.35081 472.310382 404.114464 472.822493 403.203029 473.733929 \r\nC 402.291593 474.645365 401.779482 475.881711 401.779482 477.170675 \r\nC 401.779482 478.45964 402.291593 479.695986 403.203029 480.607422 \r\nC 404.114464 481.518857 405.35081 482.030968 406.639775 482.030968 \r\nz\r\n\" style=\"fill:#ff0000;fill-opacity:0.7;stroke:#ffffff;stroke-opacity:0.7;stroke-width:0.777647;\"/>\r\n    <path clip-path=\"url(#pc3c312444b)\" d=\"M 157.881034 488.994208 \r\nC 161.016671 488.994208 164.024303 487.748406 166.241534 485.531175 \r\nC 168.458764 483.313945 169.704566 480.306313 169.704566 477.170675 \r\nC 169.704566 474.035038 168.458764 471.027406 166.241534 468.810175 \r\nC 164.024303 466.592945 161.016671 465.347143 157.881034 465.347143 \r\nC 154.745396 465.347143 151.737764 466.592945 149.520534 468.810175 \r\nC 147.303303 471.027406 146.057501 474.035038 146.057501 477.170675 \r\nC 146.057501 480.306313 147.303303 483.313945 149.520534 485.531175 \r\nC 151.737764 487.748406 154.745396 488.994208 157.881034 488.994208 \r\nz\r\n\" style=\"fill:#800080;fill-opacity:0.7;stroke:#ffffff;stroke-opacity:0.7;stroke-width:0.777647;\"/>\r\n    <path clip-path=\"url(#pc3c312444b)\" d=\"M 373.471943 481.421079 \r\nC 375.565988 481.421079 377.574549 480.589106 379.055263 479.108392 \r\nC 380.535977 477.627678 381.367951 475.619117 381.367951 473.525072 \r\nC 381.367951 471.431026 380.535977 469.422465 379.055263 467.941751 \r\nC 377.574549 466.461037 375.565988 465.629064 373.471943 465.629064 \r\nC 371.377897 465.629064 369.369336 466.461037 367.888622 467.941751 \r\nC 366.407908 469.422465 365.575935 471.431026 365.575935 473.525072 \r\nC 365.575935 475.619117 366.407908 477.627678 367.888622 479.108392 \r\nC 369.369336 480.589106 371.377897 481.421079 373.471943 481.421079 \r\nz\r\n\" style=\"fill:#ff0000;fill-opacity:0.7;stroke:#ffffff;stroke-opacity:0.7;stroke-width:0.777647;\"/>\r\n    <path clip-path=\"url(#pc3c312444b)\" d=\"M 124.713201 484.337715 \r\nC 127.580748 484.337715 130.331234 483.198427 132.358895 481.170765 \r\nC 134.386557 479.143104 135.525845 476.392618 135.525845 473.525072 \r\nC 135.525845 470.657525 134.386557 467.90704 132.358895 465.879378 \r\nC 130.331234 463.851716 127.580748 462.712428 124.713201 462.712428 \r\nC 121.845655 462.712428 119.095169 463.851716 117.067508 465.879378 \r\nC 115.039846 467.90704 113.900558 470.657525 113.900558 473.525072 \r\nC 113.900558 476.392618 115.039846 479.143104 117.067508 481.170765 \r\nC 119.095169 483.198427 121.845655 484.337715 124.713201 484.337715 \r\nz\r\n\" style=\"fill:#800080;fill-opacity:0.7;stroke:#ffffff;stroke-opacity:0.7;stroke-width:0.777647;\"/>\r\n    <path clip-path=\"url(#pc3c312444b)\" d=\"M 655.398516 473.430094 \r\nC 657.306978 473.430094 659.137532 472.671854 660.487019 471.322367 \r\nC 661.836505 469.97288 662.594745 468.142327 662.594745 466.233865 \r\nC 662.594745 464.325402 661.836505 462.494849 660.487019 461.145362 \r\nC 659.137532 459.795875 657.306978 459.037635 655.398516 459.037635 \r\nC 653.490054 459.037635 651.6595 459.795875 650.310014 461.145362 \r\nC 648.960527 462.494849 648.202287 464.325402 648.202287 466.233865 \r\nC 648.202287 468.142327 648.960527 469.97288 650.310014 471.322367 \r\nC 651.6595 472.671854 653.490054 473.430094 655.398516 473.430094 \r\nz\r\n\" style=\"fill:#ff0000;fill-opacity:0.7;stroke:#ffffff;stroke-opacity:0.7;stroke-width:0.777647;\"/>\r\n    <path clip-path=\"url(#pc3c312444b)\" d=\"M 373.471943 479.395924 \r\nC 376.962562 479.395924 380.310684 478.009086 382.778924 475.540846 \r\nC 385.247164 473.072605 386.634002 469.724483 386.634002 466.233865 \r\nC 386.634002 462.743246 385.247164 459.395124 382.778924 456.926883 \r\nC 380.310684 454.458643 376.962562 453.071806 373.471943 453.071806 \r\nC 369.981324 453.071806 366.633202 454.458643 364.164962 456.926883 \r\nC 361.696721 459.395124 360.309884 462.743246 360.309884 466.233865 \r\nC 360.309884 469.724483 361.696721 473.072605 364.164962 475.540846 \r\nC 366.633202 478.009086 369.981324 479.395924 373.471943 479.395924 \r\nz\r\n\" style=\"fill:#800080;fill-opacity:0.7;stroke:#ffffff;stroke-opacity:0.7;stroke-width:0.777647;\"/>\r\n    <path clip-path=\"url(#pc3c312444b)\" d=\"M 373.471943 470.484269 \r\nC 375.565988 470.484269 377.574549 469.652296 379.055263 468.171582 \r\nC 380.535977 466.690868 381.367951 464.682307 381.367951 462.588261 \r\nC 381.367951 460.494215 380.535977 458.485654 379.055263 457.00494 \r\nC 377.574549 455.524226 375.565988 454.692253 373.471943 454.692253 \r\nC 371.377897 454.692253 369.369336 455.524226 367.888622 457.00494 \r\nC 366.407908 458.485654 365.575935 460.494215 365.575935 462.588261 \r\nC 365.575935 464.682307 366.407908 466.690868 367.888622 468.171582 \r\nC 369.369336 469.652296 371.377897 470.484269 373.471943 470.484269 \r\nz\r\n\" style=\"fill:#ff0000;fill-opacity:0.7;stroke:#ffffff;stroke-opacity:0.7;stroke-width:0.777647;\"/>\r\n    <path clip-path=\"url(#pc3c312444b)\" d=\"M 207.632782 473.956405 \r\nC 210.647649 473.956405 213.539441 472.758585 215.671273 470.626753 \r\nC 217.803106 468.49492 219.000926 465.603128 219.000926 462.588261 \r\nC 219.000926 459.573394 217.803106 456.681602 215.671273 454.549769 \r\nC 213.539441 452.417937 210.647649 451.220117 207.632782 451.220117 \r\nC 204.617915 451.220117 201.726123 452.417937 199.59429 454.549769 \r\nC 197.462457 456.681602 196.264638 459.573394 196.264638 462.588261 \r\nC 196.264638 465.603128 197.462457 468.49492 199.59429 470.626753 \r\nC 201.726123 472.758585 204.617915 473.956405 207.632782 473.956405 \r\nz\r\n\" style=\"fill:#800080;fill-opacity:0.7;stroke:#ffffff;stroke-opacity:0.7;stroke-width:0.777647;\"/>\r\n    <path clip-path=\"url(#pc3c312444b)\" d=\"M 555.89502 462.031479 \r\nC 556.714185 462.031479 557.499909 461.706021 558.079146 461.126784 \r\nC 558.658383 460.547547 558.983841 459.761822 558.983841 458.942657 \r\nC 558.983841 458.123492 558.658383 457.337768 558.079146 456.758531 \r\nC 557.499909 456.179294 556.714185 455.853836 555.89502 455.853836 \r\nC 555.075855 455.853836 554.29013 456.179294 553.710893 456.758531 \r\nC 553.131656 457.337768 552.806198 458.123492 552.806198 458.942657 \r\nC 552.806198 459.761822 553.131656 460.547547 553.710893 461.126784 \r\nC 554.29013 461.706021 555.075855 462.031479 555.89502 462.031479 \r\nz\r\n\" style=\"fill:#ff0000;fill-opacity:0.7;stroke:#ffffff;stroke-opacity:0.7;stroke-width:0.777647;\"/>\r\n    <path clip-path=\"url(#pc3c312444b)\" d=\"M 307.136278 470.310801 \r\nC 310.151145 470.310801 313.042937 469.112982 315.17477 466.981149 \r\nC 317.306603 464.849316 318.504422 461.957524 318.504422 458.942657 \r\nC 318.504422 455.92779 317.306603 453.035999 315.17477 450.904166 \r\nC 313.042937 448.772333 310.151145 447.574514 307.136278 447.574514 \r\nC 304.121411 447.574514 301.22962 448.772333 299.097787 450.904166 \r\nC 296.965954 453.035999 295.768135 455.92779 295.768135 458.942657 \r\nC 295.768135 461.957524 296.965954 464.849316 299.097787 466.981149 \r\nC 301.22962 469.112982 304.121411 470.310801 307.136278 470.310801 \r\nz\r\n\" style=\"fill:#800080;fill-opacity:0.7;stroke:#ffffff;stroke-opacity:0.7;stroke-width:0.777647;\"/>\r\n    <path clip-path=\"url(#pc3c312444b)\" d=\"M 688.566348 453.043967 \r\nC 689.902473 453.043967 691.184054 452.513119 692.128837 451.568335 \r\nC 693.07362 450.623552 693.604468 449.341972 693.604468 448.005847 \r\nC 693.604468 446.669722 693.07362 445.388141 692.128837 444.443358 \r\nC 691.184054 443.498575 689.902473 442.967727 688.566348 442.967727 \r\nC 687.230223 442.967727 685.948643 443.498575 685.00386 444.443358 \r\nC 684.059076 445.388141 683.528228 446.669722 683.528228 448.005847 \r\nC 683.528228 449.341972 684.059076 450.623552 685.00386 451.568335 \r\nC 685.948643 452.513119 687.230223 453.043967 688.566348 453.043967 \r\nz\r\n\" style=\"fill:#ff0000;fill-opacity:0.7;stroke:#ffffff;stroke-opacity:0.7;stroke-width:0.777647;\"/>\r\n    <path clip-path=\"url(#pc3c312444b)\" d=\"M 273.968446 460.050619 \r\nC 277.162757 460.050619 280.226667 458.781505 282.485386 456.522787 \r\nC 284.744105 454.264068 286.013218 451.200158 286.013218 448.005847 \r\nC 286.013218 444.811536 284.744105 441.747626 282.485386 439.488907 \r\nC 280.226667 437.230188 277.162757 435.961075 273.968446 435.961075 \r\nC 270.774135 435.961075 267.710225 437.230188 265.451506 439.488907 \r\nC 263.192787 441.747626 261.923674 444.811536 261.923674 448.005847 \r\nC 261.923674 451.200158 263.192787 454.264068 265.451506 456.522787 \r\nC 267.710225 458.781505 270.774135 460.050619 273.968446 460.050619 \r\nz\r\n\" style=\"fill:#800080;fill-opacity:0.7;stroke:#ffffff;stroke-opacity:0.7;stroke-width:0.777647;\"/>\r\n    <path clip-path=\"url(#pc3c312444b)\" d=\"M 539.311104 455.560072 \r\nC 541.314508 455.560072 543.236127 454.764112 544.652748 453.347491 \r\nC 546.069368 451.93087 546.865329 450.009251 546.865329 448.005847 \r\nC 546.865329 446.002443 546.069368 444.080823 544.652748 442.664202 \r\nC 543.236127 441.247582 541.314508 440.451621 539.311104 440.451621 \r\nC 537.307699 440.451621 535.38608 441.247582 533.969459 442.664202 \r\nC 532.552839 444.080823 531.756878 446.002443 531.756878 448.005847 \r\nC 531.756878 450.009251 532.552839 451.93087 533.969459 453.347491 \r\nC 535.38608 454.764112 537.307699 455.560072 539.311104 455.560072 \r\nz\r\n\" style=\"fill:#ff0000;fill-opacity:0.7;stroke:#ffffff;stroke-opacity:0.7;stroke-width:0.777647;\"/>\r\n    <path clip-path=\"url(#pc3c312444b)\" d=\"M 373.471943 458.403551 \r\nC 376.229446 458.403551 378.87438 457.307983 380.82423 455.358134 \r\nC 382.774079 453.408284 383.869647 450.76335 383.869647 448.005847 \r\nC 383.869647 445.248343 382.774079 442.603409 380.82423 440.65356 \r\nC 378.87438 438.703711 376.229446 437.608143 373.471943 437.608143 \r\nC 370.714439 437.608143 368.069505 438.703711 366.119656 440.65356 \r\nC 364.169807 442.603409 363.074239 445.248343 363.074239 448.005847 \r\nC 363.074239 450.76335 364.169807 453.408284 366.119656 455.358134 \r\nC 368.069505 457.307983 370.714439 458.403551 373.471943 458.403551 \r\nz\r\n\" style=\"fill:#800080;fill-opacity:0.7;stroke:#ffffff;stroke-opacity:0.7;stroke-width:0.777647;\"/>\r\n    <path clip-path=\"url(#pc3c312444b)\" d=\"M 456.391523 451.797052 \r\nC 458.363788 451.797052 460.255539 451.013463 461.650141 449.618861 \r\nC 463.044743 448.224259 463.828332 446.332508 463.828332 444.360243 \r\nC 463.828332 442.387978 463.044743 440.496227 461.650141 439.101625 \r\nC 460.255539 437.707024 458.363788 436.923434 456.391523 436.923434 \r\nC 454.419258 436.923434 452.527507 437.707024 451.132905 439.101625 \r\nC 449.738304 440.496227 448.954715 442.387978 448.954715 444.360243 \r\nC 448.954715 446.332508 449.738304 448.224259 451.132905 449.618861 \r\nC 452.527507 451.013463 454.419258 451.797052 456.391523 451.797052 \r\nz\r\n\" style=\"fill:#ff0000;fill-opacity:0.7;stroke:#ffffff;stroke-opacity:0.7;stroke-width:0.777647;\"/>\r\n    <path clip-path=\"url(#pc3c312444b)\" d=\"M 174.46495 456.764982 \r\nC 177.754725 456.764982 180.910202 455.457941 183.236425 453.131718 \r\nC 185.562647 450.805496 186.869689 447.650018 186.869689 444.360243 \r\nC 186.869689 441.070468 185.562647 437.91499 183.236425 435.588768 \r\nC 180.910202 433.262546 177.754725 431.955504 174.46495 431.955504 \r\nC 171.175174 431.955504 168.019697 433.262546 165.693475 435.588768 \r\nC 163.367252 437.91499 162.060211 441.070468 162.060211 444.360243 \r\nC 162.060211 447.650018 163.367252 450.805496 165.693475 453.131718 \r\nC 168.019697 455.457941 171.175174 456.764982 174.46495 456.764982 \r\nz\r\n\" style=\"fill:#800080;fill-opacity:0.7;stroke:#ffffff;stroke-opacity:0.7;stroke-width:0.777647;\"/>\r\n    <path clip-path=\"url(#pc3c312444b)\" d=\"M 788.069845 443.504014 \r\nC 788.809596 443.504014 789.519148 443.210108 790.042231 442.687025 \r\nC 790.565314 442.163943 790.85922 441.45439 790.85922 440.71464 \r\nC 790.85922 439.974889 790.565314 439.265336 790.042231 438.742254 \r\nC 789.519148 438.219171 788.809596 437.925265 788.069845 437.925265 \r\nC 787.330094 437.925265 786.620542 438.219171 786.097459 438.742254 \r\nC 785.574376 439.265336 785.28047 439.974889 785.28047 440.71464 \r\nC 785.28047 441.45439 785.574376 442.163943 786.097459 442.687025 \r\nC 786.620542 443.210108 787.330094 443.504014 788.069845 443.504014 \r\nz\r\n\" style=\"fill:#ff0000;fill-opacity:0.7;stroke:#ffffff;stroke-opacity:0.7;stroke-width:0.777647;\"/>\r\n    <path clip-path=\"url(#pc3c312444b)\" d=\"M 141.297118 452.082783 \r\nC 144.311985 452.082783 147.203776 450.884964 149.335609 448.753131 \r\nC 151.467442 446.621298 152.665261 443.729507 152.665261 440.71464 \r\nC 152.665261 437.699773 151.467442 434.807981 149.335609 432.676148 \r\nC 147.203776 430.544315 144.311985 429.346496 141.297118 429.346496 \r\nC 138.282251 429.346496 135.390459 430.544315 133.258626 432.676148 \r\nC 131.126793 434.807981 129.928974 437.699773 129.928974 440.71464 \r\nC 129.928974 443.729507 131.126793 446.621298 133.258626 448.753131 \r\nC 135.390459 450.884964 138.282251 452.082783 141.297118 452.082783 \r\nz\r\n\" style=\"fill:#800080;fill-opacity:0.7;stroke:#ffffff;stroke-opacity:0.7;stroke-width:0.777647;\"/>\r\n    <path clip-path=\"url(#pc3c312444b)\" d=\"M 671.982432 432.567204 \r\nC 672.722183 432.567204 673.431735 432.273298 673.954818 431.750215 \r\nC 674.477901 431.227132 674.771807 430.51758 674.771807 429.777829 \r\nC 674.771807 429.038078 674.477901 428.328526 673.954818 427.805443 \r\nC 673.431735 427.28236 672.722183 426.988454 671.982432 426.988454 \r\nC 671.242681 426.988454 670.533129 427.28236 670.010046 427.805443 \r\nC 669.486964 428.328526 669.193057 429.038078 669.193057 429.777829 \r\nC 669.193057 430.51758 669.486964 431.227132 670.010046 431.750215 \r\nC 670.533129 432.273298 671.242681 432.567204 671.982432 432.567204 \r\nz\r\n\" style=\"fill:#ff0000;fill-opacity:0.7;stroke:#ffffff;stroke-opacity:0.7;stroke-width:0.777647;\"/>\r\n    <path clip-path=\"url(#pc3c312444b)\" d=\"M 91.545369 442.53238 \r\nC 94.927916 442.53238 98.172377 441.18848 100.564199 438.796658 \r\nC 102.95602 436.404837 104.29992 433.160375 104.29992 429.777829 \r\nC 104.29992 426.395282 102.95602 423.150821 100.564199 420.758999 \r\nC 98.172377 418.367178 94.927916 417.023278 91.545369 417.023278 \r\nC 88.162823 417.023278 84.918361 418.367178 82.52654 420.758999 \r\nC 80.134718 423.150821 78.790818 426.395282 78.790818 429.777829 \r\nC 78.790818 433.160375 80.134718 436.404837 82.52654 438.796658 \r\nC 84.918361 441.18848 88.162823 442.53238 91.545369 442.53238 \r\nz\r\n\" style=\"fill:#800080;fill-opacity:0.7;stroke:#ffffff;stroke-opacity:0.7;stroke-width:0.777647;\"/>\r\n    <path clip-path=\"url(#pc3c312444b)\" d=\"M 605.646768 434.815949 \r\nC 606.982893 434.815949 608.264474 434.285101 609.209257 433.340318 \r\nC 610.15404 432.395535 610.684888 431.113954 610.684888 429.777829 \r\nC 610.684888 428.441704 610.15404 427.160123 609.209257 426.21534 \r\nC 608.264474 425.270557 606.982893 424.739709 605.646768 424.739709 \r\nC 604.310643 424.739709 603.029062 425.270557 602.084279 426.21534 \r\nC 601.139496 427.160123 600.608648 428.441704 600.608648 429.777829 \r\nC 600.608648 431.113954 601.139496 432.395535 602.084279 433.340318 \r\nC 603.029062 434.285101 604.310643 434.815949 605.646768 434.815949 \r\nz\r\n\" style=\"fill:#ff0000;fill-opacity:0.7;stroke:#ffffff;stroke-opacity:0.7;stroke-width:0.777647;\"/>\r\n    <path clip-path=\"url(#pc3c312444b)\" d=\"M 141.297118 441.749309 \r\nC 144.471991 441.749309 147.517257 440.487918 149.762232 438.242943 \r\nC 152.007207 435.997969 153.268597 432.952702 153.268597 429.777829 \r\nC 153.268597 426.602955 152.007207 423.557689 149.762232 421.312714 \r\nC 147.517257 419.06774 144.471991 417.806349 141.297118 417.806349 \r\nC 138.122244 417.806349 135.076978 419.06774 132.832003 421.312714 \r\nC 130.587028 423.557689 129.325638 426.602955 129.325638 429.777829 \r\nC 129.325638 432.952702 130.587028 435.997969 132.832003 438.242943 \r\nC 135.076978 440.487918 138.122244 441.749309 141.297118 441.749309 \r\nz\r\n\" style=\"fill:#800080;fill-opacity:0.7;stroke:#ffffff;stroke-opacity:0.7;stroke-width:0.777647;\"/>\r\n    <path clip-path=\"url(#pc3c312444b)\" d=\"M 489.559355 431.669667 \r\nC 491.027902 431.669667 492.436499 431.086208 493.474918 430.047788 \r\nC 494.513338 429.009369 495.096797 427.600772 495.096797 426.132225 \r\nC 495.096797 424.663678 494.513338 423.255082 493.474918 422.216662 \r\nC 492.436499 421.178243 491.027902 420.594783 489.559355 420.594783 \r\nC 488.090809 420.594783 486.682212 421.178243 485.643792 422.216662 \r\nC 484.605373 423.255082 484.021913 424.663678 484.021913 426.132225 \r\nC 484.021913 427.600772 484.605373 429.009369 485.643792 430.047788 \r\nC 486.682212 431.086208 488.090809 431.669667 489.559355 431.669667 \r\nz\r\n\" style=\"fill:#ff0000;fill-opacity:0.7;stroke:#ffffff;stroke-opacity:0.7;stroke-width:0.777647;\"/>\r\n    <path clip-path=\"url(#pc3c312444b)\" d=\"M 290.552362 437.500369 \r\nC 293.567229 437.500369 296.459021 436.30255 298.590854 434.170717 \r\nC 300.722687 432.038884 301.920506 429.147092 301.920506 426.132225 \r\nC 301.920506 423.117358 300.722687 420.225567 298.590854 418.093734 \r\nC 296.459021 415.961901 293.567229 414.764081 290.552362 414.764081 \r\nC 287.537495 414.764081 284.645704 415.961901 282.513871 418.093734 \r\nC 280.382038 420.225567 279.184219 423.117358 279.184219 426.132225 \r\nC 279.184219 429.147092 280.382038 432.038884 282.513871 434.170717 \r\nC 284.645704 436.30255 287.537495 437.500369 290.552362 437.500369 \r\nz\r\n\" style=\"fill:#800080;fill-opacity:0.7;stroke:#ffffff;stroke-opacity:0.7;stroke-width:0.777647;\"/>\r\n    <path clip-path=\"url(#pc3c312444b)\" d=\"M 390.055859 422.014879 \r\nC 391.864402 422.014879 393.599116 421.296338 394.877949 420.017504 \r\nC 396.156782 418.738671 396.875324 417.003958 396.875324 415.195414 \r\nC 396.875324 413.386871 396.156782 411.652158 394.877949 410.373325 \r\nC 393.599116 409.094491 391.864402 408.37595 390.055859 408.37595 \r\nC 388.247316 408.37595 386.512602 409.094491 385.233769 410.373325 \r\nC 383.954936 411.652158 383.236394 413.386871 383.236394 415.195414 \r\nC 383.236394 417.003958 383.954936 418.738671 385.233769 420.017504 \r\nC 386.512602 421.296338 388.247316 422.014879 390.055859 422.014879 \r\nz\r\n\" style=\"fill:#ff0000;fill-opacity:0.7;stroke:#ffffff;stroke-opacity:0.7;stroke-width:0.777647;\"/>\r\n    <path clip-path=\"url(#pc3c312444b)\" d=\"M 124.713201 426.717355 \r\nC 127.768856 426.717355 130.69977 425.50333 132.860443 423.342656 \r\nC 135.021117 421.181983 136.235142 418.251069 136.235142 415.195414 \r\nC 136.235142 412.13976 135.021117 409.208846 132.860443 407.048173 \r\nC 130.69977 404.887499 127.768856 403.673474 124.713201 403.673474 \r\nC 121.657547 403.673474 118.726633 404.887499 116.56596 407.048173 \r\nC 114.405286 409.208846 113.191261 412.13976 113.191261 415.195414 \r\nC 113.191261 418.251069 114.405286 421.181983 116.56596 423.342656 \r\nC 118.726633 425.50333 121.657547 426.717355 124.713201 426.717355 \r\nz\r\n\" style=\"fill:#800080;fill-opacity:0.7;stroke:#ffffff;stroke-opacity:0.7;stroke-width:0.777647;\"/>\r\n    <path clip-path=\"url(#pc3c312444b)\" d=\"M 870.989425 419.445819 \r\nC 873.083471 419.445819 875.092032 418.613846 876.572746 417.133132 \r\nC 878.05346 415.652418 878.885433 413.643857 878.885433 411.549811 \r\nC 878.885433 409.455765 878.05346 407.447204 876.572746 405.96649 \r\nC 875.092032 404.485776 873.083471 403.653803 870.989425 403.653803 \r\nC 868.89538 403.653803 866.886819 404.485776 865.406105 405.96649 \r\nC 863.925391 407.447204 863.093417 409.455765 863.093417 411.549811 \r\nC 863.093417 413.643857 863.925391 415.652418 865.406105 417.133132 \r\nC 866.886819 418.613846 868.89538 419.445819 870.989425 419.445819 \r\nz\r\n\" style=\"fill:#008000;fill-opacity:0.7;stroke:#ffffff;stroke-opacity:0.7;stroke-width:0.777647;\"/>\r\n    <path clip-path=\"url(#pc3c312444b)\" d=\"M 191.048866 424.304362 \r\nC 194.431412 424.304362 197.675874 422.960462 200.067695 420.56864 \r\nC 202.459517 418.176819 203.803417 414.932357 203.803417 411.549811 \r\nC 203.803417 408.167264 202.459517 404.922803 200.067695 402.530981 \r\nC 197.675874 400.13916 194.431412 398.79526 191.048866 398.79526 \r\nC 187.666319 398.79526 184.421858 400.13916 182.030036 402.530981 \r\nC 179.638215 404.922803 178.294315 408.167264 178.294315 411.549811 \r\nC 178.294315 414.932357 179.638215 418.176819 182.030036 420.56864 \r\nC 184.421858 422.960462 187.666319 424.304362 191.048866 424.304362 \r\nz\r\n\" style=\"fill:#800080;fill-opacity:0.7;stroke:#ffffff;stroke-opacity:0.7;stroke-width:0.777647;\"/>\r\n    <path clip-path=\"url(#pc3c312444b)\" d=\"M 589.062852 415.910901 \r\nC 591.186252 415.910901 593.222969 415.067265 594.724439 413.565795 \r\nC 596.22591 412.064324 597.069545 410.027607 597.069545 407.904207 \r\nC 597.069545 405.780807 596.22591 403.74409 594.724439 402.24262 \r\nC 593.222969 400.741149 591.186252 399.897514 589.062852 399.897514 \r\nC 586.939452 399.897514 584.902735 400.741149 583.401264 402.24262 \r\nC 581.899794 403.74409 581.056158 405.780807 581.056158 407.904207 \r\nC 581.056158 410.027607 581.899794 412.064324 583.401264 413.565795 \r\nC 584.902735 415.067265 586.939452 415.910901 589.062852 415.910901 \r\nz\r\n\" style=\"fill:#ff0000;fill-opacity:0.7;stroke:#ffffff;stroke-opacity:0.7;stroke-width:0.777647;\"/>\r\n    <path clip-path=\"url(#pc3c312444b)\" d=\"M 307.136278 418.301911 \r\nC 309.893782 418.301911 312.538716 417.206343 314.488565 415.256494 \r\nC 316.438415 413.306645 317.533982 410.661711 317.533982 407.904207 \r\nC 317.533982 405.146704 316.438415 402.50177 314.488565 400.55192 \r\nC 312.538716 398.602071 309.893782 397.506504 307.136278 397.506504 \r\nC 304.378775 397.506504 301.733841 398.602071 299.783992 400.55192 \r\nC 297.834142 402.50177 296.738575 405.146704 296.738575 407.904207 \r\nC 296.738575 410.661711 297.834142 413.306645 299.783992 415.256494 \r\nC 301.733841 417.206343 304.378775 418.301911 307.136278 418.301911 \r\nz\r\n\" style=\"fill:#0000ff;fill-opacity:0.7;stroke:#ffffff;stroke-opacity:0.7;stroke-width:0.777647;\"/>\r\n    <path clip-path=\"url(#pc3c312444b)\" d=\"M 605.646768 414.977079 \r\nC 607.522515 414.977079 609.32169 414.231836 610.648043 412.905483 \r\nC 611.974397 411.579129 612.719639 409.779955 612.719639 407.904207 \r\nC 612.719639 406.02846 611.974397 404.229286 610.648043 402.902932 \r\nC 609.32169 401.576578 607.522515 400.831336 605.646768 400.831336 \r\nC 603.77102 400.831336 601.971846 401.576578 600.645493 402.902932 \r\nC 599.319139 404.229286 598.573896 406.02846 598.573896 407.904207 \r\nC 598.573896 409.779955 599.319139 411.579129 600.645493 412.905483 \r\nC 601.971846 414.231836 603.77102 414.977079 605.646768 414.977079 \r\nz\r\n\" style=\"fill:#ff0000;fill-opacity:0.7;stroke:#ffffff;stroke-opacity:0.7;stroke-width:0.777647;\"/>\r\n    <path clip-path=\"url(#pc3c312444b)\" d=\"M 191.048866 418.635147 \r\nC 193.894744 418.635147 196.624446 417.504467 198.636786 415.492127 \r\nC 200.649126 413.479787 201.779805 410.750086 201.779805 407.904207 \r\nC 201.779805 405.058329 200.649126 402.328627 198.636786 400.316287 \r\nC 196.624446 398.303947 193.894744 397.173268 191.048866 397.173268 \r\nC 188.202987 397.173268 185.473286 398.303947 183.460946 400.316287 \r\nC 181.448606 402.328627 180.317926 405.058329 180.317926 407.904207 \r\nC 180.317926 410.750086 181.448606 413.479787 183.460946 415.492127 \r\nC 185.473286 417.504467 188.202987 418.635147 191.048866 418.635147 \r\nz\r\n\" style=\"fill:#800080;fill-opacity:0.7;stroke:#ffffff;stroke-opacity:0.7;stroke-width:0.777647;\"/>\r\n    <path clip-path=\"url(#pc3c312444b)\" d=\"M 622.230684 414.135396 \r\nC 624.85004 414.135396 627.362466 413.094715 629.214631 411.24255 \r\nC 631.066795 409.390386 632.107476 406.87796 632.107476 404.258604 \r\nC 632.107476 401.639248 631.066795 399.126821 629.214631 397.274657 \r\nC 627.362466 395.422493 624.85004 394.381812 622.230684 394.381812 \r\nC 619.611328 394.381812 617.098902 395.422493 615.246737 397.274657 \r\nC 613.394573 399.126821 612.353892 401.639248 612.353892 404.258604 \r\nC 612.353892 406.87796 613.394573 409.390386 615.246737 411.24255 \r\nC 617.098902 413.094715 619.611328 414.135396 622.230684 414.135396 \r\nz\r\n\" style=\"fill:#008000;fill-opacity:0.7;stroke:#ffffff;stroke-opacity:0.7;stroke-width:0.777647;\"/>\r\n    <path clip-path=\"url(#pc3c312444b)\" d=\"M 240.800614 413.394762 \r\nC 243.223552 413.394762 245.547578 412.432119 247.260854 410.718843 \r\nC 248.974129 409.005568 249.936772 406.681541 249.936772 404.258604 \r\nC 249.936772 401.835666 248.974129 399.51164 247.260854 397.798364 \r\nC 245.547578 396.085089 243.223552 395.122446 240.800614 395.122446 \r\nC 238.377677 395.122446 236.05365 396.085089 234.340375 397.798364 \r\nC 232.627099 399.51164 231.664456 401.835666 231.664456 404.258604 \r\nC 231.664456 406.681541 232.627099 409.005568 234.340375 410.718843 \r\nC 236.05365 412.432119 238.377677 413.394762 240.800614 413.394762 \r\nz\r\n\" style=\"fill:#0000ff;fill-opacity:0.7;stroke:#ffffff;stroke-opacity:0.7;stroke-width:0.777647;\"/>\r\n    <path clip-path=\"url(#pc3c312444b)\" d=\"M 273.968446 412.89969 \r\nC 276.260089 412.89969 278.458181 411.98921 280.078617 410.368774 \r\nC 281.699053 408.748338 282.609532 406.550247 282.609532 404.258604 \r\nC 282.609532 401.966961 281.699053 399.768869 280.078617 398.148433 \r\nC 278.458181 396.527997 276.260089 395.617518 273.968446 395.617518 \r\nC 271.676803 395.617518 269.478712 396.527997 267.858276 398.148433 \r\nC 266.23784 399.768869 265.32736 401.966961 265.32736 404.258604 \r\nC 265.32736 406.550247 266.23784 408.748338 267.858276 410.368774 \r\nC 269.478712 411.98921 271.676803 412.89969 273.968446 412.89969 \r\nz\r\n\" style=\"fill:#0000ff;fill-opacity:0.7;stroke:#ffffff;stroke-opacity:0.7;stroke-width:0.777647;\"/>\r\n    <path clip-path=\"url(#pc3c312444b)\" d=\"M 307.136278 412.89969 \r\nC 309.427921 412.89969 311.626013 411.98921 313.246449 410.368774 \r\nC 314.866885 408.748338 315.777364 406.550247 315.777364 404.258604 \r\nC 315.777364 401.966961 314.866885 399.768869 313.246449 398.148433 \r\nC 311.626013 396.527997 309.427921 395.617518 307.136278 395.617518 \r\nC 304.844636 395.617518 302.646544 396.527997 301.026108 398.148433 \r\nC 299.405672 399.768869 298.495192 401.966961 298.495192 404.258604 \r\nC 298.495192 406.550247 299.405672 408.748338 301.026108 410.368774 \r\nC 302.646544 411.98921 304.844636 412.89969 307.136278 412.89969 \r\nz\r\n\" style=\"fill:#0000ff;fill-opacity:0.7;stroke:#ffffff;stroke-opacity:0.7;stroke-width:0.777647;\"/>\r\n    <path clip-path=\"url(#pc3c312444b)\" d=\"M 605.646768 406.573145 \r\nC 608.194242 406.573145 610.637722 405.561023 612.439058 403.759687 \r\nC 614.240394 401.95835 615.252517 399.514871 615.252517 396.967397 \r\nC 615.252517 394.419922 614.240394 391.976443 612.439058 390.175107 \r\nC 610.637722 388.37377 608.194242 387.361648 605.646768 387.361648 \r\nC 603.099294 387.361648 600.655814 388.37377 598.854478 390.175107 \r\nC 597.053141 391.976443 596.041019 394.419922 596.041019 396.967397 \r\nC 596.041019 399.514871 597.053141 401.95835 598.854478 403.759687 \r\nC 600.655814 405.561023 603.099294 406.573145 605.646768 406.573145 \r\nz\r\n\" style=\"fill:#008000;fill-opacity:0.7;stroke:#ffffff;stroke-opacity:0.7;stroke-width:0.777647;\"/>\r\n    <path clip-path=\"url(#pc3c312444b)\" d=\"M 340.304111 407.280109 \r\nC 343.039074 407.280109 345.662388 406.193497 347.5963 404.259586 \r\nC 349.530211 402.325674 350.616823 399.70236 350.616823 396.967397 \r\nC 350.616823 394.232433 349.530211 391.609119 347.5963 389.675208 \r\nC 345.662388 387.741296 343.039074 386.654684 340.304111 386.654684 \r\nC 337.569147 386.654684 334.945833 387.741296 333.011922 389.675208 \r\nC 331.07801 391.609119 329.991398 394.232433 329.991398 396.967397 \r\nC 329.991398 399.70236 331.07801 402.325674 333.011922 404.259586 \r\nC 334.945833 406.193497 337.569147 407.280109 340.304111 407.280109 \r\nz\r\n\" style=\"fill:#0000ff;fill-opacity:0.7;stroke:#ffffff;stroke-opacity:0.7;stroke-width:0.777647;\"/>\r\n    <path clip-path=\"url(#pc3c312444b)\" d=\"M 307.136278 403.109071 \r\nC 309.731895 403.109071 312.221551 402.077822 314.056929 400.242444 \r\nC 315.892307 398.407066 316.923557 395.91741 316.923557 393.321793 \r\nC 316.923557 390.726176 315.892307 388.23652 314.056929 386.401142 \r\nC 312.221551 384.565764 309.731895 383.534515 307.136278 383.534515 \r\nC 304.540662 383.534515 302.051006 384.565764 300.215628 386.401142 \r\nC 298.38025 388.23652 297.349 390.726176 297.349 393.321793 \r\nC 297.349 395.91741 298.38025 398.407066 300.215628 400.242444 \r\nC 302.051006 402.077822 304.540662 403.109071 307.136278 403.109071 \r\nz\r\n\" style=\"fill:#0000ff;fill-opacity:0.7;stroke:#ffffff;stroke-opacity:0.7;stroke-width:0.777647;\"/>\r\n    <path clip-path=\"url(#pc3c312444b)\" d=\"M 771.485929 403.634506 \r\nC 774.220892 403.634506 776.844207 402.547893 778.778118 400.613982 \r\nC 780.712029 398.680071 781.798641 396.056756 781.798641 393.321793 \r\nC 781.798641 390.58683 780.712029 387.963515 778.778118 386.029604 \r\nC 776.844207 384.095693 774.220892 383.00908 771.485929 383.00908 \r\nC 768.750965 383.00908 766.127651 384.095693 764.19374 386.029604 \r\nC 762.259829 387.963515 761.173216 390.58683 761.173216 393.321793 \r\nC 761.173216 396.056756 762.259829 398.680071 764.19374 400.613982 \r\nC 766.127651 402.547893 768.750965 403.634506 771.485929 403.634506 \r\nz\r\n\" style=\"fill:#008000;fill-opacity:0.7;stroke:#ffffff;stroke-opacity:0.7;stroke-width:0.777647;\"/>\r\n    <path clip-path=\"url(#pc3c312444b)\" d=\"M 622.230684 402.263212 \r\nC 624.601976 402.263212 626.876466 401.321088 628.553222 399.644331 \r\nC 630.229979 397.967575 631.172103 395.693085 631.172103 393.321793 \r\nC 631.172103 390.950501 630.229979 388.676012 628.553222 386.999255 \r\nC 626.876466 385.322498 624.601976 384.380374 622.230684 384.380374 \r\nC 619.859392 384.380374 617.584903 385.322498 615.908146 386.999255 \r\nC 614.231389 388.676012 613.289265 390.950501 613.289265 393.321793 \r\nC 613.289265 395.693085 614.231389 397.967575 615.908146 399.644331 \r\nC 617.584903 401.321088 619.859392 402.263212 622.230684 402.263212 \r\nz\r\n\" style=\"fill:#008000;fill-opacity:0.7;stroke:#ffffff;stroke-opacity:0.7;stroke-width:0.777647;\"/>\r\n    <path clip-path=\"url(#pc3c312444b)\" d=\"M 572.478936 401.860421 \r\nC 574.743406 401.860421 576.915435 400.960737 578.516657 399.359515 \r\nC 580.11788 397.758292 581.017563 395.586264 581.017563 393.321793 \r\nC 581.017563 391.057322 580.11788 388.885294 578.516657 387.284071 \r\nC 576.915435 385.682849 574.743406 384.783165 572.478936 384.783165 \r\nC 570.214465 384.783165 568.042437 385.682849 566.441214 387.284071 \r\nC 564.839992 388.885294 563.940308 391.057322 563.940308 393.321793 \r\nC 563.940308 395.586264 564.839992 397.758292 566.441214 399.359515 \r\nC 568.042437 400.960737 570.214465 401.860421 572.478936 401.860421 \r\nz\r\n\" style=\"fill:#008000;fill-opacity:0.7;stroke:#ffffff;stroke-opacity:0.7;stroke-width:0.777647;\"/>\r\n    <path clip-path=\"url(#pc3c312444b)\" d=\"M 638.8146 399.096911 \r\nC 641.313005 399.096911 643.709418 398.104285 645.476056 396.337646 \r\nC 647.242695 394.571007 648.235322 392.174594 648.235322 389.676189 \r\nC 648.235322 387.177785 647.242695 384.781372 645.476056 383.014733 \r\nC 643.709418 381.248094 641.313005 380.255468 638.8146 380.255468 \r\nC 636.316195 380.255468 633.919783 381.248094 632.153144 383.014733 \r\nC 630.386505 384.781372 629.393878 387.177785 629.393878 389.676189 \r\nC 629.393878 392.174594 630.386505 394.571007 632.153144 396.337646 \r\nC 633.919783 398.104285 636.316195 399.096911 638.8146 399.096911 \r\nz\r\n\" style=\"fill:#008000;fill-opacity:0.7;stroke:#ffffff;stroke-opacity:0.7;stroke-width:0.777647;\"/>\r\n    <path clip-path=\"url(#pc3c312444b)\" d=\"M 937.32509 398.715503 \r\nC 939.722343 398.715503 942.021735 397.763064 943.716849 396.067949 \r\nC 945.411964 394.372835 946.364403 392.073443 946.364403 389.676189 \r\nC 946.364403 387.278936 945.411964 384.979544 943.716849 383.28443 \r\nC 942.021735 381.589315 939.722343 380.636876 937.32509 380.636876 \r\nC 934.927836 380.636876 932.628444 381.589315 930.93333 383.28443 \r\nC 929.238215 384.979544 928.285776 387.278936 928.285776 389.676189 \r\nC 928.285776 392.073443 929.238215 394.372835 930.93333 396.067949 \r\nC 932.628444 397.763064 934.927836 398.715503 937.32509 398.715503 \r\nz\r\n\" style=\"fill:#008000;fill-opacity:0.7;stroke:#ffffff;stroke-opacity:0.7;stroke-width:0.777647;\"/>\r\n    <path clip-path=\"url(#pc3c312444b)\" d=\"M 240.800614 391.898667 \r\nC 243.323673 391.898667 245.743733 390.896246 247.527805 389.112174 \r\nC 249.311877 387.328102 250.314299 384.908041 250.314299 382.384982 \r\nC 250.314299 379.861924 249.311877 377.441863 247.527805 375.657791 \r\nC 245.743733 373.873719 243.323673 372.871297 240.800614 372.871297 \r\nC 238.277555 372.871297 235.857495 373.873719 234.073423 375.657791 \r\nC 232.289351 377.441863 231.286929 379.861924 231.286929 382.384982 \r\nC 231.286929 384.908041 232.289351 387.328102 234.073423 389.112174 \r\nC 235.857495 390.896246 238.277555 391.898667 240.800614 391.898667 \r\nz\r\n\" style=\"fill:#0000ff;fill-opacity:0.7;stroke:#ffffff;stroke-opacity:0.7;stroke-width:0.777647;\"/>\r\n    <path clip-path=\"url(#pc3c312444b)\" d=\"M 671.982432 391.424296 \r\nC 674.379686 391.424296 676.679077 390.471856 678.374192 388.776742 \r\nC 680.069306 387.081628 681.021745 384.782236 681.021745 382.384982 \r\nC 681.021745 379.987728 680.069306 377.688337 678.374192 375.993223 \r\nC 676.679077 374.298108 674.379686 373.345669 671.982432 373.345669 \r\nC 669.585178 373.345669 667.285787 374.298108 665.590673 375.993223 \r\nC 663.895558 377.688337 662.943119 379.987728 662.943119 382.384982 \r\nC 662.943119 384.782236 663.895558 387.081628 665.590673 388.776742 \r\nC 667.285787 390.471856 669.585178 391.424296 671.982432 391.424296 \r\nz\r\n\" style=\"fill:#008000;fill-opacity:0.7;stroke:#ffffff;stroke-opacity:0.7;stroke-width:0.777647;\"/>\r\n    <path clip-path=\"url(#pc3c312444b)\" d=\"M 953.909006 392.350484 \r\nC 956.551888 392.350484 959.08688 391.300456 960.95568 389.431656 \r\nC 962.824479 387.562856 963.874507 385.027864 963.874507 382.384982 \r\nC 963.874507 379.7421 962.824479 377.207108 960.95568 375.338308 \r\nC 959.08688 373.469509 956.551888 372.419481 953.909006 372.419481 \r\nC 951.266124 372.419481 948.731132 373.469509 946.862332 375.338308 \r\nC 944.993532 377.207108 943.943504 379.7421 943.943504 382.384982 \r\nC 943.943504 385.027864 944.993532 387.562856 946.862332 389.431656 \r\nC 948.731132 391.300456 951.266124 392.350484 953.909006 392.350484 \r\nz\r\n\" style=\"fill:#008000;fill-opacity:0.7;stroke:#ffffff;stroke-opacity:0.7;stroke-width:0.777647;\"/>\r\n    <path clip-path=\"url(#pc3c312444b)\" d=\"M 108.129285 392.261774 \r\nC 110.748641 392.261774 113.261068 391.221093 115.113232 389.368929 \r\nC 116.965396 387.516765 118.006077 385.004338 118.006077 382.384982 \r\nC 118.006077 379.765626 116.965396 377.2532 115.113232 375.401036 \r\nC 113.261068 373.548871 110.748641 372.50819 108.129285 372.50819 \r\nC 105.50993 372.50819 102.997503 373.548871 101.145339 375.401036 \r\nC 99.293175 377.2532 98.252493 379.765626 98.252493 382.384982 \r\nC 98.252493 385.004338 99.293175 387.516765 101.145339 389.368929 \r\nC 102.997503 391.221093 105.50993 392.261774 108.129285 392.261774 \r\nz\r\n\" style=\"fill:#0000ff;fill-opacity:0.7;stroke:#ffffff;stroke-opacity:0.7;stroke-width:0.777647;\"/>\r\n    <path clip-path=\"url(#pc3c312444b)\" d=\"M 904.157257 388.345127 \r\nC 906.704732 388.345127 909.148211 387.333005 910.949547 385.531669 \r\nC 912.750884 383.730332 913.763006 381.286853 913.763006 378.739379 \r\nC 913.763006 376.191904 912.750884 373.748425 910.949547 371.947089 \r\nC 909.148211 370.145752 906.704732 369.13363 904.157257 369.13363 \r\nC 901.609783 369.13363 899.166304 370.145752 897.364967 371.947089 \r\nC 895.563631 373.748425 894.551509 376.191904 894.551509 378.739379 \r\nC 894.551509 381.286853 895.563631 383.730332 897.364967 385.531669 \r\nC 899.166304 387.333005 901.609783 388.345127 904.157257 388.345127 \r\nz\r\n\" style=\"fill:#008000;fill-opacity:0.7;stroke:#ffffff;stroke-opacity:0.7;stroke-width:0.777647;\"/>\r\n    <path clip-path=\"url(#pc3c312444b)\" d=\"M 688.566348 388.966394 \r\nC 691.278584 388.966394 693.880099 387.888811 695.79794 385.97097 \r\nC 697.715781 384.05313 698.793363 381.451615 698.793363 378.739379 \r\nC 698.793363 376.027143 697.715781 373.425628 695.79794 371.507787 \r\nC 693.880099 369.589947 691.278584 368.512364 688.566348 368.512364 \r\nC 685.854112 368.512364 683.252597 369.589947 681.334757 371.507787 \r\nC 679.416916 373.425628 678.339333 376.027143 678.339333 378.739379 \r\nC 678.339333 381.451615 679.416916 384.05313 681.334757 385.97097 \r\nC 683.252597 387.888811 685.854112 388.966394 688.566348 388.966394 \r\nz\r\n\" style=\"fill:#008000;fill-opacity:0.7;stroke:#ffffff;stroke-opacity:0.7;stroke-width:0.777647;\"/>\r\n    <path clip-path=\"url(#pc3c312444b)\" d=\"M 837.821593 384.60746 \r\nC 840.344652 384.60746 842.764712 383.605038 844.548784 381.820966 \r\nC 846.332856 380.036894 847.335278 377.616834 847.335278 375.093775 \r\nC 847.335278 372.570716 846.332856 370.150656 844.548784 368.366584 \r\nC 842.764712 366.582512 840.344652 365.58009 837.821593 365.58009 \r\nC 835.298534 365.58009 832.878474 366.582512 831.094402 368.366584 \r\nC 829.31033 370.150656 828.307908 372.570716 828.307908 375.093775 \r\nC 828.307908 377.616834 829.31033 380.036894 831.094402 381.820966 \r\nC 832.878474 383.605038 835.298534 384.60746 837.821593 384.60746 \r\nz\r\n\" style=\"fill:#008000;fill-opacity:0.7;stroke:#ffffff;stroke-opacity:0.7;stroke-width:0.777647;\"/>\r\n    <path clip-path=\"url(#pc3c312444b)\" d=\"M 91.545369 385.32079 \r\nC 94.257605 385.32079 96.85912 384.243207 98.776961 382.325367 \r\nC 100.694802 380.407526 101.772384 377.806011 101.772384 375.093775 \r\nC 101.772384 372.381539 100.694802 369.780024 98.776961 367.862183 \r\nC 96.85912 365.944343 94.257605 364.86676 91.545369 364.86676 \r\nC 88.833133 364.86676 86.231618 365.944343 84.313778 367.862183 \r\nC 82.395937 369.780024 81.318354 372.381539 81.318354 375.093775 \r\nC 81.318354 377.806011 82.395937 380.407526 84.313778 382.325367 \r\nC 86.231618 384.243207 88.833133 385.32079 91.545369 385.32079 \r\nz\r\n\" style=\"fill:#0000ff;fill-opacity:0.7;stroke:#ffffff;stroke-opacity:0.7;stroke-width:0.777647;\"/>\r\n    <path clip-path=\"url(#pc3c312444b)\" d=\"M 506.143271 384.514497 \r\nC 508.641676 384.514497 511.038089 383.52187 512.804728 381.755231 \r\nC 514.571367 379.988593 515.563993 377.59218 515.563993 375.093775 \r\nC 515.563993 372.595371 514.571367 370.198958 512.804728 368.432319 \r\nC 511.038089 366.66568 508.641676 365.673053 506.143271 365.673053 \r\nC 503.644867 365.673053 501.248454 366.66568 499.481815 368.432319 \r\nC 497.715176 370.198958 496.72255 372.595371 496.72255 375.093775 \r\nC 496.72255 377.59218 497.715176 379.988593 499.481815 381.755231 \r\nC 501.248454 383.52187 503.644867 384.514497 506.143271 384.514497 \r\nz\r\n\" style=\"fill:#008000;fill-opacity:0.7;stroke:#ffffff;stroke-opacity:0.7;stroke-width:0.777647;\"/>\r\n    <path clip-path=\"url(#pc3c312444b)\" d=\"M 920.741174 384.325763 \r\nC 923.189525 384.325763 925.537928 383.353022 927.269174 381.621776 \r\nC 929.000421 379.89053 929.973161 377.542127 929.973161 375.093775 \r\nC 929.973161 372.645423 929.000421 370.29702 927.269174 368.565774 \r\nC 925.537928 366.834528 923.189525 365.861788 920.741174 365.861788 \r\nC 918.292822 365.861788 915.944419 366.834528 914.213173 368.565774 \r\nC 912.481927 370.29702 911.509186 372.645423 911.509186 375.093775 \r\nC 911.509186 377.542127 912.481927 379.89053 914.213173 381.621776 \r\nC 915.944419 383.353022 918.292822 384.325763 920.741174 384.325763 \r\nz\r\n\" style=\"fill:#008000;fill-opacity:0.7;stroke:#ffffff;stroke-opacity:0.7;stroke-width:0.777647;\"/>\r\n    <path clip-path=\"url(#pc3c312444b)\" d=\"M 108.129285 385.32079 \r\nC 110.841521 385.32079 113.443037 384.243207 115.360877 382.325367 \r\nC 117.278718 380.407526 118.3563 377.806011 118.3563 375.093775 \r\nC 118.3563 372.381539 117.278718 369.780024 115.360877 367.862183 \r\nC 113.443037 365.944343 110.841521 364.86676 108.129285 364.86676 \r\nC 105.417049 364.86676 102.815534 365.944343 100.897694 367.862183 \r\nC 98.979853 369.780024 97.90227 372.381539 97.90227 375.093775 \r\nC 97.90227 377.806011 98.979853 380.407526 100.897694 382.325367 \r\nC 102.815534 384.243207 105.417049 385.32079 108.129285 385.32079 \r\nz\r\n\" style=\"fill:#0000ff;fill-opacity:0.7;stroke:#ffffff;stroke-opacity:0.7;stroke-width:0.777647;\"/>\r\n    <path clip-path=\"url(#pc3c312444b)\" d=\"M 323.720194 384.229933 \r\nC 326.143132 384.229933 328.467158 383.26729 330.180434 381.554015 \r\nC 331.893709 379.840739 332.856353 377.516713 332.856353 375.093775 \r\nC 332.856353 372.670838 331.893709 370.346811 330.180434 368.633536 \r\nC 328.467158 366.92026 326.143132 365.957617 323.720194 365.957617 \r\nC 321.297257 365.957617 318.973231 366.92026 317.259955 368.633536 \r\nC 315.54668 370.346811 314.584036 372.670838 314.584036 375.093775 \r\nC 314.584036 377.516713 315.54668 379.840739 317.259955 381.554015 \r\nC 318.973231 383.26729 321.297257 384.229933 323.720194 384.229933 \r\nz\r\n\" style=\"fill:#0000ff;fill-opacity:0.7;stroke:#ffffff;stroke-opacity:0.7;stroke-width:0.777647;\"/>\r\n    <path clip-path=\"url(#pc3c312444b)\" d=\"M 953.909006 381.324964 \r\nC 956.528362 381.324964 959.040788 380.284282 960.892952 378.432118 \r\nC 962.745117 376.579954 963.785798 374.067527 963.785798 371.448172 \r\nC 963.785798 368.828816 962.745117 366.316389 960.892952 364.464225 \r\nC 959.040788 362.612061 956.528362 361.57138 953.909006 361.57138 \r\nC 951.28965 361.57138 948.777223 362.612061 946.925059 364.464225 \r\nC 945.072895 366.316389 944.032214 368.828816 944.032214 371.448172 \r\nC 944.032214 374.067527 945.072895 376.579954 946.925059 378.432118 \r\nC 948.777223 380.284282 951.28965 381.324964 953.909006 381.324964 \r\nz\r\n\" style=\"fill:#008000;fill-opacity:0.7;stroke:#ffffff;stroke-opacity:0.7;stroke-width:0.777647;\"/>\r\n    <path clip-path=\"url(#pc3c312444b)\" d=\"M 572.478936 380.089258 \r\nC 574.770579 380.089258 576.96867 379.178778 578.589106 377.558342 \r\nC 580.209542 375.937906 581.120022 373.739814 581.120022 371.448172 \r\nC 581.120022 369.156529 580.209542 366.958437 578.589106 365.338001 \r\nC 576.96867 363.717565 574.770579 362.807086 572.478936 362.807086 \r\nC 570.187293 362.807086 567.989201 363.717565 566.368765 365.338001 \r\nC 564.748329 366.958437 563.83785 369.156529 563.83785 371.448172 \r\nC 563.83785 373.739814 564.748329 375.937906 566.368765 377.558342 \r\nC 567.989201 379.178778 570.187293 380.089258 572.478936 380.089258 \r\nz\r\n\" style=\"fill:#008000;fill-opacity:0.7;stroke:#ffffff;stroke-opacity:0.7;stroke-width:0.777647;\"/>\r\n    <path clip-path=\"url(#pc3c312444b)\" d=\"M 788.069845 377.1294 \r\nC 790.54335 377.1294 792.915879 376.146666 794.664911 374.397634 \r\nC 796.413943 372.648602 797.396677 370.276073 797.396677 367.802568 \r\nC 797.396677 365.329063 796.413943 362.956534 794.664911 361.207502 \r\nC 792.915879 359.45847 790.54335 358.475736 788.069845 358.475736 \r\nC 785.59634 358.475736 783.223811 359.45847 781.474779 361.207502 \r\nC 779.725747 362.956534 778.743013 365.329063 778.743013 367.802568 \r\nC 778.743013 370.276073 779.725747 372.648602 781.474779 374.397634 \r\nC 783.223811 376.146666 785.59634 377.1294 788.069845 377.1294 \r\nz\r\n\" style=\"fill:#008000;fill-opacity:0.7;stroke:#ffffff;stroke-opacity:0.7;stroke-width:0.777647;\"/>\r\n    <path clip-path=\"url(#pc3c312444b)\" d=\"M 788.069845 377.76807 \r\nC 790.712727 377.76807 793.247719 376.718042 795.116519 374.849242 \r\nC 796.985318 372.980442 798.035347 370.44545 798.035347 367.802568 \r\nC 798.035347 365.159686 796.985318 362.624694 795.116519 360.755894 \r\nC 793.247719 358.887094 790.712727 357.837066 788.069845 357.837066 \r\nC 785.426963 357.837066 782.891971 358.887094 781.023171 360.755894 \r\nC 779.154371 362.624694 778.104343 365.159686 778.104343 367.802568 \r\nC 778.104343 370.44545 779.154371 372.980442 781.023171 374.849242 \r\nC 782.891971 376.718042 785.426963 377.76807 788.069845 377.76807 \r\nz\r\n\" style=\"fill:#008000;fill-opacity:0.7;stroke:#ffffff;stroke-opacity:0.7;stroke-width:0.777647;\"/>\r\n    <path clip-path=\"url(#pc3c312444b)\" d=\"M 771.485929 362.356312 \r\nC 773.908866 362.356312 776.232893 361.393669 777.946168 359.680393 \r\nC 779.659444 357.967118 780.622087 355.643091 780.622087 353.220154 \r\nC 780.622087 350.797216 779.659444 348.47319 777.946168 346.759914 \r\nC 776.232893 345.046639 773.908866 344.083995 771.485929 344.083995 \r\nC 769.062991 344.083995 766.738965 345.046639 765.025689 346.759914 \r\nC 763.312414 348.47319 762.34977 350.797216 762.34977 353.220154 \r\nC 762.34977 355.643091 763.312414 357.967118 765.025689 359.680393 \r\nC 766.738965 361.393669 769.062991 362.356312 771.485929 362.356312 \r\nz\r\n\" style=\"fill:#008000;fill-opacity:0.7;stroke:#ffffff;stroke-opacity:0.7;stroke-width:0.777647;\"/>\r\n    <path clip-path=\"url(#pc3c312444b)\" d=\"M 224.216698 363.007432 \r\nC 226.812315 363.007432 229.301971 361.976183 231.137349 360.140805 \r\nC 232.972727 358.305426 234.003976 355.81577 234.003976 353.220154 \r\nC 234.003976 350.624537 232.972727 348.134881 231.137349 346.299503 \r\nC 229.301971 344.464125 226.812315 343.432875 224.216698 343.432875 \r\nC 221.621081 343.432875 219.131425 344.464125 217.296047 346.299503 \r\nC 215.460669 348.134881 214.42942 350.624537 214.42942 353.220154 \r\nC 214.42942 355.81577 215.460669 358.305426 217.296047 360.140805 \r\nC 219.131425 361.976183 221.621081 363.007432 224.216698 363.007432 \r\nz\r\n\" style=\"fill:#0000ff;fill-opacity:0.7;stroke:#ffffff;stroke-opacity:0.7;stroke-width:0.777647;\"/>\r\n    <path clip-path=\"url(#pc3c312444b)\" d=\"M 539.311104 362.917092 \r\nC 541.882762 362.917092 544.349438 361.895361 546.167874 360.076925 \r\nC 547.986311 358.258488 549.008042 355.791812 549.008042 353.220154 \r\nC 549.008042 350.648496 547.986311 348.18182 546.167874 346.363383 \r\nC 544.349438 344.544946 541.882762 343.523215 539.311104 343.523215 \r\nC 536.739445 343.523215 534.27277 344.544946 532.454333 346.363383 \r\nC 530.635896 348.18182 529.614165 350.648496 529.614165 353.220154 \r\nC 529.614165 355.791812 530.635896 358.258488 532.454333 360.076925 \r\nC 534.27277 361.895361 536.739445 362.917092 539.311104 362.917092 \r\nz\r\n\" style=\"fill:#008000;fill-opacity:0.7;stroke:#ffffff;stroke-opacity:0.7;stroke-width:0.777647;\"/>\r\n    <path clip-path=\"url(#pc3c312444b)\" d=\"M 456.391523 362.452141 \r\nC 458.839875 362.452141 461.188278 361.479401 462.919524 359.748155 \r\nC 464.65077 358.016909 465.623511 355.668505 465.623511 353.220154 \r\nC 465.623511 350.771802 464.65077 348.423399 462.919524 346.692153 \r\nC 461.188278 344.960907 458.839875 343.988166 456.391523 343.988166 \r\nC 453.943171 343.988166 451.594768 344.960907 449.863522 346.692153 \r\nC 448.132276 348.423399 447.159536 350.771802 447.159536 353.220154 \r\nC 447.159536 355.668505 448.132276 358.016909 449.863522 359.748155 \r\nC 451.594768 361.479401 453.943171 362.452141 456.391523 362.452141 \r\nz\r\n\" style=\"fill:#0000ff;fill-opacity:0.7;stroke:#ffffff;stroke-opacity:0.7;stroke-width:0.777647;\"/>\r\n    <path clip-path=\"url(#pc3c312444b)\" d=\"M 174.46495 362.825902 \r\nC 177.012424 362.825902 179.455903 361.81378 181.25724 360.012444 \r\nC 183.058576 358.211107 184.070698 355.767628 184.070698 353.220154 \r\nC 184.070698 350.672679 183.058576 348.2292 181.25724 346.427864 \r\nC 179.455903 344.626527 177.012424 343.614405 174.46495 343.614405 \r\nC 171.917475 343.614405 169.473996 344.626527 167.67266 346.427864 \r\nC 165.871323 348.2292 164.859201 350.672679 164.859201 353.220154 \r\nC 164.859201 355.767628 165.871323 358.211107 167.67266 360.012444 \r\nC 169.473996 361.81378 171.917475 362.825902 174.46495 362.825902 \r\nz\r\n\" style=\"fill:#0000ff;fill-opacity:0.7;stroke:#ffffff;stroke-opacity:0.7;stroke-width:0.777647;\"/>\r\n    <path clip-path=\"url(#pc3c312444b)\" d=\"M 605.646768 361.86124 \r\nC 607.938411 361.86124 610.136502 360.95076 611.756938 359.330324 \r\nC 613.377375 357.709888 614.287854 355.511796 614.287854 353.220154 \r\nC 614.287854 350.928511 613.377375 348.730419 611.756938 347.109983 \r\nC 610.136502 345.489547 607.938411 344.579068 605.646768 344.579068 \r\nC 603.355125 344.579068 601.157034 345.489547 599.536597 347.109983 \r\nC 597.916161 348.730419 597.005682 350.928511 597.005682 353.220154 \r\nC 597.005682 355.511796 597.916161 357.709888 599.536597 359.330324 \r\nC 601.157034 360.95076 603.355125 361.86124 605.646768 361.86124 \r\nz\r\n\" style=\"fill:#008000;fill-opacity:0.7;stroke:#ffffff;stroke-opacity:0.7;stroke-width:0.777647;\"/>\r\n    <path clip-path=\"url(#pc3c312444b)\" d=\"M 738.318097 362.733839 \r\nC 740.841155 362.733839 743.261216 361.731417 745.045288 359.947345 \r\nC 746.82936 358.163273 747.831782 355.743212 747.831782 353.220154 \r\nC 747.831782 350.697095 746.82936 348.277034 745.045288 346.492962 \r\nC 743.261216 344.70889 740.841155 343.706469 738.318097 343.706469 \r\nC 735.795038 343.706469 733.374977 344.70889 731.590905 346.492962 \r\nC 729.806833 348.277034 728.804411 350.697095 728.804411 353.220154 \r\nC 728.804411 355.743212 729.806833 358.163273 731.590905 359.947345 \r\nC 733.374977 361.731417 735.795038 362.733839 738.318097 362.733839 \r\nz\r\n\" style=\"fill:#008000;fill-opacity:0.7;stroke:#ffffff;stroke-opacity:0.7;stroke-width:0.777647;\"/>\r\n    <path clip-path=\"url(#pc3c312444b)\" d=\"M 423.223691 363.096946 \r\nC 425.843047 363.096946 428.355473 362.056265 430.207638 360.2041 \r\nC 432.059802 358.351936 433.100483 355.83951 433.100483 353.220154 \r\nC 433.100483 350.600798 432.059802 348.088371 430.207638 346.236207 \r\nC 428.355473 344.384043 425.843047 343.343362 423.223691 343.343362 \r\nC 420.604335 343.343362 418.091909 344.384043 416.239744 346.236207 \r\nC 414.38758 348.088371 413.346899 350.600798 413.346899 353.220154 \r\nC 413.346899 355.83951 414.38758 358.351936 416.239744 360.2041 \r\nC 418.091909 362.056265 420.604335 363.096946 423.223691 363.096946 \r\nz\r\n\" style=\"fill:#0000ff;fill-opacity:0.7;stroke:#ffffff;stroke-opacity:0.7;stroke-width:0.777647;\"/>\r\n    <path clip-path=\"url(#pc3c312444b)\" d=\"M 904.157257 361.758781 \r\nC 906.421728 361.758781 908.593757 360.859098 910.194979 359.257875 \r\nC 911.796201 357.656653 912.695885 355.484624 912.695885 353.220154 \r\nC 912.695885 350.955683 911.796201 348.783655 910.194979 347.182432 \r\nC 908.593757 345.58121 906.421728 344.681526 904.157257 344.681526 \r\nC 901.892787 344.681526 899.720758 345.58121 898.119536 347.182432 \r\nC 896.518313 348.783655 895.61863 350.955683 895.61863 353.220154 \r\nC 895.61863 355.484624 896.518313 357.656653 898.119536 359.257875 \r\nC 899.720758 360.859098 901.892787 361.758781 904.157257 361.758781 \r\nz\r\n\" style=\"fill:#008000;fill-opacity:0.7;stroke:#ffffff;stroke-opacity:0.7;stroke-width:0.777647;\"/>\r\n    <path clip-path=\"url(#pc3c312444b)\" d=\"M 555.89502 362.062595 \r\nC 558.240063 362.062595 560.489374 361.1309 562.14757 359.472704 \r\nC 563.805766 357.814508 564.737461 355.565197 564.737461 353.220154 \r\nC 564.737461 350.875111 563.805766 348.625799 562.14757 346.967603 \r\nC 560.489374 345.309407 558.240063 344.377712 555.89502 344.377712 \r\nC 553.549977 344.377712 551.300665 345.309407 549.642469 346.967603 \r\nC 547.984273 348.625799 547.052578 350.875111 547.052578 353.220154 \r\nC 547.052578 355.565197 547.984273 357.814508 549.642469 359.472704 \r\nC 551.300665 361.1309 553.549977 362.062595 555.89502 362.062595 \r\nz\r\n\" style=\"fill:#008000;fill-opacity:0.7;stroke:#ffffff;stroke-opacity:0.7;stroke-width:0.777647;\"/>\r\n    <path clip-path=\"url(#pc3c312444b)\" d=\"M 141.297118 363.273582 \r\nC 143.963318 363.273582 146.520677 362.21429 148.405965 360.329001 \r\nC 150.291254 358.443713 151.350546 355.886354 151.350546 353.220154 \r\nC 151.350546 350.553953 150.291254 347.996595 148.405965 346.111306 \r\nC 146.520677 344.226018 143.963318 343.166725 141.297118 343.166725 \r\nC 138.630917 343.166725 136.073558 344.226018 134.18827 346.111306 \r\nC 132.302982 347.996595 131.243689 350.553953 131.243689 353.220154 \r\nC 131.243689 355.886354 132.302982 358.443713 134.18827 360.329001 \r\nC 136.073558 362.21429 138.630917 363.273582 141.297118 363.273582 \r\nz\r\n\" style=\"fill:#0000ff;fill-opacity:0.7;stroke:#ffffff;stroke-opacity:0.7;stroke-width:0.777647;\"/>\r\n    <path clip-path=\"url(#pc3c312444b)\" d=\"M 589.062852 362.259467 \r\nC 591.460106 362.259467 593.759497 361.307028 595.454612 359.611913 \r\nC 597.149726 357.916799 598.102165 355.617408 598.102165 353.220154 \r\nC 598.102165 350.8229 597.149726 348.523508 595.454612 346.828394 \r\nC 593.759497 345.13328 591.460106 344.18084 589.062852 344.18084 \r\nC 586.665598 344.18084 584.366207 345.13328 582.671092 346.828394 \r\nC 580.975978 348.523508 580.023539 350.8229 580.023539 353.220154 \r\nC 580.023539 355.617408 580.975978 357.916799 582.671092 359.611913 \r\nC 584.366207 361.307028 586.665598 362.259467 589.062852 362.259467 \r\nz\r\n\" style=\"fill:#008000;fill-opacity:0.7;stroke:#ffffff;stroke-opacity:0.7;stroke-width:0.777647;\"/>\r\n    <path clip-path=\"url(#pc3c312444b)\" d=\"M 705.150264 352.423936 \r\nC 707.839581 352.423936 710.419113 351.355459 712.320747 349.453825 \r\nC 714.222381 347.552191 715.290858 344.97266 715.290858 342.283343 \r\nC 715.290858 339.594026 714.222381 337.014495 712.320747 335.112861 \r\nC 710.419113 333.211227 707.839581 332.14275 705.150264 332.14275 \r\nC 702.460948 332.14275 699.881416 333.211227 697.979782 335.112861 \r\nC 696.078148 337.014495 695.009671 339.594026 695.009671 342.283343 \r\nC 695.009671 344.97266 696.078148 347.552191 697.979782 349.453825 \r\nC 699.881416 351.355459 702.460948 352.423936 705.150264 352.423936 \r\nz\r\n\" style=\"fill:#008000;fill-opacity:0.7;stroke:#ffffff;stroke-opacity:0.7;stroke-width:0.777647;\"/>\r\n    <path clip-path=\"url(#pc3c312444b)\" d=\"M 157.881034 352.160135 \r\nC 160.50039 352.160135 163.012816 351.119454 164.86498 349.26729 \r\nC 166.717145 347.415125 167.757826 344.902699 167.757826 342.283343 \r\nC 167.757826 339.663987 166.717145 337.151561 164.86498 335.299396 \r\nC 163.012816 333.447232 160.50039 332.406551 157.881034 332.406551 \r\nC 155.261678 332.406551 152.749251 333.447232 150.897087 335.299396 \r\nC 149.044923 337.151561 148.004242 339.663987 148.004242 342.283343 \r\nC 148.004242 344.902699 149.044923 347.415125 150.897087 349.26729 \r\nC 152.749251 351.119454 155.261678 352.160135 157.881034 352.160135 \r\nz\r\n\" style=\"fill:#0000ff;fill-opacity:0.7;stroke:#ffffff;stroke-opacity:0.7;stroke-width:0.777647;\"/>\r\n    <path clip-path=\"url(#pc3c312444b)\" d=\"M 356.888027 348.950452 \r\nC 359.62299 348.950452 362.246305 347.86384 364.180216 345.929928 \r\nC 366.114127 343.996017 367.200739 341.372703 367.200739 338.637739 \r\nC 367.200739 335.902776 366.114127 333.279462 364.180216 331.34555 \r\nC 362.246305 329.411639 359.62299 328.325027 356.888027 328.325027 \r\nC 354.153063 328.325027 351.529749 329.411639 349.595838 331.34555 \r\nC 347.661927 333.279462 346.575314 335.902776 346.575314 338.637739 \r\nC 346.575314 341.372703 347.661927 343.996017 349.595838 345.929928 \r\nC 351.529749 347.86384 354.153063 348.950452 356.888027 348.950452 \r\nz\r\n\" style=\"fill:#0000ff;fill-opacity:0.7;stroke:#ffffff;stroke-opacity:0.7;stroke-width:0.777647;\"/>\r\n    <path clip-path=\"url(#pc3c312444b)\" d=\"M 622.230684 347.677053 \r\nC 624.627938 347.677053 626.927329 346.724614 628.622444 345.029499 \r\nC 630.317558 343.334385 631.269997 341.034993 631.269997 338.637739 \r\nC 631.269997 336.240485 630.317558 333.941094 628.622444 332.24598 \r\nC 626.927329 330.550865 624.627938 329.598426 622.230684 329.598426 \r\nC 619.83343 329.598426 617.534039 330.550865 615.838924 332.24598 \r\nC 614.14381 333.941094 613.191371 336.240485 613.191371 338.637739 \r\nC 613.191371 341.034993 614.14381 343.334385 615.838924 345.029499 \r\nC 617.534039 346.724614 619.83343 347.677053 622.230684 347.677053 \r\nz\r\n\" style=\"fill:#008000;fill-opacity:0.7;stroke:#ffffff;stroke-opacity:0.7;stroke-width:0.777647;\"/>\r\n    <path clip-path=\"url(#pc3c312444b)\" d=\"M 920.741174 344.868928 \r\nC 923.360529 344.868928 925.872956 343.828247 927.72512 341.976082 \r\nC 929.577284 340.123918 930.617966 337.611492 930.617966 334.992136 \r\nC 930.617966 332.37278 929.577284 329.860353 927.72512 328.008189 \r\nC 925.872956 326.156025 923.360529 325.115344 920.741174 325.115344 \r\nC 918.121818 325.115344 915.609391 326.156025 913.757227 328.008189 \r\nC 911.905063 329.860353 910.864382 332.37278 910.864382 334.992136 \r\nC 910.864382 337.611492 911.905063 340.123918 913.757227 341.976082 \r\nC 915.609391 343.828247 918.121818 344.868928 920.741174 344.868928 \r\nz\r\n\" style=\"fill:#008000;fill-opacity:0.7;stroke:#ffffff;stroke-opacity:0.7;stroke-width:0.777647;\"/>\r\n    <path clip-path=\"url(#pc3c312444b)\" d=\"M 91.545369 343.530764 \r\nC 93.80984 343.530764 95.981868 342.63108 97.583091 341.029857 \r\nC 99.184313 339.428635 100.083997 337.256606 100.083997 334.992136 \r\nC 100.083997 332.727665 99.184313 330.555637 97.583091 328.954414 \r\nC 95.981868 327.353192 93.80984 326.453508 91.545369 326.453508 \r\nC 89.280899 326.453508 87.10887 327.353192 85.507648 328.954414 \r\nC 83.906425 330.555637 83.006742 332.727665 83.006742 334.992136 \r\nC 83.006742 337.256606 83.906425 339.428635 85.507648 341.029857 \r\nC 87.10887 342.63108 89.280899 343.530764 91.545369 343.530764 \r\nz\r\n\" style=\"fill:#0000ff;fill-opacity:0.7;stroke:#ffffff;stroke-opacity:0.7;stroke-width:0.777647;\"/>\r\n    <path clip-path=\"url(#pc3c312444b)\" d=\"M 589.062852 340.673364 \r\nC 591.536357 340.673364 593.908886 339.69063 595.657918 337.941598 \r\nC 597.40695 336.192566 598.389684 333.820037 598.389684 331.346532 \r\nC 598.389684 328.873027 597.40695 326.500498 595.657918 324.751466 \r\nC 593.908886 323.002434 591.536357 322.0197 589.062852 322.0197 \r\nC 586.589347 322.0197 584.216818 323.002434 582.467786 324.751466 \r\nC 580.718754 326.500498 579.73602 328.873027 579.73602 331.346532 \r\nC 579.73602 333.820037 580.718754 336.192566 582.467786 337.941598 \r\nC 584.216818 339.69063 586.589347 340.673364 589.062852 340.673364 \r\nz\r\n\" style=\"fill:#008000;fill-opacity:0.7;stroke:#ffffff;stroke-opacity:0.7;stroke-width:0.777647;\"/>\r\n    <path clip-path=\"url(#pc3c312444b)\" d=\"M 456.391523 339.781457 \r\nC 458.628491 339.781457 460.77414 338.8927 462.355916 337.310925 \r\nC 463.937691 335.729149 464.826448 333.5835 464.826448 331.346532 \r\nC 464.826448 329.109564 463.937691 326.963915 462.355916 325.38214 \r\nC 460.77414 323.800364 458.628491 322.911607 456.391523 322.911607 \r\nC 454.154555 322.911607 452.008906 323.800364 450.427131 325.38214 \r\nC 448.845355 326.963915 447.956598 329.109564 447.956598 331.346532 \r\nC 447.956598 333.5835 448.845355 335.729149 450.427131 337.310925 \r\nC 452.008906 338.8927 454.154555 339.781457 456.391523 339.781457 \r\nz\r\n\" style=\"fill:#0000ff;fill-opacity:0.7;stroke:#ffffff;stroke-opacity:0.7;stroke-width:0.777647;\"/>\r\n    <path clip-path=\"url(#pc3c312444b)\" d=\"M 323.720194 339.987618 \r\nC 326.011837 339.987618 328.209929 339.077139 329.830365 337.456703 \r\nC 331.450801 335.836267 332.36128 333.638175 332.36128 331.346532 \r\nC 332.36128 329.054889 331.450801 326.856798 329.830365 325.236362 \r\nC 328.209929 323.615926 326.011837 322.705446 323.720194 322.705446 \r\nC 321.428552 322.705446 319.23046 323.615926 317.610024 325.236362 \r\nC 315.989588 326.856798 315.079108 329.054889 315.079108 331.346532 \r\nC 315.079108 333.638175 315.989588 335.836267 317.610024 337.456703 \r\nC 319.23046 339.077139 321.428552 339.987618 323.720194 339.987618 \r\nz\r\n\" style=\"fill:#0000ff;fill-opacity:0.7;stroke:#ffffff;stroke-opacity:0.7;stroke-width:0.777647;\"/>\r\n    <path clip-path=\"url(#pc3c312444b)\" d=\"M 191.048866 340.952281 \r\nC 193.59634 340.952281 196.039819 339.940159 197.841156 338.138822 \r\nC 199.642492 336.337486 200.654615 333.894007 200.654615 331.346532 \r\nC 200.654615 328.799058 199.642492 326.355579 197.841156 324.554242 \r\nC 196.039819 322.752906 193.59634 321.740784 191.048866 321.740784 \r\nC 188.501391 321.740784 186.057912 322.752906 184.256576 324.554242 \r\nC 182.455239 326.355579 181.443117 328.799058 181.443117 331.346532 \r\nC 181.443117 333.894007 182.455239 336.337486 184.256576 338.138822 \r\nC 186.057912 339.940159 188.501391 340.952281 191.048866 340.952281 \r\nz\r\n\" style=\"fill:#0000ff;fill-opacity:0.7;stroke:#ffffff;stroke-opacity:0.7;stroke-width:0.777647;\"/>\r\n    <path clip-path=\"url(#pc3c312444b)\" d=\"M 572.478936 340.48269 \r\nC 574.901873 340.48269 577.2259 339.520047 578.939175 337.806772 \r\nC 580.652451 336.093496 581.615094 333.76947 581.615094 331.346532 \r\nC 581.615094 328.923595 580.652451 326.599568 578.939175 324.886293 \r\nC 577.2259 323.173017 574.901873 322.210374 572.478936 322.210374 \r\nC 570.055998 322.210374 567.731972 323.173017 566.018696 324.886293 \r\nC 564.305421 326.599568 563.342777 328.923595 563.342777 331.346532 \r\nC 563.342777 333.76947 564.305421 336.093496 566.018696 337.806772 \r\nC 567.731972 339.520047 570.055998 340.48269 572.478936 340.48269 \r\nz\r\n\" style=\"fill:#008000;fill-opacity:0.7;stroke:#ffffff;stroke-opacity:0.7;stroke-width:0.777647;\"/>\r\n    <path clip-path=\"url(#pc3c312444b)\" d=\"M 240.800614 340.767254 \r\nC 243.299019 340.767254 245.695432 339.774627 247.46207 338.007989 \r\nC 249.228709 336.24135 250.221336 333.844937 250.221336 331.346532 \r\nC 250.221336 328.848128 249.228709 326.451715 247.46207 324.685076 \r\nC 245.695432 322.918437 243.299019 321.92581 240.800614 321.92581 \r\nC 238.302209 321.92581 235.905797 322.918437 234.139158 324.685076 \r\nC 232.372519 326.451715 231.379892 328.848128 231.379892 331.346532 \r\nC 231.379892 333.844937 232.372519 336.24135 234.139158 338.007989 \r\nC 235.905797 339.774627 238.302209 340.767254 240.800614 340.767254 \r\nz\r\n\" style=\"fill:#0000ff;fill-opacity:0.7;stroke:#ffffff;stroke-opacity:0.7;stroke-width:0.777647;\"/>\r\n    <path clip-path=\"url(#pc3c312444b)\" d=\"M 589.062852 336.342015 \r\nC 591.354495 336.342015 593.552586 335.431535 595.173022 333.811099 \r\nC 596.793459 332.190663 597.703938 329.992571 597.703938 327.700929 \r\nC 597.703938 325.409286 596.793459 323.211194 595.173022 321.590758 \r\nC 593.552586 319.970322 591.354495 319.059843 589.062852 319.059843 \r\nC 586.771209 319.059843 584.573117 319.970322 582.952681 321.590758 \r\nC 581.332245 323.211194 580.421766 325.409286 580.421766 327.700929 \r\nC 580.421766 329.992571 581.332245 332.190663 582.952681 333.811099 \r\nC 584.573117 335.431535 586.771209 336.342015 589.062852 336.342015 \r\nz\r\n\" style=\"fill:#008000;fill-opacity:0.7;stroke:#ffffff;stroke-opacity:0.7;stroke-width:0.777647;\"/>\r\n    <path clip-path=\"url(#pc3c312444b)\" d=\"M 124.713201 337.027761 \r\nC 127.186706 337.027761 129.559236 336.045027 131.308268 334.295995 \r\nC 133.0573 332.546963 134.040034 330.174433 134.040034 327.700929 \r\nC 134.040034 325.227424 133.0573 322.854894 131.308268 321.105862 \r\nC 129.559236 319.35683 127.186706 318.374097 124.713201 318.374097 \r\nC 122.239697 318.374097 119.867167 319.35683 118.118135 321.105862 \r\nC 116.369103 322.854894 115.386369 325.227424 115.386369 327.700929 \r\nC 115.386369 330.174433 116.369103 332.546963 118.118135 334.295995 \r\nC 119.867167 336.045027 122.239697 337.027761 124.713201 337.027761 \r\nz\r\n\" style=\"fill:#0000ff;fill-opacity:0.7;stroke:#ffffff;stroke-opacity:0.7;stroke-width:0.777647;\"/>\r\n    <path clip-path=\"url(#pc3c312444b)\" d=\"M 174.46495 332.593953 \r\nC 176.72942 332.593953 178.901449 331.694269 180.502671 330.093047 \r\nC 182.103894 328.491824 183.003577 326.319796 183.003577 324.055325 \r\nC 183.003577 321.790855 182.103894 319.618826 180.502671 318.017604 \r\nC 178.901449 316.416381 176.72942 315.516697 174.46495 315.516697 \r\nC 172.200479 315.516697 170.028451 316.416381 168.427228 318.017604 \r\nC 166.826006 319.618826 165.926322 321.790855 165.926322 324.055325 \r\nC 165.926322 326.319796 166.826006 328.491824 168.427228 330.093047 \r\nC 170.028451 331.694269 172.200479 332.593953 174.46495 332.593953 \r\nz\r\n\" style=\"fill:#0000ff;fill-opacity:0.7;stroke:#ffffff;stroke-opacity:0.7;stroke-width:0.777647;\"/>\r\n    <path clip-path=\"url(#pc3c312444b)\" d=\"M 605.646768 333.287313 \r\nC 608.09512 333.287313 610.443523 332.314572 612.174769 330.583326 \r\nC 613.906015 328.85208 614.878755 326.503677 614.878755 324.055325 \r\nC 614.878755 321.606973 613.906015 319.25857 612.174769 317.527324 \r\nC 610.443523 315.796078 608.09512 314.823338 605.646768 314.823338 \r\nC 603.198416 314.823338 600.850013 315.796078 599.118767 317.527324 \r\nC 597.387521 319.25857 596.41478 321.606973 596.41478 324.055325 \r\nC 596.41478 326.503677 597.387521 328.85208 599.118767 330.583326 \r\nC 600.850013 332.314572 603.198416 333.287313 605.646768 333.287313 \r\nz\r\n\" style=\"fill:#008000;fill-opacity:0.7;stroke:#ffffff;stroke-opacity:0.7;stroke-width:0.777647;\"/>\r\n    <path clip-path=\"url(#pc3c312444b)\" d=\"M 904.157257 334.28234 \r\nC 906.869494 334.28234 909.471009 333.204757 911.388849 331.286917 \r\nC 913.30669 329.369076 914.384272 326.767561 914.384272 324.055325 \r\nC 914.384272 321.343089 913.30669 318.741574 911.388849 316.823733 \r\nC 909.471009 314.905893 906.869494 313.82831 904.157257 313.82831 \r\nC 901.445021 313.82831 898.843506 314.905893 896.925666 316.823733 \r\nC 895.007825 318.741574 893.930242 321.343089 893.930242 324.055325 \r\nC 893.930242 326.767561 895.007825 329.369076 896.925666 331.286917 \r\nC 898.843506 333.204757 901.445021 334.28234 904.157257 334.28234 \r\nz\r\n\" style=\"fill:#008000;fill-opacity:0.7;stroke:#ffffff;stroke-opacity:0.7;stroke-width:0.777647;\"/>\r\n    <path clip-path=\"url(#pc3c312444b)\" d=\"M 224.216698 333.932117 \r\nC 226.836054 333.932117 229.34848 332.891436 231.200645 331.039272 \r\nC 233.052809 329.187107 234.09349 326.674681 234.09349 324.055325 \r\nC 234.09349 321.435969 233.052809 318.923543 231.200645 317.071378 \r\nC 229.34848 315.219214 226.836054 314.178533 224.216698 314.178533 \r\nC 221.597342 314.178533 219.084916 315.219214 217.232751 317.071378 \r\nC 215.380587 318.923543 214.339906 321.435969 214.339906 324.055325 \r\nC 214.339906 326.674681 215.380587 329.187107 217.232751 331.039272 \r\nC 219.084916 332.891436 221.597342 333.932117 224.216698 333.932117 \r\nz\r\n\" style=\"fill:#0000ff;fill-opacity:0.7;stroke:#ffffff;stroke-opacity:0.7;stroke-width:0.777647;\"/>\r\n    <path clip-path=\"url(#pc3c312444b)\" d=\"M 605.646768 334.020827 \r\nC 608.28965 334.020827 610.824642 332.970799 612.693442 331.101999 \r\nC 614.562242 329.233199 615.61227 326.698207 615.61227 324.055325 \r\nC 615.61227 321.412443 614.562242 318.877451 612.693442 317.008651 \r\nC 610.824642 315.139851 608.28965 314.089823 605.646768 314.089823 \r\nC 603.003886 314.089823 600.468894 315.139851 598.600094 317.008651 \r\nC 596.731294 318.877451 595.681266 321.412443 595.681266 324.055325 \r\nC 595.681266 326.698207 596.731294 329.233199 598.600094 331.101999 \r\nC 600.468894 332.970799 603.003886 334.020827 605.646768 334.020827 \r\nz\r\n\" style=\"fill:#008000;fill-opacity:0.7;stroke:#ffffff;stroke-opacity:0.7;stroke-width:0.777647;\"/>\r\n    <path clip-path=\"url(#pc3c312444b)\" d=\"M 141.297118 332.696411 \r\nC 143.58876 332.696411 145.786852 331.785932 147.407288 330.165496 \r\nC 149.027724 328.545059 149.938204 326.346968 149.938204 324.055325 \r\nC 149.938204 321.763682 149.027724 319.565591 147.407288 317.945155 \r\nC 145.786852 316.324718 143.58876 315.414239 141.297118 315.414239 \r\nC 139.005475 315.414239 136.807383 316.324718 135.186947 317.945155 \r\nC 133.566511 319.565591 132.656032 321.763682 132.656032 324.055325 \r\nC 132.656032 326.346968 133.566511 328.545059 135.186947 330.165496 \r\nC 136.807383 331.785932 139.005475 332.696411 141.297118 332.696411 \r\nz\r\n\" style=\"fill:#0000ff;fill-opacity:0.7;stroke:#ffffff;stroke-opacity:0.7;stroke-width:0.777647;\"/>\r\n    <path clip-path=\"url(#pc3c312444b)\" d=\"M 887.573341 329.830443 \r\nC 890.071746 329.830443 892.468159 328.837817 894.234798 327.071178 \r\nC 896.001437 325.304539 896.994063 322.908126 896.994063 320.409721 \r\nC 896.994063 317.911317 896.001437 315.514904 894.234798 313.748265 \r\nC 892.468159 311.981626 890.071746 310.989 887.573341 310.989 \r\nC 885.074937 310.989 882.678524 311.981626 880.911885 313.748265 \r\nC 879.145246 315.514904 878.15262 317.911317 878.15262 320.409721 \r\nC 878.15262 322.908126 879.145246 325.304539 880.911885 327.071178 \r\nC 882.678524 328.837817 885.074937 329.830443 887.573341 329.830443 \r\nz\r\n\" style=\"fill:#008000;fill-opacity:0.7;stroke:#ffffff;stroke-opacity:0.7;stroke-width:0.777647;\"/>\r\n    <path clip-path=\"url(#pc3c312444b)\" d=\"M 688.566348 329.449035 \r\nC 690.963602 329.449035 693.262994 328.496596 694.958108 326.801481 \r\nC 696.653223 325.106367 697.605662 322.806975 697.605662 320.409721 \r\nC 697.605662 318.012468 696.653223 315.713076 694.958108 314.017962 \r\nC 693.262994 312.322847 690.963602 311.370408 688.566348 311.370408 \r\nC 686.169094 311.370408 683.869703 312.322847 682.174589 314.017962 \r\nC 680.479474 315.713076 679.527035 318.012468 679.527035 320.409721 \r\nC 679.527035 322.806975 680.479474 325.106367 682.174589 326.801481 \r\nC 683.869703 328.496596 686.169094 329.449035 688.566348 329.449035 \r\nz\r\n\" style=\"fill:#008000;fill-opacity:0.7;stroke:#ffffff;stroke-opacity:0.7;stroke-width:0.777647;\"/>\r\n    <path clip-path=\"url(#pc3c312444b)\" d=\"M 920.741174 329.152065 \r\nC 923.05967 329.152065 925.283519 328.230917 926.922944 326.591492 \r\nC 928.562369 324.952067 929.483517 322.728218 929.483517 320.409721 \r\nC 929.483517 318.091225 928.562369 315.867376 926.922944 314.227951 \r\nC 925.283519 312.588526 923.05967 311.667378 920.741174 311.667378 \r\nC 918.422677 311.667378 916.198828 312.588526 914.559403 314.227951 \r\nC 912.919978 315.867376 911.99883 318.091225 911.99883 320.409721 \r\nC 911.99883 322.728218 912.919978 324.952067 914.559403 326.591492 \r\nC 916.198828 328.230917 918.422677 329.152065 920.741174 329.152065 \r\nz\r\n\" style=\"fill:#008000;fill-opacity:0.7;stroke:#ffffff;stroke-opacity:0.7;stroke-width:0.777647;\"/>\r\n    <path clip-path=\"url(#pc3c312444b)\" d=\"M 887.573341 329.641709 \r\nC 890.021693 329.641709 892.370096 328.668968 894.101342 326.937722 \r\nC 895.832588 325.206476 896.805329 322.858073 896.805329 320.409721 \r\nC 896.805329 317.96137 895.832588 315.612967 894.101342 313.881721 \r\nC 892.370096 312.150475 890.021693 311.177734 887.573341 311.177734 \r\nC 885.12499 311.177734 882.776587 312.150475 881.04534 313.881721 \r\nC 879.314094 315.612967 878.341354 317.96137 878.341354 320.409721 \r\nC 878.341354 322.858073 879.314094 325.206476 881.04534 326.937722 \r\nC 882.776587 328.668968 885.12499 329.641709 887.573341 329.641709 \r\nz\r\n\" style=\"fill:#008000;fill-opacity:0.7;stroke:#ffffff;stroke-opacity:0.7;stroke-width:0.777647;\"/>\r\n    <path clip-path=\"url(#pc3c312444b)\" d=\"M 870.989425 330.01547 \r\nC 873.5369 330.01547 875.980379 329.003348 877.781715 327.202012 \r\nC 879.583052 325.400675 880.595174 322.957196 880.595174 320.409721 \r\nC 880.595174 317.862247 879.583052 315.418768 877.781715 313.617431 \r\nC 875.980379 311.816095 873.5369 310.803973 870.989425 310.803973 \r\nC 868.441951 310.803973 865.998472 311.816095 864.197135 313.617431 \r\nC 862.395799 315.418768 861.383677 317.862247 861.383677 320.409721 \r\nC 861.383677 322.957196 862.395799 325.400675 864.197135 327.202012 \r\nC 865.998472 329.003348 868.441951 330.01547 870.989425 330.01547 \r\nz\r\n\" style=\"fill:#008000;fill-opacity:0.7;stroke:#ffffff;stroke-opacity:0.7;stroke-width:0.777647;\"/>\r\n    <path clip-path=\"url(#pc3c312444b)\" d=\"M 108.129285 330.197 \r\nC 110.724902 330.197 113.214558 329.16575 115.049936 327.330372 \r\nC 116.885314 325.494994 117.916564 323.005338 117.916564 320.409721 \r\nC 117.916564 317.814105 116.885314 315.324449 115.049936 313.489071 \r\nC 113.214558 311.653693 110.724902 310.622443 108.129285 310.622443 \r\nC 105.533669 310.622443 103.044013 311.653693 101.208635 313.489071 \r\nC 99.373256 315.324449 98.342007 317.814105 98.342007 320.409721 \r\nC 98.342007 323.005338 99.373256 325.494994 101.208635 327.330372 \r\nC 103.044013 329.16575 105.533669 330.197 108.129285 330.197 \r\nz\r\n\" style=\"fill:#0000ff;fill-opacity:0.7;stroke:#ffffff;stroke-opacity:0.7;stroke-width:0.777647;\"/>\r\n    <path clip-path=\"url(#pc3c312444b)\" d=\"M 423.223691 325.405204 \r\nC 425.515334 325.405204 427.713425 324.494725 429.333862 322.874288 \r\nC 430.954298 321.253852 431.864777 319.055761 431.864777 316.764118 \r\nC 431.864777 314.472475 430.954298 312.274384 429.333862 310.653947 \r\nC 427.713425 309.033511 425.515334 308.123032 423.223691 308.123032 \r\nC 420.932048 308.123032 418.733957 309.033511 417.11352 310.653947 \r\nC 415.493084 312.274384 414.582605 314.472475 414.582605 316.764118 \r\nC 414.582605 319.055761 415.493084 321.253852 417.11352 322.874288 \r\nC 418.733957 324.494725 420.932048 325.405204 423.223691 325.405204 \r\nz\r\n\" style=\"fill:#0000ff;fill-opacity:0.7;stroke:#ffffff;stroke-opacity:0.7;stroke-width:0.777647;\"/>\r\n    <path clip-path=\"url(#pc3c312444b)\" d=\"M 108.129285 325.803431 \r\nC 110.526539 325.803431 112.825931 324.850992 114.521045 323.155878 \r\nC 116.21616 321.460763 117.168599 319.161372 117.168599 316.764118 \r\nC 117.168599 314.366864 116.21616 312.067473 114.521045 310.372358 \r\nC 112.825931 308.677244 110.526539 307.724805 108.129285 307.724805 \r\nC 105.732032 307.724805 103.43264 308.677244 101.737526 310.372358 \r\nC 100.042411 312.067473 99.089972 314.366864 99.089972 316.764118 \r\nC 99.089972 319.161372 100.042411 321.460763 101.737526 323.155878 \r\nC 103.43264 324.850992 105.732032 325.803431 108.129285 325.803431 \r\nz\r\n\" style=\"fill:#0000ff;fill-opacity:0.7;stroke:#ffffff;stroke-opacity:0.7;stroke-width:0.777647;\"/>\r\n    <path clip-path=\"url(#pc3c312444b)\" d=\"M 91.545369 322.350502 \r\nC 93.993721 322.350502 96.342124 321.377761 98.07337 319.646515 \r\nC 99.804616 317.915269 100.777357 315.566866 100.777357 313.118514 \r\nC 100.777357 310.670163 99.804616 308.32176 98.07337 306.590513 \r\nC 96.342124 304.859267 93.993721 303.886527 91.545369 303.886527 \r\nC 89.097018 303.886527 86.748614 304.859267 85.017368 306.590513 \r\nC 83.286122 308.32176 82.313382 310.670163 82.313382 313.118514 \r\nC 82.313382 315.566866 83.286122 317.915269 85.017368 319.646515 \r\nC 86.748614 321.377761 89.097018 322.350502 91.545369 322.350502 \r\nz\r\n\" style=\"fill:#0000ff;fill-opacity:0.7;stroke:#ffffff;stroke-opacity:0.7;stroke-width:0.777647;\"/>\r\n    <path clip-path=\"url(#pc3c312444b)\" d=\"M 108.129285 322.539236 \r\nC 110.62769 322.539236 113.024103 321.54661 114.790742 319.779971 \r\nC 116.557381 318.013332 117.550007 315.616919 117.550007 313.118514 \r\nC 117.550007 310.62011 116.557381 308.223697 114.790742 306.457058 \r\nC 113.024103 304.690419 110.62769 303.697793 108.129285 303.697793 \r\nC 105.630881 303.697793 103.234468 304.690419 101.467829 306.457058 \r\nC 99.70119 308.223697 98.708564 310.62011 98.708564 313.118514 \r\nC 98.708564 315.616919 99.70119 318.013332 101.467829 319.779971 \r\nC 103.234468 321.54661 105.630881 322.539236 108.129285 322.539236 \r\nz\r\n\" style=\"fill:#0000ff;fill-opacity:0.7;stroke:#ffffff;stroke-opacity:0.7;stroke-width:0.777647;\"/>\r\n    <path clip-path=\"url(#pc3c312444b)\" d=\"M 837.821593 321.860858 \r\nC 840.14009 321.860858 842.363939 320.939709 844.003364 319.300285 \r\nC 845.642788 317.66086 846.563937 315.437011 846.563937 313.118514 \r\nC 846.563937 310.800018 845.642788 308.576169 844.003364 306.936744 \r\nC 842.363939 305.297319 840.14009 304.376171 837.821593 304.376171 \r\nC 835.503096 304.376171 833.279247 305.297319 831.639823 306.936744 \r\nC 830.000398 308.576169 829.07925 310.800018 829.07925 313.118514 \r\nC 829.07925 315.437011 830.000398 317.66086 831.639823 319.300285 \r\nC 833.279247 320.939709 835.503096 321.860858 837.821593 321.860858 \r\nz\r\n\" style=\"fill:#008000;fill-opacity:0.7;stroke:#ffffff;stroke-opacity:0.7;stroke-width:0.777647;\"/>\r\n    <path clip-path=\"url(#pc3c312444b)\" d=\"M 605.646768 323.345529 \r\nC 608.359004 323.345529 610.960519 322.267947 612.87836 320.350106 \r\nC 614.7962 318.432265 615.873783 315.83075 615.873783 313.118514 \r\nC 615.873783 310.406278 614.7962 307.804763 612.87836 305.886923 \r\nC 610.960519 303.969082 608.359004 302.891499 605.646768 302.891499 \r\nC 602.934532 302.891499 600.333017 303.969082 598.415176 305.886923 \r\nC 596.497336 307.804763 595.419753 310.406278 595.419753 313.118514 \r\nC 595.419753 315.83075 596.497336 318.432265 598.415176 320.350106 \r\nC 600.333017 322.267947 602.934532 323.345529 605.646768 323.345529 \r\nz\r\n\" style=\"fill:#008000;fill-opacity:0.7;stroke:#ffffff;stroke-opacity:0.7;stroke-width:0.777647;\"/>\r\n    <path clip-path=\"url(#pc3c312444b)\" d=\"M 638.8146 314.569651 \r\nC 641.133097 314.569651 643.356946 313.648502 644.996371 312.009078 \r\nC 646.635795 310.369653 647.556944 308.145804 647.556944 305.827307 \r\nC 647.556944 303.508811 646.635795 301.284961 644.996371 299.645537 \r\nC 643.356946 298.006112 641.133097 297.084964 638.8146 297.084964 \r\nC 636.496103 297.084964 634.272254 298.006112 632.63283 299.645537 \r\nC 630.993405 301.284961 630.072256 303.508811 630.072256 305.827307 \r\nC 630.072256 308.145804 630.993405 310.369653 632.63283 312.009078 \r\nC 634.272254 313.648502 636.496103 314.569651 638.8146 314.569651 \r\nz\r\n\" style=\"fill:#008000;fill-opacity:0.7;stroke:#ffffff;stroke-opacity:0.7;stroke-width:0.777647;\"/>\r\n    <path clip-path=\"url(#pc3c312444b)\" d=\"M 622.230684 315.880736 \r\nC 624.896884 315.880736 627.454243 314.821443 629.339532 312.936155 \r\nC 631.22482 311.050866 632.284113 308.493508 632.284113 305.827307 \r\nC 632.284113 303.161107 631.22482 300.603748 629.339532 298.71846 \r\nC 627.454243 296.833171 624.896884 295.773878 622.230684 295.773878 \r\nC 619.564484 295.773878 617.007125 296.833171 615.121836 298.71846 \r\nC 613.236548 300.603748 612.177255 303.161107 612.177255 305.827307 \r\nC 612.177255 308.493508 613.236548 311.050866 615.121836 312.936155 \r\nC 617.007125 314.821443 619.564484 315.880736 622.230684 315.880736 \r\nz\r\n\" style=\"fill:#008000;fill-opacity:0.7;stroke:#ffffff;stroke-opacity:0.7;stroke-width:0.777647;\"/>\r\n    <path clip-path=\"url(#pc3c312444b)\" d=\"M 240.800614 315.792809 \r\nC 243.443496 315.792809 245.978488 314.742781 247.847288 312.873981 \r\nC 249.716088 311.005181 250.766116 308.470189 250.766116 305.827307 \r\nC 250.766116 303.184425 249.716088 300.649433 247.847288 298.780633 \r\nC 245.978488 296.911834 243.443496 295.861805 240.800614 295.861805 \r\nC 238.157732 295.861805 235.62274 296.911834 233.75394 298.780633 \r\nC 231.88514 300.649433 230.835112 303.184425 230.835112 305.827307 \r\nC 230.835112 308.470189 231.88514 311.005181 233.75394 312.873981 \r\nC 235.62274 314.742781 238.157732 315.792809 240.800614 315.792809 \r\nz\r\n\" style=\"fill:#0000ff;fill-opacity:0.7;stroke:#ffffff;stroke-opacity:0.7;stroke-width:0.777647;\"/>\r\n    <path clip-path=\"url(#pc3c312444b)\" d=\"M 423.223691 314.262232 \r\nC 425.460659 314.262232 427.606308 313.373475 429.188084 311.7917 \r\nC 430.769859 310.209924 431.658616 308.064275 431.658616 305.827307 \r\nC 431.658616 303.590339 430.769859 301.44469 429.188084 299.862915 \r\nC 427.606308 298.281139 425.460659 297.392382 423.223691 297.392382 \r\nC 420.986723 297.392382 418.841074 298.281139 417.259298 299.862915 \r\nC 415.677523 301.44469 414.788766 303.590339 414.788766 305.827307 \r\nC 414.788766 308.064275 415.677523 310.209924 417.259298 311.7917 \r\nC 418.841074 313.373475 420.986723 314.262232 423.223691 314.262232 \r\nz\r\n\" style=\"fill:#0000ff;fill-opacity:0.7;stroke:#ffffff;stroke-opacity:0.7;stroke-width:0.777647;\"/>\r\n    <path clip-path=\"url(#pc3c312444b)\" d=\"M 456.391523 308.676693 \r\nC 459.08084 308.676693 461.660371 307.608216 463.562005 305.706582 \r\nC 465.46364 303.804948 466.532116 301.225417 466.532116 298.5361 \r\nC 466.532116 295.846783 465.46364 293.267252 463.562005 291.365618 \r\nC 461.660371 289.463984 459.08084 288.395507 456.391523 288.395507 \r\nC 453.702206 288.395507 451.122675 289.463984 449.221041 291.365618 \r\nC 447.319407 293.267252 446.25093 295.846783 446.25093 298.5361 \r\nC 446.25093 301.225417 447.319407 303.804948 449.221041 305.706582 \r\nC 451.122675 307.608216 453.702206 308.676693 456.391523 308.676693 \r\nz\r\n\" style=\"fill:#0000ff;fill-opacity:0.7;stroke:#ffffff;stroke-opacity:0.7;stroke-width:0.777647;\"/>\r\n    <path clip-path=\"url(#pc3c312444b)\" d=\"M 439.807607 311.22146 \r\nC 443.171804 311.22146 446.398665 309.884851 448.777511 307.506004 \r\nC 451.156358 305.127158 452.492967 301.900297 452.492967 298.5361 \r\nC 452.492967 295.171903 451.156358 291.945042 448.777511 289.566196 \r\nC 446.398665 287.187349 443.171804 285.85074 439.807607 285.85074 \r\nC 436.44341 285.85074 433.216549 287.187349 430.837703 289.566196 \r\nC 428.458856 291.945042 427.122247 295.171903 427.122247 298.5361 \r\nC 427.122247 301.900297 428.458856 305.127158 430.837703 307.506004 \r\nC 433.216549 309.884851 436.44341 311.22146 439.807607 311.22146 \r\nz\r\n\" style=\"fill:#ffff00;fill-opacity:0.7;stroke:#ffffff;stroke-opacity:0.7;stroke-width:0.777647;\"/>\r\n    <path clip-path=\"url(#pc3c312444b)\" d=\"M 174.46495 302.086726 \r\nC 176.373412 302.086726 178.203966 301.328486 179.553452 299.978999 \r\nC 180.902939 298.629512 181.661179 296.798959 181.661179 294.890496 \r\nC 181.661179 292.982034 180.902939 291.151481 179.553452 289.801994 \r\nC 178.203966 288.452507 176.373412 287.694267 174.46495 287.694267 \r\nC 172.556487 287.694267 170.725934 288.452507 169.376447 289.801994 \r\nC 168.026961 291.151481 167.268721 292.982034 167.268721 294.890496 \r\nC 167.268721 296.798959 168.026961 298.629512 169.376447 299.978999 \r\nC 170.725934 301.328486 172.556487 302.086726 174.46495 302.086726 \r\nz\r\n\" style=\"fill:#0000ff;fill-opacity:0.7;stroke:#ffffff;stroke-opacity:0.7;stroke-width:0.777647;\"/>\r\n    <path clip-path=\"url(#pc3c312444b)\" d=\"M 307.136278 306.564207 \r\nC 310.232183 306.564207 313.201703 305.334191 315.390838 303.145056 \r\nC 317.579973 300.955921 318.809989 297.986401 318.809989 294.890496 \r\nC 318.809989 291.794592 317.579973 288.825072 315.390838 286.635937 \r\nC 313.201703 284.446802 310.232183 283.216786 307.136278 283.216786 \r\nC 304.040374 283.216786 301.070854 284.446802 298.881719 286.635937 \r\nC 296.692584 288.825072 295.462568 291.794592 295.462568 294.890496 \r\nC 295.462568 297.986401 296.692584 300.955921 298.881719 303.145056 \r\nC 301.070854 305.334191 304.040374 306.564207 307.136278 306.564207 \r\nz\r\n\" style=\"fill:#ffff00;fill-opacity:0.7;stroke:#ffffff;stroke-opacity:0.7;stroke-width:0.777647;\"/>\r\n    <path clip-path=\"url(#pc3c312444b)\" d=\"M 506.143271 299.140901 \r\nC 508.237317 299.140901 510.245878 298.308927 511.726592 296.828214 \r\nC 513.207306 295.3475 514.039279 293.338939 514.039279 291.244893 \r\nC 514.039279 289.150847 513.207306 287.142286 511.726592 285.661572 \r\nC 510.245878 284.180858 508.237317 283.348885 506.143271 283.348885 \r\nC 504.049226 283.348885 502.040665 284.180858 500.559951 285.661572 \r\nC 499.079237 287.142286 498.247264 289.150847 498.247264 291.244893 \r\nC 498.247264 293.338939 499.079237 295.3475 500.559951 296.828214 \r\nC 502.040665 298.308927 504.049226 299.140901 506.143271 299.140901 \r\nz\r\n\" style=\"fill:#ffa500;fill-opacity:0.7;stroke:#ffffff;stroke-opacity:0.7;stroke-width:0.777647;\"/>\r\n    <path clip-path=\"url(#pc3c312444b)\" d=\"M 456.391523 304.2048 \r\nC 459.828531 304.2048 463.12523 302.839262 465.555561 300.408931 \r\nC 467.985892 297.9786 469.35143 294.6819 469.35143 291.244893 \r\nC 469.35143 287.807885 467.985892 284.511186 465.555561 282.080855 \r\nC 463.12523 279.650524 459.828531 278.284986 456.391523 278.284986 \r\nC 452.954516 278.284986 449.657816 279.650524 447.227485 282.080855 \r\nC 444.797154 284.511186 443.431616 287.807885 443.431616 291.244893 \r\nC 443.431616 294.6819 444.797154 297.9786 447.227485 300.408931 \r\nC 449.657816 302.839262 452.954516 304.2048 456.391523 304.2048 \r\nz\r\n\" style=\"fill:#ffff00;fill-opacity:0.7;stroke:#ffffff;stroke-opacity:0.7;stroke-width:0.777647;\"/>\r\n    <path clip-path=\"url(#pc3c312444b)\" d=\"M 771.485929 295.728423 \r\nC 772.674975 295.728423 773.815481 295.25601 774.656263 294.415227 \r\nC 775.497046 293.574445 775.969459 292.433939 775.969459 291.244893 \r\nC 775.969459 290.055847 775.497046 288.915341 774.656263 288.074558 \r\nC 773.815481 287.233776 772.674975 286.761363 771.485929 286.761363 \r\nC 770.296883 286.761363 769.156377 287.233776 768.315594 288.074558 \r\nC 767.474812 288.915341 767.002399 290.055847 767.002399 291.244893 \r\nC 767.002399 292.433939 767.474812 293.574445 768.315594 294.415227 \r\nC 769.156377 295.25601 770.296883 295.728423 771.485929 295.728423 \r\nz\r\n\" style=\"fill:#ffa500;fill-opacity:0.7;stroke:#ffffff;stroke-opacity:0.7;stroke-width:0.777647;\"/>\r\n    <path clip-path=\"url(#pc3c312444b)\" d=\"M 423.223691 302.766833 \r\nC 426.279345 302.766833 429.210259 301.552809 431.370933 299.392135 \r\nC 433.531607 297.231461 434.745631 294.300547 434.745631 291.244893 \r\nC 434.745631 288.189239 433.531607 285.258325 431.370933 283.097651 \r\nC 429.210259 280.936977 426.279345 279.722953 423.223691 279.722953 \r\nC 420.168037 279.722953 417.237123 280.936977 415.076449 283.097651 \r\nC 412.915775 285.258325 411.701751 288.189239 411.701751 291.244893 \r\nC 411.701751 294.300547 412.915775 297.231461 415.076449 299.392135 \r\nC 417.237123 301.552809 420.168037 302.766833 423.223691 302.766833 \r\nz\r\n\" style=\"fill:#ffff00;fill-opacity:0.7;stroke:#ffffff;stroke-opacity:0.7;stroke-width:0.777647;\"/>\r\n    <path clip-path=\"url(#pc3c312444b)\" d=\"M 572.478936 295.316948 \r\nC 573.558857 295.316948 574.594694 294.887891 575.358314 294.124271 \r\nC 576.121933 293.360651 576.550991 292.324815 576.550991 291.244893 \r\nC 576.550991 290.164971 576.121933 289.129135 575.358314 288.365515 \r\nC 574.594694 287.601895 573.558857 287.172838 572.478936 287.172838 \r\nC 571.399014 287.172838 570.363178 287.601895 569.599558 288.365515 \r\nC 568.835938 289.129135 568.406881 290.164971 568.406881 291.244893 \r\nC 568.406881 292.324815 568.835938 293.360651 569.599558 294.124271 \r\nC 570.363178 294.887891 571.399014 295.316948 572.478936 295.316948 \r\nz\r\n\" style=\"fill:#ffa500;fill-opacity:0.7;stroke:#ffffff;stroke-opacity:0.7;stroke-width:0.777647;\"/>\r\n    <path clip-path=\"url(#pc3c312444b)\" d=\"M 439.807607 302.766833 \r\nC 442.863261 302.766833 445.794175 301.552809 447.954849 299.392135 \r\nC 450.115523 297.231461 451.329547 294.300547 451.329547 291.244893 \r\nC 451.329547 288.189239 450.115523 285.258325 447.954849 283.097651 \r\nC 445.794175 280.936977 442.863261 279.722953 439.807607 279.722953 \r\nC 436.751953 279.722953 433.821039 280.936977 431.660365 283.097651 \r\nC 429.499691 285.258325 428.285667 288.189239 428.285667 291.244893 \r\nC 428.285667 294.300547 429.499691 297.231461 431.660365 299.392135 \r\nC 433.821039 301.552809 436.751953 302.766833 439.807607 302.766833 \r\nz\r\n\" style=\"fill:#ffff00;fill-opacity:0.7;stroke:#ffffff;stroke-opacity:0.7;stroke-width:0.777647;\"/>\r\n    <path clip-path=\"url(#pc3c312444b)\" d=\"M 207.632782 295.383037 \r\nC 209.697056 295.383037 211.677061 294.562893 213.136723 293.10323 \r\nC 214.596385 291.643568 215.41653 289.663563 215.41653 287.599289 \r\nC 215.41653 285.535015 214.596385 283.55501 213.136723 282.095348 \r\nC 211.677061 280.635686 209.697056 279.815541 207.632782 279.815541 \r\nC 205.568508 279.815541 203.588503 280.635686 202.128841 282.095348 \r\nC 200.669179 283.55501 199.849034 285.535015 199.849034 287.599289 \r\nC 199.849034 289.663563 200.669179 291.643568 202.128841 293.10323 \r\nC 203.588503 294.562893 205.568508 295.383037 207.632782 295.383037 \r\nz\r\n\" style=\"fill:#0000ff;fill-opacity:0.7;stroke:#ffffff;stroke-opacity:0.7;stroke-width:0.777647;\"/>\r\n    <path clip-path=\"url(#pc3c312444b)\" d=\"M 307.136278 298.811528 \r\nC 310.109799 298.811528 312.961932 297.630135 315.064528 295.527539 \r\nC 317.167124 293.424943 318.348517 290.57281 318.348517 287.599289 \r\nC 318.348517 284.625769 317.167124 281.773636 315.064528 279.67104 \r\nC 312.961932 277.568443 310.109799 276.387051 307.136278 276.387051 \r\nC 304.162758 276.387051 301.310625 277.568443 299.208029 279.67104 \r\nC 297.105432 281.773636 295.92404 284.625769 295.92404 287.599289 \r\nC 295.92404 290.57281 297.105432 293.424943 299.208029 295.527539 \r\nC 301.310625 297.630135 304.162758 298.811528 307.136278 298.811528 \r\nz\r\n\" style=\"fill:#ffff00;fill-opacity:0.7;stroke:#ffffff;stroke-opacity:0.7;stroke-width:0.777647;\"/>\r\n    <path clip-path=\"url(#pc3c312444b)\" d=\"M 124.713201 287.042507 \r\nC 125.532366 287.042507 126.318091 286.717049 126.897328 286.137812 \r\nC 127.476565 285.558575 127.802023 284.772851 127.802023 283.953686 \r\nC 127.802023 283.134521 127.476565 282.348796 126.897328 281.769559 \r\nC 126.318091 281.190322 125.532366 280.864865 124.713201 280.864865 \r\nC 123.894037 280.864865 123.108312 281.190322 122.529075 281.769559 \r\nC 121.949838 282.348796 121.62438 283.134521 121.62438 283.953686 \r\nC 121.62438 284.772851 121.949838 285.558575 122.529075 286.137812 \r\nC 123.108312 286.717049 123.894037 287.042507 124.713201 287.042507 \r\nz\r\n\" style=\"fill:#ffa500;fill-opacity:0.7;stroke:#ffffff;stroke-opacity:0.7;stroke-width:0.777647;\"/>\r\n    <path clip-path=\"url(#pc3c312444b)\" d=\"M 273.968446 296.429172 \r\nC 277.276984 296.429172 280.450458 295.114676 282.789947 292.775187 \r\nC 285.129436 290.435697 286.443932 287.262223 286.443932 283.953686 \r\nC 286.443932 280.645148 285.129436 277.471674 282.789947 275.132185 \r\nC 280.450458 272.792695 277.276984 271.4782 273.968446 271.4782 \r\nC 270.659909 271.4782 267.486435 272.792695 265.146945 275.132185 \r\nC 262.807456 277.471674 261.49296 280.645148 261.49296 283.953686 \r\nC 261.49296 287.262223 262.807456 290.435697 265.146945 292.775187 \r\nC 267.486435 295.114676 270.659909 296.429172 273.968446 296.429172 \r\nz\r\n\" style=\"fill:#ffff00;fill-opacity:0.7;stroke:#ffffff;stroke-opacity:0.7;stroke-width:0.777647;\"/>\r\n    <path clip-path=\"url(#pc3c312444b)\" d=\"M 522.727188 287.567717 \r\nC 523.68564 287.567717 524.604966 287.18692 525.282694 286.509192 \r\nC 525.960422 285.831464 526.341219 284.912138 526.341219 283.953686 \r\nC 526.341219 282.995233 525.960422 282.075908 525.282694 281.398179 \r\nC 524.604966 280.720451 523.68564 280.339654 522.727188 280.339654 \r\nC 521.768735 280.339654 520.849409 280.720451 520.171681 281.398179 \r\nC 519.493953 282.075908 519.113156 282.995233 519.113156 283.953686 \r\nC 519.113156 284.912138 519.493953 285.831464 520.171681 286.509192 \r\nC 520.849409 287.18692 521.768735 287.567717 522.727188 287.567717 \r\nz\r\n\" style=\"fill:#ffa500;fill-opacity:0.7;stroke:#ffffff;stroke-opacity:0.7;stroke-width:0.777647;\"/>\r\n    <path clip-path=\"url(#pc3c312444b)\" d=\"M 323.720194 295.32183 \r\nC 326.735061 295.32183 329.626853 294.12401 331.758686 291.992177 \r\nC 333.890519 289.860344 335.088338 286.968553 335.088338 283.953686 \r\nC 335.088338 280.938819 333.890519 278.047027 331.758686 275.915194 \r\nC 329.626853 273.783361 326.735061 272.585542 323.720194 272.585542 \r\nC 320.705328 272.585542 317.813536 273.783361 315.681703 275.915194 \r\nC 313.54987 278.047027 312.352051 280.938819 312.352051 283.953686 \r\nC 312.352051 286.968553 313.54987 289.860344 315.681703 291.992177 \r\nC 317.813536 294.12401 320.705328 295.32183 323.720194 295.32183 \r\nz\r\n\" style=\"fill:#ffff00;fill-opacity:0.7;stroke:#ffffff;stroke-opacity:0.7;stroke-width:0.777647;\"/>\r\n    <path clip-path=\"url(#pc3c312444b)\" d=\"M 108.129285 284.590819 \r\nC 109.265081 284.590819 110.354509 284.139563 111.157638 283.336435 \r\nC 111.960766 282.533306 112.412022 281.443877 112.412022 280.308082 \r\nC 112.412022 279.172287 111.960766 278.082858 111.157638 277.27973 \r\nC 110.354509 276.476601 109.265081 276.025345 108.129285 276.025345 \r\nC 106.99349 276.025345 105.904061 276.476601 105.100933 277.27973 \r\nC 104.297805 278.082858 103.846548 279.172287 103.846548 280.308082 \r\nC 103.846548 281.443877 104.297805 282.533306 105.100933 283.336435 \r\nC 105.904061 284.139563 106.99349 284.590819 108.129285 284.590819 \r\nz\r\n\" style=\"fill:#ffa500;fill-opacity:0.7;stroke:#ffffff;stroke-opacity:0.7;stroke-width:0.777647;\"/>\r\n    <path clip-path=\"url(#pc3c312444b)\" d=\"M 373.471943 291.598542 \r\nC 376.466208 291.598542 379.338239 290.408908 381.455504 288.291643 \r\nC 383.572769 286.174378 384.762403 283.302347 384.762403 280.308082 \r\nC 384.762403 277.313817 383.572769 274.441786 381.455504 272.324521 \r\nC 379.338239 270.207256 376.466208 269.017622 373.471943 269.017622 \r\nC 370.477678 269.017622 367.605647 270.207256 365.488382 272.324521 \r\nC 363.371117 274.441786 362.181483 277.313817 362.181483 280.308082 \r\nC 362.181483 283.302347 363.371117 286.174378 365.488382 288.291643 \r\nC 367.605647 290.408908 370.477678 291.598542 373.471943 291.598542 \r\nz\r\n\" style=\"fill:#ffff00;fill-opacity:0.7;stroke:#ffffff;stroke-opacity:0.7;stroke-width:0.777647;\"/>\r\n    <path clip-path=\"url(#pc3c312444b)\" d=\"M 738.318097 279.7513 \r\nC 739.137262 279.7513 739.922986 279.425842 740.502223 278.846605 \r\nC 741.08146 278.267368 741.406918 277.481644 741.406918 276.662479 \r\nC 741.406918 275.843314 741.08146 275.057589 740.502223 274.478352 \r\nC 739.922986 273.899115 739.137262 273.573657 738.318097 273.573657 \r\nC 737.498932 273.573657 736.713207 273.899115 736.13397 274.478352 \r\nC 735.554733 275.057589 735.229275 275.843314 735.229275 276.662479 \r\nC 735.229275 277.481644 735.554733 278.267368 736.13397 278.846605 \r\nC 736.713207 279.425842 737.498932 279.7513 738.318097 279.7513 \r\nz\r\n\" style=\"fill:#ffa500;fill-opacity:0.7;stroke:#ffffff;stroke-opacity:0.7;stroke-width:0.777647;\"/>\r\n    <path clip-path=\"url(#pc3c312444b)\" d=\"M 323.720194 289.485847 \r\nC 327.120992 289.485847 330.382959 288.134696 332.787685 285.729969 \r\nC 335.192412 283.325243 336.543563 280.063276 336.543563 276.662479 \r\nC 336.543563 273.261682 335.192412 269.999715 332.787685 267.594988 \r\nC 330.382959 265.190261 327.120992 263.83911 323.720194 263.83911 \r\nC 320.319397 263.83911 317.05743 265.190261 314.652704 267.594988 \r\nC 312.247977 269.999715 310.896826 273.261682 310.896826 276.662479 \r\nC 310.896826 280.063276 312.247977 283.325243 314.652704 285.729969 \r\nC 317.05743 288.134696 320.319397 289.485847 323.720194 289.485847 \r\nz\r\n\" style=\"fill:#ffff00;fill-opacity:0.7;stroke:#ffffff;stroke-opacity:0.7;stroke-width:0.777647;\"/>\r\n    <path clip-path=\"url(#pc3c312444b)\" d=\"M 257.38453 281.4518 \r\nC 259.621498 281.4518 261.767147 280.563043 263.348923 278.981268 \r\nC 264.930698 277.399492 265.819455 275.253843 265.819455 273.016875 \r\nC 265.819455 270.779907 264.930698 268.634258 263.348923 267.052482 \r\nC 261.767147 265.470707 259.621498 264.58195 257.38453 264.58195 \r\nC 255.147562 264.58195 253.001913 265.470707 251.420138 267.052482 \r\nC 249.838362 268.634258 248.949605 270.779907 248.949605 273.016875 \r\nC 248.949605 275.253843 249.838362 277.399492 251.420138 278.981268 \r\nC 253.001913 280.563043 255.147562 281.4518 257.38453 281.4518 \r\nz\r\n\" style=\"fill:#0000ff;fill-opacity:0.7;stroke:#ffffff;stroke-opacity:0.7;stroke-width:0.777647;\"/>\r\n    <path clip-path=\"url(#pc3c312444b)\" d=\"M 323.720194 285.421614 \r\nC 327.00997 285.421614 330.165447 284.114572 332.49167 281.78835 \r\nC 334.817892 279.462128 336.124934 276.30665 336.124934 273.016875 \r\nC 336.124934 269.7271 334.817892 266.571622 332.49167 264.2454 \r\nC 330.165447 261.919178 327.00997 260.612136 323.720194 260.612136 \r\nC 320.430419 260.612136 317.274942 261.919178 314.948719 264.2454 \r\nC 312.622497 266.571622 311.315455 269.7271 311.315455 273.016875 \r\nC 311.315455 276.30665 312.622497 279.462128 314.948719 281.78835 \r\nC 317.274942 284.114572 320.430419 285.421614 323.720194 285.421614 \r\nz\r\n\" style=\"fill:#ffff00;fill-opacity:0.7;stroke:#ffffff;stroke-opacity:0.7;stroke-width:0.777647;\"/>\r\n    <path clip-path=\"url(#pc3c312444b)\" d=\"M 207.632782 274.046979 \r\nC 208.872794 274.046979 210.062186 273.554317 210.939007 272.677496 \r\nC 211.815828 271.800675 212.30849 270.611284 212.30849 269.371271 \r\nC 212.30849 268.131259 211.815828 266.941868 210.939007 266.065047 \r\nC 210.062186 265.188226 208.872794 264.695563 207.632782 264.695563 \r\nC 206.39277 264.695563 205.203378 265.188226 204.326557 266.065047 \r\nC 203.449736 266.941868 202.957074 268.131259 202.957074 269.371271 \r\nC 202.957074 270.611284 203.449736 271.800675 204.326557 272.677496 \r\nC 205.203378 273.554317 206.39277 274.046979 207.632782 274.046979 \r\nz\r\n\" style=\"fill:#ffa500;fill-opacity:0.7;stroke:#ffffff;stroke-opacity:0.7;stroke-width:0.777647;\"/>\r\n    <path clip-path=\"url(#pc3c312444b)\" d=\"M 257.38453 282.466293 \r\nC 260.85737 282.466293 264.18844 281.086519 266.644109 278.63085 \r\nC 269.099778 276.175181 270.479552 272.844112 270.479552 269.371271 \r\nC 270.479552 265.898431 269.099778 262.567362 266.644109 260.111693 \r\nC 264.18844 257.656024 260.85737 256.27625 257.38453 256.27625 \r\nC 253.91169 256.27625 250.580621 257.656024 248.124952 260.111693 \r\nC 245.669283 262.567362 244.289509 265.898431 244.289509 269.371271 \r\nC 244.289509 272.844112 245.669283 276.175181 248.124952 278.63085 \r\nC 250.580621 281.086519 253.91169 282.466293 257.38453 282.466293 \r\nz\r\n\" style=\"fill:#ffff00;fill-opacity:0.7;stroke:#ffffff;stroke-opacity:0.7;stroke-width:0.777647;\"/>\r\n    <path clip-path=\"url(#pc3c312444b)\" d=\"M 589.062852 277.377965 \r\nC 591.186252 277.377965 593.222969 276.534329 594.724439 275.032859 \r\nC 596.22591 273.531388 597.069545 271.494671 597.069545 269.371271 \r\nC 597.069545 267.247871 596.22591 265.211155 594.724439 263.709684 \r\nC 593.222969 262.208214 591.186252 261.364578 589.062852 261.364578 \r\nC 586.939452 261.364578 584.902735 262.208214 583.401264 263.709684 \r\nC 581.899794 265.211155 581.056158 267.247871 581.056158 269.371271 \r\nC 581.056158 271.494671 581.899794 273.531388 583.401264 275.032859 \r\nC 584.902735 276.534329 586.939452 277.377965 589.062852 277.377965 \r\nz\r\n\" style=\"fill:#ffa500;fill-opacity:0.7;stroke:#ffffff;stroke-opacity:0.7;stroke-width:0.777647;\"/>\r\n    <path clip-path=\"url(#pc3c312444b)\" d=\"M 323.720194 280.816572 \r\nC 326.755524 280.816572 329.666942 279.610623 331.813244 277.464321 \r\nC 333.959546 275.318019 335.165495 272.406601 335.165495 269.371271 \r\nC 335.165495 266.335942 333.959546 263.424524 331.813244 261.278222 \r\nC 329.666942 259.13192 326.755524 257.925971 323.720194 257.925971 \r\nC 320.684865 257.925971 317.773447 259.13192 315.627145 261.278222 \r\nC 313.480843 263.424524 312.274894 266.335942 312.274894 269.371271 \r\nC 312.274894 272.406601 313.480843 275.318019 315.627145 277.464321 \r\nC 317.773447 279.610623 320.684865 280.816572 323.720194 280.816572 \r\nz\r\n\" style=\"fill:#ffff00;fill-opacity:0.7;stroke:#ffffff;stroke-opacity:0.7;stroke-width:0.777647;\"/>\r\n    <path clip-path=\"url(#pc3c312444b)\" d=\"M 356.888027 272.007728 \r\nC 358.554049 272.007728 360.152059 271.345811 361.330114 270.167756 \r\nC 362.50817 268.9897 363.170087 267.39169 363.170087 265.725668 \r\nC 363.170087 264.059646 362.50817 262.461636 361.330114 261.28358 \r\nC 360.152059 260.105525 358.554049 259.443607 356.888027 259.443607 \r\nC 355.222005 259.443607 353.623994 260.105525 352.445939 261.28358 \r\nC 351.267884 262.461636 350.605966 264.059646 350.605966 265.725668 \r\nC 350.605966 267.39169 351.267884 268.9897 352.445939 270.167756 \r\nC 353.623994 271.345811 355.222005 272.007728 356.888027 272.007728 \r\nz\r\n\" style=\"fill:#ffa500;fill-opacity:0.7;stroke:#ffffff;stroke-opacity:0.7;stroke-width:0.777647;\"/>\r\n    <path clip-path=\"url(#pc3c312444b)\" d=\"M 356.888027 278.341458 \r\nC 360.233773 278.341458 363.442937 277.012179 365.808737 274.646379 \r\nC 368.174538 272.280579 369.503817 269.071415 369.503817 265.725668 \r\nC 369.503817 262.379921 368.174538 259.170757 365.808737 256.804957 \r\nC 363.442937 254.439157 360.233773 253.109878 356.888027 253.109878 \r\nC 353.54228 253.109878 350.333116 254.439157 347.967316 256.804957 \r\nC 345.601516 259.170757 344.272236 262.379921 344.272236 265.725668 \r\nC 344.272236 269.071415 345.601516 272.280579 347.967316 274.646379 \r\nC 350.333116 277.012179 353.54228 278.341458 356.888027 278.341458 \r\nz\r\n\" style=\"fill:#ffff00;fill-opacity:0.7;stroke:#ffffff;stroke-opacity:0.7;stroke-width:0.777647;\"/>\r\n    <path clip-path=\"url(#pc3c312444b)\" d=\"M 506.143271 271.26311 \r\nC 507.611818 271.26311 509.020415 270.67965 510.058834 269.641231 \r\nC 511.097254 268.602811 511.680714 267.194215 511.680714 265.725668 \r\nC 511.680714 264.257121 511.097254 262.848524 510.058834 261.810105 \r\nC 509.020415 260.771686 507.611818 260.188226 506.143271 260.188226 \r\nC 504.674725 260.188226 503.266128 260.771686 502.227709 261.810105 \r\nC 501.189289 262.848524 500.605829 264.257121 500.605829 265.725668 \r\nC 500.605829 267.194215 501.189289 268.602811 502.227709 269.641231 \r\nC 503.266128 270.67965 504.674725 271.26311 506.143271 271.26311 \r\nz\r\n\" style=\"fill:#ffa500;fill-opacity:0.7;stroke:#ffffff;stroke-opacity:0.7;stroke-width:0.777647;\"/>\r\n    <path clip-path=\"url(#pc3c312444b)\" d=\"M 439.807607 278.201154 \r\nC 443.116145 278.201154 446.289619 276.886658 448.629108 274.547169 \r\nC 450.968597 272.207679 452.283093 269.034205 452.283093 265.725668 \r\nC 452.283093 262.41713 450.968597 259.243656 448.629108 256.904167 \r\nC 446.289619 254.564678 443.116145 253.250182 439.807607 253.250182 \r\nC 436.499069 253.250182 433.325596 254.564678 430.986106 256.904167 \r\nC 428.646617 259.243656 427.332121 262.41713 427.332121 265.725668 \r\nC 427.332121 269.034205 428.646617 272.207679 430.986106 274.547169 \r\nC 433.325596 276.886658 436.499069 278.201154 439.807607 278.201154 \r\nz\r\n\" style=\"fill:#ffff00;fill-opacity:0.7;stroke:#ffffff;stroke-opacity:0.7;stroke-width:0.777647;\"/>\r\n    <path clip-path=\"url(#pc3c312444b)\" d=\"M 522.727188 271.720989 \r\nC 524.317165 271.720989 525.842236 271.089284 526.96652 269.965 \r\nC 528.090804 268.840716 528.722509 267.315646 528.722509 265.725668 \r\nC 528.722509 264.13569 528.090804 262.61062 526.96652 261.486335 \r\nC 525.842236 260.362051 524.317165 259.730347 522.727188 259.730347 \r\nC 521.13721 259.730347 519.612139 260.362051 518.487855 261.486335 \r\nC 517.363571 262.61062 516.731866 264.13569 516.731866 265.725668 \r\nC 516.731866 267.315646 517.363571 268.840716 518.487855 269.965 \r\nC 519.612139 271.089284 521.13721 271.720989 522.727188 271.720989 \r\nz\r\n\" style=\"fill:#ffa500;fill-opacity:0.7;stroke:#ffffff;stroke-opacity:0.7;stroke-width:0.777647;\"/>\r\n    <path clip-path=\"url(#pc3c312444b)\" d=\"M 423.223691 277.323741 \r\nC 426.299536 277.323741 429.249816 276.101695 431.424767 273.926744 \r\nC 433.599718 271.751793 434.821764 268.801513 434.821764 265.725668 \r\nC 434.821764 262.649823 433.599718 259.699542 431.424767 257.524592 \r\nC 429.249816 255.349641 426.299536 254.127594 423.223691 254.127594 \r\nC 420.147846 254.127594 417.197566 255.349641 415.022615 257.524592 \r\nC 412.847664 259.699542 411.625618 262.649823 411.625618 265.725668 \r\nC 411.625618 268.801513 412.847664 271.751793 415.022615 273.926744 \r\nC 417.197566 276.101695 420.147846 277.323741 423.223691 277.323741 \r\nz\r\n\" style=\"fill:#ffff00;fill-opacity:0.7;stroke:#ffffff;stroke-opacity:0.7;stroke-width:0.777647;\"/>\r\n    <path clip-path=\"url(#pc3c312444b)\" d=\"M 572.478936 271.101825 \r\nC 573.904709 271.101825 575.272279 270.535359 576.280453 269.527185 \r\nC 577.288627 268.519011 577.855092 267.151441 577.855092 265.725668 \r\nC 577.855092 264.299894 577.288627 262.932325 576.280453 261.924151 \r\nC 575.272279 260.915977 573.904709 260.349511 572.478936 260.349511 \r\nC 571.053162 260.349511 569.685593 260.915977 568.677419 261.924151 \r\nC 567.669245 262.932325 567.102779 264.299894 567.102779 265.725668 \r\nC 567.102779 267.151441 567.669245 268.519011 568.677419 269.527185 \r\nC 569.685593 270.535359 571.053162 271.101825 572.478936 271.101825 \r\nz\r\n\" style=\"fill:#ffa500;fill-opacity:0.7;stroke:#ffffff;stroke-opacity:0.7;stroke-width:0.777647;\"/>\r\n    <path clip-path=\"url(#pc3c312444b)\" d=\"M 240.800614 278.271502 \r\nC 244.127808 278.271502 247.319177 276.949594 249.671859 274.596912 \r\nC 252.02454 272.244231 253.346448 269.052862 253.346448 265.725668 \r\nC 253.346448 262.398474 252.02454 259.207105 249.671859 256.854423 \r\nC 247.319177 254.501742 244.127808 253.179834 240.800614 253.179834 \r\nC 237.47342 253.179834 234.282051 254.501742 231.92937 256.854423 \r\nC 229.576688 259.207105 228.25478 262.398474 228.25478 265.725668 \r\nC 228.25478 269.052862 229.576688 272.244231 231.92937 274.596912 \r\nC 234.282051 276.949594 237.47342 278.271502 240.800614 278.271502 \r\nz\r\n\" style=\"fill:#ffff00;fill-opacity:0.7;stroke:#ffffff;stroke-opacity:0.7;stroke-width:0.777647;\"/>\r\n    <path clip-path=\"url(#pc3c312444b)\" d=\"M 406.639775 267.306807 \r\nC 407.059098 267.306807 407.461303 267.140208 407.757809 266.843702 \r\nC 408.054315 266.547196 408.220914 266.144991 408.220914 265.725668 \r\nC 408.220914 265.306345 408.054315 264.90414 407.757809 264.607634 \r\nC 407.461303 264.311128 407.059098 264.144529 406.639775 264.144529 \r\nC 406.220452 264.144529 405.818247 264.311128 405.521741 264.607634 \r\nC 405.225235 264.90414 405.058636 265.306345 405.058636 265.725668 \r\nC 405.058636 266.144991 405.225235 266.547196 405.521741 266.843702 \r\nC 405.818247 267.140208 406.220452 267.306807 406.639775 267.306807 \r\nz\r\n\" style=\"fill:#ffa500;fill-opacity:0.7;stroke:#ffffff;stroke-opacity:0.7;stroke-width:0.777647;\"/>\r\n    <path clip-path=\"url(#pc3c312444b)\" d=\"M 290.552362 277.474528 \r\nC 293.668196 277.474528 296.656834 276.236594 298.860061 274.033367 \r\nC 301.063288 271.830139 302.301222 268.841502 302.301222 265.725668 \r\nC 302.301222 262.609834 301.063288 259.621197 298.860061 257.417969 \r\nC 296.656834 255.214742 293.668196 253.976808 290.552362 253.976808 \r\nC 287.436528 253.976808 284.447891 255.214742 282.244664 257.417969 \r\nC 280.041436 259.621197 278.803502 262.609834 278.803502 265.725668 \r\nC 278.803502 268.841502 280.041436 271.830139 282.244664 274.033367 \r\nC 284.447891 276.236594 287.436528 277.474528 290.552362 277.474528 \r\nz\r\n\" style=\"fill:#ffff00;fill-opacity:0.7;stroke:#ffffff;stroke-opacity:0.7;stroke-width:0.777647;\"/>\r\n    <path clip-path=\"url(#pc3c312444b)\" d=\"M 356.888027 267.306807 \r\nC 357.30735 267.306807 357.709555 267.140208 358.006061 266.843702 \r\nC 358.302567 266.547196 358.469165 266.144991 358.469165 265.725668 \r\nC 358.469165 265.306345 358.302567 264.90414 358.006061 264.607634 \r\nC 357.709555 264.311128 357.30735 264.144529 356.888027 264.144529 \r\nC 356.468704 264.144529 356.066499 264.311128 355.769993 264.607634 \r\nC 355.473487 264.90414 355.306888 265.306345 355.306888 265.725668 \r\nC 355.306888 266.144991 355.473487 266.547196 355.769993 266.843702 \r\nC 356.066499 267.140208 356.468704 267.306807 356.888027 267.306807 \r\nz\r\n\" style=\"fill:#ffa500;fill-opacity:0.7;stroke:#ffffff;stroke-opacity:0.7;stroke-width:0.777647;\"/>\r\n    <path clip-path=\"url(#pc3c312444b)\" d=\"M 290.552362 277.093812 \r\nC 293.567229 277.093812 296.459021 275.895992 298.590854 273.764159 \r\nC 300.722687 271.632327 301.920506 268.740535 301.920506 265.725668 \r\nC 301.920506 262.710801 300.722687 259.819009 298.590854 257.687176 \r\nC 296.459021 255.555343 293.567229 254.357524 290.552362 254.357524 \r\nC 287.537495 254.357524 284.645704 255.555343 282.513871 257.687176 \r\nC 280.382038 259.819009 279.184219 262.710801 279.184219 265.725668 \r\nC 279.184219 268.740535 280.382038 271.632327 282.513871 273.764159 \r\nC 284.645704 275.895992 287.537495 277.093812 290.552362 277.093812 \r\nz\r\n\" style=\"fill:#ffff00;fill-opacity:0.7;stroke:#ffffff;stroke-opacity:0.7;stroke-width:0.777647;\"/>\r\n    <path clip-path=\"url(#pc3c312444b)\" d=\"M 721.734181 269.976072 \r\nC 723.828226 269.976072 725.836787 269.144099 727.317501 267.663385 \r\nC 728.798215 266.182671 729.630188 264.17411 729.630188 262.080064 \r\nC 729.630188 259.986019 728.798215 257.977458 727.317501 256.496744 \r\nC 725.836787 255.01603 723.828226 254.184056 721.734181 254.184056 \r\nC 719.640135 254.184056 717.631574 255.01603 716.15086 256.496744 \r\nC 714.670146 257.977458 713.838173 259.986019 713.838173 262.080064 \r\nC 713.838173 264.17411 714.670146 266.182671 716.15086 267.663385 \r\nC 717.631574 269.144099 719.640135 269.976072 721.734181 269.976072 \r\nz\r\n\" style=\"fill:#008000;fill-opacity:0.7;stroke:#ffffff;stroke-opacity:0.7;stroke-width:0.777647;\"/>\r\n    <path clip-path=\"url(#pc3c312444b)\" d=\"M 273.968446 274.197685 \r\nC 277.182077 274.197685 280.264518 272.920896 282.536898 270.648516 \r\nC 284.809278 268.376136 286.086067 265.293695 286.086067 262.080064 \r\nC 286.086067 258.866434 284.809278 255.783992 282.536898 253.511612 \r\nC 280.264518 251.239232 277.182077 249.962443 273.968446 249.962443 \r\nC 270.754816 249.962443 267.672374 251.239232 265.399994 253.511612 \r\nC 263.127614 255.783992 261.850825 258.866434 261.850825 262.080064 \r\nC 261.850825 265.293695 263.127614 268.376136 265.399994 270.648516 \r\nC 267.672374 272.920896 270.754816 274.197685 273.968446 274.197685 \r\nz\r\n\" style=\"fill:#ffff00;fill-opacity:0.7;stroke:#ffffff;stroke-opacity:0.7;stroke-width:0.777647;\"/>\r\n    <path clip-path=\"url(#pc3c312444b)\" d=\"M 108.129285 257.877678 \r\nC 108.94845 257.877678 109.734175 257.552221 110.313412 256.972984 \r\nC 110.892649 256.393746 111.218107 255.608022 111.218107 254.788857 \r\nC 111.218107 253.969692 110.892649 253.183968 110.313412 252.604731 \r\nC 109.734175 252.025494 108.94845 251.700036 108.129285 251.700036 \r\nC 107.31012 251.700036 106.524396 252.025494 105.945159 252.604731 \r\nC 105.365922 253.183968 105.040464 253.969692 105.040464 254.788857 \r\nC 105.040464 255.608022 105.365922 256.393746 105.945159 256.972984 \r\nC 106.524396 257.552221 107.31012 257.877678 108.129285 257.877678 \r\nz\r\n\" style=\"fill:#ffa500;fill-opacity:0.7;stroke:#ffffff;stroke-opacity:0.7;stroke-width:0.777647;\"/>\r\n    <path clip-path=\"url(#pc3c312444b)\" d=\"M 307.136278 267.612225 \r\nC 310.537075 267.612225 313.799042 266.261074 316.203769 263.856348 \r\nC 318.608496 261.451621 319.959647 258.189654 319.959647 254.788857 \r\nC 319.959647 251.38806 318.608496 248.126093 316.203769 245.721366 \r\nC 313.799042 243.31664 310.537075 241.965489 307.136278 241.965489 \r\nC 303.735481 241.965489 300.473514 243.31664 298.068788 245.721366 \r\nC 295.664061 248.126093 294.31291 251.38806 294.31291 254.788857 \r\nC 294.31291 258.189654 295.664061 261.451621 298.068788 263.856348 \r\nC 300.473514 266.261074 303.735481 267.612225 307.136278 267.612225 \r\nz\r\n\" style=\"fill:#ffff00;fill-opacity:0.7;stroke:#ffffff;stroke-opacity:0.7;stroke-width:0.777647;\"/>\r\n    <path clip-path=\"url(#pc3c312444b)\" d=\"M 622.230684 247.025908 \r\nC 624.039227 247.025908 625.773941 246.307366 627.052774 245.028533 \r\nC 628.331607 243.7497 629.050149 242.014986 629.050149 240.206443 \r\nC 629.050149 238.3979 628.331607 236.663186 627.052774 235.384353 \r\nC 625.773941 234.10552 624.039227 233.386978 622.230684 233.386978 \r\nC 620.422141 233.386978 618.687427 234.10552 617.408594 235.384353 \r\nC 616.129761 236.663186 615.411219 238.3979 615.411219 240.206443 \r\nC 615.411219 242.014986 616.129761 243.7497 617.408594 245.028533 \r\nC 618.687427 246.307366 620.422141 247.025908 622.230684 247.025908 \r\nz\r\n\" style=\"fill:#ffa500;fill-opacity:0.7;stroke:#ffffff;stroke-opacity:0.7;stroke-width:0.777647;\"/>\r\n    <path clip-path=\"url(#pc3c312444b)\" d=\"M 390.055859 251.728383 \r\nC 393.111513 251.728383 396.042427 250.514359 398.203101 248.353685 \r\nC 400.363775 246.193011 401.577799 243.262097 401.577799 240.206443 \r\nC 401.577799 237.150789 400.363775 234.219875 398.203101 232.059201 \r\nC 396.042427 229.898527 393.111513 228.684503 390.055859 228.684503 \r\nC 387.000205 228.684503 384.069291 229.898527 381.908617 232.059201 \r\nC 379.747943 234.219875 378.533919 237.150789 378.533919 240.206443 \r\nC 378.533919 243.262097 379.747943 246.193011 381.908617 248.353685 \r\nC 384.069291 250.514359 387.000205 251.728383 390.055859 251.728383 \r\nz\r\n\" style=\"fill:#ffff00;fill-opacity:0.7;stroke:#ffffff;stroke-opacity:0.7;stroke-width:0.777647;\"/>\r\n    <path clip-path=\"url(#pc3c312444b)\" d=\"M 489.559355 242.556161 \r\nC 491.149333 242.556161 492.674404 241.924456 493.798688 240.800172 \r\nC 494.922972 239.675888 495.554677 238.150817 495.554677 236.560839 \r\nC 495.554677 234.970861 494.922972 233.445791 493.798688 232.321507 \r\nC 492.674404 231.197223 491.149333 230.565518 489.559355 230.565518 \r\nC 487.969378 230.565518 486.444307 231.197223 485.320023 232.321507 \r\nC 484.195739 233.445791 483.564034 234.970861 483.564034 236.560839 \r\nC 483.564034 238.150817 484.195739 239.675888 485.320023 240.800172 \r\nC 486.444307 241.924456 487.969378 242.556161 489.559355 242.556161 \r\nz\r\n\" style=\"fill:#ffa500;fill-opacity:0.7;stroke:#ffffff;stroke-opacity:0.7;stroke-width:0.777647;\"/>\r\n    <path clip-path=\"url(#pc3c312444b)\" d=\"M 340.304111 249.520746 \r\nC 343.741118 249.520746 347.037817 248.155208 349.468149 245.724877 \r\nC 351.89848 243.294546 353.264017 239.997847 353.264017 236.560839 \r\nC 353.264017 233.123832 351.89848 229.827133 349.468149 227.396801 \r\nC 347.037817 224.96647 343.741118 223.600932 340.304111 223.600932 \r\nC 336.867103 223.600932 333.570404 224.96647 331.140073 227.396801 \r\nC 328.709741 229.827133 327.344204 233.123832 327.344204 236.560839 \r\nC 327.344204 239.997847 328.709741 243.294546 331.140073 245.724877 \r\nC 333.570404 248.155208 336.867103 249.520746 340.304111 249.520746 \r\nz\r\n\" style=\"fill:#ffff00;fill-opacity:0.7;stroke:#ffffff;stroke-opacity:0.7;stroke-width:0.777647;\"/>\r\n    <path clip-path=\"url(#pc3c312444b)\" d=\"M 390.055859 239.862559 \r\nC 391.898311 239.862559 393.665548 239.130545 394.968359 237.827735 \r\nC 396.271169 236.524925 397.003182 234.757687 397.003182 232.915236 \r\nC 397.003182 231.072784 396.271169 229.305546 394.968359 228.002736 \r\nC 393.665548 226.699926 391.898311 225.967912 390.055859 225.967912 \r\nC 388.213407 225.967912 386.446169 226.699926 385.143359 228.002736 \r\nC 383.840549 229.305546 383.108535 231.072784 383.108535 232.915236 \r\nC 383.108535 234.757687 383.840549 236.524925 385.143359 237.827735 \r\nC 386.446169 239.130545 388.213407 239.862559 390.055859 239.862559 \r\nz\r\n\" style=\"fill:#ffa500;fill-opacity:0.7;stroke:#ffffff;stroke-opacity:0.7;stroke-width:0.777647;\"/>\r\n    <path clip-path=\"url(#pc3c312444b)\" d=\"M 323.720194 243.480871 \r\nC 326.522234 243.480871 329.209886 242.367609 331.191227 240.386268 \r\nC 333.172568 238.404927 334.28583 235.717275 334.28583 232.915236 \r\nC 334.28583 230.113196 333.172568 227.425544 331.191227 225.444203 \r\nC 329.209886 223.462862 326.522234 222.3496 323.720194 222.3496 \r\nC 320.918155 222.3496 318.230503 223.462862 316.249162 225.444203 \r\nC 314.267821 227.425544 313.154559 230.113196 313.154559 232.915236 \r\nC 313.154559 235.717275 314.267821 238.404927 316.249162 240.386268 \r\nC 318.230503 242.367609 320.918155 243.480871 323.720194 243.480871 \r\nz\r\n\" style=\"fill:#ffff00;fill-opacity:0.7;stroke:#ffffff;stroke-opacity:0.7;stroke-width:0.777647;\"/>\r\n    <path clip-path=\"url(#pc3c312444b)\" d=\"M 456.391523 237.775529 \r\nC 457.680488 237.775529 458.916834 237.263418 459.828269 236.351982 \r\nC 460.739705 235.440546 461.251816 234.2042 461.251816 232.915236 \r\nC 461.251816 231.626271 460.739705 230.389925 459.828269 229.478489 \r\nC 458.916834 228.567054 457.680488 228.054943 456.391523 228.054943 \r\nC 455.102558 228.054943 453.866213 228.567054 452.954777 229.478489 \r\nC 452.043341 230.389925 451.53123 231.626271 451.53123 232.915236 \r\nC 451.53123 234.2042 452.043341 235.440546 452.954777 236.351982 \r\nC 453.866213 237.263418 455.102558 237.775529 456.391523 237.775529 \r\nz\r\n\" style=\"fill:#ffa500;fill-opacity:0.7;stroke:#ffffff;stroke-opacity:0.7;stroke-width:0.777647;\"/>\r\n    <path clip-path=\"url(#pc3c312444b)\" d=\"M 257.38453 244.437176 \r\nC 260.440184 244.437176 263.371098 243.223151 265.531772 241.062478 \r\nC 267.692446 238.901804 268.90647 235.97089 268.90647 232.915236 \r\nC 268.90647 229.859581 267.692446 226.928668 265.531772 224.767994 \r\nC 263.371098 222.60732 260.440184 221.393296 257.38453 221.393296 \r\nC 254.328876 221.393296 251.397962 222.60732 249.237288 224.767994 \r\nC 247.076614 226.928668 245.86259 229.859581 245.86259 232.915236 \r\nC 245.86259 235.97089 247.076614 238.901804 249.237288 241.062478 \r\nC 251.397962 243.223151 254.328876 244.437176 257.38453 244.437176 \r\nz\r\n\" style=\"fill:#ffff00;fill-opacity:0.7;stroke:#ffffff;stroke-opacity:0.7;stroke-width:0.777647;\"/>\r\n    <path clip-path=\"url(#pc3c312444b)\" d=\"M 390.055859 237.197973 \r\nC 391.191654 237.197973 392.281083 236.746717 393.084211 235.943588 \r\nC 393.88734 235.14046 394.338596 234.051031 394.338596 232.915236 \r\nC 394.338596 231.779441 393.88734 230.690012 393.084211 229.886883 \r\nC 392.281083 229.083755 391.191654 228.632499 390.055859 228.632499 \r\nC 388.920064 228.632499 387.830635 229.083755 387.027506 229.886883 \r\nC 386.224378 230.690012 385.773122 231.779441 385.773122 232.915236 \r\nC 385.773122 234.051031 386.224378 235.14046 387.027506 235.943588 \r\nC 387.830635 236.746717 388.920064 237.197973 390.055859 237.197973 \r\nz\r\n\" style=\"fill:#ffa500;fill-opacity:0.7;stroke:#ffffff;stroke-opacity:0.7;stroke-width:0.777647;\"/>\r\n    <path clip-path=\"url(#pc3c312444b)\" d=\"M 390.055859 245.669787 \r\nC 393.438405 245.669787 396.682867 244.325887 399.074688 241.934065 \r\nC 401.46651 239.542244 402.81041 236.297782 402.81041 232.915236 \r\nC 402.81041 229.532689 401.46651 226.288228 399.074688 223.896406 \r\nC 396.682867 221.504585 393.438405 220.160685 390.055859 220.160685 \r\nC 386.673312 220.160685 383.428851 221.504585 381.037029 223.896406 \r\nC 378.645208 226.288228 377.301308 229.532689 377.301308 232.915236 \r\nC 377.301308 236.297782 378.645208 239.542244 381.037029 241.934065 \r\nC 383.428851 244.325887 386.673312 245.669787 390.055859 245.669787 \r\nz\r\n\" style=\"fill:#ffff00;fill-opacity:0.7;stroke:#ffffff;stroke-opacity:0.7;stroke-width:0.777647;\"/>\r\n    <path clip-path=\"url(#pc3c312444b)\" d=\"M 655.398516 234.129925 \r\nC 656.687481 234.129925 657.923827 233.617814 658.835262 232.706378 \r\nC 659.746698 231.794943 660.258809 230.558597 660.258809 229.269632 \r\nC 660.258809 227.980667 659.746698 226.744322 658.835262 225.832886 \r\nC 657.923827 224.92145 656.687481 224.409339 655.398516 224.409339 \r\nC 654.109551 224.409339 652.873206 224.92145 651.96177 225.832886 \r\nC 651.050334 226.744322 650.538223 227.980667 650.538223 229.269632 \r\nC 650.538223 230.558597 651.050334 231.794943 651.96177 232.706378 \r\nC 652.873206 233.617814 654.109551 234.129925 655.398516 234.129925 \r\nz\r\n\" style=\"fill:#ffa500;fill-opacity:0.7;stroke:#ffffff;stroke-opacity:0.7;stroke-width:0.777647;\"/>\r\n    <path clip-path=\"url(#pc3c312444b)\" d=\"M 290.552362 241.603218 \r\nC 293.823268 241.603218 296.960645 240.303674 299.273525 237.990794 \r\nC 301.586404 235.677915 302.885948 232.540537 302.885948 229.269632 \r\nC 302.885948 225.998727 301.586404 222.861349 299.273525 220.54847 \r\nC 296.960645 218.23559 293.823268 216.936046 290.552362 216.936046 \r\nC 287.281457 216.936046 284.144079 218.23559 281.8312 220.54847 \r\nC 279.518321 222.861349 278.218776 225.998727 278.218776 229.269632 \r\nC 278.218776 232.540537 279.518321 235.677915 281.8312 237.990794 \r\nC 284.144079 240.303674 287.281457 241.603218 290.552362 241.603218 \r\nz\r\n\" style=\"fill:#ffff00;fill-opacity:0.7;stroke:#ffffff;stroke-opacity:0.7;stroke-width:0.777647;\"/>\r\n    <path clip-path=\"url(#pc3c312444b)\" d=\"M 754.902013 234.479513 \r\nC 756.283689 234.479513 757.608962 233.930567 758.585955 232.953574 \r\nC 759.562947 231.976581 760.111893 230.651309 760.111893 229.269632 \r\nC 760.111893 227.887956 759.562947 226.562683 758.585955 225.58569 \r\nC 757.608962 224.608697 756.283689 224.059751 754.902013 224.059751 \r\nC 753.520336 224.059751 752.195064 224.608697 751.218071 225.58569 \r\nC 750.241078 226.562683 749.692132 227.887956 749.692132 229.269632 \r\nC 749.692132 230.651309 750.241078 231.976581 751.218071 232.953574 \r\nC 752.195064 233.930567 753.520336 234.479513 754.902013 234.479513 \r\nz\r\n\" style=\"fill:#ffa500;fill-opacity:0.7;stroke:#ffffff;stroke-opacity:0.7;stroke-width:0.777647;\"/>\r\n    <path clip-path=\"url(#pc3c312444b)\" d=\"M 240.800614 240.323766 \r\nC 243.732205 240.323766 246.54412 239.159033 248.617067 237.086085 \r\nC 250.690015 235.013138 251.854748 232.201223 251.854748 229.269632 \r\nC 251.854748 226.338041 250.690015 223.526127 248.617067 221.453179 \r\nC 246.54412 219.380231 243.732205 218.215498 240.800614 218.215498 \r\nC 237.869023 218.215498 235.057109 219.380231 232.984161 221.453179 \r\nC 230.911213 223.526127 229.74648 226.338041 229.74648 229.269632 \r\nC 229.74648 232.201223 230.911213 235.013138 232.984161 237.086085 \r\nC 235.057109 239.159033 237.869023 240.323766 240.800614 240.323766 \r\nz\r\n\" style=\"fill:#ffff00;fill-opacity:0.7;stroke:#ffffff;stroke-opacity:0.7;stroke-width:0.777647;\"/>\r\n    <path clip-path=\"url(#pc3c312444b)\" d=\"M 771.485929 216.079734 \r\nC 772.822054 216.079734 774.103634 215.548886 775.048418 214.604103 \r\nC 775.993201 213.65932 776.524049 212.377739 776.524049 211.041614 \r\nC 776.524049 209.705489 775.993201 208.423908 775.048418 207.479125 \r\nC 774.103634 206.534342 772.822054 206.003494 771.485929 206.003494 \r\nC 770.149804 206.003494 768.868223 206.534342 767.92344 207.479125 \r\nC 766.978657 208.423908 766.447809 209.705489 766.447809 211.041614 \r\nC 766.447809 212.377739 766.978657 213.65932 767.92344 214.604103 \r\nC 768.868223 215.548886 770.149804 216.079734 771.485929 216.079734 \r\nz\r\n\" style=\"fill:#ffa500;fill-opacity:0.7;stroke:#ffffff;stroke-opacity:0.7;stroke-width:0.777647;\"/>\r\n    <path clip-path=\"url(#pc3c312444b)\" d=\"M 373.471943 223.657404 \r\nC 376.817689 223.657404 380.026853 222.328125 382.392654 219.962325 \r\nC 384.758454 217.596525 386.087733 214.387361 386.087733 211.041614 \r\nC 386.087733 207.695868 384.758454 204.486704 382.392654 202.120903 \r\nC 380.026853 199.755103 376.817689 198.425824 373.471943 198.425824 \r\nC 370.126196 198.425824 366.917032 199.755103 364.551232 202.120903 \r\nC 362.185432 204.486704 360.856153 207.695868 360.856153 211.041614 \r\nC 360.856153 214.387361 362.185432 217.596525 364.551232 219.962325 \r\nC 366.917032 222.328125 370.126196 223.657404 373.471943 223.657404 \r\nz\r\n\" style=\"fill:#ffff00;fill-opacity:0.7;stroke:#ffffff;stroke-opacity:0.7;stroke-width:0.777647;\"/>\r\n    <path clip-path=\"url(#pc3c312444b)\" d=\"M 406.639775 204.013426 \r\nC 408.643179 204.013426 410.564799 203.217465 411.981419 201.800844 \r\nC 413.39804 200.384224 414.194001 198.462604 414.194001 196.4592 \r\nC 414.194001 194.455796 413.39804 192.534176 411.981419 191.117556 \r\nC 410.564799 189.700935 408.643179 188.904974 406.639775 188.904974 \r\nC 404.636371 188.904974 402.714751 189.700935 401.298131 191.117556 \r\nC 399.88151 192.534176 399.085549 194.455796 399.085549 196.4592 \r\nC 399.085549 198.462604 399.88151 200.384224 401.298131 201.800844 \r\nC 402.714751 203.217465 404.636371 204.013426 406.639775 204.013426 \r\nz\r\n\" style=\"fill:#ffa500;fill-opacity:0.7;stroke:#ffffff;stroke-opacity:0.7;stroke-width:0.777647;\"/>\r\n    <path clip-path=\"url(#pc3c312444b)\" d=\"M 323.720194 208.792786 \r\nC 326.9911 208.792786 330.128478 207.493242 332.441357 205.180362 \r\nC 334.754236 202.867483 336.053781 199.730105 336.053781 196.4592 \r\nC 336.053781 193.188295 334.754236 190.050917 332.441357 187.738037 \r\nC 330.128478 185.425158 326.9911 184.125614 323.720194 184.125614 \r\nC 320.449289 184.125614 317.311911 185.425158 314.999032 187.738037 \r\nC 312.686153 190.050917 311.386608 193.188295 311.386608 196.4592 \r\nC 311.386608 199.730105 312.686153 202.867483 314.999032 205.180362 \r\nC 317.311911 207.493242 320.449289 208.792786 323.720194 208.792786 \r\nz\r\n\" style=\"fill:#ffff00;fill-opacity:0.7;stroke:#ffffff;stroke-opacity:0.7;stroke-width:0.777647;\"/>\r\n    <path clip-path=\"url(#pc3c312444b)\" d=\"M 555.89502 198.023477 \r\nC 557.276696 198.023477 558.601969 197.474531 559.578962 196.497538 \r\nC 560.555954 195.520545 561.1049 194.195273 561.1049 192.813596 \r\nC 561.1049 191.43192 560.555954 190.106647 559.578962 189.129654 \r\nC 558.601969 188.152661 557.276696 187.603716 555.89502 187.603716 \r\nC 554.513343 187.603716 553.188071 188.152661 552.211078 189.129654 \r\nC 551.234085 190.106647 550.685139 191.43192 550.685139 192.813596 \r\nC 550.685139 194.195273 551.234085 195.520545 552.211078 196.497538 \r\nC 553.188071 197.474531 554.513343 198.023477 555.89502 198.023477 \r\nz\r\n\" style=\"fill:#ffa500;fill-opacity:0.7;stroke:#ffffff;stroke-opacity:0.7;stroke-width:0.777647;\"/>\r\n    <path clip-path=\"url(#pc3c312444b)\" d=\"M 273.968446 205.289082 \r\nC 277.276984 205.289082 280.450458 203.974587 282.789947 201.635097 \r\nC 285.129436 199.295608 286.443932 196.122134 286.443932 192.813596 \r\nC 286.443932 189.505059 285.129436 186.331585 282.789947 183.992095 \r\nC 280.450458 181.652606 277.276984 180.33811 273.968446 180.33811 \r\nC 270.659909 180.33811 267.486435 181.652606 265.146945 183.992095 \r\nC 262.807456 186.331585 261.49296 189.505059 261.49296 192.813596 \r\nC 261.49296 196.122134 262.807456 199.295608 265.146945 201.635097 \r\nC 267.486435 203.974587 270.659909 205.289082 273.968446 205.289082 \r\nz\r\n\" style=\"fill:#ffff00;fill-opacity:0.7;stroke:#ffffff;stroke-opacity:0.7;stroke-width:0.777647;\"/>\r\n    <path clip-path=\"url(#pc3c312444b)\" d=\"M 472.975439 197.497924 \r\nC 475.184563 197.497924 477.303504 196.62023 478.86559 195.058144 \r\nC 480.427676 193.496057 481.305371 191.377116 481.305371 189.167993 \r\nC 481.305371 186.958869 480.427676 184.839928 478.86559 183.277842 \r\nC 477.303504 181.715756 475.184563 180.838061 472.975439 180.838061 \r\nC 470.766316 180.838061 468.647375 181.715756 467.085288 183.277842 \r\nC 465.523202 184.839928 464.645508 186.958869 464.645508 189.167993 \r\nC 464.645508 191.377116 465.523202 193.496057 467.085288 195.058144 \r\nC 468.647375 196.62023 470.766316 197.497924 472.975439 197.497924 \r\nz\r\n\" style=\"fill:#ffa500;fill-opacity:0.7;stroke:#ffffff;stroke-opacity:0.7;stroke-width:0.777647;\"/>\r\n    <path clip-path=\"url(#pc3c312444b)\" d=\"M 290.552362 202.263014 \r\nC 294.025203 202.263014 297.356272 200.88324 299.811941 198.427571 \r\nC 302.26761 195.971902 303.647384 192.640833 303.647384 189.167993 \r\nC 303.647384 185.695152 302.26761 182.364083 299.811941 179.908414 \r\nC 297.356272 177.452745 294.025203 176.072971 290.552362 176.072971 \r\nC 287.079522 176.072971 283.748453 177.452745 281.292784 179.908414 \r\nC 278.837115 182.364083 277.457341 185.695152 277.457341 189.167993 \r\nC 277.457341 192.640833 278.837115 195.971902 281.292784 198.427571 \r\nC 283.748453 200.88324 287.079522 202.263014 290.552362 202.263014 \r\nz\r\n\" style=\"fill:#ffff00;fill-opacity:0.7;stroke:#ffffff;stroke-opacity:0.7;stroke-width:0.777647;\"/>\r\n    <path clip-path=\"url(#pc3c312444b)\" d=\"M 688.566348 188.433057 \r\nC 690.305092 188.433057 691.972855 187.742247 693.202332 186.51277 \r\nC 694.43181 185.283292 695.12262 183.615529 695.12262 181.876786 \r\nC 695.12262 180.138042 694.43181 178.470279 693.202332 177.240802 \r\nC 691.972855 176.011324 690.305092 175.320514 688.566348 175.320514 \r\nC 686.827605 175.320514 685.159842 176.011324 683.930364 177.240802 \r\nC 682.700887 178.470279 682.010077 180.138042 682.010077 181.876786 \r\nC 682.010077 183.615529 682.700887 185.283292 683.930364 186.51277 \r\nC 685.159842 187.742247 686.827605 188.433057 688.566348 188.433057 \r\nz\r\n\" style=\"fill:#ffa500;fill-opacity:0.7;stroke:#ffffff;stroke-opacity:0.7;stroke-width:0.777647;\"/>\r\n    <path clip-path=\"url(#pc3c312444b)\" d=\"M 257.38453 192.851013 \r\nC 260.294929 192.851013 263.086518 191.694699 265.144481 189.636736 \r\nC 267.202444 187.578773 268.358758 184.787185 268.358758 181.876786 \r\nC 268.358758 178.966386 267.202444 176.174798 265.144481 174.116835 \r\nC 263.086518 172.058872 260.294929 170.902558 257.38453 170.902558 \r\nC 254.474131 170.902558 251.682542 172.058872 249.624579 174.116835 \r\nC 247.566616 176.174798 246.410302 178.966386 246.410302 181.876786 \r\nC 246.410302 184.787185 247.566616 187.578773 249.624579 189.636736 \r\nC 251.682542 191.694699 254.474131 192.851013 257.38453 192.851013 \r\nz\r\n\" style=\"fill:#ffff00;fill-opacity:0.7;stroke:#ffffff;stroke-opacity:0.7;stroke-width:0.777647;\"/>\r\n    <path clip-path=\"url(#pc3c312444b)\" d=\"M 472.975439 180.123021 \r\nC 474.443986 180.123021 475.852583 179.539561 476.891002 178.501141 \r\nC 477.929422 177.462722 478.512881 176.054125 478.512881 174.585578 \r\nC 478.512881 173.117032 477.929422 171.708435 476.891002 170.670016 \r\nC 475.852583 169.631596 474.443986 169.048136 472.975439 169.048136 \r\nC 471.506892 169.048136 470.098296 169.631596 469.059876 170.670016 \r\nC 468.021457 171.708435 467.437997 173.117032 467.437997 174.585578 \r\nC 467.437997 176.054125 468.021457 177.462722 469.059876 178.501141 \r\nC 470.098296 179.539561 471.506892 180.123021 472.975439 180.123021 \r\nz\r\n\" style=\"fill:#ffa500;fill-opacity:0.7;stroke:#ffffff;stroke-opacity:0.7;stroke-width:0.777647;\"/>\r\n    <path clip-path=\"url(#pc3c312444b)\" d=\"M 390.055859 186.847599 \r\nC 393.307785 186.847599 396.426958 185.555595 398.726417 183.256136 \r\nC 401.025875 180.956677 402.317879 177.837504 402.317879 174.585578 \r\nC 402.317879 171.333653 401.025875 168.214479 398.726417 165.915021 \r\nC 396.426958 163.615562 393.307785 162.323558 390.055859 162.323558 \r\nC 386.803933 162.323558 383.68476 163.615562 381.385301 165.915021 \r\nC 379.085842 168.214479 377.793838 171.333653 377.793838 174.585578 \r\nC 377.793838 177.837504 379.085842 180.956677 381.385301 183.256136 \r\nC 383.68476 185.555595 386.803933 186.847599 390.055859 186.847599 \r\nz\r\n\" style=\"fill:#ffff00;fill-opacity:0.7;stroke:#ffffff;stroke-opacity:0.7;stroke-width:0.777647;\"/>\r\n    <path clip-path=\"url(#pc3c312444b)\" d=\"M 356.888027 181.006208 \r\nC 358.590798 181.006208 360.224057 180.32969 361.428098 179.125649 \r\nC 362.632139 177.921609 363.308657 176.288349 363.308657 174.585578 \r\nC 363.308657 172.882807 362.632139 171.249548 361.428098 170.045507 \r\nC 360.224057 168.841466 358.590798 168.164948 356.888027 168.164948 \r\nC 355.185256 168.164948 353.551997 168.841466 352.347956 170.045507 \r\nC 351.143915 171.249548 350.467397 172.882807 350.467397 174.585578 \r\nC 350.467397 176.288349 351.143915 177.921609 352.347956 179.125649 \r\nC 353.551997 180.32969 355.185256 181.006208 356.888027 181.006208 \r\nz\r\n\" style=\"fill:#ffa500;fill-opacity:0.7;stroke:#ffffff;stroke-opacity:0.7;stroke-width:0.777647;\"/>\r\n    <path clip-path=\"url(#pc3c312444b)\" d=\"M 323.720194 185.639712 \r\nC 326.651785 185.639712 329.4637 184.474979 331.536648 182.402032 \r\nC 333.609595 180.329084 334.774328 177.517169 334.774328 174.585578 \r\nC 334.774328 171.653988 333.609595 168.842073 331.536648 166.769125 \r\nC 329.4637 164.696178 326.651785 163.531444 323.720194 163.531444 \r\nC 320.788604 163.531444 317.976689 164.696178 315.903741 166.769125 \r\nC 313.830794 168.842073 312.666061 171.653988 312.666061 174.585578 \r\nC 312.666061 177.517169 313.830794 180.329084 315.903741 182.402032 \r\nC 317.976689 184.474979 320.788604 185.639712 323.720194 185.639712 \r\nz\r\n\" style=\"fill:#ffff00;fill-opacity:0.7;stroke:#ffffff;stroke-opacity:0.7;stroke-width:0.777647;\"/>\r\n    <path clip-path=\"url(#pc3c312444b)\" d=\"M 340.304111 141.979404 \r\nC 341.325106 141.979404 342.304421 141.573758 343.026373 140.851805 \r\nC 343.748326 140.129853 344.153971 139.150538 344.153971 138.129543 \r\nC 344.153971 137.108548 343.748326 136.129232 343.026373 135.40728 \r\nC 342.304421 134.685327 341.325106 134.279682 340.304111 134.279682 \r\nC 339.283116 134.279682 338.3038 134.685327 337.581848 135.40728 \r\nC 336.859895 136.129232 336.45425 137.108548 336.45425 138.129543 \r\nC 336.45425 139.150538 336.859895 140.129853 337.581848 140.851805 \r\nC 338.3038 141.573758 339.283116 141.979404 340.304111 141.979404 \r\nz\r\n\" style=\"fill:#ffa500;fill-opacity:0.7;stroke:#ffffff;stroke-opacity:0.7;stroke-width:0.777647;\"/>\r\n    <path clip-path=\"url(#pc3c312444b)\" d=\"M 423.223691 150.814903 \r\nC 426.587888 150.814903 429.814749 149.478293 432.193595 147.099447 \r\nC 434.572442 144.720601 435.909051 141.49374 435.909051 138.129543 \r\nC 435.909051 134.765346 434.572442 131.538485 432.193595 129.159638 \r\nC 429.814749 126.780792 426.587888 125.444182 423.223691 125.444182 \r\nC 419.859494 125.444182 416.632633 126.780792 414.253787 129.159638 \r\nC 411.87494 131.538485 410.538331 134.765346 410.538331 138.129543 \r\nC 410.538331 141.49374 411.87494 144.720601 414.253787 147.099447 \r\nC 416.632633 149.478293 419.859494 150.814903 423.223691 150.814903 \r\nz\r\n\" style=\"fill:#ffff00;fill-opacity:0.7;stroke:#ffffff;stroke-opacity:0.7;stroke-width:0.777647;\"/>\r\n    <path clip-path=\"url(#pc3c312444b)\" d=\"M 572.478936 117.986474 \r\nC 573.904709 117.986474 575.272279 117.420009 576.280453 116.411835 \r\nC 577.288627 115.40366 577.855092 114.036091 577.855092 112.610318 \r\nC 577.855092 111.184544 577.288627 109.816975 576.280453 108.808801 \r\nC 575.272279 107.800627 573.904709 107.234161 572.478936 107.234161 \r\nC 571.053162 107.234161 569.685593 107.800627 568.677419 108.808801 \r\nC 567.669245 109.816975 567.102779 111.184544 567.102779 112.610318 \r\nC 567.102779 114.036091 567.669245 115.40366 568.677419 116.411835 \r\nC 569.685593 117.420009 571.053162 117.986474 572.478936 117.986474 \r\nz\r\n\" style=\"fill:#ffa500;fill-opacity:0.7;stroke:#ffffff;stroke-opacity:0.7;stroke-width:0.777647;\"/>\r\n    <path clip-path=\"url(#pc3c312444b)\" d=\"M 373.471943 124.43385 \r\nC 376.60758 124.43385 379.615212 123.188048 381.832443 120.970818 \r\nC 384.049673 118.753587 385.295475 115.745955 385.295475 112.610318 \r\nC 385.295475 109.47468 384.049673 106.467048 381.832443 104.249818 \r\nC 379.615212 102.032587 376.60758 100.786785 373.471943 100.786785 \r\nC 370.336305 100.786785 367.328673 102.032587 365.111443 104.249818 \r\nC 362.894212 106.467048 361.64841 109.47468 361.64841 112.610318 \r\nC 361.64841 115.745955 362.894212 118.753587 365.111443 120.970818 \r\nC 367.328673 123.188048 370.336305 124.43385 373.471943 124.43385 \r\nz\r\n\" style=\"fill:#ffff00;fill-opacity:0.7;stroke:#ffffff;stroke-opacity:0.7;stroke-width:0.777647;\"/>\r\n    <path clip-path=\"url(#pc3c312444b)\" d=\"M 539.311104 97.809568 \r\nC 541.186851 97.809568 542.986025 97.064325 544.312379 95.737972 \r\nC 545.638733 94.411618 546.383975 92.612444 546.383975 90.736696 \r\nC 546.383975 88.860949 545.638733 87.061775 544.312379 85.735421 \r\nC 542.986025 84.409067 541.186851 83.663825 539.311104 83.663825 \r\nC 537.435356 83.663825 535.636182 84.409067 534.309828 85.735421 \r\nC 532.983475 87.061775 532.238232 88.860949 532.238232 90.736696 \r\nC 532.238232 92.612444 532.983475 94.411618 534.309828 95.737972 \r\nC 535.636182 97.064325 537.435356 97.809568 539.311104 97.809568 \r\nz\r\n\" style=\"fill:#ffa500;fill-opacity:0.7;stroke:#ffffff;stroke-opacity:0.7;stroke-width:0.777647;\"/>\r\n    <path clip-path=\"url(#pc3c312444b)\" d=\"M 323.720194 102.181996 \r\nC 326.755524 102.181996 329.666942 100.976047 331.813244 98.829746 \r\nC 333.959546 96.683444 335.165495 93.772025 335.165495 90.736696 \r\nC 335.165495 87.701367 333.959546 84.789949 331.813244 82.643647 \r\nC 329.666942 80.497345 326.755524 79.291396 323.720194 79.291396 \r\nC 320.684865 79.291396 317.773447 80.497345 315.627145 82.643647 \r\nC 313.480843 84.789949 312.274894 87.701367 312.274894 90.736696 \r\nC 312.274894 93.772025 313.480843 96.683444 315.627145 98.829746 \r\nC 317.773447 100.976047 320.684865 102.181996 323.720194 102.181996 \r\nz\r\n\" style=\"fill:#ffff00;fill-opacity:0.7;stroke:#ffffff;stroke-opacity:0.7;stroke-width:0.777647;\"/>\r\n    <path clip-path=\"url(#pc3c312444b)\" d=\"M 323.720194 56.329218 \r\nC 325.230304 56.329218 326.678766 55.729245 327.746574 54.661437 \r\nC 328.814383 53.593628 329.414355 52.145166 329.414355 50.635057 \r\nC 329.414355 49.124948 328.814383 47.676485 327.746574 46.608677 \r\nC 326.678766 45.540869 325.230304 44.940896 323.720194 44.940896 \r\nC 322.210085 44.940896 320.761623 45.540869 319.693815 46.608677 \r\nC 318.626006 47.676485 318.026034 49.124948 318.026034 50.635057 \r\nC 318.026034 52.145166 318.626006 53.593628 319.693815 54.661437 \r\nC 320.761623 55.729245 322.210085 56.329218 323.720194 56.329218 \r\nz\r\n\" style=\"fill:#ffa500;fill-opacity:0.7;stroke:#ffffff;stroke-opacity:0.7;stroke-width:0.777647;\"/>\r\n    <path clip-path=\"url(#pc3c312444b)\" d=\"M 290.552362 62.752678 \r\nC 293.765993 62.752678 296.848434 61.475889 299.120814 59.203509 \r\nC 301.393194 56.931129 302.669983 53.848687 302.669983 50.635057 \r\nC 302.669983 47.421426 301.393194 44.338985 299.120814 42.066605 \r\nC 296.848434 39.794225 293.765993 38.517436 290.552362 38.517436 \r\nC 287.338732 38.517436 284.25629 39.794225 281.98391 42.066605 \r\nC 279.71153 44.338985 278.434741 47.421426 278.434741 50.635057 \r\nC 278.434741 53.848687 279.71153 56.931129 281.98391 59.203509 \r\nC 284.25629 61.475889 287.338732 62.752678 290.552362 62.752678 \r\nz\r\n\" style=\"fill:#ffff00;fill-opacity:0.7;stroke:#ffffff;stroke-opacity:0.7;stroke-width:0.777647;\"/>\r\n   </g>\r\n   <g id=\"PathCollection_2\"/>\r\n   <g id=\"PathCollection_3\"/>\r\n   <g id=\"PathCollection_4\"/>\r\n   <g id=\"PathCollection_5\"/>\r\n   <g id=\"PathCollection_6\"/>\r\n   <g id=\"PathCollection_7\"/>\r\n   <g id=\"PathCollection_8\"/>\r\n   <g id=\"PathCollection_9\"/>\r\n   <g id=\"PathCollection_10\"/>\r\n   <g id=\"PathCollection_11\"/>\r\n   <g id=\"PathCollection_12\">\r\n    <path clip-path=\"url(#pc3c312444b)\" d=\"M 537.997917 464.255453 \r\nL 557.997917 444.255453 \r\nM 537.997917 444.255453 \r\nL 557.997917 464.255453 \r\n\" style=\"fill:#ff0000;stroke:#000000;stroke-width:1.6;\"/>\r\n    <path clip-path=\"url(#pc3c312444b)\" d=\"M 230.800614 353.530523 \r\nL 250.800614 333.530523 \r\nM 230.800614 333.530523 \r\nL 250.800614 353.530523 \r\n\" style=\"fill:#0000ff;stroke:#000000;stroke-width:1.6;\"/>\r\n    <path clip-path=\"url(#pc3c312444b)\" d=\"M 197.632782 467.99163 \r\nL 217.632782 447.99163 \r\nM 197.632782 447.99163 \r\nL 217.632782 467.99163 \r\n\" style=\"fill:#800080;stroke:#000000;stroke-width:1.6;\"/>\r\n    <path clip-path=\"url(#pc3c312444b)\" d=\"M 717.262153 362.247993 \r\nL 737.262153 342.247993 \r\nM 717.262153 342.247993 \r\nL 737.262153 362.247993 \r\n\" style=\"fill:#008000;stroke:#000000;stroke-width:1.6;\"/>\r\n    <path clip-path=\"url(#pc3c312444b)\" d=\"M 467.365299 237.44683 \r\nL 487.365299 217.44683 \r\nM 467.365299 217.44683 \r\nL 487.365299 237.44683 \r\n\" style=\"fill:#ffa500;stroke:#000000;stroke-width:1.6;\"/>\r\n    <path clip-path=\"url(#pc3c312444b)\" d=\"M 325.201367 244.597822 \r\nL 345.201367 224.597822 \r\nM 325.201367 224.597822 \r\nL 345.201367 244.597822 \r\n\" style=\"fill:#ffff00;stroke:#000000;stroke-width:1.6;\"/>\r\n   </g>\r\n   <g id=\"matplotlib.axis_1\">\r\n    <g id=\"xtick_1\">\r\n     <g id=\"line2d_1\">\r\n      <defs>\r\n       <path d=\"M 0 0 \r\nL 0 3.5 \r\n\" id=\"m25951ea0f6\" style=\"stroke:#000000;stroke-width:0.8;\"/>\r\n      </defs>\r\n      <g>\r\n       <use style=\"stroke:#000000;stroke-width:0.8;\" x=\"90.698568\" xlink:href=\"#m25951ea0f6\" y=\"517.636875\"/>\r\n      </g>\r\n     </g>\r\n     <g id=\"text_1\">\r\n      <!-- −1.5 -->\r\n      <g transform=\"translate(78.557162 532.235312)scale(0.1 -0.1)\">\r\n       <defs>\r\n        <path d=\"M 10.59375 35.5 \r\nL 73.1875 35.5 \r\nL 73.1875 27.203125 \r\nL 10.59375 27.203125 \r\nz\r\n\" id=\"DejaVuSans-8722\"/>\r\n        <path d=\"M 12.40625 8.296875 \r\nL 28.515625 8.296875 \r\nL 28.515625 63.921875 \r\nL 10.984375 60.40625 \r\nL 10.984375 69.390625 \r\nL 28.421875 72.90625 \r\nL 38.28125 72.90625 \r\nL 38.28125 8.296875 \r\nL 54.390625 8.296875 \r\nL 54.390625 0 \r\nL 12.40625 0 \r\nz\r\n\" id=\"DejaVuSans-49\"/>\r\n        <path d=\"M 10.6875 12.40625 \r\nL 21 12.40625 \r\nL 21 0 \r\nL 10.6875 0 \r\nz\r\n\" id=\"DejaVuSans-46\"/>\r\n        <path d=\"M 10.796875 72.90625 \r\nL 49.515625 72.90625 \r\nL 49.515625 64.59375 \r\nL 19.828125 64.59375 \r\nL 19.828125 46.734375 \r\nQ 21.96875 47.46875 24.109375 47.828125 \r\nQ 26.265625 48.1875 28.421875 48.1875 \r\nQ 40.625 48.1875 47.75 41.5 \r\nQ 54.890625 34.8125 54.890625 23.390625 \r\nQ 54.890625 11.625 47.5625 5.09375 \r\nQ 40.234375 -1.421875 26.90625 -1.421875 \r\nQ 22.3125 -1.421875 17.546875 -0.640625 \r\nQ 12.796875 0.140625 7.71875 1.703125 \r\nL 7.71875 11.625 \r\nQ 12.109375 9.234375 16.796875 8.0625 \r\nQ 21.484375 6.890625 26.703125 6.890625 \r\nQ 35.15625 6.890625 40.078125 11.328125 \r\nQ 45.015625 15.765625 45.015625 23.390625 \r\nQ 45.015625 31 40.078125 35.4375 \r\nQ 35.15625 39.890625 26.703125 39.890625 \r\nQ 22.75 39.890625 18.8125 39.015625 \r\nQ 14.890625 38.140625 10.796875 36.28125 \r\nz\r\n\" id=\"DejaVuSans-53\"/>\r\n       </defs>\r\n       <use xlink:href=\"#DejaVuSans-8722\"/>\r\n       <use x=\"83.789062\" xlink:href=\"#DejaVuSans-49\"/>\r\n       <use x=\"147.412109\" xlink:href=\"#DejaVuSans-46\"/>\r\n       <use x=\"179.199219\" xlink:href=\"#DejaVuSans-53\"/>\r\n      </g>\r\n     </g>\r\n    </g>\r\n    <g id=\"xtick_2\">\r\n     <g id=\"line2d_2\">\r\n      <g>\r\n       <use style=\"stroke:#000000;stroke-width:0.8;\" x=\"206.239052\" xlink:href=\"#m25951ea0f6\" y=\"517.636875\"/>\r\n      </g>\r\n     </g>\r\n     <g id=\"text_2\">\r\n      <!-- −1.0 -->\r\n      <g transform=\"translate(194.097646 532.235312)scale(0.1 -0.1)\">\r\n       <defs>\r\n        <path d=\"M 31.78125 66.40625 \r\nQ 24.171875 66.40625 20.328125 58.90625 \r\nQ 16.5 51.421875 16.5 36.375 \r\nQ 16.5 21.390625 20.328125 13.890625 \r\nQ 24.171875 6.390625 31.78125 6.390625 \r\nQ 39.453125 6.390625 43.28125 13.890625 \r\nQ 47.125 21.390625 47.125 36.375 \r\nQ 47.125 51.421875 43.28125 58.90625 \r\nQ 39.453125 66.40625 31.78125 66.40625 \r\nz\r\nM 31.78125 74.21875 \r\nQ 44.046875 74.21875 50.515625 64.515625 \r\nQ 56.984375 54.828125 56.984375 36.375 \r\nQ 56.984375 17.96875 50.515625 8.265625 \r\nQ 44.046875 -1.421875 31.78125 -1.421875 \r\nQ 19.53125 -1.421875 13.0625 8.265625 \r\nQ 6.59375 17.96875 6.59375 36.375 \r\nQ 6.59375 54.828125 13.0625 64.515625 \r\nQ 19.53125 74.21875 31.78125 74.21875 \r\nz\r\n\" id=\"DejaVuSans-48\"/>\r\n       </defs>\r\n       <use xlink:href=\"#DejaVuSans-8722\"/>\r\n       <use x=\"83.789062\" xlink:href=\"#DejaVuSans-49\"/>\r\n       <use x=\"147.412109\" xlink:href=\"#DejaVuSans-46\"/>\r\n       <use x=\"179.199219\" xlink:href=\"#DejaVuSans-48\"/>\r\n      </g>\r\n     </g>\r\n    </g>\r\n    <g id=\"xtick_3\">\r\n     <g id=\"line2d_3\">\r\n      <g>\r\n       <use style=\"stroke:#000000;stroke-width:0.8;\" x=\"321.779536\" xlink:href=\"#m25951ea0f6\" y=\"517.636875\"/>\r\n      </g>\r\n     </g>\r\n     <g id=\"text_3\">\r\n      <!-- −0.5 -->\r\n      <g transform=\"translate(309.63813 532.235312)scale(0.1 -0.1)\">\r\n       <use xlink:href=\"#DejaVuSans-8722\"/>\r\n       <use x=\"83.789062\" xlink:href=\"#DejaVuSans-48\"/>\r\n       <use x=\"147.412109\" xlink:href=\"#DejaVuSans-46\"/>\r\n       <use x=\"179.199219\" xlink:href=\"#DejaVuSans-53\"/>\r\n      </g>\r\n     </g>\r\n    </g>\r\n    <g id=\"xtick_4\">\r\n     <g id=\"line2d_4\">\r\n      <g>\r\n       <use style=\"stroke:#000000;stroke-width:0.8;\" x=\"437.32002\" xlink:href=\"#m25951ea0f6\" y=\"517.636875\"/>\r\n      </g>\r\n     </g>\r\n     <g id=\"text_4\">\r\n      <!-- 0.0 -->\r\n      <g transform=\"translate(429.368457 532.235312)scale(0.1 -0.1)\">\r\n       <use xlink:href=\"#DejaVuSans-48\"/>\r\n       <use x=\"63.623047\" xlink:href=\"#DejaVuSans-46\"/>\r\n       <use x=\"95.410156\" xlink:href=\"#DejaVuSans-48\"/>\r\n      </g>\r\n     </g>\r\n    </g>\r\n    <g id=\"xtick_5\">\r\n     <g id=\"line2d_5\">\r\n      <g>\r\n       <use style=\"stroke:#000000;stroke-width:0.8;\" x=\"552.860503\" xlink:href=\"#m25951ea0f6\" y=\"517.636875\"/>\r\n      </g>\r\n     </g>\r\n     <g id=\"text_5\">\r\n      <!-- 0.5 -->\r\n      <g transform=\"translate(544.908941 532.235312)scale(0.1 -0.1)\">\r\n       <use xlink:href=\"#DejaVuSans-48\"/>\r\n       <use x=\"63.623047\" xlink:href=\"#DejaVuSans-46\"/>\r\n       <use x=\"95.410156\" xlink:href=\"#DejaVuSans-53\"/>\r\n      </g>\r\n     </g>\r\n    </g>\r\n    <g id=\"xtick_6\">\r\n     <g id=\"line2d_6\">\r\n      <g>\r\n       <use style=\"stroke:#000000;stroke-width:0.8;\" x=\"668.400987\" xlink:href=\"#m25951ea0f6\" y=\"517.636875\"/>\r\n      </g>\r\n     </g>\r\n     <g id=\"text_6\">\r\n      <!-- 1.0 -->\r\n      <g transform=\"translate(660.449425 532.235312)scale(0.1 -0.1)\">\r\n       <use xlink:href=\"#DejaVuSans-49\"/>\r\n       <use x=\"63.623047\" xlink:href=\"#DejaVuSans-46\"/>\r\n       <use x=\"95.410156\" xlink:href=\"#DejaVuSans-48\"/>\r\n      </g>\r\n     </g>\r\n    </g>\r\n    <g id=\"xtick_7\">\r\n     <g id=\"line2d_7\">\r\n      <g>\r\n       <use style=\"stroke:#000000;stroke-width:0.8;\" x=\"783.941471\" xlink:href=\"#m25951ea0f6\" y=\"517.636875\"/>\r\n      </g>\r\n     </g>\r\n     <g id=\"text_7\">\r\n      <!-- 1.5 -->\r\n      <g transform=\"translate(775.989908 532.235312)scale(0.1 -0.1)\">\r\n       <use xlink:href=\"#DejaVuSans-49\"/>\r\n       <use x=\"63.623047\" xlink:href=\"#DejaVuSans-46\"/>\r\n       <use x=\"95.410156\" xlink:href=\"#DejaVuSans-53\"/>\r\n      </g>\r\n     </g>\r\n    </g>\r\n    <g id=\"xtick_8\">\r\n     <g id=\"line2d_8\">\r\n      <g>\r\n       <use style=\"stroke:#000000;stroke-width:0.8;\" x=\"899.481955\" xlink:href=\"#m25951ea0f6\" y=\"517.636875\"/>\r\n      </g>\r\n     </g>\r\n     <g id=\"text_8\">\r\n      <!-- 2.0 -->\r\n      <g transform=\"translate(891.530392 532.235312)scale(0.1 -0.1)\">\r\n       <defs>\r\n        <path d=\"M 19.1875 8.296875 \r\nL 53.609375 8.296875 \r\nL 53.609375 0 \r\nL 7.328125 0 \r\nL 7.328125 8.296875 \r\nQ 12.9375 14.109375 22.625 23.890625 \r\nQ 32.328125 33.6875 34.8125 36.53125 \r\nQ 39.546875 41.84375 41.421875 45.53125 \r\nQ 43.3125 49.21875 43.3125 52.78125 \r\nQ 43.3125 58.59375 39.234375 62.25 \r\nQ 35.15625 65.921875 28.609375 65.921875 \r\nQ 23.96875 65.921875 18.8125 64.3125 \r\nQ 13.671875 62.703125 7.8125 59.421875 \r\nL 7.8125 69.390625 \r\nQ 13.765625 71.78125 18.9375 73 \r\nQ 24.125 74.21875 28.421875 74.21875 \r\nQ 39.75 74.21875 46.484375 68.546875 \r\nQ 53.21875 62.890625 53.21875 53.421875 \r\nQ 53.21875 48.921875 51.53125 44.890625 \r\nQ 49.859375 40.875 45.40625 35.40625 \r\nQ 44.1875 33.984375 37.640625 27.21875 \r\nQ 31.109375 20.453125 19.1875 8.296875 \r\nz\r\n\" id=\"DejaVuSans-50\"/>\r\n       </defs>\r\n       <use xlink:href=\"#DejaVuSans-50\"/>\r\n       <use x=\"63.623047\" xlink:href=\"#DejaVuSans-46\"/>\r\n       <use x=\"95.410156\" xlink:href=\"#DejaVuSans-48\"/>\r\n      </g>\r\n     </g>\r\n    </g>\r\n    <g id=\"text_9\">\r\n     <!-- Age -->\r\n     <g transform=\"translate(507.253438 550.4725)scale(0.16 -0.16)\">\r\n      <defs>\r\n       <path d=\"M 34.1875 63.1875 \r\nL 20.796875 26.90625 \r\nL 47.609375 26.90625 \r\nz\r\nM 28.609375 72.90625 \r\nL 39.796875 72.90625 \r\nL 67.578125 0 \r\nL 57.328125 0 \r\nL 50.6875 18.703125 \r\nL 17.828125 18.703125 \r\nL 11.1875 0 \r\nL 0.78125 0 \r\nz\r\n\" id=\"DejaVuSans-65\"/>\r\n       <path d=\"M 45.40625 27.984375 \r\nQ 45.40625 37.75 41.375 43.109375 \r\nQ 37.359375 48.484375 30.078125 48.484375 \r\nQ 22.859375 48.484375 18.828125 43.109375 \r\nQ 14.796875 37.75 14.796875 27.984375 \r\nQ 14.796875 18.265625 18.828125 12.890625 \r\nQ 22.859375 7.515625 30.078125 7.515625 \r\nQ 37.359375 7.515625 41.375 12.890625 \r\nQ 45.40625 18.265625 45.40625 27.984375 \r\nz\r\nM 54.390625 6.78125 \r\nQ 54.390625 -7.171875 48.1875 -13.984375 \r\nQ 42 -20.796875 29.203125 -20.796875 \r\nQ 24.46875 -20.796875 20.265625 -20.09375 \r\nQ 16.0625 -19.390625 12.109375 -17.921875 \r\nL 12.109375 -9.1875 \r\nQ 16.0625 -11.328125 19.921875 -12.34375 \r\nQ 23.78125 -13.375 27.78125 -13.375 \r\nQ 36.625 -13.375 41.015625 -8.765625 \r\nQ 45.40625 -4.15625 45.40625 5.171875 \r\nL 45.40625 9.625 \r\nQ 42.625 4.78125 38.28125 2.390625 \r\nQ 33.9375 0 27.875 0 \r\nQ 17.828125 0 11.671875 7.65625 \r\nQ 5.515625 15.328125 5.515625 27.984375 \r\nQ 5.515625 40.671875 11.671875 48.328125 \r\nQ 17.828125 56 27.875 56 \r\nQ 33.9375 56 38.28125 53.609375 \r\nQ 42.625 51.21875 45.40625 46.390625 \r\nL 45.40625 54.6875 \r\nL 54.390625 54.6875 \r\nz\r\n\" id=\"DejaVuSans-103\"/>\r\n       <path d=\"M 56.203125 29.59375 \r\nL 56.203125 25.203125 \r\nL 14.890625 25.203125 \r\nQ 15.484375 15.921875 20.484375 11.0625 \r\nQ 25.484375 6.203125 34.421875 6.203125 \r\nQ 39.59375 6.203125 44.453125 7.46875 \r\nQ 49.3125 8.734375 54.109375 11.28125 \r\nL 54.109375 2.78125 \r\nQ 49.265625 0.734375 44.1875 -0.34375 \r\nQ 39.109375 -1.421875 33.890625 -1.421875 \r\nQ 20.796875 -1.421875 13.15625 6.1875 \r\nQ 5.515625 13.8125 5.515625 26.8125 \r\nQ 5.515625 40.234375 12.765625 48.109375 \r\nQ 20.015625 56 32.328125 56 \r\nQ 43.359375 56 49.78125 48.890625 \r\nQ 56.203125 41.796875 56.203125 29.59375 \r\nz\r\nM 47.21875 32.234375 \r\nQ 47.125 39.59375 43.09375 43.984375 \r\nQ 39.0625 48.390625 32.421875 48.390625 \r\nQ 24.90625 48.390625 20.390625 44.140625 \r\nQ 15.875 39.890625 15.1875 32.171875 \r\nz\r\n\" id=\"DejaVuSans-101\"/>\r\n      </defs>\r\n      <use xlink:href=\"#DejaVuSans-65\"/>\r\n      <use x=\"68.408203\" xlink:href=\"#DejaVuSans-103\"/>\r\n      <use x=\"131.884766\" xlink:href=\"#DejaVuSans-101\"/>\r\n     </g>\r\n    </g>\r\n   </g>\r\n   <g id=\"matplotlib.axis_2\">\r\n    <g id=\"ytick_1\">\r\n     <g id=\"line2d_9\">\r\n      <defs>\r\n       <path d=\"M 0 0 \r\nL -3.5 0 \r\n\" id=\"me41f8825a0\" style=\"stroke:#000000;stroke-width:0.8;\"/>\r\n      </defs>\r\n      <g>\r\n       <use style=\"stroke:#000000;stroke-width:0.8;\" x=\"48.427188\" xlink:href=\"#me41f8825a0\" y=\"424.816079\"/>\r\n      </g>\r\n     </g>\r\n     <g id=\"text_10\">\r\n      <!-- −1 -->\r\n      <g transform=\"translate(26.685 428.615298)scale(0.1 -0.1)\">\r\n       <use xlink:href=\"#DejaVuSans-8722\"/>\r\n       <use x=\"83.789062\" xlink:href=\"#DejaVuSans-49\"/>\r\n      </g>\r\n     </g>\r\n    </g>\r\n    <g id=\"ytick_2\">\r\n     <g id=\"line2d_10\">\r\n      <g>\r\n       <use style=\"stroke:#000000;stroke-width:0.8;\" x=\"48.427188\" xlink:href=\"#me41f8825a0\" y=\"329.304994\"/>\r\n      </g>\r\n     </g>\r\n     <g id=\"text_11\">\r\n      <!-- 0 -->\r\n      <g transform=\"translate(35.064688 333.104213)scale(0.1 -0.1)\">\r\n       <use xlink:href=\"#DejaVuSans-48\"/>\r\n      </g>\r\n     </g>\r\n    </g>\r\n    <g id=\"ytick_3\">\r\n     <g id=\"line2d_11\">\r\n      <g>\r\n       <use style=\"stroke:#000000;stroke-width:0.8;\" x=\"48.427188\" xlink:href=\"#me41f8825a0\" y=\"233.79391\"/>\r\n      </g>\r\n     </g>\r\n     <g id=\"text_12\">\r\n      <!-- 1 -->\r\n      <g transform=\"translate(35.064688 237.593128)scale(0.1 -0.1)\">\r\n       <use xlink:href=\"#DejaVuSans-49\"/>\r\n      </g>\r\n     </g>\r\n    </g>\r\n    <g id=\"ytick_4\">\r\n     <g id=\"line2d_12\">\r\n      <g>\r\n       <use style=\"stroke:#000000;stroke-width:0.8;\" x=\"48.427188\" xlink:href=\"#me41f8825a0\" y=\"138.282825\"/>\r\n      </g>\r\n     </g>\r\n     <g id=\"text_13\">\r\n      <!-- 2 -->\r\n      <g transform=\"translate(35.064688 142.082044)scale(0.1 -0.1)\">\r\n       <use xlink:href=\"#DejaVuSans-50\"/>\r\n      </g>\r\n     </g>\r\n    </g>\r\n    <g id=\"ytick_5\">\r\n     <g id=\"line2d_13\">\r\n      <g>\r\n       <use style=\"stroke:#000000;stroke-width:0.8;\" x=\"48.427188\" xlink:href=\"#me41f8825a0\" y=\"42.771741\"/>\r\n      </g>\r\n     </g>\r\n     <g id=\"text_14\">\r\n      <!-- 3 -->\r\n      <g transform=\"translate(35.064688 46.570959)scale(0.1 -0.1)\">\r\n       <defs>\r\n        <path d=\"M 40.578125 39.3125 \r\nQ 47.65625 37.796875 51.625 33 \r\nQ 55.609375 28.21875 55.609375 21.1875 \r\nQ 55.609375 10.40625 48.1875 4.484375 \r\nQ 40.765625 -1.421875 27.09375 -1.421875 \r\nQ 22.515625 -1.421875 17.65625 -0.515625 \r\nQ 12.796875 0.390625 7.625 2.203125 \r\nL 7.625 11.71875 \r\nQ 11.71875 9.328125 16.59375 8.109375 \r\nQ 21.484375 6.890625 26.8125 6.890625 \r\nQ 36.078125 6.890625 40.9375 10.546875 \r\nQ 45.796875 14.203125 45.796875 21.1875 \r\nQ 45.796875 27.640625 41.28125 31.265625 \r\nQ 36.765625 34.90625 28.71875 34.90625 \r\nL 20.21875 34.90625 \r\nL 20.21875 43.015625 \r\nL 29.109375 43.015625 \r\nQ 36.375 43.015625 40.234375 45.921875 \r\nQ 44.09375 48.828125 44.09375 54.296875 \r\nQ 44.09375 59.90625 40.109375 62.90625 \r\nQ 36.140625 65.921875 28.71875 65.921875 \r\nQ 24.65625 65.921875 20.015625 65.03125 \r\nQ 15.375 64.15625 9.8125 62.3125 \r\nL 9.8125 71.09375 \r\nQ 15.4375 72.65625 20.34375 73.4375 \r\nQ 25.25 74.21875 29.59375 74.21875 \r\nQ 40.828125 74.21875 47.359375 69.109375 \r\nQ 53.90625 64.015625 53.90625 55.328125 \r\nQ 53.90625 49.265625 50.4375 45.09375 \r\nQ 46.96875 40.921875 40.578125 39.3125 \r\nz\r\n\" id=\"DejaVuSans-51\"/>\r\n       </defs>\r\n       <use xlink:href=\"#DejaVuSans-51\"/>\r\n      </g>\r\n     </g>\r\n    </g>\r\n    <g id=\"text_15\">\r\n     <!-- Annual Income -->\r\n     <g transform=\"translate(19.3575 332.805625)rotate(-90)scale(0.16 -0.16)\">\r\n      <defs>\r\n       <path d=\"M 54.890625 33.015625 \r\nL 54.890625 0 \r\nL 45.90625 0 \r\nL 45.90625 32.71875 \r\nQ 45.90625 40.484375 42.875 44.328125 \r\nQ 39.84375 48.1875 33.796875 48.1875 \r\nQ 26.515625 48.1875 22.3125 43.546875 \r\nQ 18.109375 38.921875 18.109375 30.90625 \r\nL 18.109375 0 \r\nL 9.078125 0 \r\nL 9.078125 54.6875 \r\nL 18.109375 54.6875 \r\nL 18.109375 46.1875 \r\nQ 21.34375 51.125 25.703125 53.5625 \r\nQ 30.078125 56 35.796875 56 \r\nQ 45.21875 56 50.046875 50.171875 \r\nQ 54.890625 44.34375 54.890625 33.015625 \r\nz\r\n\" id=\"DejaVuSans-110\"/>\r\n       <path d=\"M 8.5 21.578125 \r\nL 8.5 54.6875 \r\nL 17.484375 54.6875 \r\nL 17.484375 21.921875 \r\nQ 17.484375 14.15625 20.5 10.265625 \r\nQ 23.53125 6.390625 29.59375 6.390625 \r\nQ 36.859375 6.390625 41.078125 11.03125 \r\nQ 45.3125 15.671875 45.3125 23.6875 \r\nL 45.3125 54.6875 \r\nL 54.296875 54.6875 \r\nL 54.296875 0 \r\nL 45.3125 0 \r\nL 45.3125 8.40625 \r\nQ 42.046875 3.421875 37.71875 1 \r\nQ 33.40625 -1.421875 27.6875 -1.421875 \r\nQ 18.265625 -1.421875 13.375 4.4375 \r\nQ 8.5 10.296875 8.5 21.578125 \r\nz\r\nM 31.109375 56 \r\nz\r\n\" id=\"DejaVuSans-117\"/>\r\n       <path d=\"M 34.28125 27.484375 \r\nQ 23.390625 27.484375 19.1875 25 \r\nQ 14.984375 22.515625 14.984375 16.5 \r\nQ 14.984375 11.71875 18.140625 8.90625 \r\nQ 21.296875 6.109375 26.703125 6.109375 \r\nQ 34.1875 6.109375 38.703125 11.40625 \r\nQ 43.21875 16.703125 43.21875 25.484375 \r\nL 43.21875 27.484375 \r\nz\r\nM 52.203125 31.203125 \r\nL 52.203125 0 \r\nL 43.21875 0 \r\nL 43.21875 8.296875 \r\nQ 40.140625 3.328125 35.546875 0.953125 \r\nQ 30.953125 -1.421875 24.3125 -1.421875 \r\nQ 15.921875 -1.421875 10.953125 3.296875 \r\nQ 6 8.015625 6 15.921875 \r\nQ 6 25.140625 12.171875 29.828125 \r\nQ 18.359375 34.515625 30.609375 34.515625 \r\nL 43.21875 34.515625 \r\nL 43.21875 35.40625 \r\nQ 43.21875 41.609375 39.140625 45 \r\nQ 35.0625 48.390625 27.6875 48.390625 \r\nQ 23 48.390625 18.546875 47.265625 \r\nQ 14.109375 46.140625 10.015625 43.890625 \r\nL 10.015625 52.203125 \r\nQ 14.9375 54.109375 19.578125 55.046875 \r\nQ 24.21875 56 28.609375 56 \r\nQ 40.484375 56 46.34375 49.84375 \r\nQ 52.203125 43.703125 52.203125 31.203125 \r\nz\r\n\" id=\"DejaVuSans-97\"/>\r\n       <path d=\"M 9.421875 75.984375 \r\nL 18.40625 75.984375 \r\nL 18.40625 0 \r\nL 9.421875 0 \r\nz\r\n\" id=\"DejaVuSans-108\"/>\r\n       <path id=\"DejaVuSans-32\"/>\r\n       <path d=\"M 9.8125 72.90625 \r\nL 19.671875 72.90625 \r\nL 19.671875 0 \r\nL 9.8125 0 \r\nz\r\n\" id=\"DejaVuSans-73\"/>\r\n       <path d=\"M 48.78125 52.59375 \r\nL 48.78125 44.1875 \r\nQ 44.96875 46.296875 41.140625 47.34375 \r\nQ 37.3125 48.390625 33.40625 48.390625 \r\nQ 24.65625 48.390625 19.8125 42.84375 \r\nQ 14.984375 37.3125 14.984375 27.296875 \r\nQ 14.984375 17.28125 19.8125 11.734375 \r\nQ 24.65625 6.203125 33.40625 6.203125 \r\nQ 37.3125 6.203125 41.140625 7.25 \r\nQ 44.96875 8.296875 48.78125 10.40625 \r\nL 48.78125 2.09375 \r\nQ 45.015625 0.34375 40.984375 -0.53125 \r\nQ 36.96875 -1.421875 32.421875 -1.421875 \r\nQ 20.0625 -1.421875 12.78125 6.34375 \r\nQ 5.515625 14.109375 5.515625 27.296875 \r\nQ 5.515625 40.671875 12.859375 48.328125 \r\nQ 20.21875 56 33.015625 56 \r\nQ 37.15625 56 41.109375 55.140625 \r\nQ 45.0625 54.296875 48.78125 52.59375 \r\nz\r\n\" id=\"DejaVuSans-99\"/>\r\n       <path d=\"M 30.609375 48.390625 \r\nQ 23.390625 48.390625 19.1875 42.75 \r\nQ 14.984375 37.109375 14.984375 27.296875 \r\nQ 14.984375 17.484375 19.15625 11.84375 \r\nQ 23.34375 6.203125 30.609375 6.203125 \r\nQ 37.796875 6.203125 41.984375 11.859375 \r\nQ 46.1875 17.53125 46.1875 27.296875 \r\nQ 46.1875 37.015625 41.984375 42.703125 \r\nQ 37.796875 48.390625 30.609375 48.390625 \r\nz\r\nM 30.609375 56 \r\nQ 42.328125 56 49.015625 48.375 \r\nQ 55.71875 40.765625 55.71875 27.296875 \r\nQ 55.71875 13.875 49.015625 6.21875 \r\nQ 42.328125 -1.421875 30.609375 -1.421875 \r\nQ 18.84375 -1.421875 12.171875 6.21875 \r\nQ 5.515625 13.875 5.515625 27.296875 \r\nQ 5.515625 40.765625 12.171875 48.375 \r\nQ 18.84375 56 30.609375 56 \r\nz\r\n\" id=\"DejaVuSans-111\"/>\r\n       <path d=\"M 52 44.1875 \r\nQ 55.375 50.25 60.0625 53.125 \r\nQ 64.75 56 71.09375 56 \r\nQ 79.640625 56 84.28125 50.015625 \r\nQ 88.921875 44.046875 88.921875 33.015625 \r\nL 88.921875 0 \r\nL 79.890625 0 \r\nL 79.890625 32.71875 \r\nQ 79.890625 40.578125 77.09375 44.375 \r\nQ 74.3125 48.1875 68.609375 48.1875 \r\nQ 61.625 48.1875 57.5625 43.546875 \r\nQ 53.515625 38.921875 53.515625 30.90625 \r\nL 53.515625 0 \r\nL 44.484375 0 \r\nL 44.484375 32.71875 \r\nQ 44.484375 40.625 41.703125 44.40625 \r\nQ 38.921875 48.1875 33.109375 48.1875 \r\nQ 26.21875 48.1875 22.15625 43.53125 \r\nQ 18.109375 38.875 18.109375 30.90625 \r\nL 18.109375 0 \r\nL 9.078125 0 \r\nL 9.078125 54.6875 \r\nL 18.109375 54.6875 \r\nL 18.109375 46.1875 \r\nQ 21.1875 51.21875 25.484375 53.609375 \r\nQ 29.78125 56 35.6875 56 \r\nQ 41.65625 56 45.828125 52.96875 \r\nQ 50 49.953125 52 44.1875 \r\nz\r\n\" id=\"DejaVuSans-109\"/>\r\n      </defs>\r\n      <use xlink:href=\"#DejaVuSans-65\"/>\r\n      <use x=\"68.408203\" xlink:href=\"#DejaVuSans-110\"/>\r\n      <use x=\"131.787109\" xlink:href=\"#DejaVuSans-110\"/>\r\n      <use x=\"195.166016\" xlink:href=\"#DejaVuSans-117\"/>\r\n      <use x=\"258.544922\" xlink:href=\"#DejaVuSans-97\"/>\r\n      <use x=\"319.824219\" xlink:href=\"#DejaVuSans-108\"/>\r\n      <use x=\"347.607422\" xlink:href=\"#DejaVuSans-32\"/>\r\n      <use x=\"379.394531\" xlink:href=\"#DejaVuSans-73\"/>\r\n      <use x=\"408.886719\" xlink:href=\"#DejaVuSans-110\"/>\r\n      <use x=\"472.265625\" xlink:href=\"#DejaVuSans-99\"/>\r\n      <use x=\"527.246094\" xlink:href=\"#DejaVuSans-111\"/>\r\n      <use x=\"588.427734\" xlink:href=\"#DejaVuSans-109\"/>\r\n      <use x=\"685.839844\" xlink:href=\"#DejaVuSans-101\"/>\r\n     </g>\r\n    </g>\r\n   </g>\r\n   <g id=\"patch_3\">\r\n    <path d=\"M 48.427188 517.636875 \r\nL 48.427188 28.396875 \r\n\" style=\"fill:none;stroke:#000000;stroke-linecap:square;stroke-linejoin:miter;stroke-width:0.8;\"/>\r\n   </g>\r\n   <g id=\"patch_4\">\r\n    <path d=\"M 997.027188 517.636875 \r\nL 997.027188 28.396875 \r\n\" style=\"fill:none;stroke:#000000;stroke-linecap:square;stroke-linejoin:miter;stroke-width:0.8;\"/>\r\n   </g>\r\n   <g id=\"patch_5\">\r\n    <path d=\"M 48.427188 517.636875 \r\nL 997.027187 517.636875 \r\n\" style=\"fill:none;stroke:#000000;stroke-linecap:square;stroke-linejoin:miter;stroke-width:0.8;\"/>\r\n   </g>\r\n   <g id=\"patch_6\">\r\n    <path d=\"M 48.427188 28.396875 \r\nL 997.027187 28.396875 \r\n\" style=\"fill:none;stroke:#000000;stroke-linecap:square;stroke-linejoin:miter;stroke-width:0.8;\"/>\r\n   </g>\r\n   <g id=\"text_16\">\r\n    <!-- 6 groups of customers by color -->\r\n    <g transform=\"translate(367.395938 22.396875)scale(0.2 -0.2)\">\r\n     <defs>\r\n      <path d=\"M 33.015625 40.375 \r\nQ 26.375 40.375 22.484375 35.828125 \r\nQ 18.609375 31.296875 18.609375 23.390625 \r\nQ 18.609375 15.53125 22.484375 10.953125 \r\nQ 26.375 6.390625 33.015625 6.390625 \r\nQ 39.65625 6.390625 43.53125 10.953125 \r\nQ 47.40625 15.53125 47.40625 23.390625 \r\nQ 47.40625 31.296875 43.53125 35.828125 \r\nQ 39.65625 40.375 33.015625 40.375 \r\nz\r\nM 52.59375 71.296875 \r\nL 52.59375 62.3125 \r\nQ 48.875 64.0625 45.09375 64.984375 \r\nQ 41.3125 65.921875 37.59375 65.921875 \r\nQ 27.828125 65.921875 22.671875 59.328125 \r\nQ 17.53125 52.734375 16.796875 39.40625 \r\nQ 19.671875 43.65625 24.015625 45.921875 \r\nQ 28.375 48.1875 33.59375 48.1875 \r\nQ 44.578125 48.1875 50.953125 41.515625 \r\nQ 57.328125 34.859375 57.328125 23.390625 \r\nQ 57.328125 12.15625 50.6875 5.359375 \r\nQ 44.046875 -1.421875 33.015625 -1.421875 \r\nQ 20.359375 -1.421875 13.671875 8.265625 \r\nQ 6.984375 17.96875 6.984375 36.375 \r\nQ 6.984375 53.65625 15.1875 63.9375 \r\nQ 23.390625 74.21875 37.203125 74.21875 \r\nQ 40.921875 74.21875 44.703125 73.484375 \r\nQ 48.484375 72.75 52.59375 71.296875 \r\nz\r\n\" id=\"DejaVuSans-54\"/>\r\n      <path d=\"M 41.109375 46.296875 \r\nQ 39.59375 47.171875 37.8125 47.578125 \r\nQ 36.03125 48 33.890625 48 \r\nQ 26.265625 48 22.1875 43.046875 \r\nQ 18.109375 38.09375 18.109375 28.8125 \r\nL 18.109375 0 \r\nL 9.078125 0 \r\nL 9.078125 54.6875 \r\nL 18.109375 54.6875 \r\nL 18.109375 46.1875 \r\nQ 20.953125 51.171875 25.484375 53.578125 \r\nQ 30.03125 56 36.53125 56 \r\nQ 37.453125 56 38.578125 55.875 \r\nQ 39.703125 55.765625 41.0625 55.515625 \r\nz\r\n\" id=\"DejaVuSans-114\"/>\r\n      <path d=\"M 18.109375 8.203125 \r\nL 18.109375 -20.796875 \r\nL 9.078125 -20.796875 \r\nL 9.078125 54.6875 \r\nL 18.109375 54.6875 \r\nL 18.109375 46.390625 \r\nQ 20.953125 51.265625 25.265625 53.625 \r\nQ 29.59375 56 35.59375 56 \r\nQ 45.5625 56 51.78125 48.09375 \r\nQ 58.015625 40.1875 58.015625 27.296875 \r\nQ 58.015625 14.40625 51.78125 6.484375 \r\nQ 45.5625 -1.421875 35.59375 -1.421875 \r\nQ 29.59375 -1.421875 25.265625 0.953125 \r\nQ 20.953125 3.328125 18.109375 8.203125 \r\nz\r\nM 48.6875 27.296875 \r\nQ 48.6875 37.203125 44.609375 42.84375 \r\nQ 40.53125 48.484375 33.40625 48.484375 \r\nQ 26.265625 48.484375 22.1875 42.84375 \r\nQ 18.109375 37.203125 18.109375 27.296875 \r\nQ 18.109375 17.390625 22.1875 11.75 \r\nQ 26.265625 6.109375 33.40625 6.109375 \r\nQ 40.53125 6.109375 44.609375 11.75 \r\nQ 48.6875 17.390625 48.6875 27.296875 \r\nz\r\n\" id=\"DejaVuSans-112\"/>\r\n      <path d=\"M 44.28125 53.078125 \r\nL 44.28125 44.578125 \r\nQ 40.484375 46.53125 36.375 47.5 \r\nQ 32.28125 48.484375 27.875 48.484375 \r\nQ 21.1875 48.484375 17.84375 46.4375 \r\nQ 14.5 44.390625 14.5 40.28125 \r\nQ 14.5 37.15625 16.890625 35.375 \r\nQ 19.28125 33.59375 26.515625 31.984375 \r\nL 29.59375 31.296875 \r\nQ 39.15625 29.25 43.1875 25.515625 \r\nQ 47.21875 21.78125 47.21875 15.09375 \r\nQ 47.21875 7.46875 41.1875 3.015625 \r\nQ 35.15625 -1.421875 24.609375 -1.421875 \r\nQ 20.21875 -1.421875 15.453125 -0.5625 \r\nQ 10.6875 0.296875 5.421875 2 \r\nL 5.421875 11.28125 \r\nQ 10.40625 8.6875 15.234375 7.390625 \r\nQ 20.0625 6.109375 24.8125 6.109375 \r\nQ 31.15625 6.109375 34.5625 8.28125 \r\nQ 37.984375 10.453125 37.984375 14.40625 \r\nQ 37.984375 18.0625 35.515625 20.015625 \r\nQ 33.0625 21.96875 24.703125 23.78125 \r\nL 21.578125 24.515625 \r\nQ 13.234375 26.265625 9.515625 29.90625 \r\nQ 5.8125 33.546875 5.8125 39.890625 \r\nQ 5.8125 47.609375 11.28125 51.796875 \r\nQ 16.75 56 26.8125 56 \r\nQ 31.78125 56 36.171875 55.265625 \r\nQ 40.578125 54.546875 44.28125 53.078125 \r\nz\r\n\" id=\"DejaVuSans-115\"/>\r\n      <path d=\"M 37.109375 75.984375 \r\nL 37.109375 68.5 \r\nL 28.515625 68.5 \r\nQ 23.6875 68.5 21.796875 66.546875 \r\nQ 19.921875 64.59375 19.921875 59.515625 \r\nL 19.921875 54.6875 \r\nL 34.71875 54.6875 \r\nL 34.71875 47.703125 \r\nL 19.921875 47.703125 \r\nL 19.921875 0 \r\nL 10.890625 0 \r\nL 10.890625 47.703125 \r\nL 2.296875 47.703125 \r\nL 2.296875 54.6875 \r\nL 10.890625 54.6875 \r\nL 10.890625 58.5 \r\nQ 10.890625 67.625 15.140625 71.796875 \r\nQ 19.390625 75.984375 28.609375 75.984375 \r\nz\r\n\" id=\"DejaVuSans-102\"/>\r\n      <path d=\"M 18.3125 70.21875 \r\nL 18.3125 54.6875 \r\nL 36.8125 54.6875 \r\nL 36.8125 47.703125 \r\nL 18.3125 47.703125 \r\nL 18.3125 18.015625 \r\nQ 18.3125 11.328125 20.140625 9.421875 \r\nQ 21.96875 7.515625 27.59375 7.515625 \r\nL 36.8125 7.515625 \r\nL 36.8125 0 \r\nL 27.59375 0 \r\nQ 17.1875 0 13.234375 3.875 \r\nQ 9.28125 7.765625 9.28125 18.015625 \r\nL 9.28125 47.703125 \r\nL 2.6875 47.703125 \r\nL 2.6875 54.6875 \r\nL 9.28125 54.6875 \r\nL 9.28125 70.21875 \r\nz\r\n\" id=\"DejaVuSans-116\"/>\r\n      <path d=\"M 48.6875 27.296875 \r\nQ 48.6875 37.203125 44.609375 42.84375 \r\nQ 40.53125 48.484375 33.40625 48.484375 \r\nQ 26.265625 48.484375 22.1875 42.84375 \r\nQ 18.109375 37.203125 18.109375 27.296875 \r\nQ 18.109375 17.390625 22.1875 11.75 \r\nQ 26.265625 6.109375 33.40625 6.109375 \r\nQ 40.53125 6.109375 44.609375 11.75 \r\nQ 48.6875 17.390625 48.6875 27.296875 \r\nz\r\nM 18.109375 46.390625 \r\nQ 20.953125 51.265625 25.265625 53.625 \r\nQ 29.59375 56 35.59375 56 \r\nQ 45.5625 56 51.78125 48.09375 \r\nQ 58.015625 40.1875 58.015625 27.296875 \r\nQ 58.015625 14.40625 51.78125 6.484375 \r\nQ 45.5625 -1.421875 35.59375 -1.421875 \r\nQ 29.59375 -1.421875 25.265625 0.953125 \r\nQ 20.953125 3.328125 18.109375 8.203125 \r\nL 18.109375 0 \r\nL 9.078125 0 \r\nL 9.078125 75.984375 \r\nL 18.109375 75.984375 \r\nz\r\n\" id=\"DejaVuSans-98\"/>\r\n      <path d=\"M 32.171875 -5.078125 \r\nQ 28.375 -14.84375 24.75 -17.8125 \r\nQ 21.140625 -20.796875 15.09375 -20.796875 \r\nL 7.90625 -20.796875 \r\nL 7.90625 -13.28125 \r\nL 13.1875 -13.28125 \r\nQ 16.890625 -13.28125 18.9375 -11.515625 \r\nQ 21 -9.765625 23.484375 -3.21875 \r\nL 25.09375 0.875 \r\nL 2.984375 54.6875 \r\nL 12.5 54.6875 \r\nL 29.59375 11.921875 \r\nL 46.6875 54.6875 \r\nL 56.203125 54.6875 \r\nz\r\n\" id=\"DejaVuSans-121\"/>\r\n     </defs>\r\n     <use xlink:href=\"#DejaVuSans-54\"/>\r\n     <use x=\"63.623047\" xlink:href=\"#DejaVuSans-32\"/>\r\n     <use x=\"95.410156\" xlink:href=\"#DejaVuSans-103\"/>\r\n     <use x=\"158.886719\" xlink:href=\"#DejaVuSans-114\"/>\r\n     <use x=\"197.75\" xlink:href=\"#DejaVuSans-111\"/>\r\n     <use x=\"258.931641\" xlink:href=\"#DejaVuSans-117\"/>\r\n     <use x=\"322.310547\" xlink:href=\"#DejaVuSans-112\"/>\r\n     <use x=\"385.787109\" xlink:href=\"#DejaVuSans-115\"/>\r\n     <use x=\"437.886719\" xlink:href=\"#DejaVuSans-32\"/>\r\n     <use x=\"469.673828\" xlink:href=\"#DejaVuSans-111\"/>\r\n     <use x=\"530.855469\" xlink:href=\"#DejaVuSans-102\"/>\r\n     <use x=\"566.060547\" xlink:href=\"#DejaVuSans-32\"/>\r\n     <use x=\"597.847656\" xlink:href=\"#DejaVuSans-99\"/>\r\n     <use x=\"652.828125\" xlink:href=\"#DejaVuSans-117\"/>\r\n     <use x=\"716.207031\" xlink:href=\"#DejaVuSans-115\"/>\r\n     <use x=\"768.306641\" xlink:href=\"#DejaVuSans-116\"/>\r\n     <use x=\"807.515625\" xlink:href=\"#DejaVuSans-111\"/>\r\n     <use x=\"868.697266\" xlink:href=\"#DejaVuSans-109\"/>\r\n     <use x=\"966.109375\" xlink:href=\"#DejaVuSans-101\"/>\r\n     <use x=\"1027.632812\" xlink:href=\"#DejaVuSans-114\"/>\r\n     <use x=\"1068.746094\" xlink:href=\"#DejaVuSans-115\"/>\r\n     <use x=\"1120.845703\" xlink:href=\"#DejaVuSans-32\"/>\r\n     <use x=\"1152.632812\" xlink:href=\"#DejaVuSans-98\"/>\r\n     <use x=\"1216.109375\" xlink:href=\"#DejaVuSans-121\"/>\r\n     <use x=\"1275.289062\" xlink:href=\"#DejaVuSans-32\"/>\r\n     <use x=\"1307.076172\" xlink:href=\"#DejaVuSans-99\"/>\r\n     <use x=\"1362.056641\" xlink:href=\"#DejaVuSans-111\"/>\r\n     <use x=\"1423.238281\" xlink:href=\"#DejaVuSans-108\"/>\r\n     <use x=\"1451.021484\" xlink:href=\"#DejaVuSans-111\"/>\r\n     <use x=\"1512.203125\" xlink:href=\"#DejaVuSans-114\"/>\r\n    </g>\r\n   </g>\r\n   <g id=\"legend_1\">\r\n    <g id=\"patch_7\">\r\n     <path d=\"M 867.805313 197.85625 \r\nL 990.027188 197.85625 \r\nQ 992.027188 197.85625 992.027188 195.85625 \r\nL 992.027188 35.396875 \r\nQ 992.027188 33.396875 990.027188 33.396875 \r\nL 867.805313 33.396875 \r\nQ 865.805313 33.396875 865.805313 35.396875 \r\nL 865.805313 195.85625 \r\nQ 865.805313 197.85625 867.805313 197.85625 \r\nz\r\n\" style=\"fill:#ffffff;opacity:0.8;stroke:#cccccc;stroke-linejoin:miter;\"/>\r\n    </g>\r\n    <g id=\"text_17\">\r\n     <!-- Spending Score (1-100) -->\r\n     <g transform=\"translate(869.805313 44.995312)scale(0.1 -0.1)\">\r\n      <defs>\r\n       <path d=\"M 53.515625 70.515625 \r\nL 53.515625 60.890625 \r\nQ 47.90625 63.578125 42.921875 64.890625 \r\nQ 37.9375 66.21875 33.296875 66.21875 \r\nQ 25.25 66.21875 20.875 63.09375 \r\nQ 16.5 59.96875 16.5 54.203125 \r\nQ 16.5 49.359375 19.40625 46.890625 \r\nQ 22.3125 44.4375 30.421875 42.921875 \r\nL 36.375 41.703125 \r\nQ 47.40625 39.59375 52.65625 34.296875 \r\nQ 57.90625 29 57.90625 20.125 \r\nQ 57.90625 9.515625 50.796875 4.046875 \r\nQ 43.703125 -1.421875 29.984375 -1.421875 \r\nQ 24.8125 -1.421875 18.96875 -0.25 \r\nQ 13.140625 0.921875 6.890625 3.21875 \r\nL 6.890625 13.375 \r\nQ 12.890625 10.015625 18.65625 8.296875 \r\nQ 24.421875 6.59375 29.984375 6.59375 \r\nQ 38.421875 6.59375 43.015625 9.90625 \r\nQ 47.609375 13.234375 47.609375 19.390625 \r\nQ 47.609375 24.75 44.3125 27.78125 \r\nQ 41.015625 30.8125 33.5 32.328125 \r\nL 27.484375 33.5 \r\nQ 16.453125 35.6875 11.515625 40.375 \r\nQ 6.59375 45.0625 6.59375 53.421875 \r\nQ 6.59375 63.09375 13.40625 68.65625 \r\nQ 20.21875 74.21875 32.171875 74.21875 \r\nQ 37.3125 74.21875 42.625 73.28125 \r\nQ 47.953125 72.359375 53.515625 70.515625 \r\nz\r\n\" id=\"DejaVuSans-83\"/>\r\n       <path d=\"M 45.40625 46.390625 \r\nL 45.40625 75.984375 \r\nL 54.390625 75.984375 \r\nL 54.390625 0 \r\nL 45.40625 0 \r\nL 45.40625 8.203125 \r\nQ 42.578125 3.328125 38.25 0.953125 \r\nQ 33.9375 -1.421875 27.875 -1.421875 \r\nQ 17.96875 -1.421875 11.734375 6.484375 \r\nQ 5.515625 14.40625 5.515625 27.296875 \r\nQ 5.515625 40.1875 11.734375 48.09375 \r\nQ 17.96875 56 27.875 56 \r\nQ 33.9375 56 38.25 53.625 \r\nQ 42.578125 51.265625 45.40625 46.390625 \r\nz\r\nM 14.796875 27.296875 \r\nQ 14.796875 17.390625 18.875 11.75 \r\nQ 22.953125 6.109375 30.078125 6.109375 \r\nQ 37.203125 6.109375 41.296875 11.75 \r\nQ 45.40625 17.390625 45.40625 27.296875 \r\nQ 45.40625 37.203125 41.296875 42.84375 \r\nQ 37.203125 48.484375 30.078125 48.484375 \r\nQ 22.953125 48.484375 18.875 42.84375 \r\nQ 14.796875 37.203125 14.796875 27.296875 \r\nz\r\n\" id=\"DejaVuSans-100\"/>\r\n       <path d=\"M 9.421875 54.6875 \r\nL 18.40625 54.6875 \r\nL 18.40625 0 \r\nL 9.421875 0 \r\nz\r\nM 9.421875 75.984375 \r\nL 18.40625 75.984375 \r\nL 18.40625 64.59375 \r\nL 9.421875 64.59375 \r\nz\r\n\" id=\"DejaVuSans-105\"/>\r\n       <path d=\"M 31 75.875 \r\nQ 24.46875 64.65625 21.28125 53.65625 \r\nQ 18.109375 42.671875 18.109375 31.390625 \r\nQ 18.109375 20.125 21.3125 9.0625 \r\nQ 24.515625 -2 31 -13.1875 \r\nL 23.1875 -13.1875 \r\nQ 15.875 -1.703125 12.234375 9.375 \r\nQ 8.59375 20.453125 8.59375 31.390625 \r\nQ 8.59375 42.28125 12.203125 53.3125 \r\nQ 15.828125 64.359375 23.1875 75.875 \r\nz\r\n\" id=\"DejaVuSans-40\"/>\r\n       <path d=\"M 4.890625 31.390625 \r\nL 31.203125 31.390625 \r\nL 31.203125 23.390625 \r\nL 4.890625 23.390625 \r\nz\r\n\" id=\"DejaVuSans-45\"/>\r\n       <path d=\"M 8.015625 75.875 \r\nL 15.828125 75.875 \r\nQ 23.140625 64.359375 26.78125 53.3125 \r\nQ 30.421875 42.28125 30.421875 31.390625 \r\nQ 30.421875 20.453125 26.78125 9.375 \r\nQ 23.140625 -1.703125 15.828125 -13.1875 \r\nL 8.015625 -13.1875 \r\nQ 14.5 -2 17.703125 9.0625 \r\nQ 20.90625 20.125 20.90625 31.390625 \r\nQ 20.90625 42.671875 17.703125 53.65625 \r\nQ 14.5 64.65625 8.015625 75.875 \r\nz\r\n\" id=\"DejaVuSans-41\"/>\r\n      </defs>\r\n      <use xlink:href=\"#DejaVuSans-83\"/>\r\n      <use x=\"63.476562\" xlink:href=\"#DejaVuSans-112\"/>\r\n      <use x=\"126.953125\" xlink:href=\"#DejaVuSans-101\"/>\r\n      <use x=\"188.476562\" xlink:href=\"#DejaVuSans-110\"/>\r\n      <use x=\"251.855469\" xlink:href=\"#DejaVuSans-100\"/>\r\n      <use x=\"315.332031\" xlink:href=\"#DejaVuSans-105\"/>\r\n      <use x=\"343.115234\" xlink:href=\"#DejaVuSans-110\"/>\r\n      <use x=\"406.494141\" xlink:href=\"#DejaVuSans-103\"/>\r\n      <use x=\"469.970703\" xlink:href=\"#DejaVuSans-32\"/>\r\n      <use x=\"501.757812\" xlink:href=\"#DejaVuSans-83\"/>\r\n      <use x=\"565.234375\" xlink:href=\"#DejaVuSans-99\"/>\r\n      <use x=\"620.214844\" xlink:href=\"#DejaVuSans-111\"/>\r\n      <use x=\"681.396484\" xlink:href=\"#DejaVuSans-114\"/>\r\n      <use x=\"720.259766\" xlink:href=\"#DejaVuSans-101\"/>\r\n      <use x=\"781.783203\" xlink:href=\"#DejaVuSans-32\"/>\r\n      <use x=\"813.570312\" xlink:href=\"#DejaVuSans-40\"/>\r\n      <use x=\"852.583984\" xlink:href=\"#DejaVuSans-49\"/>\r\n      <use x=\"916.207031\" xlink:href=\"#DejaVuSans-45\"/>\r\n      <use x=\"952.291016\" xlink:href=\"#DejaVuSans-49\"/>\r\n      <use x=\"1015.914062\" xlink:href=\"#DejaVuSans-48\"/>\r\n      <use x=\"1079.537109\" xlink:href=\"#DejaVuSans-48\"/>\r\n      <use x=\"1143.160156\" xlink:href=\"#DejaVuSans-41\"/>\r\n     </g>\r\n    </g>\r\n    <g id=\"PathCollection_13\">\r\n     <defs>\r\n      <path d=\"M 0 3 \r\nC 0.795609 3 1.55874 2.683901 2.12132 2.12132 \r\nC 2.683901 1.55874 3 0.795609 3 0 \r\nC 3 -0.795609 2.683901 -1.55874 2.12132 -2.12132 \r\nC 1.55874 -2.683901 0.795609 -3 0 -3 \r\nC -0.795609 -3 -1.55874 -2.683901 -2.12132 -2.12132 \r\nC -2.683901 -1.55874 -3 -0.795609 -3 0 \r\nC -3 0.795609 -2.683901 1.55874 -2.12132 2.12132 \r\nC -1.55874 2.683901 -0.795609 3 0 3 \r\nz\r\n\" id=\"m98aaa16c6d\" style=\"stroke:#ff0000;\"/>\r\n     </defs>\r\n     <g>\r\n      <use style=\"fill:#ff0000;stroke:#ff0000;\" x=\"918.55375\" xlink:href=\"#m98aaa16c6d\" y=\"57.048437\"/>\r\n     </g>\r\n    </g>\r\n    <g id=\"text_18\">\r\n     <!-- 0 -->\r\n     <g transform=\"translate(936.55375 59.673437)scale(0.1 -0.1)\">\r\n      <use xlink:href=\"#DejaVuSans-48\"/>\r\n     </g>\r\n    </g>\r\n    <g id=\"PathCollection_14\">\r\n     <defs>\r\n      <path d=\"M 0 3 \r\nC 0.795609 3 1.55874 2.683901 2.12132 2.12132 \r\nC 2.683901 1.55874 3 0.795609 3 0 \r\nC 3 -0.795609 2.683901 -1.55874 2.12132 -2.12132 \r\nC 1.55874 -2.683901 0.795609 -3 0 -3 \r\nC -0.795609 -3 -1.55874 -2.683901 -2.12132 -2.12132 \r\nC -2.683901 -1.55874 -3 -0.795609 -3 0 \r\nC -3 0.795609 -2.683901 1.55874 -2.12132 2.12132 \r\nC -1.55874 2.683901 -0.795609 3 0 3 \r\nz\r\n\" id=\"m9ed53b6619\" style=\"stroke:#0000ff;\"/>\r\n     </defs>\r\n     <g>\r\n      <use style=\"fill:#0000ff;stroke:#0000ff;\" x=\"918.55375\" xlink:href=\"#m9ed53b6619\" y=\"71.726562\"/>\r\n     </g>\r\n    </g>\r\n    <g id=\"text_19\">\r\n     <!-- 1 -->\r\n     <g transform=\"translate(936.55375 74.351562)scale(0.1 -0.1)\">\r\n      <use xlink:href=\"#DejaVuSans-49\"/>\r\n     </g>\r\n    </g>\r\n    <g id=\"PathCollection_15\">\r\n     <defs>\r\n      <path d=\"M 0 3 \r\nC 0.795609 3 1.55874 2.683901 2.12132 2.12132 \r\nC 2.683901 1.55874 3 0.795609 3 0 \r\nC 3 -0.795609 2.683901 -1.55874 2.12132 -2.12132 \r\nC 1.55874 -2.683901 0.795609 -3 0 -3 \r\nC -0.795609 -3 -1.55874 -2.683901 -2.12132 -2.12132 \r\nC -2.683901 -1.55874 -3 -0.795609 -3 0 \r\nC -3 0.795609 -2.683901 1.55874 -2.12132 2.12132 \r\nC -1.55874 2.683901 -0.795609 3 0 3 \r\nz\r\n\" id=\"mb41aed528b\" style=\"stroke:#800080;\"/>\r\n     </defs>\r\n     <g>\r\n      <use style=\"fill:#800080;stroke:#800080;\" x=\"918.55375\" xlink:href=\"#mb41aed528b\" y=\"86.404687\"/>\r\n     </g>\r\n    </g>\r\n    <g id=\"text_20\">\r\n     <!-- 2 -->\r\n     <g transform=\"translate(936.55375 89.029687)scale(0.1 -0.1)\">\r\n      <use xlink:href=\"#DejaVuSans-50\"/>\r\n     </g>\r\n    </g>\r\n    <g id=\"PathCollection_16\">\r\n     <defs>\r\n      <path d=\"M 0 3 \r\nC 0.795609 3 1.55874 2.683901 2.12132 2.12132 \r\nC 2.683901 1.55874 3 0.795609 3 0 \r\nC 3 -0.795609 2.683901 -1.55874 2.12132 -2.12132 \r\nC 1.55874 -2.683901 0.795609 -3 0 -3 \r\nC -0.795609 -3 -1.55874 -2.683901 -2.12132 -2.12132 \r\nC -2.683901 -1.55874 -3 -0.795609 -3 0 \r\nC -3 0.795609 -2.683901 1.55874 -2.12132 2.12132 \r\nC -1.55874 2.683901 -0.795609 3 0 3 \r\nz\r\n\" id=\"m760c4ab8f0\" style=\"stroke:#008000;\"/>\r\n     </defs>\r\n     <g>\r\n      <use style=\"fill:#008000;stroke:#008000;\" x=\"918.55375\" xlink:href=\"#m760c4ab8f0\" y=\"101.082812\"/>\r\n     </g>\r\n    </g>\r\n    <g id=\"text_21\">\r\n     <!-- 3 -->\r\n     <g transform=\"translate(936.55375 103.707812)scale(0.1 -0.1)\">\r\n      <use xlink:href=\"#DejaVuSans-51\"/>\r\n     </g>\r\n    </g>\r\n    <g id=\"PathCollection_17\">\r\n     <defs>\r\n      <path d=\"M 0 3 \r\nC 0.795609 3 1.55874 2.683901 2.12132 2.12132 \r\nC 2.683901 1.55874 3 0.795609 3 0 \r\nC 3 -0.795609 2.683901 -1.55874 2.12132 -2.12132 \r\nC 1.55874 -2.683901 0.795609 -3 0 -3 \r\nC -0.795609 -3 -1.55874 -2.683901 -2.12132 -2.12132 \r\nC -2.683901 -1.55874 -3 -0.795609 -3 0 \r\nC -3 0.795609 -2.683901 1.55874 -2.12132 2.12132 \r\nC -1.55874 2.683901 -0.795609 3 0 3 \r\nz\r\n\" id=\"m50d7313ad0\" style=\"stroke:#ffa500;\"/>\r\n     </defs>\r\n     <g>\r\n      <use style=\"fill:#ffa500;stroke:#ffa500;\" x=\"918.55375\" xlink:href=\"#m50d7313ad0\" y=\"115.760937\"/>\r\n     </g>\r\n    </g>\r\n    <g id=\"text_22\">\r\n     <!-- 4 -->\r\n     <g transform=\"translate(936.55375 118.385937)scale(0.1 -0.1)\">\r\n      <defs>\r\n       <path d=\"M 37.796875 64.3125 \r\nL 12.890625 25.390625 \r\nL 37.796875 25.390625 \r\nz\r\nM 35.203125 72.90625 \r\nL 47.609375 72.90625 \r\nL 47.609375 25.390625 \r\nL 58.015625 25.390625 \r\nL 58.015625 17.1875 \r\nL 47.609375 17.1875 \r\nL 47.609375 0 \r\nL 37.796875 0 \r\nL 37.796875 17.1875 \r\nL 4.890625 17.1875 \r\nL 4.890625 26.703125 \r\nz\r\n\" id=\"DejaVuSans-52\"/>\r\n      </defs>\r\n      <use xlink:href=\"#DejaVuSans-52\"/>\r\n     </g>\r\n    </g>\r\n    <g id=\"PathCollection_18\">\r\n     <defs>\r\n      <path d=\"M 0 3 \r\nC 0.795609 3 1.55874 2.683901 2.12132 2.12132 \r\nC 2.683901 1.55874 3 0.795609 3 0 \r\nC 3 -0.795609 2.683901 -1.55874 2.12132 -2.12132 \r\nC 1.55874 -2.683901 0.795609 -3 0 -3 \r\nC -0.795609 -3 -1.55874 -2.683901 -2.12132 -2.12132 \r\nC -2.683901 -1.55874 -3 -0.795609 -3 0 \r\nC -3 0.795609 -2.683901 1.55874 -2.12132 2.12132 \r\nC -1.55874 2.683901 -0.795609 3 0 3 \r\nz\r\n\" id=\"m56abb56524\" style=\"stroke:#ffff00;\"/>\r\n     </defs>\r\n     <g>\r\n      <use style=\"fill:#ffff00;stroke:#ffff00;\" x=\"918.55375\" xlink:href=\"#m56abb56524\" y=\"130.439062\"/>\r\n     </g>\r\n    </g>\r\n    <g id=\"text_23\">\r\n     <!-- 5 -->\r\n     <g transform=\"translate(936.55375 133.064062)scale(0.1 -0.1)\">\r\n      <use xlink:href=\"#DejaVuSans-53\"/>\r\n     </g>\r\n    </g>\r\n    <g id=\"PathCollection_19\">\r\n     <defs>\r\n      <path d=\"M 0 5.995321 \r\nC 1.589978 5.995321 3.115048 5.363616 4.239332 4.239332 \r\nC 5.363616 3.115048 5.995321 1.589978 5.995321 0 \r\nC 5.995321 -1.589978 5.363616 -3.115048 4.239332 -4.239332 \r\nC 3.115048 -5.363616 1.589978 -5.995321 0 -5.995321 \r\nC -1.589978 -5.995321 -3.115048 -5.363616 -4.239332 -4.239332 \r\nC -5.363616 -3.115048 -5.995321 -1.589978 -5.995321 0 \r\nC -5.995321 1.589978 -5.363616 3.115048 -4.239332 4.239332 \r\nC -3.115048 5.363616 -1.589978 5.995321 0 5.995321 \r\nz\r\n\" id=\"me06db2c7d9\" style=\"stroke:#333333;\"/>\r\n     </defs>\r\n     <g>\r\n      <use style=\"fill:#333333;stroke:#333333;\" x=\"918.55375\" xlink:href=\"#me06db2c7d9\" y=\"145.117187\"/>\r\n     </g>\r\n    </g>\r\n    <g id=\"text_24\">\r\n     <!-- 20 -->\r\n     <g transform=\"translate(936.55375 147.742187)scale(0.1 -0.1)\">\r\n      <use xlink:href=\"#DejaVuSans-50\"/>\r\n      <use x=\"63.623047\" xlink:href=\"#DejaVuSans-48\"/>\r\n     </g>\r\n    </g>\r\n    <g id=\"PathCollection_20\">\r\n     <defs>\r\n      <path d=\"M 0 8.434925 \r\nC 2.236968 8.434925 4.382617 7.546168 5.964393 5.964393 \r\nC 7.546168 4.382617 8.434925 2.236968 8.434925 0 \r\nC 8.434925 -2.236968 7.546168 -4.382617 5.964393 -5.964393 \r\nC 4.382617 -7.546168 2.236968 -8.434925 0 -8.434925 \r\nC -2.236968 -8.434925 -4.382617 -7.546168 -5.964393 -5.964393 \r\nC -7.546168 -4.382617 -8.434925 -2.236968 -8.434925 0 \r\nC -8.434925 2.236968 -7.546168 4.382617 -5.964393 5.964393 \r\nC -4.382617 7.546168 -2.236968 8.434925 0 8.434925 \r\nz\r\n\" id=\"m2db631b67f\" style=\"stroke:#333333;\"/>\r\n     </defs>\r\n     <g>\r\n      <use style=\"fill:#333333;stroke:#333333;\" x=\"918.55375\" xlink:href=\"#m2db631b67f\" y=\"159.795312\"/>\r\n     </g>\r\n    </g>\r\n    <g id=\"text_25\">\r\n     <!-- 40 -->\r\n     <g transform=\"translate(936.55375 162.420312)scale(0.1 -0.1)\">\r\n      <use xlink:href=\"#DejaVuSans-52\"/>\r\n      <use x=\"63.623047\" xlink:href=\"#DejaVuSans-48\"/>\r\n     </g>\r\n    </g>\r\n    <g id=\"PathCollection_21\">\r\n     <defs>\r\n      <path d=\"M 0 10.312713 \r\nC 2.734963 10.312713 5.358278 9.2261 7.292189 7.292189 \r\nC 9.2261 5.358278 10.312713 2.734963 10.312713 0 \r\nC 10.312713 -2.734963 9.2261 -5.358278 7.292189 -7.292189 \r\nC 5.358278 -9.2261 2.734963 -10.312713 0 -10.312713 \r\nC -2.734963 -10.312713 -5.358278 -9.2261 -7.292189 -7.292189 \r\nC -9.2261 -5.358278 -10.312713 -2.734963 -10.312713 0 \r\nC -10.312713 2.734963 -9.2261 5.358278 -7.292189 7.292189 \r\nC -5.358278 9.2261 -2.734963 10.312713 0 10.312713 \r\nz\r\n\" id=\"mb009017f02\" style=\"stroke:#333333;\"/>\r\n     </defs>\r\n     <g>\r\n      <use style=\"fill:#333333;stroke:#333333;\" x=\"918.55375\" xlink:href=\"#mb009017f02\" y=\"174.473437\"/>\r\n     </g>\r\n    </g>\r\n    <g id=\"text_26\">\r\n     <!-- 60 -->\r\n     <g transform=\"translate(936.55375 177.098437)scale(0.1 -0.1)\">\r\n      <use xlink:href=\"#DejaVuSans-54\"/>\r\n      <use x=\"63.623047\" xlink:href=\"#DejaVuSans-48\"/>\r\n     </g>\r\n    </g>\r\n    <g id=\"PathCollection_22\">\r\n     <defs>\r\n      <path d=\"M 0 11.897736 \r\nC 3.155316 11.897736 6.181824 10.644115 8.41297 8.41297 \r\nC 10.644115 6.181824 11.897736 3.155316 11.897736 0 \r\nC 11.897736 -3.155316 10.644115 -6.181824 8.41297 -8.41297 \r\nC 6.181824 -10.644115 3.155316 -11.897736 0 -11.897736 \r\nC -3.155316 -11.897736 -6.181824 -10.644115 -8.41297 -8.41297 \r\nC -10.644115 -6.181824 -11.897736 -3.155316 -11.897736 0 \r\nC -11.897736 3.155316 -10.644115 6.181824 -8.41297 8.41297 \r\nC -6.181824 10.644115 -3.155316 11.897736 0 11.897736 \r\nz\r\n\" id=\"mf664c02969\" style=\"stroke:#333333;\"/>\r\n     </defs>\r\n     <g>\r\n      <use style=\"fill:#333333;stroke:#333333;\" x=\"918.55375\" xlink:href=\"#mf664c02969\" y=\"189.151562\"/>\r\n     </g>\r\n    </g>\r\n    <g id=\"text_27\">\r\n     <!-- 80 -->\r\n     <g transform=\"translate(936.55375 191.776562)scale(0.1 -0.1)\">\r\n      <defs>\r\n       <path d=\"M 31.78125 34.625 \r\nQ 24.75 34.625 20.71875 30.859375 \r\nQ 16.703125 27.09375 16.703125 20.515625 \r\nQ 16.703125 13.921875 20.71875 10.15625 \r\nQ 24.75 6.390625 31.78125 6.390625 \r\nQ 38.8125 6.390625 42.859375 10.171875 \r\nQ 46.921875 13.96875 46.921875 20.515625 \r\nQ 46.921875 27.09375 42.890625 30.859375 \r\nQ 38.875 34.625 31.78125 34.625 \r\nz\r\nM 21.921875 38.8125 \r\nQ 15.578125 40.375 12.03125 44.71875 \r\nQ 8.5 49.078125 8.5 55.328125 \r\nQ 8.5 64.0625 14.71875 69.140625 \r\nQ 20.953125 74.21875 31.78125 74.21875 \r\nQ 42.671875 74.21875 48.875 69.140625 \r\nQ 55.078125 64.0625 55.078125 55.328125 \r\nQ 55.078125 49.078125 51.53125 44.71875 \r\nQ 48 40.375 41.703125 38.8125 \r\nQ 48.828125 37.15625 52.796875 32.3125 \r\nQ 56.78125 27.484375 56.78125 20.515625 \r\nQ 56.78125 9.90625 50.3125 4.234375 \r\nQ 43.84375 -1.421875 31.78125 -1.421875 \r\nQ 19.734375 -1.421875 13.25 4.234375 \r\nQ 6.78125 9.90625 6.78125 20.515625 \r\nQ 6.78125 27.484375 10.78125 32.3125 \r\nQ 14.796875 37.15625 21.921875 38.8125 \r\nz\r\nM 18.3125 54.390625 \r\nQ 18.3125 48.734375 21.84375 45.5625 \r\nQ 25.390625 42.390625 31.78125 42.390625 \r\nQ 38.140625 42.390625 41.71875 45.5625 \r\nQ 45.3125 48.734375 45.3125 54.390625 \r\nQ 45.3125 60.0625 41.71875 63.234375 \r\nQ 38.140625 66.40625 31.78125 66.40625 \r\nQ 25.390625 66.40625 21.84375 63.234375 \r\nQ 18.3125 60.0625 18.3125 54.390625 \r\nz\r\n\" id=\"DejaVuSans-56\"/>\r\n      </defs>\r\n      <use xlink:href=\"#DejaVuSans-56\"/>\r\n      <use x=\"63.623047\" xlink:href=\"#DejaVuSans-48\"/>\r\n     </g>\r\n    </g>\r\n   </g>\r\n  </g>\r\n </g>\r\n <defs>\r\n  <clipPath id=\"pc3c312444b\">\r\n   <rect height=\"489.24\" width=\"948.6\" x=\"48.427188\" y=\"28.396875\"/>\r\n  </clipPath>\r\n </defs>\r\n</svg>\r\n",
      "text/plain": [
       "<Figure size 1224x648 with 1 Axes>"
      ]
     },
     "metadata": {
      "needs_background": "light"
     },
     "output_type": "display_data"
    }
   ],
   "source": [
    "# '3D' scatterplot with spending score as size, grouped by color\n",
    "fig, ax = plt.subplots(figsize=(17,9))\n",
    "colors = ['red', 'blue', 'purple', 'green', 'orange', 'yellow']\n",
    "ax = sns.scatterplot(x=df_scaled['Age'], y=df_scaled['Annual Income'], hue=kmeans.labels_, palette=colors, size=df['Spending Score (1-100)'], sizes=(10,700), alpha=0.7)\n",
    "ax = sns.scatterplot(x=kmeans.cluster_centers_[:, 0], y=kmeans.cluster_centers_[:, 1],\n",
    "                     hue=range(6), palette=colors, s=400, ec='black', legend=False, ax=ax, marker='x')\n",
    "plt.title('6 groups of customers by color', fontsize=20)\n",
    "plt.xlabel('Age', fontsize=16)\n",
    "plt.ylabel('Annual Income', fontsize=16)\n",
    "plt.show()"
   ]
  },
  {
   "cell_type": "code",
   "execution_count": 31,
   "metadata": {},
   "outputs": [
    {
     "data": {
      "image/png": "[encoded data removed]",
      "image/svg+xml": "<?xml version=\"1.0\" encoding=\"utf-8\" standalone=\"no\"?>\r\n<!DOCTYPE svg PUBLIC \"-//W3C//DTD SVG 1.1//EN\"\r\n  \"http://www.w3.org/Graphics/SVG/1.1/DTD/svg11.dtd\">\r\n<!-- Created with matplotlib (https://matplotlib.org/) -->\r\n<svg height=\"561pt\" version=\"1.1\" viewBox=\"0 0 1004.227188 561\" width=\"1004.227188pt\" xmlns=\"http://www.w3.org/2000/svg\" xmlns:xlink=\"http://www.w3.org/1999/xlink\">\r\n <metadata>\r\n  <rdf:RDF xmlns:cc=\"http://creativecommons.org/ns#\" xmlns:dc=\"http://purl.org/dc/elements/1.1/\" xmlns:rdf=\"http://www.w3.org/1999/02/22-rdf-syntax-ns#\">\r\n   <cc:Work>\r\n    <dc:type rdf:resource=\"http://purl.org/dc/dcmitype/StillImage\"/>\r\n    <dc:date>2021-08-13T21:18:46.663552</dc:date>\r\n    <dc:format>image/svg+xml</dc:format>\r\n    <dc:creator>\r\n     <cc:Agent>\r\n      <dc:title>Matplotlib v3.3.3, https://matplotlib.org/</dc:title>\r\n     </cc:Agent>\r\n    </dc:creator>\r\n   </cc:Work>\r\n  </rdf:RDF>\r\n </metadata>\r\n <defs>\r\n  <style type=\"text/css\">*{stroke-linecap:butt;stroke-linejoin:round;}</style>\r\n </defs>\r\n <g id=\"figure_1\">\r\n  <g id=\"patch_1\">\r\n   <path d=\"M -0 561 \r\nL 1004.227188 561 \r\nL 1004.227188 -0 \r\nL -0 -0 \r\nz\r\n\" style=\"fill:none;\"/>\r\n  </g>\r\n  <g id=\"axes_1\">\r\n   <g id=\"patch_2\">\r\n    <path d=\"M 48.427188 517.636875 \r\nL 997.027188 517.636875 \r\nL 997.027188 28.396875 \r\nL 48.427188 28.396875 \r\nz\r\n\" style=\"fill:#ffffff;\"/>\r\n   </g>\r\n   <g id=\"PathCollection_1\">\r\n    <path clip-path=\"url(#pd9aac72c43)\" d=\"M 108.129285 502.469761 \r\nC 110.004555 502.469761 111.80327 501.724709 113.129285 500.398693 \r\nC 114.455301 499.072678 115.200353 497.273962 115.200353 495.398693 \r\nC 115.200353 493.523424 114.455301 491.724709 113.129285 490.398693 \r\nC 111.80327 489.072678 110.004555 488.327625 108.129285 488.327625 \r\nC 106.254016 488.327625 104.455301 489.072678 103.129285 490.398693 \r\nC 101.80327 491.724709 101.058218 493.523424 101.058218 495.398693 \r\nC 101.058218 497.273962 101.80327 499.072678 103.129285 500.398693 \r\nC 104.455301 501.724709 106.254016 502.469761 108.129285 502.469761 \r\nz\r\n\" style=\"fill:#1f77b4;fill-opacity:0.7;stroke:#ffffff;stroke-opacity:0.7;stroke-width:0.669328;\"/>\r\n    <path clip-path=\"url(#pd9aac72c43)\" d=\"M 141.297118 505.522922 \r\nC 143.982094 505.522922 146.557463 504.456169 148.456028 502.557604 \r\nC 150.354593 500.659038 151.421346 498.08367 151.421346 495.398693 \r\nC 151.421346 492.713716 150.354593 490.138348 148.456028 488.239783 \r\nC 146.557463 486.341217 143.982094 485.274465 141.297118 485.274465 \r\nC 138.612141 485.274465 136.036772 486.341217 134.138207 488.239783 \r\nC 132.239642 490.138348 131.172889 492.713716 131.172889 495.398693 \r\nC 131.172889 498.08367 132.239642 500.659038 134.138207 502.557604 \r\nC 136.036772 504.456169 138.612141 505.522922 141.297118 505.522922 \r\nz\r\n\" style=\"fill:#1f77b4;fill-opacity:0.7;stroke:#ffffff;stroke-opacity:0.7;stroke-width:0.669328;\"/>\r\n    <path clip-path=\"url(#pd9aac72c43)\" d=\"M 124.713201 494.711129 \r\nC 125.497683 494.711129 126.250139 494.399452 126.804852 493.84474 \r\nC 127.359564 493.290028 127.671241 492.537571 127.671241 491.75309 \r\nC 127.671241 490.968608 127.359564 490.216152 126.804852 489.66144 \r\nC 126.250139 489.106727 125.497683 488.79505 124.713201 488.79505 \r\nC 123.92872 488.79505 123.176264 489.106727 122.621551 489.66144 \r\nC 122.066839 490.216152 121.755162 490.968608 121.755162 491.75309 \r\nC 121.755162 492.537571 122.066839 493.290028 122.621551 493.84474 \r\nC 123.176264 494.399452 123.92872 494.711129 124.713201 494.711129 \r\nz\r\n\" style=\"fill:#1f77b4;fill-opacity:0.7;stroke:#ffffff;stroke-opacity:0.7;stroke-width:0.669328;\"/>\r\n    <path clip-path=\"url(#pd9aac72c43)\" d=\"M 174.46495 501.627298 \r\nC 177.083621 501.627298 179.59539 500.58689 181.44707 498.73521 \r\nC 183.29875 496.88353 184.339159 494.37176 184.339159 491.75309 \r\nC 184.339159 489.134419 183.29875 486.622649 181.44707 484.77097 \r\nC 179.59539 482.91929 177.083621 481.878881 174.46495 481.878881 \r\nC 171.846279 481.878881 169.33451 482.91929 167.48283 484.77097 \r\nC 165.63115 486.622649 164.590741 489.134419 164.590741 491.75309 \r\nC 164.590741 494.37176 165.63115 496.88353 167.48283 498.73521 \r\nC 169.33451 500.58689 171.846279 501.627298 174.46495 501.627298 \r\nz\r\n\" style=\"fill:#1f77b4;fill-opacity:0.7;stroke:#ffffff;stroke-opacity:0.7;stroke-width:0.669328;\"/>\r\n    <path clip-path=\"url(#pd9aac72c43)\" d=\"M 307.136278 495.266397 \r\nC 309.034844 495.266397 310.855904 494.512089 312.198393 493.1696 \r\nC 313.540881 491.827112 314.295189 490.006051 314.295189 488.107486 \r\nC 314.295189 486.208921 313.540881 484.38786 312.198393 483.045372 \r\nC 310.855904 481.702883 309.034844 480.948575 307.136278 480.948575 \r\nC 305.237713 480.948575 303.416653 481.702883 302.074164 483.045372 \r\nC 300.731676 484.38786 299.977368 486.208921 299.977368 488.107486 \r\nC 299.977368 490.006051 300.731676 491.827112 302.074164 493.1696 \r\nC 303.416653 494.512089 305.237713 495.266397 307.136278 495.266397 \r\nz\r\n\" style=\"fill:#1f77b4;fill-opacity:0.7;stroke:#ffffff;stroke-opacity:0.7;stroke-width:0.669328;\"/>\r\n    <path clip-path=\"url(#pd9aac72c43)\" d=\"M 157.881034 497.918194 \r\nC 160.482864 497.918194 162.97848 496.884476 164.818252 495.044704 \r\nC 166.658024 493.204933 167.691742 490.709316 167.691742 488.107486 \r\nC 167.691742 485.505656 166.658024 483.010039 164.818252 481.170268 \r\nC 162.97848 479.330496 160.482864 478.296778 157.881034 478.296778 \r\nC 155.279203 478.296778 152.783587 479.330496 150.943815 481.170268 \r\nC 149.104043 483.010039 148.070325 485.505656 148.070325 488.107486 \r\nC 148.070325 490.709316 149.104043 493.204933 150.943815 495.044704 \r\nC 152.783587 496.884476 155.279203 497.918194 157.881034 497.918194 \r\nz\r\n\" style=\"fill:#1f77b4;fill-opacity:0.7;stroke:#ffffff;stroke-opacity:0.7;stroke-width:0.669328;\"/>\r\n    <path clip-path=\"url(#pd9aac72c43)\" d=\"M 373.471943 487.419922 \r\nC 374.256424 487.419922 375.008881 487.108245 375.563593 486.553533 \r\nC 376.118305 485.99882 376.429983 485.246364 376.429983 484.461882 \r\nC 376.429983 483.677401 376.118305 482.924944 375.563593 482.370232 \r\nC 375.008881 481.81552 374.256424 481.503843 373.471943 481.503843 \r\nC 372.687461 481.503843 371.935005 481.81552 371.380293 482.370232 \r\nC 370.825581 482.924944 370.513903 483.677401 370.513903 484.461882 \r\nC 370.513903 485.246364 370.825581 485.99882 371.380293 486.553533 \r\nC 371.935005 487.108245 372.687461 487.419922 373.471943 487.419922 \r\nz\r\n\" style=\"fill:#1f77b4;fill-opacity:0.7;stroke:#ffffff;stroke-opacity:0.7;stroke-width:0.669328;\"/>\r\n    <path clip-path=\"url(#pd9aac72c43)\" d=\"M 174.46495 495.35913 \r\nC 177.354934 495.35913 180.12694 494.210927 182.170467 492.1674 \r\nC 184.213994 490.123873 185.362197 487.351866 185.362197 484.461882 \r\nC 185.362197 481.571899 184.213994 478.799892 182.170467 476.756365 \r\nC 180.12694 474.712838 177.354934 473.564635 174.46495 473.564635 \r\nC 171.574966 473.564635 168.802959 474.712838 166.759432 476.756365 \r\nC 164.715905 478.799892 163.567702 481.571899 163.567702 484.461882 \r\nC 163.567702 487.351866 164.715905 490.123873 166.759432 492.1674 \r\nC 168.802959 494.210927 171.574966 495.35913 174.46495 495.35913 \r\nz\r\n\" style=\"fill:#1f77b4;fill-opacity:0.7;stroke:#ffffff;stroke-opacity:0.7;stroke-width:0.669328;\"/>\r\n    <path clip-path=\"url(#pd9aac72c43)\" d=\"M 854.405509 483.052347 \r\nC 854.998521 483.052347 855.567325 482.816741 855.986648 482.397418 \r\nC 856.405971 481.978095 856.641577 481.409291 856.641577 480.816279 \r\nC 856.641577 480.223267 856.405971 479.654463 855.986648 479.23514 \r\nC 855.567325 478.815817 854.998521 478.580211 854.405509 478.580211 \r\nC 853.812497 478.580211 853.243693 478.815817 852.82437 479.23514 \r\nC 852.405047 479.654463 852.169441 480.223267 852.169441 480.816279 \r\nC 852.169441 481.409291 852.405047 481.978095 852.82437 482.397418 \r\nC 853.243693 482.816741 853.812497 483.052347 854.405509 483.052347 \r\nz\r\n\" style=\"fill:#1f77b4;fill-opacity:0.7;stroke:#ffffff;stroke-opacity:0.7;stroke-width:0.669328;\"/>\r\n    <path clip-path=\"url(#pd9aac72c43)\" d=\"M 290.552362 490.368765 \r\nC 293.085711 490.368765 295.515642 489.362255 297.30699 487.570907 \r\nC 299.098339 485.779559 300.104849 483.349628 300.104849 480.816279 \r\nC 300.104849 478.28293 299.098339 475.852999 297.30699 474.061651 \r\nC 295.515642 472.270303 293.085711 471.263792 290.552362 471.263792 \r\nC 288.019013 471.263792 285.589083 472.270303 283.797734 474.061651 \r\nC 282.006386 475.852999 280.999876 478.28293 280.999876 480.816279 \r\nC 280.999876 483.349628 282.006386 485.779559 283.797734 487.570907 \r\nC 285.589083 489.362255 288.019013 490.368765 290.552362 490.368765 \r\nz\r\n\" style=\"fill:#1f77b4;fill-opacity:0.7;stroke:#ffffff;stroke-opacity:0.7;stroke-width:0.669328;\"/>\r\n    <path clip-path=\"url(#pd9aac72c43)\" d=\"M 904.157257 485.146406 \r\nC 905.305621 485.146406 906.407104 484.690156 907.21912 483.878141 \r\nC 908.031135 483.066126 908.487384 481.964642 908.487384 480.816279 \r\nC 908.487384 479.667916 908.031135 478.566432 907.21912 477.754417 \r\nC 906.407104 476.942401 905.305621 476.486152 904.157257 476.486152 \r\nC 903.008894 476.486152 901.907411 476.942401 901.095395 477.754417 \r\nC 900.28338 478.566432 899.82713 479.667916 899.82713 480.816279 \r\nC 899.82713 481.964642 900.28338 483.066126 901.095395 483.878141 \r\nC 901.907411 484.690156 903.008894 485.146406 904.157257 485.146406 \r\nz\r\n\" style=\"fill:#1f77b4;fill-opacity:0.7;stroke:#ffffff;stroke-opacity:0.7;stroke-width:0.669328;\"/>\r\n    <path clip-path=\"url(#pd9aac72c43)\" d=\"M 373.471943 491.996619 \r\nC 376.437004 491.996619 379.281022 490.818588 381.377637 488.721973 \r\nC 383.474251 486.625358 384.652283 483.78134 384.652283 480.816279 \r\nC 384.652283 477.851218 383.474251 475.007199 381.377637 472.910585 \r\nC 379.281022 470.81397 376.437004 469.635939 373.471943 469.635939 \r\nC 370.506882 469.635939 367.662863 470.81397 365.566249 472.910585 \r\nC 363.469634 475.007199 362.291603 477.851218 362.291603 480.816279 \r\nC 362.291603 483.78134 363.469634 486.625358 365.566249 488.721973 \r\nC 367.662863 490.818588 370.506882 491.996619 373.471943 491.996619 \r\nz\r\n\" style=\"fill:#1f77b4;fill-opacity:0.7;stroke:#ffffff;stroke-opacity:0.7;stroke-width:0.669328;\"/>\r\n    <path clip-path=\"url(#pd9aac72c43)\" d=\"M 754.902013 481.642811 \r\nC 756.088037 481.642811 757.225644 481.171599 758.06429 480.332953 \r\nC 758.902936 479.494307 759.374149 478.3567 759.374149 477.170675 \r\nC 759.374149 475.984651 758.902936 474.847043 758.06429 474.008398 \r\nC 757.225644 473.169752 756.088037 472.698539 754.902013 472.698539 \r\nC 753.715988 472.698539 752.578381 473.169752 751.739735 474.008398 \r\nC 750.901089 474.847043 750.429877 475.984651 750.429877 477.170675 \r\nC 750.429877 478.3567 750.901089 479.494307 751.739735 480.332953 \r\nC 752.578381 481.171599 753.715988 481.642811 754.902013 481.642811 \r\nz\r\n\" style=\"fill:#1f77b4;fill-opacity:0.7;stroke:#ffffff;stroke-opacity:0.7;stroke-width:0.669328;\"/>\r\n    <path clip-path=\"url(#pd9aac72c43)\" d=\"M 191.048866 487.044884 \r\nC 193.667537 487.044884 196.179306 486.004475 198.030986 484.152795 \r\nC 199.882666 482.301115 200.923075 479.789346 200.923075 477.170675 \r\nC 200.923075 474.552005 199.882666 472.040235 198.030986 470.188555 \r\nC 196.179306 468.336875 193.667537 467.296466 191.048866 467.296466 \r\nC 188.430195 467.296466 185.918426 468.336875 184.066746 470.188555 \r\nC 182.215066 472.040235 181.174657 474.552005 181.174657 477.170675 \r\nC 181.174657 479.789346 182.215066 482.301115 184.066746 484.152795 \r\nC 185.918426 486.004475 188.430195 487.044884 191.048866 487.044884 \r\nz\r\n\" style=\"fill:#1f77b4;fill-opacity:0.7;stroke:#ffffff;stroke-opacity:0.7;stroke-width:0.669328;\"/>\r\n    <path clip-path=\"url(#pd9aac72c43)\" d=\"M 406.639775 481.353975 \r\nC 407.749199 481.353975 408.813333 480.913197 409.597815 480.128715 \r\nC 410.382296 479.344234 410.823075 478.280099 410.823075 477.170675 \r\nC 410.823075 476.061251 410.382296 474.997117 409.597815 474.212635 \r\nC 408.813333 473.428154 407.749199 472.987375 406.639775 472.987375 \r\nC 405.530351 472.987375 404.466216 473.428154 403.681735 474.212635 \r\nC 402.897254 474.997117 402.456475 476.061251 402.456475 477.170675 \r\nC 402.456475 478.280099 402.897254 479.344234 403.681735 480.128715 \r\nC 404.466216 480.913197 405.530351 481.353975 406.639775 481.353975 \r\nz\r\n\" style=\"fill:#1f77b4;fill-opacity:0.7;stroke:#ffffff;stroke-opacity:0.7;stroke-width:0.669328;\"/>\r\n    <path clip-path=\"url(#pd9aac72c43)\" d=\"M 157.881034 487.170675 \r\nC 160.533065 487.170675 163.076832 486.117012 164.952101 484.241743 \r\nC 166.827371 482.366474 167.881034 479.822706 167.881034 477.170675 \r\nC 167.881034 474.518644 166.827371 471.974877 164.952101 470.099607 \r\nC 163.076832 468.224338 160.533065 467.170675 157.881034 467.170675 \r\nC 155.229003 467.170675 152.685235 468.224338 150.809966 470.099607 \r\nC 148.934697 471.974877 147.881034 474.518644 147.881034 477.170675 \r\nC 147.881034 479.822706 148.934697 482.366474 150.809966 484.241743 \r\nC 152.685235 486.117012 155.229003 487.170675 157.881034 487.170675 \r\nz\r\n\" style=\"fill:#1f77b4;fill-opacity:0.7;stroke:#ffffff;stroke-opacity:0.7;stroke-width:0.669328;\"/>\r\n    <path clip-path=\"url(#pd9aac72c43)\" d=\"M 373.471943 480.233276 \r\nC 375.250979 480.233276 376.95739 479.526457 378.215359 478.268488 \r\nC 379.473328 477.010519 380.180147 475.304108 380.180147 473.525072 \r\nC 380.180147 471.746035 379.473328 470.039624 378.215359 468.781655 \r\nC 376.95739 467.523686 375.250979 466.816868 373.471943 466.816868 \r\nC 371.692906 466.816868 369.986495 467.523686 368.728526 468.781655 \r\nC 367.470557 470.039624 366.763739 471.746035 366.763739 473.525072 \r\nC 366.763739 475.304108 367.470557 477.010519 368.728526 478.268488 \r\nC 369.986495 479.526457 371.692906 480.233276 373.471943 480.233276 \r\nz\r\n\" style=\"fill:#1f77b4;fill-opacity:0.7;stroke:#ffffff;stroke-opacity:0.7;stroke-width:0.669328;\"/>\r\n    <path clip-path=\"url(#pd9aac72c43)\" d=\"M 124.713201 482.676574 \r\nC 127.140208 482.676574 129.468138 481.712314 131.184291 479.996161 \r\nC 132.900444 478.280008 133.864704 475.952079 133.864704 473.525072 \r\nC 133.864704 471.098065 132.900444 468.770135 131.184291 467.053982 \r\nC 129.468138 465.337829 127.140208 464.373569 124.713201 464.373569 \r\nC 122.286195 464.373569 119.958265 465.337829 118.242112 467.053982 \r\nC 116.525959 468.770135 115.561699 471.098065 115.561699 473.525072 \r\nC 115.561699 475.952079 116.525959 478.280008 118.242112 479.996161 \r\nC 119.958265 481.712314 122.286195 482.676574 124.713201 482.676574 \r\nz\r\n\" style=\"fill:#1f77b4;fill-opacity:0.7;stroke:#ffffff;stroke-opacity:0.7;stroke-width:0.669328;\"/>\r\n    <path clip-path=\"url(#pd9aac72c43)\" d=\"M 655.398516 472.357589 \r\nC 657.022547 472.357589 658.58028 471.712355 659.728643 470.563992 \r\nC 660.877006 469.415628 661.522241 467.857895 661.522241 466.233865 \r\nC 661.522241 464.609834 660.877006 463.052101 659.728643 461.903738 \r\nC 658.58028 460.755374 657.022547 460.11014 655.398516 460.11014 \r\nC 653.774485 460.11014 652.216752 460.755374 651.068389 461.903738 \r\nC 649.920026 463.052101 649.274792 464.609834 649.274792 466.233865 \r\nC 649.274792 467.857895 649.920026 469.415628 651.068389 470.563992 \r\nC 652.216752 471.712355 653.774485 472.357589 655.398516 472.357589 \r\nz\r\n\" style=\"fill:#1f77b4;fill-opacity:0.7;stroke:#ffffff;stroke-opacity:0.7;stroke-width:0.669328;\"/>\r\n    <path clip-path=\"url(#pd9aac72c43)\" d=\"M 373.471943 477.358162 \r\nC 376.422141 477.358162 379.251904 476.186036 381.338009 474.099931 \r\nC 383.424114 472.013826 384.59624 469.184063 384.59624 466.233865 \r\nC 384.59624 463.283666 383.424114 460.453903 381.338009 458.367798 \r\nC 379.251904 456.281693 376.422141 455.109567 373.471943 455.109567 \r\nC 370.521745 455.109567 367.691982 456.281693 365.605876 458.367798 \r\nC 363.519771 460.453903 362.347645 463.283666 362.347645 466.233865 \r\nC 362.347645 469.184063 363.519771 472.013826 365.605876 474.099931 \r\nC 367.691982 476.186036 370.521745 477.358162 373.471943 477.358162 \r\nz\r\n\" style=\"fill:#1f77b4;fill-opacity:0.7;stroke:#ffffff;stroke-opacity:0.7;stroke-width:0.669328;\"/>\r\n    <path clip-path=\"url(#pd9aac72c43)\" d=\"M 373.471943 469.296465 \r\nC 375.250979 469.296465 376.95739 468.589646 378.215359 467.331677 \r\nC 379.473328 466.073709 380.180147 464.367297 380.180147 462.588261 \r\nC 380.180147 460.809225 379.473328 459.102813 378.215359 457.844845 \r\nC 376.95739 456.586876 375.250979 455.880057 373.471943 455.880057 \r\nC 371.692906 455.880057 369.986495 456.586876 368.728526 457.844845 \r\nC 367.470557 459.102813 366.763739 460.809225 366.763739 462.588261 \r\nC 366.763739 464.367297 367.470557 466.073709 368.728526 467.331677 \r\nC 369.986495 468.589646 371.692906 469.296465 373.471943 469.296465 \r\nz\r\n\" style=\"fill:#1f77b4;fill-opacity:0.7;stroke:#ffffff;stroke-opacity:0.7;stroke-width:0.669328;\"/>\r\n    <path clip-path=\"url(#pd9aac72c43)\" d=\"M 207.632782 472.205953 \r\nC 210.183424 472.205953 212.629941 471.192572 214.433517 469.388996 \r\nC 216.237093 467.58542 217.250474 465.138903 217.250474 462.588261 \r\nC 217.250474 460.037619 216.237093 457.591102 214.433517 455.787526 \r\nC 212.629941 453.98395 210.183424 452.970569 207.632782 452.970569 \r\nC 205.08214 452.970569 202.635623 453.98395 200.832047 455.787526 \r\nC 199.028471 457.591102 198.01509 460.037619 198.01509 462.588261 \r\nC 198.01509 465.138903 199.028471 467.58542 200.832047 469.388996 \r\nC 202.635623 471.192572 205.08214 472.205953 207.632782 472.205953 \r\nz\r\n\" style=\"fill:#1f77b4;fill-opacity:0.7;stroke:#ffffff;stroke-opacity:0.7;stroke-width:0.669328;\"/>\r\n    <path clip-path=\"url(#pd9aac72c43)\" d=\"M 555.89502 461.68127 \r\nC 556.621308 461.68127 557.317948 461.392713 557.831511 460.879149 \r\nC 558.345075 460.365585 558.633632 459.668946 558.633632 458.942657 \r\nC 558.633632 458.216369 558.345075 457.519729 557.831511 457.006166 \r\nC 557.317948 456.492602 556.621308 456.204045 555.89502 456.204045 \r\nC 555.168731 456.204045 554.472092 456.492602 553.958528 457.006166 \r\nC 553.444964 457.519729 553.156407 458.216369 553.156407 458.942657 \r\nC 553.156407 459.668946 553.444964 460.365585 553.958528 460.879149 \r\nC 554.472092 461.392713 555.168731 461.68127 555.89502 461.68127 \r\nz\r\n\" style=\"fill:#1f77b4;fill-opacity:0.7;stroke:#ffffff;stroke-opacity:0.7;stroke-width:0.669328;\"/>\r\n    <path clip-path=\"url(#pd9aac72c43)\" d=\"M 307.136278 468.560349 \r\nC 309.68692 468.560349 312.133438 467.546969 313.937014 465.743393 \r\nC 315.74059 463.939817 316.75397 461.493299 316.75397 458.942657 \r\nC 316.75397 456.392016 315.74059 453.945498 313.937014 452.141922 \r\nC 312.133438 450.338346 309.68692 449.324965 307.136278 449.324965 \r\nC 304.585637 449.324965 302.139119 450.338346 300.335543 452.141922 \r\nC 298.531967 453.945498 297.518586 456.392016 297.518586 458.942657 \r\nC 297.518586 461.493299 298.531967 463.939817 300.335543 465.743393 \r\nC 302.139119 467.546969 304.585637 468.560349 307.136278 468.560349 \r\nz\r\n\" style=\"fill:#1f77b4;fill-opacity:0.7;stroke:#ffffff;stroke-opacity:0.7;stroke-width:0.669328;\"/>\r\n    <path clip-path=\"url(#pd9aac72c43)\" d=\"M 688.566348 452.335974 \r\nC 689.714711 452.335974 690.816195 451.879724 691.628211 451.067709 \r\nC 692.440226 450.255694 692.896475 449.15421 692.896475 448.005847 \r\nC 692.896475 446.857484 692.440226 445.756 691.628211 444.943985 \r\nC 690.816195 444.131969 689.714711 443.67572 688.566348 443.67572 \r\nC 687.417985 443.67572 686.316502 444.131969 685.504486 444.943985 \r\nC 684.692471 445.756 684.236221 446.857484 684.236221 448.005847 \r\nC 684.236221 449.15421 684.692471 450.255694 685.504486 451.067709 \r\nC 686.316502 451.879724 687.417985 452.335974 688.566348 452.335974 \r\nz\r\n\" style=\"fill:#1f77b4;fill-opacity:0.7;stroke:#ffffff;stroke-opacity:0.7;stroke-width:0.669328;\"/>\r\n    <path clip-path=\"url(#pd9aac72c43)\" d=\"M 273.968446 458.191621 \r\nC 276.669745 458.191621 279.26077 457.118384 281.170876 455.208277 \r\nC 283.080983 453.29817 284.154221 450.707146 284.154221 448.005847 \r\nC 284.154221 445.304548 283.080983 442.713523 281.170876 440.803417 \r\nC 279.26077 438.89331 276.669745 437.820072 273.968446 437.820072 \r\nC 271.267147 437.820072 268.676123 438.89331 266.766016 440.803417 \r\nC 264.855909 442.713523 263.782672 445.304548 263.782672 448.005847 \r\nC 263.782672 450.707146 264.855909 453.29817 266.766016 455.208277 \r\nC 268.676123 457.118384 271.267147 458.191621 273.968446 458.191621 \r\nz\r\n\" style=\"fill:#1f77b4;fill-opacity:0.7;stroke:#ffffff;stroke-opacity:0.7;stroke-width:0.669328;\"/>\r\n    <path clip-path=\"url(#pd9aac72c43)\" d=\"M 539.311104 454.428463 \r\nC 541.014401 454.428463 542.648166 453.751736 543.852579 452.547322 \r\nC 545.056993 451.342909 545.73372 449.709144 545.73372 448.005847 \r\nC 545.73372 446.302549 545.056993 444.668785 543.852579 443.464371 \r\nC 542.648166 442.259958 541.014401 441.58323 539.311104 441.58323 \r\nC 537.607806 441.58323 535.974041 442.259958 534.769628 443.464371 \r\nC 533.565215 444.668785 532.888487 446.302549 532.888487 448.005847 \r\nC 532.888487 449.709144 533.565215 451.342909 534.769628 452.547322 \r\nC 535.974041 453.751736 537.607806 454.428463 539.311104 454.428463 \r\nz\r\n\" style=\"fill:#1f77b4;fill-opacity:0.7;stroke:#ffffff;stroke-opacity:0.7;stroke-width:0.669328;\"/>\r\n    <path clip-path=\"url(#pd9aac72c43)\" d=\"M 373.471943 456.809255 \r\nC 375.806634 456.809255 378.046017 455.881672 379.696893 454.230796 \r\nC 381.347769 452.57992 382.275351 450.340538 382.275351 448.005847 \r\nC 382.275351 445.671155 381.347769 443.431773 379.696893 441.780897 \r\nC 378.046017 440.130021 375.806634 439.202438 373.471943 439.202438 \r\nC 371.137252 439.202438 368.897869 440.130021 367.246993 441.780897 \r\nC 365.596117 443.431773 364.668534 445.671155 364.668534 448.005847 \r\nC 364.668534 450.340538 365.596117 452.57992 367.246993 454.230796 \r\nC 368.897869 455.881672 371.137252 456.809255 373.471943 456.809255 \r\nz\r\n\" style=\"fill:#1f77b4;fill-opacity:0.7;stroke:#ffffff;stroke-opacity:0.7;stroke-width:0.669328;\"/>\r\n    <path clip-path=\"url(#pd9aac72c43)\" d=\"M 456.391523 450.684798 \r\nC 458.068815 450.684798 459.677635 450.018403 460.863659 448.832379 \r\nC 462.049683 447.646355 462.716078 446.037535 462.716078 444.360243 \r\nC 462.716078 442.682951 462.049683 441.074131 460.863659 439.888107 \r\nC 459.677635 438.702083 458.068815 438.035688 456.391523 438.035688 \r\nC 454.714231 438.035688 453.105412 438.702083 451.919387 439.888107 \r\nC 450.733363 441.074131 450.066968 442.682951 450.066968 444.360243 \r\nC 450.066968 446.037535 450.733363 447.646355 451.919387 448.832379 \r\nC 453.105412 450.018403 454.714231 450.684798 456.391523 450.684798 \r\nz\r\n\" style=\"fill:#1f77b4;fill-opacity:0.7;stroke:#ffffff;stroke-opacity:0.7;stroke-width:0.669328;\"/>\r\n    <path clip-path=\"url(#pd9aac72c43)\" d=\"M 174.46495 454.848332 \r\nC 177.246423 454.848332 179.914349 453.74324 181.881148 451.776442 \r\nC 183.847947 449.809643 184.953038 447.141717 184.953038 444.360243 \r\nC 184.953038 441.57877 183.847947 438.910843 181.881148 436.944045 \r\nC 179.914349 434.977246 177.246423 433.872155 174.46495 433.872155 \r\nC 171.683476 433.872155 169.01555 434.977246 167.048751 436.944045 \r\nC 165.081952 438.910843 163.976861 441.57877 163.976861 444.360243 \r\nC 163.976861 447.141717 165.081952 449.809643 167.048751 451.776442 \r\nC 169.01555 453.74324 171.683476 454.848332 174.46495 454.848332 \r\nz\r\n\" style=\"fill:#1f77b4;fill-opacity:0.7;stroke:#ffffff;stroke-opacity:0.7;stroke-width:0.669328;\"/>\r\n    <path clip-path=\"url(#pd9aac72c43)\" d=\"M 788.069845 443.21464 \r\nC 788.732853 443.21464 789.368795 442.951224 789.837612 442.482406 \r\nC 790.306429 442.013589 790.569845 441.377647 790.569845 440.71464 \r\nC 790.569845 440.051632 790.306429 439.41569 789.837612 438.946873 \r\nC 789.368795 438.478055 788.732853 438.21464 788.069845 438.21464 \r\nC 787.406837 438.21464 786.770895 438.478055 786.302078 438.946873 \r\nC 785.833261 439.41569 785.569845 440.051632 785.569845 440.71464 \r\nC 785.569845 441.377647 785.833261 442.013589 786.302078 442.482406 \r\nC 786.770895 442.951224 787.406837 443.21464 788.069845 443.21464 \r\nz\r\n\" style=\"fill:#1f77b4;fill-opacity:0.7;stroke:#ffffff;stroke-opacity:0.7;stroke-width:0.669328;\"/>\r\n    <path clip-path=\"url(#pd9aac72c43)\" d=\"M 141.297118 450.332332 \r\nC 143.847759 450.332332 146.294277 449.318951 148.097853 447.515375 \r\nC 149.901429 445.711799 150.91481 443.265281 150.91481 440.71464 \r\nC 150.91481 438.163998 149.901429 435.71748 148.097853 433.913904 \r\nC 146.294277 432.110328 143.847759 431.096947 141.297118 431.096947 \r\nC 138.746476 431.096947 136.299958 432.110328 134.496382 433.913904 \r\nC 132.692806 435.71748 131.679426 438.163998 131.679426 440.71464 \r\nC 131.679426 443.265281 132.692806 445.711799 134.496382 447.515375 \r\nC 136.299958 449.318951 138.746476 450.332332 141.297118 450.332332 \r\nz\r\n\" style=\"fill:#1f77b4;fill-opacity:0.7;stroke:#ffffff;stroke-opacity:0.7;stroke-width:0.669328;\"/>\r\n    <path clip-path=\"url(#pd9aac72c43)\" d=\"M 671.982432 432.277829 \r\nC 672.64544 432.277829 673.281382 432.014413 673.750199 431.545596 \r\nC 674.219016 431.076778 674.482432 430.440837 674.482432 429.777829 \r\nC 674.482432 429.114821 674.219016 428.478879 673.750199 428.010062 \r\nC 673.281382 427.541245 672.64544 427.277829 671.982432 427.277829 \r\nC 671.319425 427.277829 670.683483 427.541245 670.214665 428.010062 \r\nC 669.745848 428.478879 669.482432 429.114821 669.482432 429.777829 \r\nC 669.482432 430.440837 669.745848 431.076778 670.214665 431.545596 \r\nC 670.683483 432.014413 671.319425 432.277829 671.982432 432.277829 \r\nz\r\n\" style=\"fill:#1f77b4;fill-opacity:0.7;stroke:#ffffff;stroke-opacity:0.7;stroke-width:0.669328;\"/>\r\n    <path clip-path=\"url(#pd9aac72c43)\" d=\"M 91.545369 440.559758 \r\nC 94.40477 440.559758 97.147443 439.423706 99.169345 437.401804 \r\nC 101.191247 435.379902 102.327299 432.63723 102.327299 429.777829 \r\nC 102.327299 426.918428 101.191247 424.175755 99.169345 422.153853 \r\nC 97.147443 420.131952 94.40477 418.995899 91.545369 418.995899 \r\nC 88.685968 418.995899 85.943296 420.131952 83.921394 422.153853 \r\nC 81.899492 424.175755 80.76344 426.918428 80.76344 429.777829 \r\nC 80.76344 432.63723 81.899492 435.379902 83.921394 437.401804 \r\nC 85.943296 439.423706 88.685968 440.559758 91.545369 440.559758 \r\nz\r\n\" style=\"fill:#1f77b4;fill-opacity:0.7;stroke:#ffffff;stroke-opacity:0.7;stroke-width:0.669328;\"/>\r\n    <path clip-path=\"url(#pd9aac72c43)\" d=\"M 605.646768 434.107956 \r\nC 606.795131 434.107956 607.896615 433.651706 608.70863 432.839691 \r\nC 609.520645 432.027676 609.976895 430.926192 609.976895 429.777829 \r\nC 609.976895 428.629466 609.520645 427.527982 608.70863 426.715967 \r\nC 607.896615 425.903951 606.795131 425.447702 605.646768 425.447702 \r\nC 604.498405 425.447702 603.396921 425.903951 602.584906 426.715967 \r\nC 601.77289 427.527982 601.316641 428.629466 601.316641 429.777829 \r\nC 601.316641 430.926192 601.77289 432.027676 602.584906 432.839691 \r\nC 603.396921 433.651706 604.498405 434.107956 605.646768 434.107956 \r\nz\r\n\" style=\"fill:#1f77b4;fill-opacity:0.7;stroke:#ffffff;stroke-opacity:0.7;stroke-width:0.669328;\"/>\r\n    <path clip-path=\"url(#pd9aac72c43)\" d=\"M 141.297118 439.902057 \r\nC 143.982094 439.902057 146.557463 438.835305 148.456028 436.936739 \r\nC 150.354593 435.038174 151.421346 432.462806 151.421346 429.777829 \r\nC 151.421346 427.092852 150.354593 424.517484 148.456028 422.618918 \r\nC 146.557463 420.720353 143.982094 419.6536 141.297118 419.6536 \r\nC 138.612141 419.6536 136.036772 420.720353 134.138207 422.618918 \r\nC 132.239642 424.517484 131.172889 427.092852 131.172889 429.777829 \r\nC 131.172889 432.462806 132.239642 435.038174 134.138207 436.936739 \r\nC 136.036772 438.835305 138.612141 439.902057 141.297118 439.902057 \r\nz\r\n\" style=\"fill:#1f77b4;fill-opacity:0.7;stroke:#ffffff;stroke-opacity:0.7;stroke-width:0.669328;\"/>\r\n    <path clip-path=\"url(#pd9aac72c43)\" d=\"M 489.559355 430.875642 \r\nC 490.817324 430.875642 492.023939 430.375845 492.913457 429.486327 \r\nC 493.802976 428.596809 494.302772 427.390194 494.302772 426.132225 \r\nC 494.302772 424.874256 493.802976 423.667641 492.913457 422.778123 \r\nC 492.023939 421.888605 490.817324 421.388809 489.559355 421.388809 \r\nC 488.301387 421.388809 487.094772 421.888605 486.205253 422.778123 \r\nC 485.315735 423.667641 484.815939 424.874256 484.815939 426.132225 \r\nC 484.815939 427.390194 485.315735 428.596809 486.205253 429.486327 \r\nC 487.094772 430.375845 488.301387 430.875642 489.559355 430.875642 \r\nz\r\n\" style=\"fill:#1f77b4;fill-opacity:0.7;stroke:#ffffff;stroke-opacity:0.7;stroke-width:0.669328;\"/>\r\n    <path clip-path=\"url(#pd9aac72c43)\" d=\"M 290.552362 435.749917 \r\nC 293.103004 435.749917 295.549522 434.736537 297.353098 432.93296 \r\nC 299.156674 431.129384 300.170054 428.682867 300.170054 426.132225 \r\nC 300.170054 423.581583 299.156674 421.135066 297.353098 419.33149 \r\nC 295.549522 417.527914 293.103004 416.514533 290.552362 416.514533 \r\nC 288.001721 416.514533 285.555203 417.527914 283.751627 419.33149 \r\nC 281.948051 421.135066 280.93467 423.581583 280.93467 426.132225 \r\nC 280.93467 428.682867 281.948051 431.129384 283.751627 432.93296 \r\nC 285.555203 434.736537 288.001721 435.749917 290.552362 435.749917 \r\nz\r\n\" style=\"fill:#1f77b4;fill-opacity:0.7;stroke:#ffffff;stroke-opacity:0.7;stroke-width:0.669328;\"/>\r\n    <path clip-path=\"url(#pd9aac72c43)\" d=\"M 390.055859 421.00489 \r\nC 391.59655 421.00489 393.074345 420.392767 394.163778 419.303334 \r\nC 395.253211 418.213901 395.865334 416.736105 395.865334 415.195414 \r\nC 395.865334 413.654724 395.253211 412.176928 394.163778 411.087495 \r\nC 393.074345 409.998062 391.59655 409.385939 390.055859 409.385939 \r\nC 388.515168 409.385939 387.037373 409.998062 385.94794 411.087495 \r\nC 384.858507 412.176928 384.246384 413.654724 384.246384 415.195414 \r\nC 384.246384 416.736105 384.858507 418.213901 385.94794 419.303334 \r\nC 387.037373 420.392767 388.515168 421.00489 390.055859 421.00489 \r\nz\r\n\" style=\"fill:#1f77b4;fill-opacity:0.7;stroke:#ffffff;stroke-opacity:0.7;stroke-width:0.669328;\"/>\r\n    <path clip-path=\"url(#pd9aac72c43)\" d=\"M 124.713201 424.942209 \r\nC 127.298082 424.942209 129.77744 423.915225 131.605226 422.087439 \r\nC 133.433012 420.259653 134.459996 417.780295 134.459996 415.195414 \r\nC 134.459996 412.610534 133.433012 410.131176 131.605226 408.30339 \r\nC 129.77744 406.475604 127.298082 405.44862 124.713201 405.44862 \r\nC 122.128321 405.44862 119.648963 406.475604 117.821177 408.30339 \r\nC 115.993391 410.131176 114.966407 412.610534 114.966407 415.195414 \r\nC 114.966407 417.780295 115.993391 420.259653 117.821177 422.087439 \r\nC 119.648963 423.915225 122.128321 424.942209 124.713201 424.942209 \r\nz\r\n\" style=\"fill:#1f77b4;fill-opacity:0.7;stroke:#ffffff;stroke-opacity:0.7;stroke-width:0.669328;\"/>\r\n    <path clip-path=\"url(#pd9aac72c43)\" d=\"M 870.989425 418.258015 \r\nC 872.768462 418.258015 874.474873 417.551196 875.732842 416.293227 \r\nC 876.990811 415.035259 877.697629 413.328847 877.697629 411.549811 \r\nC 877.697629 409.770774 876.990811 408.064363 875.732842 406.806394 \r\nC 874.474873 405.548426 872.768462 404.841607 870.989425 404.841607 \r\nC 869.210389 404.841607 867.503978 405.548426 866.246009 406.806394 \r\nC 864.98804 408.064363 864.281221 409.770774 864.281221 411.549811 \r\nC 864.281221 413.328847 864.98804 415.035259 866.246009 416.293227 \r\nC 867.503978 417.551196 869.210389 418.258015 870.989425 418.258015 \r\nz\r\n\" style=\"fill:#1f77b4;fill-opacity:0.7;stroke:#ffffff;stroke-opacity:0.7;stroke-width:0.669328;\"/>\r\n    <path clip-path=\"url(#pd9aac72c43)\" d=\"M 191.048866 422.33174 \r\nC 193.908267 422.33174 196.650939 421.195688 198.672841 419.173786 \r\nC 200.694743 417.151884 201.830795 414.409212 201.830795 411.549811 \r\nC 201.830795 408.69041 200.694743 405.947737 198.672841 403.925836 \r\nC 196.650939 401.903934 193.908267 400.767882 191.048866 400.767882 \r\nC 188.189465 400.767882 185.446792 401.903934 183.42489 403.925836 \r\nC 181.402989 405.947737 180.266936 408.69041 180.266936 411.549811 \r\nC 180.266936 414.409212 181.402989 417.151884 183.42489 419.173786 \r\nC 185.446792 421.195688 188.189465 422.33174 191.048866 422.33174 \r\nz\r\n\" style=\"fill:#1f77b4;fill-opacity:0.7;stroke:#ffffff;stroke-opacity:0.7;stroke-width:0.669328;\"/>\r\n    <path clip-path=\"url(#pd9aac72c43)\" d=\"M 589.062852 414.704943 \r\nC 590.866428 414.704943 592.596377 413.988374 593.871698 412.713053 \r\nC 595.147019 411.437732 595.863587 409.707783 595.863587 407.904207 \r\nC 595.863587 406.100631 595.147019 404.370682 593.871698 403.095361 \r\nC 592.596377 401.82004 590.866428 401.103472 589.062852 401.103472 \r\nC 587.259276 401.103472 585.529327 401.82004 584.254006 403.095361 \r\nC 582.978685 404.370682 582.262117 406.100631 582.262117 407.904207 \r\nC 582.262117 409.707783 582.978685 411.437732 584.254006 412.713053 \r\nC 585.529327 413.988374 587.259276 414.704943 589.062852 414.704943 \r\nz\r\n\" style=\"fill:#1f77b4;fill-opacity:0.7;stroke:#ffffff;stroke-opacity:0.7;stroke-width:0.669328;\"/>\r\n    <path clip-path=\"url(#pd9aac72c43)\" d=\"M 307.136278 416.707616 \r\nC 309.47097 416.707616 311.710352 415.780033 313.361228 414.129157 \r\nC 315.012104 412.478281 315.939687 410.238899 315.939687 407.904207 \r\nC 315.939687 405.569516 315.012104 403.330134 313.361228 401.679258 \r\nC 311.710352 400.028382 309.47097 399.100799 307.136278 399.100799 \r\nC 304.801587 399.100799 302.562205 400.028382 300.911329 401.679258 \r\nC 299.260453 403.330134 298.33287 405.569516 298.33287 407.904207 \r\nC 298.33287 410.238899 299.260453 412.478281 300.911329 414.129157 \r\nC 302.562205 415.780033 304.801587 416.707616 307.136278 416.707616 \r\nz\r\n\" style=\"fill:#1f77b4;fill-opacity:0.7;stroke:#ffffff;stroke-opacity:0.7;stroke-width:0.669328;\"/>\r\n    <path clip-path=\"url(#pd9aac72c43)\" d=\"M 605.646768 413.925005 \r\nC 607.243502 413.925005 608.775053 413.290615 609.904115 412.161554 \r\nC 611.033176 411.032492 611.667565 409.500941 611.667565 407.904207 \r\nC 611.667565 406.307473 611.033176 404.775922 609.904115 403.646861 \r\nC 608.775053 402.517799 607.243502 401.88341 605.646768 401.88341 \r\nC 604.050034 401.88341 602.518483 402.517799 601.389421 403.646861 \r\nC 600.26036 404.775922 599.625971 406.307473 599.625971 407.904207 \r\nC 599.625971 409.500941 600.26036 411.032492 601.389421 412.161554 \r\nC 602.518483 413.290615 604.050034 413.925005 605.646768 413.925005 \r\nz\r\n\" style=\"fill:#1f77b4;fill-opacity:0.7;stroke:#ffffff;stroke-opacity:0.7;stroke-width:0.669328;\"/>\r\n    <path clip-path=\"url(#pd9aac72c43)\" d=\"M 191.048866 416.987158 \r\nC 193.457693 416.987158 195.768184 416.030121 197.471482 414.326824 \r\nC 199.17478 412.623526 200.131817 410.313034 200.131817 407.904207 \r\nC 200.131817 405.495381 199.17478 403.184889 197.471482 401.481591 \r\nC 195.768184 399.778293 193.457693 398.821256 191.048866 398.821256 \r\nC 188.640039 398.821256 186.329547 399.778293 184.62625 401.481591 \r\nC 182.922952 403.184889 181.965915 405.495381 181.965915 407.904207 \r\nC 181.965915 410.313034 182.922952 412.623526 184.62625 414.326824 \r\nC 186.329547 416.030121 188.640039 416.987158 191.048866 416.987158 \r\nz\r\n\" style=\"fill:#1f77b4;fill-opacity:0.7;stroke:#ffffff;stroke-opacity:0.7;stroke-width:0.669328;\"/>\r\n    <path clip-path=\"url(#pd9aac72c43)\" d=\"M 622.230684 412.625204 \r\nC 624.449532 412.625204 626.577801 411.743646 628.146764 410.174684 \r\nC 629.715726 408.605721 630.597284 406.477452 630.597284 404.258604 \r\nC 630.597284 402.039755 629.715726 399.911487 628.146764 398.342524 \r\nC 626.577801 396.773561 624.449532 395.892003 622.230684 395.892003 \r\nC 620.011836 395.892003 617.883567 396.773561 616.314604 398.342524 \r\nC 614.745642 399.911487 613.864084 402.039755 613.864084 404.258604 \r\nC 613.864084 406.477452 614.745642 408.605721 616.314604 410.174684 \r\nC 617.883567 411.743646 620.011836 412.625204 622.230684 412.625204 \r\nz\r\n\" style=\"fill:#1f77b4;fill-opacity:0.7;stroke:#ffffff;stroke-opacity:0.7;stroke-width:0.669328;\"/>\r\n    <path clip-path=\"url(#pd9aac72c43)\" d=\"M 240.800614 412.00457 \r\nC 242.854868 412.00457 244.825262 411.188407 246.27784 409.735829 \r\nC 247.730417 408.283252 248.546581 406.312858 248.546581 404.258604 \r\nC 248.546581 402.204349 247.730417 400.233955 246.27784 398.781378 \r\nC 244.825262 397.328801 242.854868 396.512637 240.800614 396.512637 \r\nC 238.74636 396.512637 236.775966 397.328801 235.323388 398.781378 \r\nC 233.870811 400.233955 233.054647 402.204349 233.054647 404.258604 \r\nC 233.054647 406.312858 233.870811 408.283252 235.323388 409.735829 \r\nC 236.775966 411.188407 238.74636 412.00457 240.800614 412.00457 \r\nz\r\n\" style=\"fill:#1f77b4;fill-opacity:0.7;stroke:#ffffff;stroke-opacity:0.7;stroke-width:0.669328;\"/>\r\n    <path clip-path=\"url(#pd9aac72c43)\" d=\"M 273.968446 411.590043 \r\nC 275.912767 411.590043 277.777714 410.817556 279.152557 409.442714 \r\nC 280.527399 408.067872 281.299885 406.202924 281.299885 404.258604 \r\nC 281.299885 402.314283 280.527399 400.449336 279.152557 399.074493 \r\nC 277.777714 397.699651 275.912767 396.927165 273.968446 396.927165 \r\nC 272.024126 396.927165 270.159178 397.699651 268.784336 399.074493 \r\nC 267.409494 400.449336 266.637007 402.314283 266.637007 404.258604 \r\nC 266.637007 406.202924 267.409494 408.067872 268.784336 409.442714 \r\nC 270.159178 410.817556 272.024126 411.590043 273.968446 411.590043 \r\nz\r\n\" style=\"fill:#1f77b4;fill-opacity:0.7;stroke:#ffffff;stroke-opacity:0.7;stroke-width:0.669328;\"/>\r\n    <path clip-path=\"url(#pd9aac72c43)\" d=\"M 307.136278 411.590043 \r\nC 309.080599 411.590043 310.945547 410.817556 312.320389 409.442714 \r\nC 313.695231 408.067872 314.467718 406.202924 314.467718 404.258604 \r\nC 314.467718 402.314283 313.695231 400.449336 312.320389 399.074493 \r\nC 310.945547 397.699651 309.080599 396.927165 307.136278 396.927165 \r\nC 305.191958 396.927165 303.32701 397.699651 301.952168 399.074493 \r\nC 300.577326 400.449336 299.804839 402.314283 299.804839 404.258604 \r\nC 299.804839 406.202924 300.577326 408.067872 301.952168 409.442714 \r\nC 303.32701 410.817556 305.191958 411.590043 307.136278 411.590043 \r\nz\r\n\" style=\"fill:#1f77b4;fill-opacity:0.7;stroke:#ffffff;stroke-opacity:0.7;stroke-width:0.669328;\"/>\r\n    <path clip-path=\"url(#pd9aac72c43)\" d=\"M 605.646768 405.106807 \r\nC 607.805365 405.106807 609.875842 404.249187 611.4022 402.722829 \r\nC 612.928559 401.19647 613.786178 399.125993 613.786178 396.967397 \r\nC 613.786178 394.8088 612.928559 392.738323 611.4022 391.211964 \r\nC 609.875842 389.685606 607.805365 388.827986 605.646768 388.827986 \r\nC 603.488171 388.827986 601.417694 389.685606 599.891336 391.211964 \r\nC 598.364977 392.738323 597.507358 394.8088 597.507358 396.967397 \r\nC 597.507358 399.125993 598.364977 401.19647 599.891336 402.722829 \r\nC 601.417694 404.249187 603.488171 405.106807 605.646768 405.106807 \r\nz\r\n\" style=\"fill:#1f77b4;fill-opacity:0.7;stroke:#ffffff;stroke-opacity:0.7;stroke-width:0.669328;\"/>\r\n    <path clip-path=\"url(#pd9aac72c43)\" d=\"M 340.304111 405.699521 \r\nC 342.619897 405.699521 344.841147 404.779449 346.478655 403.141941 \r\nC 348.116163 401.504433 349.036235 399.283183 349.036235 396.967397 \r\nC 349.036235 394.65161 348.116163 392.43036 346.478655 390.792852 \r\nC 344.841147 389.155344 342.619897 388.235272 340.304111 388.235272 \r\nC 337.988324 388.235272 335.767074 389.155344 334.129566 390.792852 \r\nC 332.492058 392.43036 331.571986 394.65161 331.571986 396.967397 \r\nC 331.571986 399.283183 332.492058 401.504433 334.129566 403.141941 \r\nC 335.767074 404.779449 337.988324 405.699521 340.304111 405.699521 \r\nz\r\n\" style=\"fill:#1f77b4;fill-opacity:0.7;stroke:#ffffff;stroke-opacity:0.7;stroke-width:0.669328;\"/>\r\n    <path clip-path=\"url(#pd9aac72c43)\" d=\"M 307.136278 401.613355 \r\nC 309.335226 401.613355 311.444407 400.739704 312.999298 399.184813 \r\nC 314.554189 397.629922 315.42784 395.520741 315.42784 393.321793 \r\nC 315.42784 391.122845 314.554189 389.013664 312.999298 387.458773 \r\nC 311.444407 385.903882 309.335226 385.030231 307.136278 385.030231 \r\nC 304.93733 385.030231 302.82815 385.903882 301.273259 387.458773 \r\nC 299.718368 389.013664 298.844716 391.122845 298.844716 393.321793 \r\nC 298.844716 395.520741 299.718368 397.629922 301.273259 399.184813 \r\nC 302.82815 400.739704 304.93733 401.613355 307.136278 401.613355 \r\nz\r\n\" style=\"fill:#1f77b4;fill-opacity:0.7;stroke:#ffffff;stroke-opacity:0.7;stroke-width:0.669328;\"/>\r\n    <path clip-path=\"url(#pd9aac72c43)\" d=\"M 771.485929 402.053918 \r\nC 773.801715 402.053918 776.022965 401.133846 777.660473 399.496338 \r\nC 779.297982 397.858829 780.218053 395.63758 780.218053 393.321793 \r\nC 780.218053 391.006007 779.297982 388.784757 777.660473 387.147249 \r\nC 776.022965 385.50974 773.801715 384.589668 771.485929 384.589668 \r\nC 769.170142 384.589668 766.948893 385.50974 765.311384 387.147249 \r\nC 763.673876 388.784757 762.753804 391.006007 762.753804 393.321793 \r\nC 762.753804 395.63758 763.673876 397.858829 765.311384 399.496338 \r\nC 766.948893 401.133846 769.170142 402.053918 771.485929 402.053918 \r\nz\r\n\" style=\"fill:#1f77b4;fill-opacity:0.7;stroke:#ffffff;stroke-opacity:0.7;stroke-width:0.669328;\"/>\r\n    <path clip-path=\"url(#pd9aac72c43)\" d=\"M 622.230684 400.904668 \r\nC 624.241686 400.904668 626.170593 400.105689 627.592587 398.683696 \r\nC 629.01458 397.261702 629.813559 395.332795 629.813559 393.321793 \r\nC 629.813559 391.310791 629.01458 389.381884 627.592587 387.95989 \r\nC 626.170593 386.537897 624.241686 385.738918 622.230684 385.738918 \r\nC 620.219682 385.738918 618.290775 386.537897 616.868781 387.95989 \r\nC 615.446788 389.381884 614.647809 391.310791 614.647809 393.321793 \r\nC 614.647809 395.332795 615.446788 397.261702 616.868781 398.683696 \r\nC 618.290775 400.105689 620.219682 400.904668 622.230684 400.904668 \r\nz\r\n\" style=\"fill:#1f77b4;fill-opacity:0.7;stroke:#ffffff;stroke-opacity:0.7;stroke-width:0.669328;\"/>\r\n    <path clip-path=\"url(#pd9aac72c43)\" d=\"M 572.478936 400.567481 \r\nC 574.400515 400.567481 576.24365 399.80403 577.602411 398.445268 \r\nC 578.961173 397.086507 579.724624 395.243372 579.724624 393.321793 \r\nC 579.724624 391.400214 578.961173 389.557079 577.602411 388.198318 \r\nC 576.24365 386.839556 574.400515 386.076105 572.478936 386.076105 \r\nC 570.557357 386.076105 568.714222 386.839556 567.35546 388.198318 \r\nC 565.996699 389.557079 565.233247 391.400214 565.233247 393.321793 \r\nC 565.233247 395.243372 565.996699 397.086507 567.35546 398.445268 \r\nC 568.714222 399.80403 570.557357 400.567481 572.478936 400.567481 \r\nz\r\n\" style=\"fill:#1f77b4;fill-opacity:0.7;stroke:#ffffff;stroke-opacity:0.7;stroke-width:0.669328;\"/>\r\n    <path clip-path=\"url(#pd9aac72c43)\" d=\"M 638.8146 397.660549 \r\nC 640.932077 397.660549 642.963113 396.819267 644.460395 395.321984 \r\nC 645.957677 393.824702 646.79896 391.793666 646.79896 389.676189 \r\nC 646.79896 387.558713 645.957677 385.527677 644.460395 384.030395 \r\nC 642.963113 382.533112 640.932077 381.69183 638.8146 381.69183 \r\nC 636.697123 381.69183 634.666088 382.533112 633.168805 384.030395 \r\nC 631.671523 385.527677 630.83024 387.558713 630.83024 389.676189 \r\nC 630.83024 391.793666 631.671523 393.824702 633.168805 395.321984 \r\nC 634.666088 396.819267 636.697123 397.660549 638.8146 397.660549 \r\nz\r\n\" style=\"fill:#1f77b4;fill-opacity:0.7;stroke:#ffffff;stroke-opacity:0.7;stroke-width:0.669328;\"/>\r\n    <path clip-path=\"url(#pd9aac72c43)\" d=\"M 937.32509 397.341044 \r\nC 939.357833 397.341044 941.307594 396.533427 942.74496 395.09606 \r\nC 944.182327 393.658694 944.989944 391.708933 944.989944 389.676189 \r\nC 944.989944 387.643446 944.182327 385.693685 942.74496 384.256319 \r\nC 941.307594 382.818952 939.357833 382.011335 937.32509 382.011335 \r\nC 935.292346 382.011335 933.342585 382.818952 931.905219 384.256319 \r\nC 930.467852 385.693685 929.660235 387.643446 929.660235 389.676189 \r\nC 929.660235 391.708933 930.467852 393.658694 931.905219 395.09606 \r\nC 933.342585 396.533427 935.292346 397.341044 937.32509 397.341044 \r\nz\r\n\" style=\"fill:#1f77b4;fill-opacity:0.7;stroke:#ffffff;stroke-opacity:0.7;stroke-width:0.669328;\"/>\r\n    <path clip-path=\"url(#pd9aac72c43)\" d=\"M 240.800614 390.44724 \r\nC 242.93875 390.44724 244.989601 389.59775 246.501491 388.085859 \r\nC 248.013381 386.573969 248.862872 384.523118 248.862872 382.384982 \r\nC 248.862872 380.246847 248.013381 378.195995 246.501491 376.684105 \r\nC 244.989601 375.172215 242.93875 374.322725 240.800614 374.322725 \r\nC 238.662478 374.322725 236.611627 375.172215 235.099737 376.684105 \r\nC 233.587847 378.195995 232.738356 380.246847 232.738356 382.384982 \r\nC 232.738356 384.523118 233.587847 386.573969 235.099737 388.085859 \r\nC 236.611627 389.59775 238.662478 390.44724 240.800614 390.44724 \r\nz\r\n\" style=\"fill:#1f77b4;fill-opacity:0.7;stroke:#ffffff;stroke-opacity:0.7;stroke-width:0.669328;\"/>\r\n    <path clip-path=\"url(#pd9aac72c43)\" d=\"M 671.982432 390.049837 \r\nC 674.015176 390.049837 675.964937 389.24222 677.402303 387.804853 \r\nC 678.83967 386.367487 679.647287 384.417726 679.647287 382.384982 \r\nC 679.647287 380.352239 678.83967 378.402478 677.402303 376.965111 \r\nC 675.964937 375.527745 674.015176 374.720127 671.982432 374.720127 \r\nC 669.949689 374.720127 667.999928 375.527745 666.562561 376.965111 \r\nC 665.125195 378.402478 664.317577 380.352239 664.317577 382.384982 \r\nC 664.317577 384.417726 665.125195 386.367487 666.562561 387.804853 \r\nC 667.999928 389.24222 669.949689 390.049837 671.982432 390.049837 \r\nz\r\n\" style=\"fill:#1f77b4;fill-opacity:0.7;stroke:#ffffff;stroke-opacity:0.7;stroke-width:0.669328;\"/>\r\n    <path clip-path=\"url(#pd9aac72c43)\" d=\"M 953.909006 390.825954 \r\nC 956.147577 390.825954 958.294765 389.93656 959.877674 388.35365 \r\nC 961.460583 386.770741 962.349977 384.623554 962.349977 382.384982 \r\nC 962.349977 380.14641 961.460583 377.999223 959.877674 376.416314 \r\nC 958.294765 374.833405 956.147577 373.944011 953.909006 373.944011 \r\nC 951.670434 373.944011 949.523247 374.833405 947.940337 376.416314 \r\nC 946.357428 377.999223 945.468034 380.14641 945.468034 382.384982 \r\nC 945.468034 384.623554 946.357428 386.770741 947.940337 388.35365 \r\nC 949.523247 389.93656 951.670434 390.825954 953.909006 390.825954 \r\nz\r\n\" style=\"fill:#1f77b4;fill-opacity:0.7;stroke:#ffffff;stroke-opacity:0.7;stroke-width:0.669328;\"/>\r\n    <path clip-path=\"url(#pd9aac72c43)\" d=\"M 108.129285 390.751583 \r\nC 110.348134 390.751583 112.476402 389.870025 114.045365 388.301062 \r\nC 115.614328 386.732099 116.495886 384.603831 116.495886 382.384982 \r\nC 116.495886 380.166134 115.614328 378.037865 114.045365 376.468903 \r\nC 112.476402 374.89994 110.348134 374.018382 108.129285 374.018382 \r\nC 105.910437 374.018382 103.782168 374.89994 102.213206 376.468903 \r\nC 100.644243 378.037865 99.762685 380.166134 99.762685 382.384982 \r\nC 99.762685 384.603831 100.644243 386.732099 102.213206 388.301062 \r\nC 103.782168 389.870025 105.910437 390.751583 108.129285 390.751583 \r\nz\r\n\" style=\"fill:#1f77b4;fill-opacity:0.7;stroke:#ffffff;stroke-opacity:0.7;stroke-width:0.669328;\"/>\r\n    <path clip-path=\"url(#pd9aac72c43)\" d=\"M 904.157257 386.878789 \r\nC 906.315854 386.878789 908.386331 386.021169 909.91269 384.494811 \r\nC 911.439048 382.968452 912.296668 380.897976 912.296668 378.739379 \r\nC 912.296668 376.580782 911.439048 374.510305 909.91269 372.983947 \r\nC 908.386331 371.457588 906.315854 370.599968 904.157257 370.599968 \r\nC 901.998661 370.599968 899.928184 371.457588 898.401825 372.983947 \r\nC 896.875467 374.510305 896.017847 376.580782 896.017847 378.739379 \r\nC 896.017847 380.897976 896.875467 382.968452 898.401825 384.494811 \r\nC 899.928184 386.021169 901.998661 386.878789 904.157257 386.878789 \r\nz\r\n\" style=\"fill:#1f77b4;fill-opacity:0.7;stroke:#ffffff;stroke-opacity:0.7;stroke-width:0.669328;\"/>\r\n    <path clip-path=\"url(#pd9aac72c43)\" d=\"M 688.566348 387.399633 \r\nC 690.863075 387.399633 693.066042 386.487134 694.690073 384.863103 \r\nC 696.314103 383.239072 697.226602 381.036105 697.226602 378.739379 \r\nC 697.226602 376.442653 696.314103 374.239685 694.690073 372.615654 \r\nC 693.066042 370.991624 690.863075 370.079125 688.566348 370.079125 \r\nC 686.269622 370.079125 684.066655 370.991624 682.442624 372.615654 \r\nC 680.818593 374.239685 679.906094 376.442653 679.906094 378.739379 \r\nC 679.906094 381.036105 680.818593 383.239072 682.442624 384.863103 \r\nC 684.066655 386.487134 686.269622 387.399633 688.566348 387.399633 \r\nz\r\n\" style=\"fill:#1f77b4;fill-opacity:0.7;stroke:#ffffff;stroke-opacity:0.7;stroke-width:0.669328;\"/>\r\n    <path clip-path=\"url(#pd9aac72c43)\" d=\"M 837.821593 383.156033 \r\nC 839.959729 383.156033 842.01058 382.306543 843.52247 380.794652 \r\nC 845.034361 379.282762 845.883851 377.231911 845.883851 375.093775 \r\nC 845.883851 372.955639 845.034361 370.904788 843.52247 369.392898 \r\nC 842.01058 367.881008 839.959729 367.031517 837.821593 367.031517 \r\nC 835.683457 367.031517 833.632606 367.881008 832.120716 369.392898 \r\nC 830.608826 370.904788 829.759335 372.955639 829.759335 375.093775 \r\nC 829.759335 377.231911 830.608826 379.282762 832.120716 380.794652 \r\nC 833.632606 382.306543 835.683457 383.156033 837.821593 383.156033 \r\nz\r\n\" style=\"fill:#1f77b4;fill-opacity:0.7;stroke:#ffffff;stroke-opacity:0.7;stroke-width:0.669328;\"/>\r\n    <path clip-path=\"url(#pd9aac72c43)\" d=\"M 91.545369 383.754029 \r\nC 93.842096 383.754029 96.045063 382.84153 97.669094 381.2175 \r\nC 99.293124 379.593469 100.205623 377.390501 100.205623 375.093775 \r\nC 100.205623 372.797049 99.293124 370.594081 97.669094 368.970051 \r\nC 96.045063 367.34602 93.842096 366.433521 91.545369 366.433521 \r\nC 89.248643 366.433521 87.045676 367.34602 85.421645 368.970051 \r\nC 83.797614 370.594081 82.885115 372.797049 82.885115 375.093775 \r\nC 82.885115 377.390501 83.797614 379.593469 85.421645 381.2175 \r\nC 87.045676 382.84153 89.248643 383.754029 91.545369 383.754029 \r\nz\r\n\" style=\"fill:#1f77b4;fill-opacity:0.7;stroke:#ffffff;stroke-opacity:0.7;stroke-width:0.669328;\"/>\r\n    <path clip-path=\"url(#pd9aac72c43)\" d=\"M 506.143271 383.078135 \r\nC 508.260748 383.078135 510.291784 382.236852 511.789066 380.73957 \r\nC 513.286349 379.242288 514.127631 377.211252 514.127631 375.093775 \r\nC 514.127631 372.976298 513.286349 370.945263 511.789066 369.44798 \r\nC 510.291784 367.950698 508.260748 367.109415 506.143271 367.109415 \r\nC 504.025794 367.109415 501.994759 367.950698 500.497477 369.44798 \r\nC 499.000194 370.945263 498.158912 372.976298 498.158912 375.093775 \r\nC 498.158912 377.211252 499.000194 379.242288 500.497477 380.73957 \r\nC 501.994759 382.236852 504.025794 383.078135 506.143271 383.078135 \r\nz\r\n\" style=\"fill:#1f77b4;fill-opacity:0.7;stroke:#ffffff;stroke-opacity:0.7;stroke-width:0.669328;\"/>\r\n    <path clip-path=\"url(#pd9aac72c43)\" d=\"M 920.741174 382.920013 \r\nC 922.816716 382.920013 924.807529 382.095391 926.275159 380.627761 \r\nC 927.74279 379.160131 928.567411 377.169318 928.567411 375.093775 \r\nC 928.567411 373.018233 927.74279 371.027419 926.275159 369.559789 \r\nC 924.807529 368.092159 922.816716 367.267537 920.741174 367.267537 \r\nC 918.665631 367.267537 916.674818 368.092159 915.207188 369.559789 \r\nC 913.739557 371.027419 912.914936 373.018233 912.914936 375.093775 \r\nC 912.914936 377.169318 913.739557 379.160131 915.207188 380.627761 \r\nC 916.674818 382.095391 918.665631 382.920013 920.741174 382.920013 \r\nz\r\n\" style=\"fill:#1f77b4;fill-opacity:0.7;stroke:#ffffff;stroke-opacity:0.7;stroke-width:0.669328;\"/>\r\n    <path clip-path=\"url(#pd9aac72c43)\" d=\"M 108.129285 383.754029 \r\nC 110.426012 383.754029 112.628979 382.84153 114.25301 381.2175 \r\nC 115.87704 379.593469 116.789539 377.390501 116.789539 375.093775 \r\nC 116.789539 372.797049 115.87704 370.594081 114.25301 368.970051 \r\nC 112.628979 367.34602 110.426012 366.433521 108.129285 366.433521 \r\nC 105.832559 366.433521 103.629592 367.34602 102.005561 368.970051 \r\nC 100.38153 370.594081 99.469031 372.797049 99.469031 375.093775 \r\nC 99.469031 377.390501 100.38153 379.593469 102.005561 381.2175 \r\nC 103.629592 382.84153 105.832559 383.754029 108.129285 383.754029 \r\nz\r\n\" style=\"fill:#1f77b4;fill-opacity:0.7;stroke:#ffffff;stroke-opacity:0.7;stroke-width:0.669328;\"/>\r\n    <path clip-path=\"url(#pd9aac72c43)\" d=\"M 323.720194 382.839742 \r\nC 325.774449 382.839742 327.744843 382.023578 329.19742 380.571001 \r\nC 330.649997 379.118424 331.466161 377.14803 331.466161 375.093775 \r\nC 331.466161 373.039521 330.649997 371.069127 329.19742 369.61655 \r\nC 327.744843 368.163972 325.774449 367.347808 323.720194 367.347808 \r\nC 321.66594 367.347808 319.695546 368.163972 318.242969 369.61655 \r\nC 316.790392 371.069127 315.974228 373.039521 315.974228 375.093775 \r\nC 315.974228 377.14803 316.790392 379.118424 318.242969 380.571001 \r\nC 319.695546 382.023578 321.66594 382.839742 323.720194 382.839742 \r\nz\r\n\" style=\"fill:#1f77b4;fill-opacity:0.7;stroke:#ffffff;stroke-opacity:0.7;stroke-width:0.669328;\"/>\r\n    <path clip-path=\"url(#pd9aac72c43)\" d=\"M 953.909006 379.814772 \r\nC 956.127854 379.814772 958.256123 378.933214 959.825085 377.364251 \r\nC 961.394048 375.795289 962.275606 373.66702 962.275606 371.448172 \r\nC 962.275606 369.229323 961.394048 367.101054 959.825085 365.532092 \r\nC 958.256123 363.963129 956.127854 363.081571 953.909006 363.081571 \r\nC 951.690157 363.081571 949.561889 363.963129 947.992926 365.532092 \r\nC 946.423963 367.101054 945.542405 369.229323 945.542405 371.448172 \r\nC 945.542405 373.66702 946.423963 375.795289 947.992926 377.364251 \r\nC 949.561889 378.933214 951.690157 379.814772 953.909006 379.814772 \r\nz\r\n\" style=\"fill:#1f77b4;fill-opacity:0.7;stroke:#ffffff;stroke-opacity:0.7;stroke-width:0.669328;\"/>\r\n    <path clip-path=\"url(#pd9aac72c43)\" d=\"M 572.478936 378.779611 \r\nC 574.423256 378.779611 576.288204 378.007124 577.663046 376.632282 \r\nC 579.037888 375.25744 579.810375 373.392492 579.810375 371.448172 \r\nC 579.810375 369.503851 579.037888 367.638903 577.663046 366.264061 \r\nC 576.288204 364.889219 574.423256 364.116732 572.478936 364.116732 \r\nC 570.534615 364.116732 568.669668 364.889219 567.294825 366.264061 \r\nC 565.919983 367.638903 565.147497 369.503851 565.147497 371.448172 \r\nC 565.147497 373.392492 565.919983 375.25744 567.294825 376.632282 \r\nC 568.669668 378.007124 570.534615 378.779611 572.478936 378.779611 \r\nz\r\n\" style=\"fill:#1f77b4;fill-opacity:0.7;stroke:#ffffff;stroke-opacity:0.7;stroke-width:0.669328;\"/>\r\n    <path clip-path=\"url(#pd9aac72c43)\" d=\"M 788.069845 375.708262 \r\nC 790.166459 375.708262 792.177484 374.875268 793.660015 373.392738 \r\nC 795.142545 371.910208 795.975539 369.899183 795.975539 367.802568 \r\nC 795.975539 365.705953 795.142545 363.694928 793.660015 362.212398 \r\nC 792.177484 360.729868 790.166459 359.896874 788.069845 359.896874 \r\nC 785.97323 359.896874 783.962205 360.729868 782.479675 362.212398 \r\nC 780.997145 363.694928 780.164151 365.705953 780.164151 367.802568 \r\nC 780.164151 369.899183 780.997145 371.910208 782.479675 373.392738 \r\nC 783.962205 374.875268 785.97323 375.708262 788.069845 375.708262 \r\nz\r\n\" style=\"fill:#1f77b4;fill-opacity:0.7;stroke:#ffffff;stroke-opacity:0.7;stroke-width:0.669328;\"/>\r\n    <path clip-path=\"url(#pd9aac72c43)\" d=\"M 788.069845 376.24354 \r\nC 790.308417 376.24354 792.455604 375.354145 794.038513 373.771236 \r\nC 795.621422 372.188327 796.510816 370.04114 796.510816 367.802568 \r\nC 796.510816 365.563996 795.621422 363.416809 794.038513 361.8339 \r\nC 792.455604 360.25099 790.308417 359.361596 788.069845 359.361596 \r\nC 785.831273 359.361596 783.684086 360.25099 782.101177 361.8339 \r\nC 780.518267 363.416809 779.628873 365.563996 779.628873 367.802568 \r\nC 779.628873 370.04114 780.518267 372.188327 782.101177 373.771236 \r\nC 783.684086 375.354145 785.831273 376.24354 788.069845 376.24354 \r\nz\r\n\" style=\"fill:#1f77b4;fill-opacity:0.7;stroke:#ffffff;stroke-opacity:0.7;stroke-width:0.669328;\"/>\r\n    <path clip-path=\"url(#pd9aac72c43)\" d=\"M 771.485929 360.96612 \r\nC 773.540183 360.96612 775.510577 360.149956 776.963154 358.697379 \r\nC 778.415732 357.244802 779.231895 355.274408 779.231895 353.220154 \r\nC 779.231895 351.165899 778.415732 349.195505 776.963154 347.742928 \r\nC 775.510577 346.290351 773.540183 345.474187 771.485929 345.474187 \r\nC 769.431674 345.474187 767.46128 346.290351 766.008703 347.742928 \r\nC 764.556126 349.195505 763.739962 351.165899 763.739962 353.220154 \r\nC 763.739962 355.274408 764.556126 357.244802 766.008703 358.697379 \r\nC 767.46128 360.149956 769.431674 360.96612 771.485929 360.96612 \r\nz\r\n\" style=\"fill:#1f77b4;fill-opacity:0.7;stroke:#ffffff;stroke-opacity:0.7;stroke-width:0.669328;\"/>\r\n    <path clip-path=\"url(#pd9aac72c43)\" d=\"M 224.216698 361.511716 \r\nC 226.415646 361.511716 228.524827 360.638064 230.079718 359.083173 \r\nC 231.634609 357.528282 232.50826 355.419102 232.50826 353.220154 \r\nC 232.50826 351.021206 231.634609 348.912025 230.079718 347.357134 \r\nC 228.524827 345.802243 226.415646 344.928592 224.216698 344.928592 \r\nC 222.01775 344.928592 219.908569 345.802243 218.353678 347.357134 \r\nC 216.798787 348.912025 215.925136 351.021206 215.925136 353.220154 \r\nC 215.925136 355.419102 216.798787 357.528282 218.353678 359.083173 \r\nC 219.908569 360.638064 222.01775 361.511716 224.216698 361.511716 \r\nz\r\n\" style=\"fill:#1f77b4;fill-opacity:0.7;stroke:#ffffff;stroke-opacity:0.7;stroke-width:0.669328;\"/>\r\n    <path clip-path=\"url(#pd9aac72c43)\" d=\"M 539.311104 361.435992 \r\nC 541.489969 361.435992 543.579888 360.570319 545.120579 359.029629 \r\nC 546.661269 357.488938 547.526942 355.399019 547.526942 353.220154 \r\nC 547.526942 351.041288 546.661269 348.951369 545.120579 347.410679 \r\nC 543.579888 345.869988 541.489969 345.004315 539.311104 345.004315 \r\nC 537.132238 345.004315 535.042319 345.869988 533.501629 347.410679 \r\nC 531.960938 348.951369 531.095265 351.041288 531.095265 353.220154 \r\nC 531.095265 355.399019 531.960938 357.488938 533.501629 359.029629 \r\nC 535.042319 360.570319 537.132238 361.435992 539.311104 361.435992 \r\nz\r\n\" style=\"fill:#1f77b4;fill-opacity:0.7;stroke:#ffffff;stroke-opacity:0.7;stroke-width:0.669328;\"/>\r\n    <path clip-path=\"url(#pd9aac72c43)\" d=\"M 456.391523 361.046392 \r\nC 458.467066 361.046392 460.457879 360.22177 461.925509 358.75414 \r\nC 463.393139 357.286509 464.217761 355.295696 464.217761 353.220154 \r\nC 464.217761 351.144611 463.393139 349.153798 461.925509 347.686168 \r\nC 460.457879 346.218538 458.467066 345.393916 456.391523 345.393916 \r\nC 454.315981 345.393916 452.325167 346.218538 450.857537 347.686168 \r\nC 449.389907 349.153798 448.565285 351.144611 448.565285 353.220154 \r\nC 448.565285 355.295696 449.389907 357.286509 450.857537 358.75414 \r\nC 452.325167 360.22177 454.315981 361.046392 456.391523 361.046392 \r\nz\r\n\" style=\"fill:#1f77b4;fill-opacity:0.7;stroke:#ffffff;stroke-opacity:0.7;stroke-width:0.669328;\"/>\r\n    <path clip-path=\"url(#pd9aac72c43)\" d=\"M 174.46495 361.359564 \r\nC 176.623547 361.359564 178.694023 360.501944 180.220382 358.975586 \r\nC 181.74674 357.449227 182.60436 355.378751 182.60436 353.220154 \r\nC 182.60436 351.061557 181.74674 348.99108 180.220382 347.464721 \r\nC 178.694023 345.938363 176.623547 345.080743 174.46495 345.080743 \r\nC 172.306353 345.080743 170.235876 345.938363 168.709518 347.464721 \r\nC 167.183159 348.99108 166.325539 351.061557 166.325539 353.220154 \r\nC 166.325539 355.378751 167.183159 357.449227 168.709518 358.975586 \r\nC 170.235876 360.501944 172.306353 361.359564 174.46495 361.359564 \r\nz\r\n\" style=\"fill:#1f77b4;fill-opacity:0.7;stroke:#ffffff;stroke-opacity:0.7;stroke-width:0.669328;\"/>\r\n    <path clip-path=\"url(#pd9aac72c43)\" d=\"M 605.646768 360.551593 \r\nC 607.591088 360.551593 609.456036 359.779106 610.830878 358.404264 \r\nC 612.20572 357.029422 612.978207 355.164474 612.978207 353.220154 \r\nC 612.978207 351.275833 612.20572 349.410885 610.830878 348.036043 \r\nC 609.456036 346.661201 607.591088 345.888715 605.646768 345.888715 \r\nC 603.702448 345.888715 601.8375 346.661201 600.462658 348.036043 \r\nC 599.087815 349.410885 598.315329 351.275833 598.315329 353.220154 \r\nC 598.315329 355.164474 599.087815 357.029422 600.462658 358.404264 \r\nC 601.8375 359.779106 603.702448 360.551593 605.646768 360.551593 \r\nz\r\n\" style=\"fill:#1f77b4;fill-opacity:0.7;stroke:#ffffff;stroke-opacity:0.7;stroke-width:0.669328;\"/>\r\n    <path clip-path=\"url(#pd9aac72c43)\" d=\"M 738.318097 361.282411 \r\nC 740.456232 361.282411 742.507083 360.432921 744.018974 358.921031 \r\nC 745.530864 357.409141 746.380354 355.358289 746.380354 353.220154 \r\nC 746.380354 351.082018 745.530864 349.031167 744.018974 347.519277 \r\nC 742.507083 346.007386 740.456232 345.157896 738.318097 345.157896 \r\nC 736.179961 345.157896 734.12911 346.007386 732.617219 347.519277 \r\nC 731.105329 349.031167 730.255839 351.082018 730.255839 353.220154 \r\nC 730.255839 355.358289 731.105329 357.409141 732.617219 358.921031 \r\nC 734.12911 360.432921 736.179961 361.282411 738.318097 361.282411 \r\nz\r\n\" style=\"fill:#1f77b4;fill-opacity:0.7;stroke:#ffffff;stroke-opacity:0.7;stroke-width:0.669328;\"/>\r\n    <path clip-path=\"url(#pd9aac72c43)\" d=\"M 423.223691 361.586754 \r\nC 425.442539 361.586754 427.570808 360.705196 429.139771 359.136233 \r\nC 430.708733 357.567271 431.590291 355.439002 431.590291 353.220154 \r\nC 431.590291 351.001305 430.708733 348.873037 429.139771 347.304074 \r\nC 427.570808 345.735111 425.442539 344.853553 423.223691 344.853553 \r\nC 421.004843 344.853553 418.876574 345.735111 417.307611 347.304074 \r\nC 415.738649 348.873037 414.857091 351.001305 414.857091 353.220154 \r\nC 414.857091 355.439002 415.738649 357.567271 417.307611 359.136233 \r\nC 418.876574 360.705196 421.004843 361.586754 423.223691 361.586754 \r\nz\r\n\" style=\"fill:#1f77b4;fill-opacity:0.7;stroke:#ffffff;stroke-opacity:0.7;stroke-width:0.669328;\"/>\r\n    <path clip-path=\"url(#pd9aac72c43)\" d=\"M 904.157257 360.465842 \r\nC 906.078836 360.465842 907.921971 359.702391 909.280733 358.343629 \r\nC 910.639494 356.984868 911.402946 355.141733 911.402946 353.220154 \r\nC 911.402946 351.298575 910.639494 349.45544 909.280733 348.096678 \r\nC 907.921971 346.737917 906.078836 345.974465 904.157257 345.974465 \r\nC 902.235678 345.974465 900.392544 346.737917 899.033782 348.096678 \r\nC 897.67502 349.45544 896.911569 351.298575 896.911569 353.220154 \r\nC 896.911569 355.141733 897.67502 356.984868 899.033782 358.343629 \r\nC 900.392544 359.702391 902.235678 360.465842 904.157257 360.465842 \r\nz\r\n\" style=\"fill:#1f77b4;fill-opacity:0.7;stroke:#ffffff;stroke-opacity:0.7;stroke-width:0.669328;\"/>\r\n    <path clip-path=\"url(#pd9aac72c43)\" d=\"M 555.89502 360.720154 \r\nC 557.884043 360.720154 559.791869 359.929906 561.198321 358.523455 \r\nC 562.604772 357.117003 563.39502 355.209177 563.39502 353.220154 \r\nC 563.39502 351.23113 562.604772 349.323305 561.198321 347.916853 \r\nC 559.791869 346.510401 557.884043 345.720154 555.89502 345.720154 \r\nC 553.905996 345.720154 551.998171 346.510401 550.591719 347.916853 \r\nC 549.185267 349.323305 548.39502 351.23113 548.39502 353.220154 \r\nC 548.39502 355.209177 549.185267 357.117003 550.591719 358.523455 \r\nC 551.998171 359.929906 553.905996 360.720154 555.89502 360.720154 \r\nz\r\n\" style=\"fill:#1f77b4;fill-opacity:0.7;stroke:#ffffff;stroke-opacity:0.7;stroke-width:0.669328;\"/>\r\n    <path clip-path=\"url(#pd9aac72c43)\" d=\"M 141.297118 361.734847 \r\nC 143.555241 361.734847 145.721181 360.837685 147.317915 359.240951 \r\nC 148.914649 357.644217 149.811811 355.478277 149.811811 353.220154 \r\nC 149.811811 350.962031 148.914649 348.796091 147.317915 347.199356 \r\nC 145.721181 345.602622 143.555241 344.705461 141.297118 344.705461 \r\nC 139.038995 344.705461 136.873054 345.602622 135.27632 347.199356 \r\nC 133.679586 348.796091 132.782424 350.962031 132.782424 353.220154 \r\nC 132.782424 355.478277 133.679586 357.644217 135.27632 359.240951 \r\nC 136.873054 360.837685 139.038995 361.734847 141.297118 361.734847 \r\nz\r\n\" style=\"fill:#1f77b4;fill-opacity:0.7;stroke:#ffffff;stroke-opacity:0.7;stroke-width:0.669328;\"/>\r\n    <path clip-path=\"url(#pd9aac72c43)\" d=\"M 589.062852 360.885009 \r\nC 591.095595 360.885009 593.045356 360.077391 594.482723 358.640025 \r\nC 595.920089 357.202658 596.727707 355.252897 596.727707 353.220154 \r\nC 596.727707 351.18741 595.920089 349.237649 594.482723 347.800283 \r\nC 593.045356 346.362916 591.095595 345.555299 589.062852 345.555299 \r\nC 587.030109 345.555299 585.080348 346.362916 583.642981 347.800283 \r\nC 582.205614 349.237649 581.397997 351.18741 581.397997 353.220154 \r\nC 581.397997 355.252897 582.205614 357.202658 583.642981 358.640025 \r\nC 585.080348 360.077391 587.030109 360.885009 589.062852 360.885009 \r\nz\r\n\" style=\"fill:#1f77b4;fill-opacity:0.7;stroke:#ffffff;stroke-opacity:0.7;stroke-width:0.669328;\"/>\r\n    <path clip-path=\"url(#pd9aac72c43)\" d=\"M 705.150264 350.871125 \r\nC 707.427771 350.871125 709.612303 349.966262 711.222743 348.355822 \r\nC 712.833184 346.745382 713.738046 344.560849 713.738046 342.283343 \r\nC 713.738046 340.005837 712.833184 337.821304 711.222743 336.210864 \r\nC 709.612303 334.600424 707.427771 333.695561 705.150264 333.695561 \r\nC 702.872758 333.695561 700.688226 334.600424 699.077786 336.210864 \r\nC 697.467345 337.821304 696.562482 340.005837 696.562482 342.283343 \r\nC 696.562482 344.560849 697.467345 346.745382 699.077786 348.355822 \r\nC 700.688226 349.966262 702.872758 350.871125 705.150264 350.871125 \r\nz\r\n\" style=\"fill:#1f77b4;fill-opacity:0.7;stroke:#ffffff;stroke-opacity:0.7;stroke-width:0.669328;\"/>\r\n    <path clip-path=\"url(#pd9aac72c43)\" d=\"M 157.881034 350.649943 \r\nC 160.099882 350.649943 162.228151 349.768385 163.797113 348.199423 \r\nC 165.366076 346.63046 166.247634 344.502191 166.247634 342.283343 \r\nC 166.247634 340.064495 165.366076 337.936226 163.797113 336.367263 \r\nC 162.228151 334.7983 160.099882 333.916743 157.881034 333.916743 \r\nC 155.662185 333.916743 153.533917 334.7983 151.964954 336.367263 \r\nC 150.395991 337.936226 149.514433 340.064495 149.514433 342.283343 \r\nC 149.514433 344.502191 150.395991 346.63046 151.964954 348.199423 \r\nC 153.533917 349.768385 155.662185 350.649943 157.881034 350.649943 \r\nz\r\n\" style=\"fill:#1f77b4;fill-opacity:0.7;stroke:#ffffff;stroke-opacity:0.7;stroke-width:0.669328;\"/>\r\n    <path clip-path=\"url(#pd9aac72c43)\" d=\"M 356.888027 347.369864 \r\nC 359.203813 347.369864 361.425063 346.449792 363.062571 344.812284 \r\nC 364.70008 343.174776 365.620151 340.953526 365.620151 338.637739 \r\nC 365.620151 336.321953 364.70008 334.100703 363.062571 332.463195 \r\nC 361.425063 330.825687 359.203813 329.905615 356.888027 329.905615 \r\nC 354.57224 329.905615 352.35099 330.825687 350.713482 332.463195 \r\nC 349.075974 334.100703 348.155902 336.321953 348.155902 338.637739 \r\nC 348.155902 340.953526 349.075974 343.174776 350.713482 344.812284 \r\nC 352.35099 346.449792 354.57224 347.369864 356.888027 347.369864 \r\nz\r\n\" style=\"fill:#1f77b4;fill-opacity:0.7;stroke:#ffffff;stroke-opacity:0.7;stroke-width:0.669328;\"/>\r\n    <path clip-path=\"url(#pd9aac72c43)\" d=\"M 622.230684 346.302594 \r\nC 624.263427 346.302594 626.213188 345.494977 627.650555 344.05761 \r\nC 629.087921 342.620244 629.895539 340.670483 629.895539 338.637739 \r\nC 629.895539 336.604996 629.087921 334.655235 627.650555 333.217869 \r\nC 626.213188 331.780502 624.263427 330.972885 622.230684 330.972885 \r\nC 620.197941 330.972885 618.24818 331.780502 616.810813 333.217869 \r\nC 615.373447 334.655235 614.565829 336.604996 614.565829 338.637739 \r\nC 614.565829 340.670483 615.373447 342.620244 616.810813 344.05761 \r\nC 618.24818 345.494977 620.197941 346.302594 622.230684 346.302594 \r\nz\r\n\" style=\"fill:#1f77b4;fill-opacity:0.7;stroke:#ffffff;stroke-opacity:0.7;stroke-width:0.669328;\"/>\r\n    <path clip-path=\"url(#pd9aac72c43)\" d=\"M 920.741174 343.358736 \r\nC 922.960022 343.358736 925.088291 342.477178 926.657253 340.908216 \r\nC 928.226216 339.339253 929.107774 337.210984 929.107774 334.992136 \r\nC 929.107774 332.773287 928.226216 330.645019 926.657253 329.076056 \r\nC 925.088291 327.507093 922.960022 326.625536 920.741174 326.625536 \r\nC 918.522325 326.625536 916.394056 327.507093 914.825094 329.076056 \r\nC 913.256131 330.645019 912.374573 332.773287 912.374573 334.992136 \r\nC 912.374573 337.210984 913.256131 339.339253 914.825094 340.908216 \r\nC 916.394056 342.477178 918.522325 343.358736 920.741174 343.358736 \r\nz\r\n\" style=\"fill:#1f77b4;fill-opacity:0.7;stroke:#ffffff;stroke-opacity:0.7;stroke-width:0.669328;\"/>\r\n    <path clip-path=\"url(#pd9aac72c43)\" d=\"M 91.545369 342.237824 \r\nC 93.466948 342.237824 95.310083 341.474373 96.668845 340.115611 \r\nC 98.027606 338.75685 98.791058 336.913715 98.791058 334.992136 \r\nC 98.791058 333.070557 98.027606 331.227422 96.668845 329.86866 \r\nC 95.310083 328.509899 93.466948 327.746447 91.545369 327.746447 \r\nC 89.62379 327.746447 87.780655 328.509899 86.421894 329.86866 \r\nC 85.063132 331.227422 84.299681 333.070557 84.299681 334.992136 \r\nC 84.299681 336.913715 85.063132 338.75685 86.421894 340.115611 \r\nC 87.780655 341.474373 89.62379 342.237824 91.545369 342.237824 \r\nz\r\n\" style=\"fill:#1f77b4;fill-opacity:0.7;stroke:#ffffff;stroke-opacity:0.7;stroke-width:0.669328;\"/>\r\n    <path clip-path=\"url(#pd9aac72c43)\" d=\"M 589.062852 339.252226 \r\nC 591.159466 339.252226 593.170491 338.419233 594.653022 336.936702 \r\nC 596.135552 335.454172 596.968546 333.443147 596.968546 331.346532 \r\nC 596.968546 329.249918 596.135552 327.238893 594.653022 325.756362 \r\nC 593.170491 324.273832 591.159466 323.440838 589.062852 323.440838 \r\nC 586.966237 323.440838 584.955212 324.273832 583.472682 325.756362 \r\nC 581.990151 327.238893 581.157158 329.249918 581.157158 331.346532 \r\nC 581.157158 333.443147 581.990151 335.454172 583.472682 336.936702 \r\nC 584.955212 338.419233 586.966237 339.252226 589.062852 339.252226 \r\nz\r\n\" style=\"fill:#1f77b4;fill-opacity:0.7;stroke:#ffffff;stroke-opacity:0.7;stroke-width:0.669328;\"/>\r\n    <path clip-path=\"url(#pd9aac72c43)\" d=\"M 456.391523 338.505443 \r\nC 458.290088 338.505443 460.111149 337.751135 461.453637 336.408646 \r\nC 462.796126 335.066158 463.550434 333.245097 463.550434 331.346532 \r\nC 463.550434 329.447967 462.796126 327.626906 461.453637 326.284418 \r\nC 460.111149 324.94193 458.290088 324.187622 456.391523 324.187622 \r\nC 454.492958 324.187622 452.671897 324.94193 451.329409 326.284418 \r\nC 449.986921 327.626906 449.232613 329.447967 449.232613 331.346532 \r\nC 449.232613 333.245097 449.986921 335.066158 451.329409 336.408646 \r\nC 452.671897 337.751135 454.492958 338.505443 456.391523 338.505443 \r\nz\r\n\" style=\"fill:#1f77b4;fill-opacity:0.7;stroke:#ffffff;stroke-opacity:0.7;stroke-width:0.669328;\"/>\r\n    <path clip-path=\"url(#pd9aac72c43)\" d=\"M 323.720194 338.677971 \r\nC 325.664515 338.677971 327.529463 337.905485 328.904305 336.530643 \r\nC 330.279147 335.1558 331.051634 333.290853 331.051634 331.346532 \r\nC 331.051634 329.402212 330.279147 327.537264 328.904305 326.162422 \r\nC 327.529463 324.78758 325.664515 324.015093 323.720194 324.015093 \r\nC 321.775874 324.015093 319.910926 324.78758 318.536084 326.162422 \r\nC 317.161242 327.537264 316.388755 329.402212 316.388755 331.346532 \r\nC 316.388755 333.290853 317.161242 335.1558 318.536084 336.530643 \r\nC 319.910926 337.905485 321.775874 338.677971 323.720194 338.677971 \r\nz\r\n\" style=\"fill:#1f77b4;fill-opacity:0.7;stroke:#ffffff;stroke-opacity:0.7;stroke-width:0.669328;\"/>\r\n    <path clip-path=\"url(#pd9aac72c43)\" d=\"M 191.048866 339.485943 \r\nC 193.207463 339.485943 195.27794 338.628323 196.804298 337.101964 \r\nC 198.330657 335.575606 199.188276 333.505129 199.188276 331.346532 \r\nC 199.188276 329.187935 198.330657 327.117458 196.804298 325.5911 \r\nC 195.27794 324.064742 193.207463 323.207122 191.048866 323.207122 \r\nC 188.890269 323.207122 186.819792 324.064742 185.293434 325.5911 \r\nC 183.767075 327.117458 182.909456 329.187935 182.909456 331.346532 \r\nC 182.909456 333.505129 183.767075 335.575606 185.293434 337.101964 \r\nC 186.819792 338.628323 188.890269 339.485943 191.048866 339.485943 \r\nz\r\n\" style=\"fill:#1f77b4;fill-opacity:0.7;stroke:#ffffff;stroke-opacity:0.7;stroke-width:0.669328;\"/>\r\n    <path clip-path=\"url(#pd9aac72c43)\" d=\"M 572.478936 339.092499 \r\nC 574.53319 339.092499 576.503584 338.276335 577.956161 336.823758 \r\nC 579.408739 335.371181 580.224902 333.400787 580.224902 331.346532 \r\nC 580.224902 329.292278 579.408739 327.321884 577.956161 325.869307 \r\nC 576.503584 324.416729 574.53319 323.600566 572.478936 323.600566 \r\nC 570.424681 323.600566 568.454287 324.416729 567.00171 325.869307 \r\nC 565.549133 327.321884 564.732969 329.292278 564.732969 331.346532 \r\nC 564.732969 333.400787 565.549133 335.371181 567.00171 336.823758 \r\nC 568.454287 338.276335 570.424681 339.092499 572.478936 339.092499 \r\nz\r\n\" style=\"fill:#1f77b4;fill-opacity:0.7;stroke:#ffffff;stroke-opacity:0.7;stroke-width:0.669328;\"/>\r\n    <path clip-path=\"url(#pd9aac72c43)\" d=\"M 240.800614 339.330892 \r\nC 242.918091 339.330892 244.949127 338.489609 246.446409 336.992327 \r\nC 247.943691 335.495045 248.784974 333.464009 248.784974 331.346532 \r\nC 248.784974 329.229055 247.943691 327.19802 246.446409 325.700737 \r\nC 244.949127 324.203455 242.918091 323.362173 240.800614 323.362173 \r\nC 238.683137 323.362173 236.652101 324.203455 235.154819 325.700737 \r\nC 233.657537 327.19802 232.816254 329.229055 232.816254 331.346532 \r\nC 232.816254 333.464009 233.657537 335.495045 235.154819 336.992327 \r\nC 236.652101 338.489609 238.683137 339.330892 240.800614 339.330892 \r\nz\r\n\" style=\"fill:#1f77b4;fill-opacity:0.7;stroke:#ffffff;stroke-opacity:0.7;stroke-width:0.669328;\"/>\r\n    <path clip-path=\"url(#pd9aac72c43)\" d=\"M 589.062852 335.032368 \r\nC 591.007172 335.032368 592.87212 334.259881 594.246962 332.885039 \r\nC 595.621804 331.510197 596.394291 329.645249 596.394291 327.700929 \r\nC 596.394291 325.756608 595.621804 323.89166 594.246962 322.516818 \r\nC 592.87212 321.141976 591.007172 320.36949 589.062852 320.36949 \r\nC 587.118531 320.36949 585.253584 321.141976 583.878741 322.516818 \r\nC 582.503899 323.89166 581.731413 325.756608 581.731413 327.700929 \r\nC 581.731413 329.645249 582.503899 331.510197 583.878741 332.885039 \r\nC 585.253584 334.259881 587.118531 335.032368 589.062852 335.032368 \r\nz\r\n\" style=\"fill:#1f77b4;fill-opacity:0.7;stroke:#ffffff;stroke-opacity:0.7;stroke-width:0.669328;\"/>\r\n    <path clip-path=\"url(#pd9aac72c43)\" d=\"M 124.713201 335.606623 \r\nC 126.809816 335.606623 128.820841 334.773629 130.303371 333.291099 \r\nC 131.785902 331.808568 132.618896 329.797543 132.618896 327.700929 \r\nC 132.618896 325.604314 131.785902 323.593289 130.303371 322.110759 \r\nC 128.820841 320.628228 126.809816 319.795235 124.713201 319.795235 \r\nC 122.616587 319.795235 120.605562 320.628228 119.123032 322.110759 \r\nC 117.640501 323.593289 116.807507 325.604314 116.807507 327.700929 \r\nC 116.807507 329.797543 117.640501 331.808568 119.123032 333.291099 \r\nC 120.605562 334.773629 122.616587 335.606623 124.713201 335.606623 \r\nz\r\n\" style=\"fill:#1f77b4;fill-opacity:0.7;stroke:#ffffff;stroke-opacity:0.7;stroke-width:0.669328;\"/>\r\n    <path clip-path=\"url(#pd9aac72c43)\" d=\"M 174.46495 331.301013 \r\nC 176.386529 331.301013 178.229664 330.537562 179.588425 329.1788 \r\nC 180.947187 327.820039 181.710638 325.976904 181.710638 324.055325 \r\nC 181.710638 322.133746 180.947187 320.290611 179.588425 318.93185 \r\nC 178.229664 317.573088 176.386529 316.809637 174.46495 316.809637 \r\nC 172.543371 316.809637 170.700236 317.573088 169.341474 318.93185 \r\nC 167.982713 320.290611 167.219261 322.133746 167.219261 324.055325 \r\nC 167.219261 325.976904 167.982713 327.820039 169.341474 329.1788 \r\nC 170.700236 330.537562 172.543371 331.301013 174.46495 331.301013 \r\nz\r\n\" style=\"fill:#1f77b4;fill-opacity:0.7;stroke:#ffffff;stroke-opacity:0.7;stroke-width:0.669328;\"/>\r\n    <path clip-path=\"url(#pd9aac72c43)\" d=\"M 605.646768 331.881563 \r\nC 607.72231 331.881563 609.713124 331.056941 611.180754 329.589311 \r\nC 612.648384 328.121681 613.473006 326.130868 613.473006 324.055325 \r\nC 613.473006 321.979783 612.648384 319.988969 611.180754 318.521339 \r\nC 609.713124 317.053709 607.72231 316.229087 605.646768 316.229087 \r\nC 603.571225 316.229087 601.580412 317.053709 600.112782 318.521339 \r\nC 598.645152 319.988969 597.82053 321.979783 597.82053 324.055325 \r\nC 597.82053 326.130868 598.645152 328.121681 600.112782 329.589311 \r\nC 601.580412 331.056941 603.571225 331.881563 605.646768 331.881563 \r\nz\r\n\" style=\"fill:#1f77b4;fill-opacity:0.7;stroke:#ffffff;stroke-opacity:0.7;stroke-width:0.669328;\"/>\r\n    <path clip-path=\"url(#pd9aac72c43)\" d=\"M 904.157257 332.715579 \r\nC 906.453984 332.715579 908.656951 331.80308 910.280982 330.179049 \r\nC 911.905012 328.555019 912.817511 326.352051 912.817511 324.055325 \r\nC 912.817511 321.758599 911.905012 319.555631 910.280982 317.931601 \r\nC 908.656951 316.30757 906.453984 315.395071 904.157257 315.395071 \r\nC 901.860531 315.395071 899.657564 316.30757 898.033533 317.931601 \r\nC 896.409502 319.555631 895.497003 321.758599 895.497003 324.055325 \r\nC 895.497003 326.352051 896.409502 328.555019 898.033533 330.179049 \r\nC 899.657564 331.80308 901.860531 332.715579 904.157257 332.715579 \r\nz\r\n\" style=\"fill:#1f77b4;fill-opacity:0.7;stroke:#ffffff;stroke-opacity:0.7;stroke-width:0.669328;\"/>\r\n    <path clip-path=\"url(#pd9aac72c43)\" d=\"M 224.216698 332.421925 \r\nC 226.435546 332.421925 228.563815 331.540368 230.132778 329.971405 \r\nC 231.70174 328.402442 232.583298 326.274173 232.583298 324.055325 \r\nC 232.583298 321.836477 231.70174 319.708208 230.132778 318.139245 \r\nC 228.563815 316.570283 226.435546 315.688725 224.216698 315.688725 \r\nC 221.99785 315.688725 219.869581 316.570283 218.300618 318.139245 \r\nC 216.731656 319.708208 215.850098 321.836477 215.850098 324.055325 \r\nC 215.850098 326.274173 216.731656 328.402442 218.300618 329.971405 \r\nC 219.869581 331.540368 221.99785 332.421925 224.216698 332.421925 \r\nz\r\n\" style=\"fill:#1f77b4;fill-opacity:0.7;stroke:#ffffff;stroke-opacity:0.7;stroke-width:0.669328;\"/>\r\n    <path clip-path=\"url(#pd9aac72c43)\" d=\"M 605.646768 332.496297 \r\nC 607.88534 332.496297 610.032527 331.606903 611.615436 330.023993 \r\nC 613.198345 328.441084 614.087739 326.293897 614.087739 324.055325 \r\nC 614.087739 321.816753 613.198345 319.669566 611.615436 318.086657 \r\nC 610.032527 316.503748 607.88534 315.614354 605.646768 315.614354 \r\nC 603.408196 315.614354 601.261009 316.503748 599.6781 318.086657 \r\nC 598.09519 319.669566 597.205796 321.816753 597.205796 324.055325 \r\nC 597.205796 326.293897 598.09519 328.441084 599.6781 330.023993 \r\nC 601.261009 331.606903 603.408196 332.496297 605.646768 332.496297 \r\nz\r\n\" style=\"fill:#1f77b4;fill-opacity:0.7;stroke:#ffffff;stroke-opacity:0.7;stroke-width:0.669328;\"/>\r\n    <path clip-path=\"url(#pd9aac72c43)\" d=\"M 141.297118 331.386764 \r\nC 143.241438 331.386764 145.106386 330.614278 146.481228 329.239435 \r\nC 147.85607 327.864593 148.628557 325.999645 148.628557 324.055325 \r\nC 148.628557 322.111005 147.85607 320.246057 146.481228 318.871215 \r\nC 145.106386 317.496373 143.241438 316.723886 141.297118 316.723886 \r\nC 139.352797 316.723886 137.487849 317.496373 136.113007 318.871215 \r\nC 134.738165 320.246057 133.965678 322.111005 133.965678 324.055325 \r\nC 133.965678 325.999645 134.738165 327.864593 136.113007 329.239435 \r\nC 137.487849 330.614278 139.352797 331.386764 141.297118 331.386764 \r\nz\r\n\" style=\"fill:#1f77b4;fill-opacity:0.7;stroke:#ffffff;stroke-opacity:0.7;stroke-width:0.669328;\"/>\r\n    <path clip-path=\"url(#pd9aac72c43)\" d=\"M 887.573341 328.394081 \r\nC 889.690818 328.394081 891.721854 327.552799 893.219136 326.055516 \r\nC 894.716419 324.558234 895.557701 322.527198 895.557701 320.409721 \r\nC 895.557701 318.292245 894.716419 316.261209 893.219136 314.763927 \r\nC 891.721854 313.266644 889.690818 312.425362 887.573341 312.425362 \r\nC 885.455864 312.425362 883.424829 313.266644 881.927546 314.763927 \r\nC 880.430264 316.261209 879.588982 318.292245 879.588982 320.409721 \r\nC 879.588982 322.527198 880.430264 324.558234 881.927546 326.055516 \r\nC 883.424829 327.552799 885.455864 328.394081 887.573341 328.394081 \r\nz\r\n\" style=\"fill:#1f77b4;fill-opacity:0.7;stroke:#ffffff;stroke-opacity:0.7;stroke-width:0.669328;\"/>\r\n    <path clip-path=\"url(#pd9aac72c43)\" d=\"M 688.566348 328.074576 \r\nC 690.599092 328.074576 692.548853 327.266959 693.986219 325.829592 \r\nC 695.423586 324.392226 696.231203 322.442465 696.231203 320.409721 \r\nC 696.231203 318.376978 695.423586 316.427217 693.986219 314.989851 \r\nC 692.548853 313.552484 690.599092 312.744867 688.566348 312.744867 \r\nC 686.533605 312.744867 684.583844 313.552484 683.146477 314.989851 \r\nC 681.709111 316.427217 680.901493 318.376978 680.901493 320.409721 \r\nC 680.901493 322.442465 681.709111 324.392226 683.146477 325.829592 \r\nC 684.583844 327.266959 686.533605 328.074576 688.566348 328.074576 \r\nz\r\n\" style=\"fill:#1f77b4;fill-opacity:0.7;stroke:#ffffff;stroke-opacity:0.7;stroke-width:0.669328;\"/>\r\n    <path clip-path=\"url(#pd9aac72c43)\" d=\"M 920.741174 327.82592 \r\nC 922.707972 327.82592 924.594481 327.044503 925.985218 325.653766 \r\nC 927.375955 324.263029 928.157372 322.37652 928.157372 320.409721 \r\nC 928.157372 318.442923 927.375955 316.556414 925.985218 315.165677 \r\nC 924.594481 313.77494 922.707972 312.993523 920.741174 312.993523 \r\nC 918.774375 312.993523 916.887866 313.77494 915.497129 315.165677 \r\nC 914.106392 316.556414 913.324975 318.442923 913.324975 320.409721 \r\nC 913.324975 322.37652 914.106392 324.263029 915.497129 325.653766 \r\nC 916.887866 327.044503 918.774375 327.82592 920.741174 327.82592 \r\nz\r\n\" style=\"fill:#1f77b4;fill-opacity:0.7;stroke:#ffffff;stroke-opacity:0.7;stroke-width:0.669328;\"/>\r\n    <path clip-path=\"url(#pd9aac72c43)\" d=\"M 887.573341 328.235959 \r\nC 889.648884 328.235959 891.639697 327.411338 893.107327 325.943707 \r\nC 894.574957 324.476077 895.399579 322.485264 895.399579 320.409721 \r\nC 895.399579 318.334179 894.574957 316.343366 893.107327 314.875736 \r\nC 891.639697 313.408105 889.648884 312.583484 887.573341 312.583484 \r\nC 885.497799 312.583484 883.506986 313.408105 882.039355 314.875736 \r\nC 880.571725 316.343366 879.747103 318.334179 879.747103 320.409721 \r\nC 879.747103 322.485264 880.571725 324.476077 882.039355 325.943707 \r\nC 883.506986 327.411338 885.497799 328.235959 887.573341 328.235959 \r\nz\r\n\" style=\"fill:#1f77b4;fill-opacity:0.7;stroke:#ffffff;stroke-opacity:0.7;stroke-width:0.669328;\"/>\r\n    <path clip-path=\"url(#pd9aac72c43)\" d=\"M 870.989425 328.549132 \r\nC 873.148022 328.549132 875.218499 327.691512 876.744857 326.165154 \r\nC 878.271216 324.638795 879.128836 322.568318 879.128836 320.409721 \r\nC 879.128836 318.251125 878.271216 316.180648 876.744857 314.654289 \r\nC 875.218499 313.127931 873.148022 312.270311 870.989425 312.270311 \r\nC 868.830828 312.270311 866.760352 313.127931 865.233993 314.654289 \r\nC 863.707635 316.180648 862.850015 318.251125 862.850015 320.409721 \r\nC 862.850015 322.568318 863.707635 324.638795 865.233993 326.165154 \r\nC 866.760352 327.691512 868.830828 328.549132 870.989425 328.549132 \r\nz\r\n\" style=\"fill:#1f77b4;fill-opacity:0.7;stroke:#ffffff;stroke-opacity:0.7;stroke-width:0.669328;\"/>\r\n    <path clip-path=\"url(#pd9aac72c43)\" d=\"M 108.129285 328.701283 \r\nC 110.328233 328.701283 112.437414 327.827632 113.992305 326.272741 \r\nC 115.547196 324.71785 116.420847 322.608669 116.420847 320.409721 \r\nC 116.420847 318.210774 115.547196 316.101593 113.992305 314.546702 \r\nC 112.437414 312.991811 110.328233 312.11816 108.129285 312.11816 \r\nC 105.930337 312.11816 103.821157 312.991811 102.266266 314.546702 \r\nC 100.711375 316.101593 99.837723 318.210774 99.837723 320.409721 \r\nC 99.837723 322.608669 100.711375 324.71785 102.266266 326.272741 \r\nC 103.821157 327.827632 105.930337 328.701283 108.129285 328.701283 \r\nz\r\n\" style=\"fill:#1f77b4;fill-opacity:0.7;stroke:#ffffff;stroke-opacity:0.7;stroke-width:0.669328;\"/>\r\n    <path clip-path=\"url(#pd9aac72c43)\" d=\"M 423.223691 324.095557 \r\nC 425.168011 324.095557 427.032959 323.32307 428.407801 321.948228 \r\nC 429.782643 320.573386 430.55513 318.708438 430.55513 316.764118 \r\nC 430.55513 314.819798 429.782643 312.95485 428.407801 311.580008 \r\nC 427.032959 310.205165 425.168011 309.432679 423.223691 309.432679 \r\nC 421.279371 309.432679 419.414423 310.205165 418.039581 311.580008 \r\nC 416.664739 312.95485 415.892252 314.819798 415.892252 316.764118 \r\nC 415.892252 318.708438 416.664739 320.573386 418.039581 321.948228 \r\nC 419.414423 323.32307 421.279371 324.095557 423.223691 324.095557 \r\nz\r\n\" style=\"fill:#1f77b4;fill-opacity:0.7;stroke:#ffffff;stroke-opacity:0.7;stroke-width:0.669328;\"/>\r\n    <path clip-path=\"url(#pd9aac72c43)\" d=\"M 108.129285 324.428973 \r\nC 110.162029 324.428973 112.11179 323.621355 113.549156 322.183989 \r\nC 114.986523 320.746622 115.79414 318.796861 115.79414 316.764118 \r\nC 115.79414 314.731375 114.986523 312.781614 113.549156 311.344247 \r\nC 112.11179 309.906881 110.162029 309.099263 108.129285 309.099263 \r\nC 106.096542 309.099263 104.146781 309.906881 102.709415 311.344247 \r\nC 101.272048 312.781614 100.464431 314.731375 100.464431 316.764118 \r\nC 100.464431 318.796861 101.272048 320.746622 102.709415 322.183989 \r\nC 104.146781 323.621355 106.096542 324.428973 108.129285 324.428973 \r\nz\r\n\" style=\"fill:#1f77b4;fill-opacity:0.7;stroke:#ffffff;stroke-opacity:0.7;stroke-width:0.669328;\"/>\r\n    <path clip-path=\"url(#pd9aac72c43)\" d=\"M 91.545369 320.944752 \r\nC 93.620912 320.944752 95.611725 320.12013 97.079355 318.6525 \r\nC 98.546985 317.18487 99.371607 315.194057 99.371607 313.118514 \r\nC 99.371607 311.042972 98.546985 309.052159 97.079355 307.584528 \r\nC 95.611725 306.116898 93.620912 305.292276 91.545369 305.292276 \r\nC 89.469827 305.292276 87.479014 306.116898 86.011383 307.584528 \r\nC 84.543753 309.052159 83.719131 311.042972 83.719131 313.118514 \r\nC 83.719131 315.194057 84.543753 317.18487 86.011383 318.6525 \r\nC 87.479014 320.12013 89.469827 320.944752 91.545369 320.944752 \r\nz\r\n\" style=\"fill:#1f77b4;fill-opacity:0.7;stroke:#ffffff;stroke-opacity:0.7;stroke-width:0.669328;\"/>\r\n    <path clip-path=\"url(#pd9aac72c43)\" d=\"M 108.129285 321.102874 \r\nC 110.246762 321.102874 112.277798 320.261592 113.77508 318.764309 \r\nC 115.272363 317.267027 116.113645 315.235991 116.113645 313.118514 \r\nC 116.113645 311.001037 115.272363 308.970002 113.77508 307.472719 \r\nC 112.277798 305.975437 110.246762 305.134155 108.129285 305.134155 \r\nC 106.011808 305.134155 103.980773 305.975437 102.483491 307.472719 \r\nC 100.986208 308.970002 100.144926 311.001037 100.144926 313.118514 \r\nC 100.144926 315.235991 100.986208 317.267027 102.483491 318.764309 \r\nC 103.980773 320.261592 106.011808 321.102874 108.129285 321.102874 \r\nz\r\n\" style=\"fill:#1f77b4;fill-opacity:0.7;stroke:#ffffff;stroke-opacity:0.7;stroke-width:0.669328;\"/>\r\n    <path clip-path=\"url(#pd9aac72c43)\" d=\"M 837.821593 320.534713 \r\nC 839.788392 320.534713 841.674901 319.753295 843.065637 318.362559 \r\nC 844.456374 316.971822 845.237792 315.085313 845.237792 313.118514 \r\nC 845.237792 311.151716 844.456374 309.265207 843.065637 307.87447 \r\nC 841.674901 306.483733 839.788392 305.702316 837.821593 305.702316 \r\nC 835.854794 305.702316 833.968286 306.483733 832.577549 307.87447 \r\nC 831.186812 309.265207 830.405395 311.151716 830.405395 313.118514 \r\nC 830.405395 315.085313 831.186812 316.971822 832.577549 318.362559 \r\nC 833.968286 319.753295 835.854794 320.534713 837.821593 320.534713 \r\nz\r\n\" style=\"fill:#1f77b4;fill-opacity:0.7;stroke:#ffffff;stroke-opacity:0.7;stroke-width:0.669328;\"/>\r\n    <path clip-path=\"url(#pd9aac72c43)\" d=\"M 605.646768 321.778768 \r\nC 607.943494 321.778768 610.146462 320.866269 611.770492 319.242239 \r\nC 613.394523 317.618208 614.307022 315.415241 614.307022 313.118514 \r\nC 614.307022 310.821788 613.394523 308.618821 611.770492 306.99479 \r\nC 610.146462 305.370759 607.943494 304.45826 605.646768 304.45826 \r\nC 603.350042 304.45826 601.147074 305.370759 599.523044 306.99479 \r\nC 597.899013 308.618821 596.986514 310.821788 596.986514 313.118514 \r\nC 596.986514 315.415241 597.899013 317.618208 599.523044 319.242239 \r\nC 601.147074 320.866269 603.350042 321.778768 605.646768 321.778768 \r\nz\r\n\" style=\"fill:#1f77b4;fill-opacity:0.7;stroke:#ffffff;stroke-opacity:0.7;stroke-width:0.669328;\"/>\r\n    <path clip-path=\"url(#pd9aac72c43)\" d=\"M 638.8146 313.243506 \r\nC 640.781399 313.243506 642.667908 312.462088 644.058644 311.071351 \r\nC 645.449381 309.680615 646.230799 307.794106 646.230799 305.827307 \r\nC 646.230799 303.860508 645.449381 301.974 644.058644 300.583263 \r\nC 642.667908 299.192526 640.781399 298.411109 638.8146 298.411109 \r\nC 636.847801 298.411109 634.961293 299.192526 633.570556 300.583263 \r\nC 632.179819 301.974 631.398402 303.860508 631.398402 305.827307 \r\nC 631.398402 307.794106 632.179819 309.680615 633.570556 311.071351 \r\nC 634.961293 312.462088 636.847801 313.243506 638.8146 313.243506 \r\nz\r\n\" style=\"fill:#1f77b4;fill-opacity:0.7;stroke:#ffffff;stroke-opacity:0.7;stroke-width:0.669328;\"/>\r\n    <path clip-path=\"url(#pd9aac72c43)\" d=\"M 622.230684 314.342 \r\nC 624.488807 314.342 626.654747 313.444839 628.251481 311.848104 \r\nC 629.848215 310.25137 630.745377 308.08543 630.745377 305.827307 \r\nC 630.745377 303.569184 629.848215 301.403244 628.251481 299.80651 \r\nC 626.654747 298.209776 624.488807 297.312614 622.230684 297.312614 \r\nC 619.972561 297.312614 617.806621 298.209776 616.209887 299.80651 \r\nC 614.613153 301.403244 613.715991 303.569184 613.715991 305.827307 \r\nC 613.715991 308.08543 614.613153 310.25137 616.209887 311.848104 \r\nC 617.806621 313.444839 619.972561 314.342 622.230684 314.342 \r\nz\r\n\" style=\"fill:#1f77b4;fill-opacity:0.7;stroke:#ffffff;stroke-opacity:0.7;stroke-width:0.669328;\"/>\r\n    <path clip-path=\"url(#pd9aac72c43)\" d=\"M 240.800614 314.268279 \r\nC 243.039186 314.268279 245.186373 313.378885 246.769282 311.795975 \r\nC 248.352192 310.213066 249.241586 308.065879 249.241586 305.827307 \r\nC 249.241586 303.588735 248.352192 301.441548 246.769282 299.858639 \r\nC 245.186373 298.27573 243.039186 297.386336 240.800614 297.386336 \r\nC 238.562042 297.386336 236.414855 298.27573 234.831946 299.858639 \r\nC 233.249037 301.441548 232.359643 303.588735 232.359643 305.827307 \r\nC 232.359643 308.065879 233.249037 310.213066 234.831946 311.795975 \r\nC 236.414855 313.378885 238.562042 314.268279 240.800614 314.268279 \r\nz\r\n\" style=\"fill:#1f77b4;fill-opacity:0.7;stroke:#ffffff;stroke-opacity:0.7;stroke-width:0.669328;\"/>\r\n    <path clip-path=\"url(#pd9aac72c43)\" d=\"M 423.223691 312.986218 \r\nC 425.122256 312.986218 426.943317 312.23191 428.285805 310.889421 \r\nC 429.628294 309.546933 430.382602 307.725872 430.382602 305.827307 \r\nC 430.382602 303.928742 429.628294 302.107681 428.285805 300.765193 \r\nC 426.943317 299.422705 425.122256 298.668397 423.223691 298.668397 \r\nC 421.325126 298.668397 419.504065 299.422705 418.161577 300.765193 \r\nC 416.819088 302.107681 416.06478 303.928742 416.06478 305.827307 \r\nC 416.06478 307.725872 416.819088 309.546933 418.161577 310.889421 \r\nC 419.504065 312.23191 421.325126 312.986218 423.223691 312.986218 \r\nz\r\n\" style=\"fill:#1f77b4;fill-opacity:0.7;stroke:#ffffff;stroke-opacity:0.7;stroke-width:0.669328;\"/>\r\n    <path clip-path=\"url(#pd9aac72c43)\" d=\"M 456.391523 307.123882 \r\nC 458.66903 307.123882 460.853562 306.219019 462.464002 304.608579 \r\nC 464.074442 302.998139 464.979305 300.813606 464.979305 298.5361 \r\nC 464.979305 296.258594 464.074442 294.074061 462.464002 292.463621 \r\nC 460.853562 290.853181 458.66903 289.948318 456.391523 289.948318 \r\nC 454.114017 289.948318 451.929484 290.853181 450.319044 292.463621 \r\nC 448.708604 294.074061 447.803741 296.258594 447.803741 298.5361 \r\nC 447.803741 300.813606 448.708604 302.998139 450.319044 304.608579 \r\nC 451.929484 306.219019 454.114017 307.123882 456.391523 307.123882 \r\nz\r\n\" style=\"fill:#1f77b4;fill-opacity:0.7;stroke:#ffffff;stroke-opacity:0.7;stroke-width:0.669328;\"/>\r\n    <path clip-path=\"url(#pd9aac72c43)\" d=\"M 439.807607 309.259905 \r\nC 442.651593 309.259905 445.37948 308.129978 447.390483 306.118975 \r\nC 449.401485 304.107973 450.531412 301.380086 450.531412 298.5361 \r\nC 450.531412 295.692114 449.401485 292.964227 447.390483 290.953225 \r\nC 445.37948 288.942223 442.651593 287.812295 439.807607 287.812295 \r\nC 436.963621 287.812295 434.235734 288.942223 432.224732 290.953225 \r\nC 430.21373 292.964227 429.083802 295.692114 429.083802 298.5361 \r\nC 429.083802 301.380086 430.21373 304.107973 432.224732 306.118975 \r\nC 434.235734 308.129978 436.963621 309.259905 439.807607 309.259905 \r\nz\r\n\" style=\"fill:#1f77b4;fill-opacity:0.7;stroke:#ffffff;stroke-opacity:0.7;stroke-width:0.669328;\"/>\r\n    <path clip-path=\"url(#pd9aac72c43)\" d=\"M 174.46495 301.014221 \r\nC 176.08898 301.014221 177.646714 300.368987 178.795077 299.220623 \r\nC 179.94344 298.07226 180.588674 296.514527 180.588674 294.890496 \r\nC 180.588674 293.266466 179.94344 291.708733 178.795077 290.560369 \r\nC 177.646714 289.412006 176.08898 288.766772 174.46495 288.766772 \r\nC 172.840919 288.766772 171.283186 289.412006 170.134823 290.560369 \r\nC 168.98646 291.708733 168.341225 293.266466 168.341225 294.890496 \r\nC 168.341225 296.514527 168.98646 298.07226 170.134823 299.220623 \r\nC 171.283186 300.368987 172.840919 301.014221 174.46495 301.014221 \r\nz\r\n\" style=\"fill:#1f77b4;fill-opacity:0.7;stroke:#ffffff;stroke-opacity:0.7;stroke-width:0.669328;\"/>\r\n    <path clip-path=\"url(#pd9aac72c43)\" d=\"M 307.136278 304.764705 \r\nC 309.754949 304.764705 312.266719 303.724296 314.118398 301.872616 \r\nC 315.970078 300.020937 317.010487 297.509167 317.010487 294.890496 \r\nC 317.010487 292.271826 315.970078 289.760056 314.118398 287.908376 \r\nC 312.266719 286.056697 309.754949 285.016288 307.136278 285.016288 \r\nC 304.517608 285.016288 302.005838 286.056697 300.154158 287.908376 \r\nC 298.302479 289.760056 297.26207 292.271826 297.26207 294.890496 \r\nC 297.26207 297.509167 298.302479 300.020937 300.154158 301.872616 \r\nC 302.005838 303.724296 304.517608 304.764705 307.136278 304.764705 \r\nz\r\n\" style=\"fill:#1f77b4;fill-opacity:0.7;stroke:#ffffff;stroke-opacity:0.7;stroke-width:0.669328;\"/>\r\n    <path clip-path=\"url(#pd9aac72c43)\" d=\"M 506.143271 297.953097 \r\nC 507.922308 297.953097 509.628719 297.246278 510.886688 295.988309 \r\nC 512.144657 294.730341 512.851475 293.023929 512.851475 291.244893 \r\nC 512.851475 289.465856 512.144657 287.759445 510.886688 286.501476 \r\nC 509.628719 285.243508 507.922308 284.536689 506.143271 284.536689 \r\nC 504.364235 284.536689 502.657824 285.243508 501.399855 286.501476 \r\nC 500.141886 287.759445 499.435067 289.465856 499.435067 291.244893 \r\nC 499.435067 293.023929 500.141886 294.730341 501.399855 295.988309 \r\nC 502.657824 297.246278 504.364235 297.953097 506.143271 297.953097 \r\nz\r\n\" style=\"fill:#1f77b4;fill-opacity:0.7;stroke:#ffffff;stroke-opacity:0.7;stroke-width:0.669328;\"/>\r\n    <path clip-path=\"url(#pd9aac72c43)\" d=\"M 456.391523 302.199344 \r\nC 459.296678 302.199344 462.083235 301.045114 464.13749 298.99086 \r\nC 466.191744 296.936605 467.345974 294.150047 467.345974 291.244893 \r\nC 467.345974 288.339738 466.191744 285.553181 464.13749 283.498926 \r\nC 462.083235 281.444672 459.296678 280.290442 456.391523 280.290442 \r\nC 453.486369 280.290442 450.699811 281.444672 448.645556 283.498926 \r\nC 446.591302 285.553181 445.437072 288.339738 445.437072 291.244893 \r\nC 445.437072 294.150047 446.591302 296.936605 448.645556 298.99086 \r\nC 450.699811 301.045114 453.486369 302.199344 456.391523 302.199344 \r\nz\r\n\" style=\"fill:#1f77b4;fill-opacity:0.7;stroke:#ffffff;stroke-opacity:0.7;stroke-width:0.669328;\"/>\r\n    <path clip-path=\"url(#pd9aac72c43)\" d=\"M 771.485929 295.117876 \r\nC 772.513056 295.117876 773.498253 294.709794 774.224542 293.983506 \r\nC 774.95083 293.257217 775.358912 292.27202 775.358912 291.244893 \r\nC 775.358912 290.217766 774.95083 289.232569 774.224542 288.50628 \r\nC 773.498253 287.779991 772.513056 287.37191 771.485929 287.37191 \r\nC 770.458802 287.37191 769.473605 287.779991 768.747316 288.50628 \r\nC 768.021027 289.232569 767.612945 290.217766 767.612945 291.244893 \r\nC 767.612945 292.27202 768.021027 293.257217 768.747316 293.983506 \r\nC 769.473605 294.709794 770.458802 295.117876 771.485929 295.117876 \r\nz\r\n\" style=\"fill:#1f77b4;fill-opacity:0.7;stroke:#ffffff;stroke-opacity:0.7;stroke-width:0.669328;\"/>\r\n    <path clip-path=\"url(#pd9aac72c43)\" d=\"M 423.223691 300.991687 \r\nC 425.808571 300.991687 428.287929 299.964703 430.115715 298.136917 \r\nC 431.943502 296.309131 432.970485 293.829773 432.970485 291.244893 \r\nC 432.970485 288.660013 431.943502 286.180655 430.115715 284.352869 \r\nC 428.287929 282.525082 425.808571 281.498099 423.223691 281.498099 \r\nC 420.638811 281.498099 418.159453 282.525082 416.331667 284.352869 \r\nC 414.50388 286.180655 413.476897 288.660013 413.476897 291.244893 \r\nC 413.476897 293.829773 414.50388 296.309131 416.331667 298.136917 \r\nC 418.159453 299.964703 420.638811 300.991687 423.223691 300.991687 \r\nz\r\n\" style=\"fill:#1f77b4;fill-opacity:0.7;stroke:#ffffff;stroke-opacity:0.7;stroke-width:0.669328;\"/>\r\n    <path clip-path=\"url(#pd9aac72c43)\" d=\"M 572.478936 294.780427 \r\nC 573.41657 294.780427 574.315928 294.407901 574.978936 293.744893 \r\nC 575.641944 293.081885 576.01447 292.182527 576.01447 291.244893 \r\nC 576.01447 290.307258 575.641944 289.407901 574.978936 288.744893 \r\nC 574.315928 288.081885 573.41657 287.709359 572.478936 287.709359 \r\nC 571.541301 287.709359 570.641944 288.081885 569.978936 288.744893 \r\nC 569.315928 289.407901 568.943402 290.307258 568.943402 291.244893 \r\nC 568.943402 292.182527 569.315928 293.081885 569.978936 293.744893 \r\nC 570.641944 294.407901 571.541301 294.780427 572.478936 294.780427 \r\nz\r\n\" style=\"fill:#1f77b4;fill-opacity:0.7;stroke:#ffffff;stroke-opacity:0.7;stroke-width:0.669328;\"/>\r\n    <path clip-path=\"url(#pd9aac72c43)\" d=\"M 439.807607 300.991687 \r\nC 442.392487 300.991687 444.871845 299.964703 446.699631 298.136917 \r\nC 448.527418 296.309131 449.554401 293.829773 449.554401 291.244893 \r\nC 449.554401 288.660013 448.527418 286.180655 446.699631 284.352869 \r\nC 444.871845 282.525082 442.392487 281.498099 439.807607 281.498099 \r\nC 437.222727 281.498099 434.743369 282.525082 432.915583 284.352869 \r\nC 431.087796 286.180655 430.060813 288.660013 430.060813 291.244893 \r\nC 430.060813 293.829773 431.087796 296.309131 432.915583 298.136917 \r\nC 434.743369 299.964703 437.222727 300.991687 439.807607 300.991687 \r\nz\r\n\" style=\"fill:#1f77b4;fill-opacity:0.7;stroke:#ffffff;stroke-opacity:0.7;stroke-width:0.669328;\"/>\r\n    <path clip-path=\"url(#pd9aac72c43)\" d=\"M 207.632782 294.213668 \r\nC 209.386936 294.213668 211.06948 293.516735 212.309854 292.276361 \r\nC 213.550228 291.035987 214.24716 289.353443 214.24716 287.599289 \r\nC 214.24716 285.845136 213.550228 284.162591 212.309854 282.922218 \r\nC 211.06948 281.681844 209.386936 280.984911 207.632782 280.984911 \r\nC 205.878628 280.984911 204.196084 281.681844 202.95571 282.922218 \r\nC 201.715336 284.162591 201.018404 285.845136 201.018404 287.599289 \r\nC 201.018404 289.353443 201.715336 291.035987 202.95571 292.276361 \r\nC 204.196084 293.516735 205.878628 294.213668 207.632782 294.213668 \r\nz\r\n\" style=\"fill:#1f77b4;fill-opacity:0.7;stroke:#ffffff;stroke-opacity:0.7;stroke-width:0.669328;\"/>\r\n    <path clip-path=\"url(#pd9aac72c43)\" d=\"M 307.136278 297.086122 \r\nC 309.652216 297.086122 312.065446 296.08653 313.844482 294.307493 \r\nC 315.623519 292.528457 316.623111 290.115227 316.623111 287.599289 \r\nC 316.623111 285.083352 315.623519 282.670122 313.844482 280.891085 \r\nC 312.065446 279.112049 309.652216 278.112456 307.136278 278.112456 \r\nC 304.620341 278.112456 302.207111 279.112049 300.428074 280.891085 \r\nC 298.649038 282.670122 297.649445 285.083352 297.649445 287.599289 \r\nC 297.649445 290.115227 298.649038 292.528457 300.428074 294.307493 \r\nC 302.207111 296.08653 304.620341 297.086122 307.136278 297.086122 \r\nz\r\n\" style=\"fill:#1f77b4;fill-opacity:0.7;stroke:#ffffff;stroke-opacity:0.7;stroke-width:0.669328;\"/>\r\n    <path clip-path=\"url(#pd9aac72c43)\" d=\"M 124.713201 286.692299 \r\nC 125.43949 286.692299 126.13613 286.403741 126.649693 285.890177 \r\nC 127.163257 285.376614 127.451814 284.679974 127.451814 283.953686 \r\nC 127.451814 283.227397 127.163257 282.530758 126.649693 282.017194 \r\nC 126.13613 281.50363 125.43949 281.215073 124.713201 281.215073 \r\nC 123.986913 281.215073 123.290273 281.50363 122.77671 282.017194 \r\nC 122.263146 282.530758 121.974589 283.227397 121.974589 283.953686 \r\nC 121.974589 284.679974 122.263146 285.376614 122.77671 285.890177 \r\nC 123.290273 286.403741 123.986913 286.692299 124.713201 286.692299 \r\nz\r\n\" style=\"fill:#1f77b4;fill-opacity:0.7;stroke:#ffffff;stroke-opacity:0.7;stroke-width:0.669328;\"/>\r\n    <path clip-path=\"url(#pd9aac72c43)\" d=\"M 273.968446 294.501197 \r\nC 276.765679 294.501197 279.448721 293.389845 281.426663 291.411903 \r\nC 283.404605 289.43396 284.515958 286.750918 284.515958 283.953686 \r\nC 284.515958 281.156453 283.404605 278.473411 281.426663 276.495469 \r\nC 279.448721 274.517527 276.765679 273.406174 273.968446 273.406174 \r\nC 271.171213 273.406174 268.488172 274.517527 266.510229 276.495469 \r\nC 264.532287 278.473411 263.420935 281.156453 263.420935 283.953686 \r\nC 263.420935 286.750918 264.532287 289.43396 266.510229 291.411903 \r\nC 268.488172 293.389845 271.171213 294.501197 273.968446 294.501197 \r\nz\r\n\" style=\"fill:#1f77b4;fill-opacity:0.7;stroke:#ffffff;stroke-opacity:0.7;stroke-width:0.669328;\"/>\r\n    <path clip-path=\"url(#pd9aac72c43)\" d=\"M 522.727188 287.115963 \r\nC 523.565833 287.115963 524.370243 286.782766 524.963255 286.189754 \r\nC 525.556268 285.596742 525.889465 284.792332 525.889465 283.953686 \r\nC 525.889465 283.11504 525.556268 282.31063 524.963255 281.717618 \r\nC 524.370243 281.124606 523.565833 280.791408 522.727188 280.791408 \r\nC 521.888542 280.791408 521.084132 281.124606 520.49112 281.717618 \r\nC 519.898107 282.31063 519.56491 283.11504 519.56491 283.953686 \r\nC 519.56491 284.792332 519.898107 285.596742 520.49112 286.189754 \r\nC 521.084132 286.782766 521.888542 287.115963 522.727188 287.115963 \r\nz\r\n\" style=\"fill:#1f77b4;fill-opacity:0.7;stroke:#ffffff;stroke-opacity:0.7;stroke-width:0.669328;\"/>\r\n    <path clip-path=\"url(#pd9aac72c43)\" d=\"M 323.720194 293.571378 \r\nC 326.270836 293.571378 328.717354 292.557997 330.52093 290.754421 \r\nC 332.324506 288.950845 333.337887 286.504327 333.337887 283.953686 \r\nC 333.337887 281.403044 332.324506 278.956527 330.52093 277.15295 \r\nC 328.717354 275.349374 326.270836 274.335994 323.720194 274.335994 \r\nC 321.169553 274.335994 318.723035 275.349374 316.919459 277.15295 \r\nC 315.115883 278.956527 314.102502 281.403044 314.102502 283.953686 \r\nC 314.102502 286.504327 315.115883 288.950845 316.919459 290.754421 \r\nC 318.723035 292.557997 321.169553 293.571378 323.720194 293.571378 \r\nz\r\n\" style=\"fill:#1f77b4;fill-opacity:0.7;stroke:#ffffff;stroke-opacity:0.7;stroke-width:0.669328;\"/>\r\n    <path clip-path=\"url(#pd9aac72c43)\" d=\"M 108.129285 284.016181 \r\nC 109.112685 284.016181 110.055939 283.625473 110.751308 282.930104 \r\nC 111.446676 282.234736 111.837385 281.291482 111.837385 280.308082 \r\nC 111.837385 279.324683 111.446676 278.381428 110.751308 277.68606 \r\nC 110.055939 276.990692 109.112685 276.599983 108.129285 276.599983 \r\nC 107.145886 276.599983 106.202632 276.990692 105.507263 277.68606 \r\nC 104.811895 278.381428 104.421186 279.324683 104.421186 280.308082 \r\nC 104.421186 281.291482 104.811895 282.234736 105.507263 282.930104 \r\nC 106.202632 283.625473 107.145886 284.016181 108.129285 284.016181 \r\nz\r\n\" style=\"fill:#1f77b4;fill-opacity:0.7;stroke:#ffffff;stroke-opacity:0.7;stroke-width:0.669328;\"/>\r\n    <path clip-path=\"url(#pd9aac72c43)\" d=\"M 373.471943 289.860569 \r\nC 376.005292 289.860569 378.435222 288.854058 380.226571 287.06271 \r\nC 382.017919 285.271362 383.024429 282.841431 383.024429 280.308082 \r\nC 383.024429 277.774733 382.017919 275.344802 380.226571 273.553454 \r\nC 378.435222 271.762106 376.005292 270.755596 373.471943 270.755596 \r\nC 370.938594 270.755596 368.508663 271.762106 366.717315 273.553454 \r\nC 364.925966 275.344802 363.919456 277.774733 363.919456 280.308082 \r\nC 363.919456 282.841431 364.925966 285.271362 366.717315 287.06271 \r\nC 368.508663 288.854058 370.938594 289.860569 373.471943 289.860569 \r\nz\r\n\" style=\"fill:#1f77b4;fill-opacity:0.7;stroke:#ffffff;stroke-opacity:0.7;stroke-width:0.669328;\"/>\r\n    <path clip-path=\"url(#pd9aac72c43)\" d=\"M 738.318097 279.401091 \r\nC 739.044385 279.401091 739.741025 279.112534 740.254588 278.59897 \r\nC 740.768152 278.085407 741.056709 277.388767 741.056709 276.662479 \r\nC 741.056709 275.93619 740.768152 275.23955 740.254588 274.725987 \r\nC 739.741025 274.212423 739.044385 273.923866 738.318097 273.923866 \r\nC 737.591808 273.923866 736.895169 274.212423 736.381605 274.725987 \r\nC 735.868041 275.23955 735.579484 275.93619 735.579484 276.662479 \r\nC 735.579484 277.388767 735.868041 278.085407 736.381605 278.59897 \r\nC 736.895169 279.112534 737.591808 279.401091 738.318097 279.401091 \r\nz\r\n\" style=\"fill:#1f77b4;fill-opacity:0.7;stroke:#ffffff;stroke-opacity:0.7;stroke-width:0.669328;\"/>\r\n    <path clip-path=\"url(#pd9aac72c43)\" d=\"M 323.720194 287.50222 \r\nC 326.594928 287.50222 329.352306 286.360077 331.385049 284.327333 \r\nC 333.417793 282.29459 334.559936 279.537212 334.559936 276.662479 \r\nC 334.559936 273.787745 333.417793 271.030367 331.385049 268.997624 \r\nC 329.352306 266.96488 326.594928 265.822737 323.720194 265.822737 \r\nC 320.845461 265.822737 318.088083 266.96488 316.05534 268.997624 \r\nC 314.022596 271.030367 312.880453 273.787745 312.880453 276.662479 \r\nC 312.880453 279.537212 314.022596 282.29459 316.05534 284.327333 \r\nC 318.088083 286.360077 320.845461 287.50222 323.720194 287.50222 \r\nz\r\n\" style=\"fill:#1f77b4;fill-opacity:0.7;stroke:#ffffff;stroke-opacity:0.7;stroke-width:0.669328;\"/>\r\n    <path clip-path=\"url(#pd9aac72c43)\" d=\"M 257.38453 280.175786 \r\nC 259.283095 280.175786 261.104156 279.421478 262.446644 278.078989 \r\nC 263.789133 276.736501 264.543441 274.91544 264.543441 273.016875 \r\nC 264.543441 271.11831 263.789133 269.297249 262.446644 267.954761 \r\nC 261.104156 266.612272 259.283095 265.857964 257.38453 265.857964 \r\nC 255.485965 265.857964 253.664904 266.612272 252.322416 267.954761 \r\nC 250.979928 269.297249 250.22562 271.11831 250.22562 273.016875 \r\nC 250.22562 274.91544 250.979928 276.736501 252.322416 278.078989 \r\nC 253.664904 279.421478 255.485965 280.175786 257.38453 280.175786 \r\nz\r\n\" style=\"fill:#1f77b4;fill-opacity:0.7;stroke:#ffffff;stroke-opacity:0.7;stroke-width:0.669328;\"/>\r\n    <path clip-path=\"url(#pd9aac72c43)\" d=\"M 323.720194 283.504963 \r\nC 326.501668 283.504963 329.169594 282.399872 331.136393 280.433073 \r\nC 333.103192 278.466275 334.208283 275.798349 334.208283 273.016875 \r\nC 334.208283 270.235401 333.103192 267.567475 331.136393 265.600677 \r\nC 329.169594 263.633878 326.501668 262.528787 323.720194 262.528787 \r\nC 320.938721 262.528787 318.270795 263.633878 316.303996 265.600677 \r\nC 314.337197 267.567475 313.232106 270.235401 313.232106 273.016875 \r\nC 313.232106 275.798349 314.337197 278.466275 316.303996 280.433073 \r\nC 318.270795 282.399872 320.938721 283.504963 323.720194 283.504963 \r\nz\r\n\" style=\"fill:#1f77b4;fill-opacity:0.7;stroke:#ffffff;stroke-opacity:0.7;stroke-width:0.669328;\"/>\r\n    <path clip-path=\"url(#pd9aac72c43)\" d=\"M 207.632782 273.4024 \r\nC 208.70185 273.4024 209.727275 272.977655 210.48322 272.22171 \r\nC 211.239166 271.465765 211.663911 270.440339 211.663911 269.371271 \r\nC 211.663911 268.302204 211.239166 267.276778 210.48322 266.520833 \r\nC 209.727275 265.764888 208.70185 265.340143 207.632782 265.340143 \r\nC 206.563714 265.340143 205.538288 265.764888 204.782343 266.520833 \r\nC 204.026398 267.276778 203.601653 268.302204 203.601653 269.371271 \r\nC 203.601653 270.440339 204.026398 271.465765 204.782343 272.22171 \r\nC 205.538288 272.977655 206.563714 273.4024 207.632782 273.4024 \r\nz\r\n\" style=\"fill:#1f77b4;fill-opacity:0.7;stroke:#ffffff;stroke-opacity:0.7;stroke-width:0.669328;\"/>\r\n    <path clip-path=\"url(#pd9aac72c43)\" d=\"M 257.38453 280.439243 \r\nC 260.319791 280.439243 263.135226 279.273052 265.210768 277.197509 \r\nC 267.286311 275.121967 268.452502 272.306532 268.452502 269.371271 \r\nC 268.452502 266.436011 267.286311 263.620576 265.210768 261.545034 \r\nC 263.135226 259.469491 260.319791 258.3033 257.38453 258.3033 \r\nC 254.44927 258.3033 251.633835 259.469491 249.558292 261.545034 \r\nC 247.48275 263.620576 246.316558 266.436011 246.316558 269.371271 \r\nC 246.316558 272.306532 247.48275 275.121967 249.558292 277.197509 \r\nC 251.633835 279.273052 254.44927 280.439243 257.38453 280.439243 \r\nz\r\n\" style=\"fill:#1f77b4;fill-opacity:0.7;stroke:#ffffff;stroke-opacity:0.7;stroke-width:0.669328;\"/>\r\n    <path clip-path=\"url(#pd9aac72c43)\" d=\"M 589.062852 276.172007 \r\nC 590.866428 276.172007 592.596377 275.455438 593.871698 274.180117 \r\nC 595.147019 272.904797 595.863587 271.174847 595.863587 269.371271 \r\nC 595.863587 267.567695 595.147019 265.837746 593.871698 264.562425 \r\nC 592.596377 263.287105 590.866428 262.570536 589.062852 262.570536 \r\nC 587.259276 262.570536 585.529327 263.287105 584.254006 264.562425 \r\nC 582.978685 265.837746 582.262117 267.567695 582.262117 269.371271 \r\nC 582.262117 271.174847 582.978685 272.904797 584.254006 274.180117 \r\nC 585.529327 275.455438 587.259276 276.172007 589.062852 276.172007 \r\nz\r\n\" style=\"fill:#1f77b4;fill-opacity:0.7;stroke:#ffffff;stroke-opacity:0.7;stroke-width:0.669328;\"/>\r\n    <path clip-path=\"url(#pd9aac72c43)\" d=\"M 323.720194 279.05373 \r\nC 326.288012 279.05373 328.751005 278.033525 330.566726 276.217803 \r\nC 332.382448 274.402082 333.402653 271.939089 333.402653 269.371271 \r\nC 333.402653 266.803453 332.382448 264.340461 330.566726 262.524739 \r\nC 328.751005 260.709018 326.288012 259.688813 323.720194 259.688813 \r\nC 321.152377 259.688813 318.689384 260.709018 316.873663 262.524739 \r\nC 315.057941 264.340461 314.037736 266.803453 314.037736 269.371271 \r\nC 314.037736 271.939089 315.057941 274.402082 316.873663 276.217803 \r\nC 318.689384 278.033525 321.152377 279.05373 323.720194 279.05373 \r\nz\r\n\" style=\"fill:#1f77b4;fill-opacity:0.7;stroke:#ffffff;stroke-opacity:0.7;stroke-width:0.669328;\"/>\r\n    <path clip-path=\"url(#pd9aac72c43)\" d=\"M 356.888027 271.08757 \r\nC 358.31002 271.08757 359.673963 270.522607 360.679464 269.517106 \r\nC 361.684965 268.511605 362.249929 267.147661 362.249929 265.725668 \r\nC 362.249929 264.303675 361.684965 262.939731 360.679464 261.93423 \r\nC 359.673963 260.928729 358.31002 260.363765 356.888027 260.363765 \r\nC 355.466033 260.363765 354.10209 260.928729 353.096589 261.93423 \r\nC 352.091088 262.939731 351.526124 264.303675 351.526124 265.725668 \r\nC 351.526124 267.147661 352.091088 268.511605 353.096589 269.517106 \r\nC 354.10209 270.522607 355.466033 271.08757 356.888027 271.08757 \r\nz\r\n\" style=\"fill:#1f77b4;fill-opacity:0.7;stroke:#ffffff;stroke-opacity:0.7;stroke-width:0.669328;\"/>\r\n    <path clip-path=\"url(#pd9aac72c43)\" d=\"M 356.888027 276.391032 \r\nC 359.716514 276.391032 362.429535 275.267262 364.429578 273.267219 \r\nC 366.429621 271.267177 367.553391 268.554156 367.553391 265.725668 \r\nC 367.553391 262.89718 366.429621 260.184159 364.429578 258.184116 \r\nC 362.429535 256.184073 359.716514 255.060303 356.888027 255.060303 \r\nC 354.059539 255.060303 351.346518 256.184073 349.346475 258.184116 \r\nC 347.346432 260.184159 346.222662 262.89718 346.222662 265.725668 \r\nC 346.222662 268.554156 347.346432 271.267177 349.346475 273.267219 \r\nC 351.346518 275.267262 354.059539 276.391032 356.888027 276.391032 \r\nz\r\n\" style=\"fill:#1f77b4;fill-opacity:0.7;stroke:#ffffff;stroke-opacity:0.7;stroke-width:0.669328;\"/>\r\n    <path clip-path=\"url(#pd9aac72c43)\" d=\"M 506.143271 270.469084 \r\nC 507.40124 270.469084 508.607855 269.969288 509.497373 269.07977 \r\nC 510.386892 268.190252 510.886688 266.983637 510.886688 265.725668 \r\nC 510.886688 264.467699 510.386892 263.261084 509.497373 262.371566 \r\nC 508.607855 261.482048 507.40124 260.982251 506.143271 260.982251 \r\nC 504.885303 260.982251 503.678688 261.482048 502.789169 262.371566 \r\nC 501.899651 263.261084 501.399855 264.467699 501.399855 265.725668 \r\nC 501.399855 266.983637 501.899651 268.190252 502.789169 269.07977 \r\nC 503.678688 269.969288 504.885303 270.469084 506.143271 270.469084 \r\nz\r\n\" style=\"fill:#1f77b4;fill-opacity:0.7;stroke:#ffffff;stroke-opacity:0.7;stroke-width:0.669328;\"/>\r\n    <path clip-path=\"url(#pd9aac72c43)\" d=\"M 439.807607 276.273179 \r\nC 442.60484 276.273179 445.287882 275.161827 447.265824 273.183885 \r\nC 449.243766 271.205943 450.355119 268.522901 450.355119 265.725668 \r\nC 450.355119 262.928435 449.243766 260.245393 447.265824 258.267451 \r\nC 445.287882 256.289509 442.60484 255.178156 439.807607 255.178156 \r\nC 437.010374 255.178156 434.327332 256.289509 432.34939 258.267451 \r\nC 430.371448 260.245393 429.260096 262.928435 429.260096 265.725668 \r\nC 429.260096 268.522901 430.371448 271.205943 432.34939 273.183885 \r\nC 434.327332 275.161827 437.010374 276.273179 439.807607 276.273179 \r\nz\r\n\" style=\"fill:#1f77b4;fill-opacity:0.7;stroke:#ffffff;stroke-opacity:0.7;stroke-width:0.669328;\"/>\r\n    <path clip-path=\"url(#pd9aac72c43)\" d=\"M 522.727188 270.849143 \r\nC 524.085949 270.849143 525.389242 270.309302 526.350032 269.348512 \r\nC 527.310821 268.387723 527.850663 267.084429 527.850663 265.725668 \r\nC 527.850663 264.366906 527.310821 263.063613 526.350032 262.102824 \r\nC 525.389242 261.142034 524.085949 260.602192 522.727188 260.602192 \r\nC 521.368426 260.602192 520.065133 261.142034 519.104343 262.102824 \r\nC 518.143554 263.063613 517.603712 264.366906 517.603712 265.725668 \r\nC 517.603712 267.084429 518.143554 268.387723 519.104343 269.348512 \r\nC 520.065133 270.309302 521.368426 270.849143 522.727188 270.849143 \r\nz\r\n\" style=\"fill:#1f77b4;fill-opacity:0.7;stroke:#ffffff;stroke-opacity:0.7;stroke-width:0.669328;\"/>\r\n    <path clip-path=\"url(#pd9aac72c43)\" d=\"M 423.223691 275.536376 \r\nC 425.825521 275.536376 428.321138 274.502658 430.160909 272.662886 \r\nC 432.000681 270.823114 433.034399 268.327498 433.034399 265.725668 \r\nC 433.034399 263.123838 432.000681 260.628221 430.160909 258.788449 \r\nC 428.321138 256.948678 425.825521 255.914959 423.223691 255.914959 \r\nC 420.621861 255.914959 418.126244 256.948678 416.286473 258.788449 \r\nC 414.446701 260.628221 413.412983 263.123838 413.412983 265.725668 \r\nC 413.412983 268.327498 414.446701 270.823114 416.286473 272.662886 \r\nC 418.126244 274.502658 420.621861 275.536376 423.223691 275.536376 \r\nz\r\n\" style=\"fill:#1f77b4;fill-opacity:0.7;stroke:#ffffff;stroke-opacity:0.7;stroke-width:0.669328;\"/>\r\n    <path clip-path=\"url(#pd9aac72c43)\" d=\"M 572.478936 270.33544 \r\nC 573.701462 270.33544 574.874081 269.849725 575.738537 268.985269 \r\nC 576.602993 268.120813 577.088708 266.948194 577.088708 265.725668 \r\nC 577.088708 264.503142 576.602993 263.330523 575.738537 262.466067 \r\nC 574.874081 261.60161 573.701462 261.115896 572.478936 261.115896 \r\nC 571.25641 261.115896 570.083791 261.60161 569.219335 262.466067 \r\nC 568.354878 263.330523 567.869164 264.503142 567.869164 265.725668 \r\nC 567.869164 266.948194 568.354878 268.120813 569.219335 268.985269 \r\nC 570.083791 269.849725 571.25641 270.33544 572.478936 270.33544 \r\nz\r\n\" style=\"fill:#1f77b4;fill-opacity:0.7;stroke:#ffffff;stroke-opacity:0.7;stroke-width:0.669328;\"/>\r\n    <path clip-path=\"url(#pd9aac72c43)\" d=\"M 240.800614 276.33227 \r\nC 243.613518 276.33227 246.311591 275.214691 248.300614 273.225668 \r\nC 250.289637 271.236645 251.407216 268.538572 251.407216 265.725668 \r\nC 251.407216 262.912764 250.289637 260.214691 248.300614 258.225668 \r\nC 246.311591 256.236645 243.613518 255.119066 240.800614 255.119066 \r\nC 237.98771 255.119066 235.289637 256.236645 233.300614 258.225668 \r\nC 231.311591 260.214691 230.194012 262.912764 230.194012 265.725668 \r\nC 230.194012 268.538572 231.311591 271.236645 233.300614 273.225668 \r\nC 235.289637 275.214691 237.98771 276.33227 240.800614 276.33227 \r\nz\r\n\" style=\"fill:#1f77b4;fill-opacity:0.7;stroke:#ffffff;stroke-opacity:0.7;stroke-width:0.669328;\"/>\r\n    <path clip-path=\"url(#pd9aac72c43)\" d=\"M 406.639775 267.306807 \r\nC 407.059098 267.306807 407.461303 267.140208 407.757809 266.843702 \r\nC 408.054315 266.547196 408.220914 266.144991 408.220914 265.725668 \r\nC 408.220914 265.306345 408.054315 264.90414 407.757809 264.607634 \r\nC 407.461303 264.311128 407.059098 264.144529 406.639775 264.144529 \r\nC 406.220452 264.144529 405.818247 264.311128 405.521741 264.607634 \r\nC 405.225235 264.90414 405.058636 265.306345 405.058636 265.725668 \r\nC 405.058636 266.144991 405.225235 266.547196 405.521741 266.843702 \r\nC 405.818247 267.140208 406.220452 267.306807 406.639775 267.306807 \r\nz\r\n\" style=\"fill:#1f77b4;fill-opacity:0.7;stroke:#ffffff;stroke-opacity:0.7;stroke-width:0.669328;\"/>\r\n    <path clip-path=\"url(#pd9aac72c43)\" d=\"M 290.552362 275.662971 \r\nC 293.187766 275.662971 295.715585 274.615914 297.579097 272.752403 \r\nC 299.442609 270.888891 300.489666 268.361072 300.489666 265.725668 \r\nC 300.489666 263.090264 299.442609 260.562445 297.579097 258.698933 \r\nC 295.715585 256.835421 293.187766 255.788364 290.552362 255.788364 \r\nC 287.916959 255.788364 285.389139 256.835421 283.525628 258.698933 \r\nC 281.662116 260.562445 280.615059 263.090264 280.615059 265.725668 \r\nC 280.615059 268.361072 281.662116 270.888891 283.525628 272.752403 \r\nC 285.389139 274.615914 287.916959 275.662971 290.552362 275.662971 \r\nz\r\n\" style=\"fill:#1f77b4;fill-opacity:0.7;stroke:#ffffff;stroke-opacity:0.7;stroke-width:0.669328;\"/>\r\n    <path clip-path=\"url(#pd9aac72c43)\" d=\"M 356.888027 267.306807 \r\nC 357.30735 267.306807 357.709555 267.140208 358.006061 266.843702 \r\nC 358.302567 266.547196 358.469165 266.144991 358.469165 265.725668 \r\nC 358.469165 265.306345 358.302567 264.90414 358.006061 264.607634 \r\nC 357.709555 264.311128 357.30735 264.144529 356.888027 264.144529 \r\nC 356.468704 264.144529 356.066499 264.311128 355.769993 264.607634 \r\nC 355.473487 264.90414 355.306888 265.306345 355.306888 265.725668 \r\nC 355.306888 266.144991 355.473487 266.547196 355.769993 266.843702 \r\nC 356.066499 267.140208 356.468704 267.306807 356.888027 267.306807 \r\nz\r\n\" style=\"fill:#1f77b4;fill-opacity:0.7;stroke:#ffffff;stroke-opacity:0.7;stroke-width:0.669328;\"/>\r\n    <path clip-path=\"url(#pd9aac72c43)\" d=\"M 290.552362 275.34336 \r\nC 293.103004 275.34336 295.549522 274.329979 297.353098 272.526403 \r\nC 299.156674 270.722827 300.170054 268.27631 300.170054 265.725668 \r\nC 300.170054 263.175026 299.156674 260.728509 297.353098 258.924933 \r\nC 295.549522 257.121357 293.103004 256.107976 290.552362 256.107976 \r\nC 288.001721 256.107976 285.555203 257.121357 283.751627 258.924933 \r\nC 281.948051 260.728509 280.93467 263.175026 280.93467 265.725668 \r\nC 280.93467 268.27631 281.948051 270.722827 283.751627 272.526403 \r\nC 285.555203 274.329979 288.001721 275.34336 290.552362 275.34336 \r\nz\r\n\" style=\"fill:#1f77b4;fill-opacity:0.7;stroke:#ffffff;stroke-opacity:0.7;stroke-width:0.669328;\"/>\r\n    <path clip-path=\"url(#pd9aac72c43)\" d=\"M 721.734181 268.788268 \r\nC 723.513217 268.788268 725.219628 268.08145 726.477597 266.823481 \r\nC 727.735566 265.565512 728.442384 263.859101 728.442384 262.080064 \r\nC 728.442384 260.301028 727.735566 258.594617 726.477597 257.336648 \r\nC 725.219628 256.078679 723.513217 255.37186 721.734181 255.37186 \r\nC 719.955144 255.37186 718.248733 256.078679 716.990764 257.336648 \r\nC 715.732795 258.594617 715.025977 260.301028 715.025977 262.080064 \r\nC 715.025977 263.859101 715.732795 265.565512 716.990764 266.823481 \r\nC 718.248733 268.08145 719.955144 268.788268 721.734181 268.788268 \r\nz\r\n\" style=\"fill:#1f77b4;fill-opacity:0.7;stroke:#ffffff;stroke-opacity:0.7;stroke-width:0.669328;\"/>\r\n    <path clip-path=\"url(#pd9aac72c43)\" d=\"M 273.968446 272.327015 \r\nC 276.685969 272.327015 279.292556 271.247332 281.214135 269.325753 \r\nC 283.135714 267.404174 284.215397 264.797587 284.215397 262.080064 \r\nC 284.215397 259.362541 283.135714 256.755955 281.214135 254.834376 \r\nC 279.292556 252.912797 276.685969 251.833114 273.968446 251.833114 \r\nC 271.250923 251.833114 268.644337 252.912797 266.722758 254.834376 \r\nC 264.801179 256.755955 263.721495 259.362541 263.721495 262.080064 \r\nC 263.721495 264.797587 264.801179 267.404174 266.722758 269.325753 \r\nC 268.644337 271.247332 271.250923 272.327015 273.968446 272.327015 \r\nz\r\n\" style=\"fill:#1f77b4;fill-opacity:0.7;stroke:#ffffff;stroke-opacity:0.7;stroke-width:0.669328;\"/>\r\n    <path clip-path=\"url(#pd9aac72c43)\" d=\"M 108.129285 257.52747 \r\nC 108.855574 257.52747 109.552213 257.238912 110.065777 256.725349 \r\nC 110.579341 256.211785 110.867898 255.515146 110.867898 254.788857 \r\nC 110.867898 254.062569 110.579341 253.365929 110.065777 252.852365 \r\nC 109.552213 252.338802 108.855574 252.050244 108.129285 252.050244 \r\nC 107.402997 252.050244 106.706357 252.338802 106.192794 252.852365 \r\nC 105.67923 253.365929 105.390673 254.062569 105.390673 254.788857 \r\nC 105.390673 255.515146 105.67923 256.211785 106.192794 256.725349 \r\nC 106.706357 257.238912 107.402997 257.52747 108.129285 257.52747 \r\nz\r\n\" style=\"fill:#1f77b4;fill-opacity:0.7;stroke:#ffffff;stroke-opacity:0.7;stroke-width:0.669328;\"/>\r\n    <path clip-path=\"url(#pd9aac72c43)\" d=\"M 307.136278 265.628599 \r\nC 310.011012 265.628599 312.76839 264.486455 314.801133 262.453712 \r\nC 316.833877 260.420969 317.97602 257.66359 317.97602 254.788857 \r\nC 317.97602 251.914124 316.833877 249.156746 314.801133 247.124002 \r\nC 312.76839 245.091259 310.011012 243.949115 307.136278 243.949115 \r\nC 304.261545 243.949115 301.504167 245.091259 299.471424 247.124002 \r\nC 297.43868 249.156746 296.296537 251.914124 296.296537 254.788857 \r\nC 296.296537 257.66359 297.43868 260.420969 299.471424 262.453712 \r\nC 301.504167 264.486455 304.261545 265.628599 307.136278 265.628599 \r\nz\r\n\" style=\"fill:#1f77b4;fill-opacity:0.7;stroke:#ffffff;stroke-opacity:0.7;stroke-width:0.669328;\"/>\r\n    <path clip-path=\"url(#pd9aac72c43)\" d=\"M 622.230684 246.015918 \r\nC 623.771375 246.015918 625.24917 245.403795 626.338603 244.314362 \r\nC 627.428036 243.224929 628.040159 241.747134 628.040159 240.206443 \r\nC 628.040159 238.665752 627.428036 237.187957 626.338603 236.098524 \r\nC 625.24917 235.009091 623.771375 234.396968 622.230684 234.396968 \r\nC 620.689993 234.396968 619.212198 235.009091 618.122765 236.098524 \r\nC 617.033332 237.187957 616.421209 238.665752 616.421209 240.206443 \r\nC 616.421209 241.747134 617.033332 243.224929 618.122765 244.314362 \r\nC 619.212198 245.403795 620.689993 246.015918 622.230684 246.015918 \r\nz\r\n\" style=\"fill:#1f77b4;fill-opacity:0.7;stroke:#ffffff;stroke-opacity:0.7;stroke-width:0.669328;\"/>\r\n    <path clip-path=\"url(#pd9aac72c43)\" d=\"M 390.055859 249.953237 \r\nC 392.640739 249.953237 395.120097 248.926253 396.947883 247.098467 \r\nC 398.775669 245.270681 399.802653 242.791323 399.802653 240.206443 \r\nC 399.802653 237.621563 398.775669 235.142205 396.947883 233.314418 \r\nC 395.120097 231.486632 392.640739 230.459648 390.055859 230.459648 \r\nC 387.470979 230.459648 384.991621 231.486632 383.163834 233.314418 \r\nC 381.336048 235.142205 380.309064 237.621563 380.309064 240.206443 \r\nC 380.309064 242.791323 381.336048 245.270681 383.163834 247.098467 \r\nC 384.991621 248.926253 387.470979 249.953237 390.055859 249.953237 \r\nz\r\n\" style=\"fill:#1f77b4;fill-opacity:0.7;stroke:#ffffff;stroke-opacity:0.7;stroke-width:0.669328;\"/>\r\n    <path clip-path=\"url(#pd9aac72c43)\" d=\"M 489.559355 241.684315 \r\nC 490.918117 241.684315 492.22141 241.144473 493.1822 240.183683 \r\nC 494.142989 239.222894 494.682831 237.919601 494.682831 236.560839 \r\nC 494.682831 235.202078 494.142989 233.898785 493.1822 232.937995 \r\nC 492.22141 231.977206 490.918117 231.437364 489.559355 231.437364 \r\nC 488.200594 231.437364 486.897301 231.977206 485.936511 232.937995 \r\nC 484.975722 233.898785 484.43588 235.202078 484.43588 236.560839 \r\nC 484.43588 237.919601 484.975722 239.222894 485.936511 240.183683 \r\nC 486.897301 241.144473 488.200594 241.684315 489.559355 241.684315 \r\nz\r\n\" style=\"fill:#1f77b4;fill-opacity:0.7;stroke:#ffffff;stroke-opacity:0.7;stroke-width:0.669328;\"/>\r\n    <path clip-path=\"url(#pd9aac72c43)\" d=\"M 340.304111 247.51529 \r\nC 343.209265 247.51529 345.995823 246.36106 348.050077 244.306806 \r\nC 350.104332 242.252552 351.258562 239.465994 351.258562 236.560839 \r\nC 351.258562 233.655685 350.104332 230.869127 348.050077 228.814873 \r\nC 345.995823 226.760618 343.209265 225.606388 340.304111 225.606388 \r\nC 337.398956 225.606388 334.612398 226.760618 332.558144 228.814873 \r\nC 330.50389 230.869127 329.349659 233.655685 329.349659 236.560839 \r\nC 329.349659 239.465994 330.50389 242.252552 332.558144 244.306806 \r\nC 334.612398 246.36106 337.398956 247.51529 340.304111 247.51529 \r\nz\r\n\" style=\"fill:#1f77b4;fill-opacity:0.7;stroke:#ffffff;stroke-opacity:0.7;stroke-width:0.669328;\"/>\r\n    <path clip-path=\"url(#pd9aac72c43)\" d=\"M 390.055859 238.831315 \r\nC 391.624822 238.831315 393.129735 238.20796 394.239159 237.098536 \r\nC 395.348583 235.989112 395.971939 234.484198 395.971939 232.915236 \r\nC 395.971939 231.346273 395.348583 229.84136 394.239159 228.731936 \r\nC 393.129735 227.622511 391.624822 226.999156 390.055859 226.999156 \r\nC 388.486896 226.999156 386.981983 227.622511 385.872559 228.731936 \r\nC 384.763135 229.84136 384.139779 231.346273 384.139779 232.915236 \r\nC 384.139779 234.484198 384.763135 235.989112 385.872559 237.098536 \r\nC 386.981983 238.20796 388.486896 238.831315 390.055859 238.831315 \r\nz\r\n\" style=\"fill:#1f77b4;fill-opacity:0.7;stroke:#ffffff;stroke-opacity:0.7;stroke-width:0.669328;\"/>\r\n    <path clip-path=\"url(#pd9aac72c43)\" d=\"M 323.720194 241.859508 \r\nC 326.092243 241.859508 328.367458 240.917083 330.04475 239.239791 \r\nC 331.722041 237.562499 332.664466 235.287284 332.664466 232.915236 \r\nC 332.664466 230.543187 331.722041 228.267972 330.04475 226.59068 \r\nC 328.367458 224.913389 326.092243 223.970964 323.720194 223.970964 \r\nC 321.348146 223.970964 319.072931 224.913389 317.395639 226.59068 \r\nC 315.718347 228.267972 314.775923 230.543187 314.775923 232.915236 \r\nC 314.775923 235.287284 315.718347 237.562499 317.395639 239.239791 \r\nC 319.072931 240.917083 321.348146 241.859508 323.720194 241.859508 \r\nz\r\n\" style=\"fill:#1f77b4;fill-opacity:0.7;stroke:#ffffff;stroke-opacity:0.7;stroke-width:0.669328;\"/>\r\n    <path clip-path=\"url(#pd9aac72c43)\" d=\"M 456.391523 237.098536 \r\nC 457.500947 237.098536 458.565082 236.657757 459.349563 235.873276 \r\nC 460.134044 235.088794 460.574823 234.02466 460.574823 232.915236 \r\nC 460.574823 231.805811 460.134044 230.741677 459.349563 229.957196 \r\nC 458.565082 229.172714 457.500947 228.731936 456.391523 228.731936 \r\nC 455.282099 228.731936 454.217965 229.172714 453.433483 229.957196 \r\nC 452.649002 230.741677 452.208223 231.805811 452.208223 232.915236 \r\nC 452.208223 234.02466 452.649002 235.088794 453.433483 235.873276 \r\nC 454.217965 236.657757 455.282099 237.098536 456.391523 237.098536 \r\nz\r\n\" style=\"fill:#1f77b4;fill-opacity:0.7;stroke:#ffffff;stroke-opacity:0.7;stroke-width:0.669328;\"/>\r\n    <path clip-path=\"url(#pd9aac72c43)\" d=\"M 257.38453 242.66203 \r\nC 259.96941 242.66203 262.448768 241.635046 264.276555 239.80726 \r\nC 266.104341 237.979474 267.131325 235.500116 267.131325 232.915236 \r\nC 267.131325 230.330356 266.104341 227.850998 264.276555 226.023211 \r\nC 262.448768 224.195425 259.96941 223.168441 257.38453 223.168441 \r\nC 254.79965 223.168441 252.320292 224.195425 250.492506 226.023211 \r\nC 248.66472 227.850998 247.637736 230.330356 247.637736 232.915236 \r\nC 247.637736 235.500116 248.66472 237.979474 250.492506 239.80726 \r\nC 252.320292 241.635046 254.79965 242.66203 257.38453 242.66203 \r\nz\r\n\" style=\"fill:#1f77b4;fill-opacity:0.7;stroke:#ffffff;stroke-opacity:0.7;stroke-width:0.669328;\"/>\r\n    <path clip-path=\"url(#pd9aac72c43)\" d=\"M 390.055859 236.623335 \r\nC 391.039258 236.623335 391.982513 236.232626 392.677881 235.537258 \r\nC 393.373249 234.841889 393.763958 233.898635 393.763958 232.915236 \r\nC 393.763958 231.931836 393.373249 230.988582 392.677881 230.293214 \r\nC 391.982513 229.597845 391.039258 229.207136 390.055859 229.207136 \r\nC 389.072459 229.207136 388.129205 229.597845 387.433837 230.293214 \r\nC 386.738468 230.988582 386.34776 231.931836 386.34776 232.915236 \r\nC 386.34776 233.898635 386.738468 234.841889 387.433837 235.537258 \r\nC 388.129205 236.232626 389.072459 236.623335 390.055859 236.623335 \r\nz\r\n\" style=\"fill:#1f77b4;fill-opacity:0.7;stroke:#ffffff;stroke-opacity:0.7;stroke-width:0.669328;\"/>\r\n    <path clip-path=\"url(#pd9aac72c43)\" d=\"M 390.055859 243.697165 \r\nC 392.91526 243.697165 395.657932 242.561113 397.679834 240.539211 \r\nC 399.701736 238.517309 400.837788 235.774637 400.837788 232.915236 \r\nC 400.837788 230.055835 399.701736 227.313162 397.679834 225.29126 \r\nC 395.657932 223.269358 392.91526 222.133306 390.055859 222.133306 \r\nC 387.196458 222.133306 384.453785 223.269358 382.431883 225.29126 \r\nC 380.409982 227.313162 379.27393 230.055835 379.27393 232.915236 \r\nC 379.27393 235.774637 380.409982 238.517309 382.431883 240.539211 \r\nC 384.453785 242.561113 387.196458 243.697165 390.055859 243.697165 \r\nz\r\n\" style=\"fill:#1f77b4;fill-opacity:0.7;stroke:#ffffff;stroke-opacity:0.7;stroke-width:0.669328;\"/>\r\n    <path clip-path=\"url(#pd9aac72c43)\" d=\"M 655.398516 233.452932 \r\nC 656.50794 233.452932 657.572075 233.012153 658.356556 232.227672 \r\nC 659.141037 231.443191 659.581816 230.379056 659.581816 229.269632 \r\nC 659.581816 228.160208 659.141037 227.096074 658.356556 226.311592 \r\nC 657.572075 225.527111 656.50794 225.086332 655.398516 225.086332 \r\nC 654.289092 225.086332 653.224958 225.527111 652.440476 226.311592 \r\nC 651.655995 227.096074 651.215216 228.160208 651.215216 229.269632 \r\nC 651.215216 230.379056 651.655995 231.443191 652.440476 232.227672 \r\nC 653.224958 233.012153 654.289092 233.452932 655.398516 233.452932 \r\nz\r\n\" style=\"fill:#1f77b4;fill-opacity:0.7;stroke:#ffffff;stroke-opacity:0.7;stroke-width:0.669328;\"/>\r\n    <path clip-path=\"url(#pd9aac72c43)\" d=\"M 290.552362 239.697959 \r\nC 293.317987 239.697959 295.970711 238.599165 297.926303 236.643573 \r\nC 299.881895 234.687981 300.980689 232.035257 300.980689 229.269632 \r\nC 300.980689 226.504007 299.881895 223.851283 297.926303 221.895691 \r\nC 295.970711 219.9401 293.317987 218.841305 290.552362 218.841305 \r\nC 287.786738 218.841305 285.134014 219.9401 283.178422 221.895691 \r\nC 281.22283 223.851283 280.124036 226.504007 280.124036 229.269632 \r\nC 280.124036 232.035257 281.22283 234.687981 283.178422 236.643573 \r\nC 285.134014 238.599165 287.786738 239.697959 290.552362 239.697959 \r\nz\r\n\" style=\"fill:#1f77b4;fill-opacity:0.7;stroke:#ffffff;stroke-opacity:0.7;stroke-width:0.669328;\"/>\r\n    <path clip-path=\"url(#pd9aac72c43)\" d=\"M 754.902013 233.741768 \r\nC 756.088037 233.741768 757.225644 233.270556 758.06429 232.43191 \r\nC 758.902936 231.593264 759.374149 230.455656 759.374149 229.269632 \r\nC 759.374149 228.083608 758.902936 226.946 758.06429 226.107354 \r\nC 757.225644 225.268709 756.088037 224.797496 754.902013 224.797496 \r\nC 753.715988 224.797496 752.578381 225.268709 751.739735 226.107354 \r\nC 750.901089 226.946 750.429877 228.083608 750.429877 229.269632 \r\nC 750.429877 230.455656 750.901089 231.593264 751.739735 232.43191 \r\nC 752.578381 233.270556 753.715988 233.741768 754.902013 233.741768 \r\nz\r\n\" style=\"fill:#1f77b4;fill-opacity:0.7;stroke:#ffffff;stroke-opacity:0.7;stroke-width:0.669328;\"/>\r\n    <path clip-path=\"url(#pd9aac72c43)\" d=\"M 240.800614 238.623776 \r\nC 243.281362 238.623776 245.660839 237.638164 247.414992 235.88401 \r\nC 249.169146 234.129857 250.154758 231.75038 250.154758 229.269632 \r\nC 250.154758 226.788884 249.169146 224.409407 247.414992 222.655254 \r\nC 245.660839 220.9011 243.281362 219.915489 240.800614 219.915489 \r\nC 238.319866 219.915489 235.940389 220.9011 234.186236 222.655254 \r\nC 232.432082 224.409407 231.446471 226.788884 231.446471 229.269632 \r\nC 231.446471 231.75038 232.432082 234.129857 234.186236 235.88401 \r\nC 235.940389 237.638164 238.319866 238.623776 240.800614 238.623776 \r\nz\r\n\" style=\"fill:#1f77b4;fill-opacity:0.7;stroke:#ffffff;stroke-opacity:0.7;stroke-width:0.669328;\"/>\r\n    <path clip-path=\"url(#pd9aac72c43)\" d=\"M 771.485929 215.371741 \r\nC 772.634292 215.371741 773.735776 214.915492 774.547791 214.103476 \r\nC 775.359806 213.291461 775.816056 212.189977 775.816056 211.041614 \r\nC 775.816056 209.893251 775.359806 208.791767 774.547791 207.979752 \r\nC 773.735776 207.167737 772.634292 206.711487 771.485929 206.711487 \r\nC 770.337566 206.711487 769.236082 207.167737 768.424067 207.979752 \r\nC 767.612051 208.791767 767.155802 209.893251 767.155802 211.041614 \r\nC 767.155802 212.189977 767.612051 213.291461 768.424067 214.103476 \r\nC 769.236082 214.915492 770.337566 215.371741 771.485929 215.371741 \r\nz\r\n\" style=\"fill:#1f77b4;fill-opacity:0.7;stroke:#ffffff;stroke-opacity:0.7;stroke-width:0.669328;\"/>\r\n    <path clip-path=\"url(#pd9aac72c43)\" d=\"M 373.471943 221.706979 \r\nC 376.30043 221.706979 379.013451 220.583209 381.013494 218.583166 \r\nC 383.013537 216.583123 384.137307 213.870102 384.137307 211.041614 \r\nC 384.137307 208.213126 383.013537 205.500105 381.013494 203.500063 \r\nC 379.013451 201.50002 376.30043 200.37625 373.471943 200.37625 \r\nC 370.643455 200.37625 367.930434 201.50002 365.930391 203.500063 \r\nC 363.930348 205.500105 362.806578 208.213126 362.806578 211.041614 \r\nC 362.806578 213.870102 363.930348 216.583123 365.930391 218.583166 \r\nC 367.930434 220.583209 370.643455 221.706979 373.471943 221.706979 \r\nz\r\n\" style=\"fill:#1f77b4;fill-opacity:0.7;stroke:#ffffff;stroke-opacity:0.7;stroke-width:0.669328;\"/>\r\n    <path clip-path=\"url(#pd9aac72c43)\" d=\"M 406.639775 202.881816 \r\nC 408.343073 202.881816 409.976837 202.205089 411.18125 201.000675 \r\nC 412.385664 199.796262 413.062391 198.162498 413.062391 196.4592 \r\nC 413.062391 194.755902 412.385664 193.122138 411.18125 191.917724 \r\nC 409.976837 190.713311 408.343073 190.036584 406.639775 190.036584 \r\nC 404.936477 190.036584 403.302713 190.713311 402.098299 191.917724 \r\nC 400.893886 193.122138 400.217159 194.755902 400.217159 196.4592 \r\nC 400.217159 198.162498 400.893886 199.796262 402.098299 201.000675 \r\nC 403.302713 202.205089 404.936477 202.881816 406.639775 202.881816 \r\nz\r\n\" style=\"fill:#1f77b4;fill-opacity:0.7;stroke:#ffffff;stroke-opacity:0.7;stroke-width:0.669328;\"/>\r\n    <path clip-path=\"url(#pd9aac72c43)\" d=\"M 323.720194 206.887527 \r\nC 326.485819 206.887527 329.138543 205.788732 331.094135 203.83314 \r\nC 333.049727 201.877549 334.148521 199.224824 334.148521 196.4592 \r\nC 334.148521 193.693575 333.049727 191.040851 331.094135 189.085259 \r\nC 329.138543 187.129667 326.485819 186.030873 323.720194 186.030873 \r\nC 320.95457 186.030873 318.301846 187.129667 316.346254 189.085259 \r\nC 314.390662 191.040851 313.291868 193.693575 313.291868 196.4592 \r\nC 313.291868 199.224824 314.390662 201.877549 316.346254 203.83314 \r\nC 318.301846 205.788732 320.95457 206.887527 323.720194 206.887527 \r\nz\r\n\" style=\"fill:#1f77b4;fill-opacity:0.7;stroke:#ffffff;stroke-opacity:0.7;stroke-width:0.669328;\"/>\r\n    <path clip-path=\"url(#pd9aac72c43)\" d=\"M 555.89502 197.285732 \r\nC 557.081044 197.285732 558.218651 196.81452 559.057297 195.975874 \r\nC 559.895943 195.137228 560.367156 193.999621 560.367156 192.813596 \r\nC 560.367156 191.627572 559.895943 190.489964 559.057297 189.651319 \r\nC 558.218651 188.812673 557.081044 188.34146 555.89502 188.34146 \r\nC 554.708995 188.34146 553.571388 188.812673 552.732742 189.651319 \r\nC 551.894096 190.489964 551.422884 191.627572 551.422884 192.813596 \r\nC 551.422884 193.999621 551.894096 195.137228 552.732742 195.975874 \r\nC 553.571388 196.81452 554.708995 197.285732 555.89502 197.285732 \r\nz\r\n\" style=\"fill:#1f77b4;fill-opacity:0.7;stroke:#ffffff;stroke-opacity:0.7;stroke-width:0.669328;\"/>\r\n    <path clip-path=\"url(#pd9aac72c43)\" d=\"M 273.968446 203.361108 \r\nC 276.765679 203.361108 279.448721 202.249756 281.426663 200.271813 \r\nC 283.404605 198.293871 284.515958 195.610829 284.515958 192.813596 \r\nC 284.515958 190.016364 283.404605 187.333322 281.426663 185.355379 \r\nC 279.448721 183.377437 276.765679 182.266085 273.968446 182.266085 \r\nC 271.171213 182.266085 268.488172 183.377437 266.510229 185.355379 \r\nC 264.532287 187.333322 263.420935 190.016364 263.420935 192.813596 \r\nC 263.420935 195.610829 264.532287 198.293871 266.510229 200.271813 \r\nC 268.488172 202.249756 271.171213 203.361108 273.968446 203.361108 \r\nz\r\n\" style=\"fill:#1f77b4;fill-opacity:0.7;stroke:#ffffff;stroke-opacity:0.7;stroke-width:0.669328;\"/>\r\n    <path clip-path=\"url(#pd9aac72c43)\" d=\"M 472.975439 196.239061 \r\nC 474.850708 196.239061 476.649424 195.494008 477.975439 194.167993 \r\nC 479.301455 192.841977 480.046507 191.043262 480.046507 189.167993 \r\nC 480.046507 187.292724 479.301455 185.494008 477.975439 184.167993 \r\nC 476.649424 182.841977 474.850708 182.096925 472.975439 182.096925 \r\nC 471.10017 182.096925 469.301455 182.841977 467.975439 184.167993 \r\nC 466.649424 185.494008 465.904371 187.292724 465.904371 189.167993 \r\nC 465.904371 191.043262 466.649424 192.841977 467.975439 194.167993 \r\nC 469.301455 195.494008 471.10017 196.239061 472.975439 196.239061 \r\nz\r\n\" style=\"fill:#1f77b4;fill-opacity:0.7;stroke:#ffffff;stroke-opacity:0.7;stroke-width:0.669328;\"/>\r\n    <path clip-path=\"url(#pd9aac72c43)\" d=\"M 290.552362 200.235965 \r\nC 293.487623 200.235965 296.303058 199.069773 298.3786 196.994231 \r\nC 300.454143 194.918688 301.620334 192.103253 301.620334 189.167993 \r\nC 301.620334 186.232732 300.454143 183.417297 298.3786 181.341755 \r\nC 296.303058 179.266212 293.487623 178.100021 290.552362 178.100021 \r\nC 287.617102 178.100021 284.801667 179.266212 282.726124 181.341755 \r\nC 280.650582 183.417297 279.484391 186.232732 279.484391 189.167993 \r\nC 279.484391 192.103253 280.650582 194.918688 282.726124 196.994231 \r\nC 284.801667 199.069773 287.617102 200.235965 290.552362 200.235965 \r\nz\r\n\" style=\"fill:#1f77b4;fill-opacity:0.7;stroke:#ffffff;stroke-opacity:0.7;stroke-width:0.669328;\"/>\r\n    <path clip-path=\"url(#pd9aac72c43)\" d=\"M 688.566348 187.466956 \r\nC 690.048879 187.466956 691.470888 186.87794 692.519195 185.829633 \r\nC 693.567503 184.781325 694.156518 183.359316 694.156518 181.876786 \r\nC 694.156518 180.394255 693.567503 178.972246 692.519195 177.923939 \r\nC 691.470888 176.875631 690.048879 176.286616 688.566348 176.286616 \r\nC 687.083818 176.286616 685.661809 176.875631 684.613501 177.923939 \r\nC 683.565194 178.972246 682.976178 180.394255 682.976178 181.876786 \r\nC 682.976178 183.359316 683.565194 184.781325 684.613501 185.829633 \r\nC 685.661809 186.87794 687.083818 187.466956 688.566348 187.466956 \r\nz\r\n\" style=\"fill:#1f77b4;fill-opacity:0.7;stroke:#ffffff;stroke-opacity:0.7;stroke-width:0.669328;\"/>\r\n    <path clip-path=\"url(#pd9aac72c43)\" d=\"M 257.38453 191.163873 \r\nC 259.847495 191.163873 262.209914 190.185327 263.951493 188.443748 \r\nC 265.693072 186.702169 266.671618 184.33975 266.671618 181.876786 \r\nC 266.671618 179.413821 265.693072 177.051402 263.951493 175.309823 \r\nC 262.209914 173.568244 259.847495 172.589698 257.38453 172.589698 \r\nC 254.921566 172.589698 252.559146 173.568244 250.817567 175.309823 \r\nC 249.075989 177.051402 248.097442 179.413821 248.097442 181.876786 \r\nC 248.097442 184.33975 249.075989 186.702169 250.817567 188.443748 \r\nC 252.559146 190.185327 254.921566 191.163873 257.38453 191.163873 \r\nz\r\n\" style=\"fill:#1f77b4;fill-opacity:0.7;stroke:#ffffff;stroke-opacity:0.7;stroke-width:0.669328;\"/>\r\n    <path clip-path=\"url(#pd9aac72c43)\" d=\"M 472.975439 179.328995 \r\nC 474.233408 179.328995 475.440023 178.829199 476.329541 177.93968 \r\nC 477.219059 177.050162 477.718856 175.843547 477.718856 174.585578 \r\nC 477.718856 173.32761 477.219059 172.120995 476.329541 171.231476 \r\nC 475.440023 170.341958 474.233408 169.842162 472.975439 169.842162 \r\nC 471.71747 169.842162 470.510856 170.341958 469.621337 171.231476 \r\nC 468.731819 172.120995 468.232023 173.32761 468.232023 174.585578 \r\nC 468.232023 175.843547 468.731819 177.050162 469.621337 177.93968 \r\nC 470.510856 178.829199 471.71747 179.328995 472.975439 179.328995 \r\nz\r\n\" style=\"fill:#1f77b4;fill-opacity:0.7;stroke:#ffffff;stroke-opacity:0.7;stroke-width:0.669328;\"/>\r\n    <path clip-path=\"url(#pd9aac72c43)\" d=\"M 390.055859 184.953799 \r\nC 392.805543 184.953799 395.442978 183.861338 397.387298 181.917018 \r\nC 399.331618 179.972697 400.42408 177.335263 400.42408 174.585578 \r\nC 400.42408 171.835894 399.331618 169.19846 397.387298 167.254139 \r\nC 395.442978 165.309819 392.805543 164.217358 390.055859 164.217358 \r\nC 387.306175 164.217358 384.66874 165.309819 382.72442 167.254139 \r\nC 380.780099 169.19846 379.687638 171.835894 379.687638 174.585578 \r\nC 379.687638 177.335263 380.780099 179.972697 382.72442 181.917018 \r\nC 384.66874 183.861338 387.306175 184.953799 390.055859 184.953799 \r\nz\r\n\" style=\"fill:#1f77b4;fill-opacity:0.7;stroke:#ffffff;stroke-opacity:0.7;stroke-width:0.669328;\"/>\r\n    <path clip-path=\"url(#pd9aac72c43)\" d=\"M 356.888027 180.062804 \r\nC 358.340604 180.062804 359.733883 179.485689 360.76101 178.458562 \r\nC 361.788137 177.431435 362.365252 176.038156 362.365252 174.585578 \r\nC 362.365252 173.133001 361.788137 171.739722 360.76101 170.712595 \r\nC 359.733883 169.685468 358.340604 169.108353 356.888027 169.108353 \r\nC 355.435449 169.108353 354.042171 169.685468 353.015043 170.712595 \r\nC 351.987916 171.739722 351.410801 173.133001 351.410801 174.585578 \r\nC 351.410801 176.038156 351.987916 177.431435 353.015043 178.458562 \r\nC 354.042171 179.485689 355.435449 180.062804 356.888027 180.062804 \r\nz\r\n\" style=\"fill:#1f77b4;fill-opacity:0.7;stroke:#ffffff;stroke-opacity:0.7;stroke-width:0.669328;\"/>\r\n    <path clip-path=\"url(#pd9aac72c43)\" d=\"M 323.720194 183.939722 \r\nC 326.200942 183.939722 328.580419 182.95411 330.334573 181.199957 \r\nC 332.088726 179.445803 333.074338 177.066326 333.074338 174.585578 \r\nC 333.074338 172.104831 332.088726 169.725354 330.334573 167.9712 \r\nC 328.580419 166.217047 326.200942 165.231435 323.720194 165.231435 \r\nC 321.239447 165.231435 318.85997 166.217047 317.105816 167.9712 \r\nC 315.351663 169.725354 314.366051 172.104831 314.366051 174.585578 \r\nC 314.366051 177.066326 315.351663 179.445803 317.105816 181.199957 \r\nC 318.85997 182.95411 321.239447 183.939722 323.720194 183.939722 \r\nz\r\n\" style=\"fill:#1f77b4;fill-opacity:0.7;stroke:#ffffff;stroke-opacity:0.7;stroke-width:0.669328;\"/>\r\n    <path clip-path=\"url(#pd9aac72c43)\" d=\"M 340.304111 141.483645 \r\nC 341.193629 141.483645 342.046834 141.130235 342.675819 140.501251 \r\nC 343.304803 139.872267 343.658213 139.019061 343.658213 138.129543 \r\nC 343.658213 137.240024 343.304803 136.386819 342.675819 135.757834 \r\nC 342.046834 135.12885 341.193629 134.775441 340.304111 134.775441 \r\nC 339.414592 134.775441 338.561387 135.12885 337.932402 135.757834 \r\nC 337.303418 136.386819 336.950009 137.240024 336.950009 138.129543 \r\nC 336.950009 139.019061 337.303418 139.872267 337.932402 140.501251 \r\nC 338.561387 141.130235 339.414592 141.483645 340.304111 141.483645 \r\nz\r\n\" style=\"fill:#1f77b4;fill-opacity:0.7;stroke:#ffffff;stroke-opacity:0.7;stroke-width:0.669328;\"/>\r\n    <path clip-path=\"url(#pd9aac72c43)\" d=\"M 423.223691 148.853348 \r\nC 426.067677 148.853348 428.795564 147.72342 430.806566 145.712418 \r\nC 432.817569 143.701416 433.947496 140.973529 433.947496 138.129543 \r\nC 433.947496 135.285556 432.817569 132.557669 430.806566 130.546667 \r\nC 428.795564 128.535665 426.067677 127.405737 423.223691 127.405737 \r\nC 420.379705 127.405737 417.651818 128.535665 415.640816 130.546667 \r\nC 413.629813 132.557669 412.499886 135.285556 412.499886 138.129543 \r\nC 412.499886 140.973529 413.629813 143.701416 415.640816 145.712418 \r\nC 417.651818 147.72342 420.379705 148.853348 423.223691 148.853348 \r\nz\r\n\" style=\"fill:#1f77b4;fill-opacity:0.7;stroke:#ffffff;stroke-opacity:0.7;stroke-width:0.669328;\"/>\r\n    <path clip-path=\"url(#pd9aac72c43)\" d=\"M 572.478936 117.22009 \r\nC 573.701462 117.22009 574.874081 116.734375 575.738537 115.869919 \r\nC 576.602993 115.005462 577.088708 113.832844 577.088708 112.610318 \r\nC 577.088708 111.387792 576.602993 110.215173 575.738537 109.350716 \r\nC 574.874081 108.48626 573.701462 108.000545 572.478936 108.000545 \r\nC 571.25641 108.000545 570.083791 108.48626 569.219335 109.350716 \r\nC 568.354878 110.215173 567.869164 111.387792 567.869164 112.610318 \r\nC 567.869164 113.832844 568.354878 115.005462 569.219335 115.869919 \r\nC 570.083791 116.734375 571.25641 117.22009 572.478936 117.22009 \r\nz\r\n\" style=\"fill:#1f77b4;fill-opacity:0.7;stroke:#ffffff;stroke-opacity:0.7;stroke-width:0.669328;\"/>\r\n    <path clip-path=\"url(#pd9aac72c43)\" d=\"M 373.471943 122.610318 \r\nC 376.123974 122.610318 378.667741 121.556655 380.543011 119.681385 \r\nC 382.41828 117.806116 383.471943 115.262349 383.471943 112.610318 \r\nC 383.471943 109.958287 382.41828 107.414519 380.543011 105.53925 \r\nC 378.667741 103.663981 376.123974 102.610318 373.471943 102.610318 \r\nC 370.819912 102.610318 368.276144 103.663981 366.400875 105.53925 \r\nC 364.525606 107.414519 363.471943 109.958287 363.471943 112.610318 \r\nC 363.471943 115.262349 364.525606 117.806116 366.400875 119.681385 \r\nC 368.276144 121.556655 370.819912 122.610318 373.471943 122.610318 \r\nz\r\n\" style=\"fill:#1f77b4;fill-opacity:0.7;stroke:#ffffff;stroke-opacity:0.7;stroke-width:0.669328;\"/>\r\n    <path clip-path=\"url(#pd9aac72c43)\" d=\"M 539.311104 96.757493 \r\nC 540.907838 96.757493 542.439389 96.123104 543.56845 94.994043 \r\nC 544.697512 93.864981 545.331901 92.33343 545.331901 90.736696 \r\nC 545.331901 89.139962 544.697512 87.608411 543.56845 86.47935 \r\nC 542.439389 85.350288 540.907838 84.715899 539.311104 84.715899 \r\nC 537.714369 84.715899 536.182819 85.350288 535.053757 86.47935 \r\nC 533.924695 87.608411 533.290306 89.139962 533.290306 90.736696 \r\nC 533.290306 92.33343 533.924695 93.864981 535.053757 94.994043 \r\nC 536.182819 96.123104 537.714369 96.757493 539.311104 96.757493 \r\nz\r\n\" style=\"fill:#1f77b4;fill-opacity:0.7;stroke:#ffffff;stroke-opacity:0.7;stroke-width:0.669328;\"/>\r\n    <path clip-path=\"url(#pd9aac72c43)\" d=\"M 323.720194 100.419155 \r\nC 326.288012 100.419155 328.751005 99.39895 330.566726 97.583228 \r\nC 332.382448 95.767507 333.402653 93.304514 333.402653 90.736696 \r\nC 333.402653 88.168878 332.382448 85.705886 330.566726 83.890164 \r\nC 328.751005 82.074443 326.288012 81.054238 323.720194 81.054238 \r\nC 321.152377 81.054238 318.689384 82.074443 316.873663 83.890164 \r\nC 315.057941 85.705886 314.037736 88.168878 314.037736 90.736696 \r\nC 314.037736 93.304514 315.057941 95.767507 316.873663 97.583228 \r\nC 318.689384 99.39895 321.152377 100.419155 323.720194 100.419155 \r\nz\r\n\" style=\"fill:#1f77b4;fill-opacity:0.7;stroke:#ffffff;stroke-opacity:0.7;stroke-width:0.669328;\"/>\r\n    <path clip-path=\"url(#pd9aac72c43)\" d=\"M 323.720194 55.508454 \r\nC 325.012635 55.508454 326.252314 54.994962 327.166207 54.081069 \r\nC 328.0801 53.167176 328.593592 51.927497 328.593592 50.635057 \r\nC 328.593592 49.342617 328.0801 48.102938 327.166207 47.189045 \r\nC 326.252314 46.275152 325.012635 45.76166 323.720194 45.76166 \r\nC 322.427754 45.76166 321.188075 46.275152 320.274182 47.189045 \r\nC 319.360289 48.102938 318.846797 49.342617 318.846797 50.635057 \r\nC 318.846797 51.927497 319.360289 53.167176 320.274182 54.081069 \r\nC 321.188075 54.994962 322.427754 55.508454 323.720194 55.508454 \r\nz\r\n\" style=\"fill:#1f77b4;fill-opacity:0.7;stroke:#ffffff;stroke-opacity:0.7;stroke-width:0.669328;\"/>\r\n    <path clip-path=\"url(#pd9aac72c43)\" d=\"M 290.552362 60.882008 \r\nC 293.269885 60.882008 295.876472 59.802324 297.798051 57.880745 \r\nC 299.71963 55.959166 300.799313 53.35258 300.799313 50.635057 \r\nC 300.799313 47.917534 299.71963 45.310947 297.798051 43.389368 \r\nC 295.876472 41.467789 293.269885 40.388106 290.552362 40.388106 \r\nC 287.834839 40.388106 285.228253 41.467789 283.306674 43.389368 \r\nC 281.385095 45.310947 280.305412 47.917534 280.305412 50.635057 \r\nC 280.305412 53.35258 281.385095 55.959166 283.306674 57.880745 \r\nC 285.228253 59.802324 287.834839 60.882008 290.552362 60.882008 \r\nz\r\n\" style=\"fill:#1f77b4;fill-opacity:0.7;stroke:#ffffff;stroke-opacity:0.7;stroke-width:0.669328;\"/>\r\n   </g>\r\n   <g id=\"PathCollection_2\"/>\r\n   <g id=\"PathCollection_3\"/>\r\n   <g id=\"PathCollection_4\"/>\r\n   <g id=\"PathCollection_5\"/>\r\n   <g id=\"PathCollection_6\"/>\r\n   <g id=\"PathCollection_7\">\r\n    <defs>\r\n     <path d=\"M -10 10 \r\nL 10 -10 \r\nM -10 -10 \r\nL 10 10 \r\n\" id=\"mfd751a0a14\" style=\"stroke:#000000;stroke-width:1.6;\"/>\r\n    </defs>\r\n    <g clip-path=\"url(#pd9aac72c43)\">\r\n     <use style=\"fill:#ff7f0e;stroke:#000000;stroke-width:1.6;\" x=\"390.447605\" xlink:href=\"#mfd751a0a14\" y=\"331.002066\"/>\r\n    </g>\r\n   </g>\r\n   <g id=\"matplotlib.axis_1\">\r\n    <g id=\"xtick_1\">\r\n     <g id=\"line2d_1\">\r\n      <defs>\r\n       <path d=\"M 0 0 \r\nL 0 3.5 \r\n\" id=\"m68880ef167\" style=\"stroke:#000000;stroke-width:0.8;\"/>\r\n      </defs>\r\n      <g>\r\n       <use style=\"stroke:#000000;stroke-width:0.8;\" x=\"90.698568\" xlink:href=\"#m68880ef167\" y=\"517.636875\"/>\r\n      </g>\r\n     </g>\r\n     <g id=\"text_1\">\r\n      <!-- −1.5 -->\r\n      <g transform=\"translate(78.557162 532.235312)scale(0.1 -0.1)\">\r\n       <defs>\r\n        <path d=\"M 10.59375 35.5 \r\nL 73.1875 35.5 \r\nL 73.1875 27.203125 \r\nL 10.59375 27.203125 \r\nz\r\n\" id=\"DejaVuSans-8722\"/>\r\n        <path d=\"M 12.40625 8.296875 \r\nL 28.515625 8.296875 \r\nL 28.515625 63.921875 \r\nL 10.984375 60.40625 \r\nL 10.984375 69.390625 \r\nL 28.421875 72.90625 \r\nL 38.28125 72.90625 \r\nL 38.28125 8.296875 \r\nL 54.390625 8.296875 \r\nL 54.390625 0 \r\nL 12.40625 0 \r\nz\r\n\" id=\"DejaVuSans-49\"/>\r\n        <path d=\"M 10.6875 12.40625 \r\nL 21 12.40625 \r\nL 21 0 \r\nL 10.6875 0 \r\nz\r\n\" id=\"DejaVuSans-46\"/>\r\n        <path d=\"M 10.796875 72.90625 \r\nL 49.515625 72.90625 \r\nL 49.515625 64.59375 \r\nL 19.828125 64.59375 \r\nL 19.828125 46.734375 \r\nQ 21.96875 47.46875 24.109375 47.828125 \r\nQ 26.265625 48.1875 28.421875 48.1875 \r\nQ 40.625 48.1875 47.75 41.5 \r\nQ 54.890625 34.8125 54.890625 23.390625 \r\nQ 54.890625 11.625 47.5625 5.09375 \r\nQ 40.234375 -1.421875 26.90625 -1.421875 \r\nQ 22.3125 -1.421875 17.546875 -0.640625 \r\nQ 12.796875 0.140625 7.71875 1.703125 \r\nL 7.71875 11.625 \r\nQ 12.109375 9.234375 16.796875 8.0625 \r\nQ 21.484375 6.890625 26.703125 6.890625 \r\nQ 35.15625 6.890625 40.078125 11.328125 \r\nQ 45.015625 15.765625 45.015625 23.390625 \r\nQ 45.015625 31 40.078125 35.4375 \r\nQ 35.15625 39.890625 26.703125 39.890625 \r\nQ 22.75 39.890625 18.8125 39.015625 \r\nQ 14.890625 38.140625 10.796875 36.28125 \r\nz\r\n\" id=\"DejaVuSans-53\"/>\r\n       </defs>\r\n       <use xlink:href=\"#DejaVuSans-8722\"/>\r\n       <use x=\"83.789062\" xlink:href=\"#DejaVuSans-49\"/>\r\n       <use x=\"147.412109\" xlink:href=\"#DejaVuSans-46\"/>\r\n       <use x=\"179.199219\" xlink:href=\"#DejaVuSans-53\"/>\r\n      </g>\r\n     </g>\r\n    </g>\r\n    <g id=\"xtick_2\">\r\n     <g id=\"line2d_2\">\r\n      <g>\r\n       <use style=\"stroke:#000000;stroke-width:0.8;\" x=\"206.239052\" xlink:href=\"#m68880ef167\" y=\"517.636875\"/>\r\n      </g>\r\n     </g>\r\n     <g id=\"text_2\">\r\n      <!-- −1.0 -->\r\n      <g transform=\"translate(194.097646 532.235312)scale(0.1 -0.1)\">\r\n       <defs>\r\n        <path d=\"M 31.78125 66.40625 \r\nQ 24.171875 66.40625 20.328125 58.90625 \r\nQ 16.5 51.421875 16.5 36.375 \r\nQ 16.5 21.390625 20.328125 13.890625 \r\nQ 24.171875 6.390625 31.78125 6.390625 \r\nQ 39.453125 6.390625 43.28125 13.890625 \r\nQ 47.125 21.390625 47.125 36.375 \r\nQ 47.125 51.421875 43.28125 58.90625 \r\nQ 39.453125 66.40625 31.78125 66.40625 \r\nz\r\nM 31.78125 74.21875 \r\nQ 44.046875 74.21875 50.515625 64.515625 \r\nQ 56.984375 54.828125 56.984375 36.375 \r\nQ 56.984375 17.96875 50.515625 8.265625 \r\nQ 44.046875 -1.421875 31.78125 -1.421875 \r\nQ 19.53125 -1.421875 13.0625 8.265625 \r\nQ 6.59375 17.96875 6.59375 36.375 \r\nQ 6.59375 54.828125 13.0625 64.515625 \r\nQ 19.53125 74.21875 31.78125 74.21875 \r\nz\r\n\" id=\"DejaVuSans-48\"/>\r\n       </defs>\r\n       <use xlink:href=\"#DejaVuSans-8722\"/>\r\n       <use x=\"83.789062\" xlink:href=\"#DejaVuSans-49\"/>\r\n       <use x=\"147.412109\" xlink:href=\"#DejaVuSans-46\"/>\r\n       <use x=\"179.199219\" xlink:href=\"#DejaVuSans-48\"/>\r\n      </g>\r\n     </g>\r\n    </g>\r\n    <g id=\"xtick_3\">\r\n     <g id=\"line2d_3\">\r\n      <g>\r\n       <use style=\"stroke:#000000;stroke-width:0.8;\" x=\"321.779536\" xlink:href=\"#m68880ef167\" y=\"517.636875\"/>\r\n      </g>\r\n     </g>\r\n     <g id=\"text_3\">\r\n      <!-- −0.5 -->\r\n      <g transform=\"translate(309.63813 532.235312)scale(0.1 -0.1)\">\r\n       <use xlink:href=\"#DejaVuSans-8722\"/>\r\n       <use x=\"83.789062\" xlink:href=\"#DejaVuSans-48\"/>\r\n       <use x=\"147.412109\" xlink:href=\"#DejaVuSans-46\"/>\r\n       <use x=\"179.199219\" xlink:href=\"#DejaVuSans-53\"/>\r\n      </g>\r\n     </g>\r\n    </g>\r\n    <g id=\"xtick_4\">\r\n     <g id=\"line2d_4\">\r\n      <g>\r\n       <use style=\"stroke:#000000;stroke-width:0.8;\" x=\"437.32002\" xlink:href=\"#m68880ef167\" y=\"517.636875\"/>\r\n      </g>\r\n     </g>\r\n     <g id=\"text_4\">\r\n      <!-- 0.0 -->\r\n      <g transform=\"translate(429.368457 532.235312)scale(0.1 -0.1)\">\r\n       <use xlink:href=\"#DejaVuSans-48\"/>\r\n       <use x=\"63.623047\" xlink:href=\"#DejaVuSans-46\"/>\r\n       <use x=\"95.410156\" xlink:href=\"#DejaVuSans-48\"/>\r\n      </g>\r\n     </g>\r\n    </g>\r\n    <g id=\"xtick_5\">\r\n     <g id=\"line2d_5\">\r\n      <g>\r\n       <use style=\"stroke:#000000;stroke-width:0.8;\" x=\"552.860503\" xlink:href=\"#m68880ef167\" y=\"517.636875\"/>\r\n      </g>\r\n     </g>\r\n     <g id=\"text_5\">\r\n      <!-- 0.5 -->\r\n      <g transform=\"translate(544.908941 532.235312)scale(0.1 -0.1)\">\r\n       <use xlink:href=\"#DejaVuSans-48\"/>\r\n       <use x=\"63.623047\" xlink:href=\"#DejaVuSans-46\"/>\r\n       <use x=\"95.410156\" xlink:href=\"#DejaVuSans-53\"/>\r\n      </g>\r\n     </g>\r\n    </g>\r\n    <g id=\"xtick_6\">\r\n     <g id=\"line2d_6\">\r\n      <g>\r\n       <use style=\"stroke:#000000;stroke-width:0.8;\" x=\"668.400987\" xlink:href=\"#m68880ef167\" y=\"517.636875\"/>\r\n      </g>\r\n     </g>\r\n     <g id=\"text_6\">\r\n      <!-- 1.0 -->\r\n      <g transform=\"translate(660.449425 532.235312)scale(0.1 -0.1)\">\r\n       <use xlink:href=\"#DejaVuSans-49\"/>\r\n       <use x=\"63.623047\" xlink:href=\"#DejaVuSans-46\"/>\r\n       <use x=\"95.410156\" xlink:href=\"#DejaVuSans-48\"/>\r\n      </g>\r\n     </g>\r\n    </g>\r\n    <g id=\"xtick_7\">\r\n     <g id=\"line2d_7\">\r\n      <g>\r\n       <use style=\"stroke:#000000;stroke-width:0.8;\" x=\"783.941471\" xlink:href=\"#m68880ef167\" y=\"517.636875\"/>\r\n      </g>\r\n     </g>\r\n     <g id=\"text_7\">\r\n      <!-- 1.5 -->\r\n      <g transform=\"translate(775.989908 532.235312)scale(0.1 -0.1)\">\r\n       <use xlink:href=\"#DejaVuSans-49\"/>\r\n       <use x=\"63.623047\" xlink:href=\"#DejaVuSans-46\"/>\r\n       <use x=\"95.410156\" xlink:href=\"#DejaVuSans-53\"/>\r\n      </g>\r\n     </g>\r\n    </g>\r\n    <g id=\"xtick_8\">\r\n     <g id=\"line2d_8\">\r\n      <g>\r\n       <use style=\"stroke:#000000;stroke-width:0.8;\" x=\"899.481955\" xlink:href=\"#m68880ef167\" y=\"517.636875\"/>\r\n      </g>\r\n     </g>\r\n     <g id=\"text_8\">\r\n      <!-- 2.0 -->\r\n      <g transform=\"translate(891.530392 532.235312)scale(0.1 -0.1)\">\r\n       <defs>\r\n        <path d=\"M 19.1875 8.296875 \r\nL 53.609375 8.296875 \r\nL 53.609375 0 \r\nL 7.328125 0 \r\nL 7.328125 8.296875 \r\nQ 12.9375 14.109375 22.625 23.890625 \r\nQ 32.328125 33.6875 34.8125 36.53125 \r\nQ 39.546875 41.84375 41.421875 45.53125 \r\nQ 43.3125 49.21875 43.3125 52.78125 \r\nQ 43.3125 58.59375 39.234375 62.25 \r\nQ 35.15625 65.921875 28.609375 65.921875 \r\nQ 23.96875 65.921875 18.8125 64.3125 \r\nQ 13.671875 62.703125 7.8125 59.421875 \r\nL 7.8125 69.390625 \r\nQ 13.765625 71.78125 18.9375 73 \r\nQ 24.125 74.21875 28.421875 74.21875 \r\nQ 39.75 74.21875 46.484375 68.546875 \r\nQ 53.21875 62.890625 53.21875 53.421875 \r\nQ 53.21875 48.921875 51.53125 44.890625 \r\nQ 49.859375 40.875 45.40625 35.40625 \r\nQ 44.1875 33.984375 37.640625 27.21875 \r\nQ 31.109375 20.453125 19.1875 8.296875 \r\nz\r\n\" id=\"DejaVuSans-50\"/>\r\n       </defs>\r\n       <use xlink:href=\"#DejaVuSans-50\"/>\r\n       <use x=\"63.623047\" xlink:href=\"#DejaVuSans-46\"/>\r\n       <use x=\"95.410156\" xlink:href=\"#DejaVuSans-48\"/>\r\n      </g>\r\n     </g>\r\n    </g>\r\n    <g id=\"text_9\">\r\n     <!-- Age -->\r\n     <g transform=\"translate(507.253438 550.4725)scale(0.16 -0.16)\">\r\n      <defs>\r\n       <path d=\"M 34.1875 63.1875 \r\nL 20.796875 26.90625 \r\nL 47.609375 26.90625 \r\nz\r\nM 28.609375 72.90625 \r\nL 39.796875 72.90625 \r\nL 67.578125 0 \r\nL 57.328125 0 \r\nL 50.6875 18.703125 \r\nL 17.828125 18.703125 \r\nL 11.1875 0 \r\nL 0.78125 0 \r\nz\r\n\" id=\"DejaVuSans-65\"/>\r\n       <path d=\"M 45.40625 27.984375 \r\nQ 45.40625 37.75 41.375 43.109375 \r\nQ 37.359375 48.484375 30.078125 48.484375 \r\nQ 22.859375 48.484375 18.828125 43.109375 \r\nQ 14.796875 37.75 14.796875 27.984375 \r\nQ 14.796875 18.265625 18.828125 12.890625 \r\nQ 22.859375 7.515625 30.078125 7.515625 \r\nQ 37.359375 7.515625 41.375 12.890625 \r\nQ 45.40625 18.265625 45.40625 27.984375 \r\nz\r\nM 54.390625 6.78125 \r\nQ 54.390625 -7.171875 48.1875 -13.984375 \r\nQ 42 -20.796875 29.203125 -20.796875 \r\nQ 24.46875 -20.796875 20.265625 -20.09375 \r\nQ 16.0625 -19.390625 12.109375 -17.921875 \r\nL 12.109375 -9.1875 \r\nQ 16.0625 -11.328125 19.921875 -12.34375 \r\nQ 23.78125 -13.375 27.78125 -13.375 \r\nQ 36.625 -13.375 41.015625 -8.765625 \r\nQ 45.40625 -4.15625 45.40625 5.171875 \r\nL 45.40625 9.625 \r\nQ 42.625 4.78125 38.28125 2.390625 \r\nQ 33.9375 0 27.875 0 \r\nQ 17.828125 0 11.671875 7.65625 \r\nQ 5.515625 15.328125 5.515625 27.984375 \r\nQ 5.515625 40.671875 11.671875 48.328125 \r\nQ 17.828125 56 27.875 56 \r\nQ 33.9375 56 38.28125 53.609375 \r\nQ 42.625 51.21875 45.40625 46.390625 \r\nL 45.40625 54.6875 \r\nL 54.390625 54.6875 \r\nz\r\n\" id=\"DejaVuSans-103\"/>\r\n       <path d=\"M 56.203125 29.59375 \r\nL 56.203125 25.203125 \r\nL 14.890625 25.203125 \r\nQ 15.484375 15.921875 20.484375 11.0625 \r\nQ 25.484375 6.203125 34.421875 6.203125 \r\nQ 39.59375 6.203125 44.453125 7.46875 \r\nQ 49.3125 8.734375 54.109375 11.28125 \r\nL 54.109375 2.78125 \r\nQ 49.265625 0.734375 44.1875 -0.34375 \r\nQ 39.109375 -1.421875 33.890625 -1.421875 \r\nQ 20.796875 -1.421875 13.15625 6.1875 \r\nQ 5.515625 13.8125 5.515625 26.8125 \r\nQ 5.515625 40.234375 12.765625 48.109375 \r\nQ 20.015625 56 32.328125 56 \r\nQ 43.359375 56 49.78125 48.890625 \r\nQ 56.203125 41.796875 56.203125 29.59375 \r\nz\r\nM 47.21875 32.234375 \r\nQ 47.125 39.59375 43.09375 43.984375 \r\nQ 39.0625 48.390625 32.421875 48.390625 \r\nQ 24.90625 48.390625 20.390625 44.140625 \r\nQ 15.875 39.890625 15.1875 32.171875 \r\nz\r\n\" id=\"DejaVuSans-101\"/>\r\n      </defs>\r\n      <use xlink:href=\"#DejaVuSans-65\"/>\r\n      <use x=\"68.408203\" xlink:href=\"#DejaVuSans-103\"/>\r\n      <use x=\"131.884766\" xlink:href=\"#DejaVuSans-101\"/>\r\n     </g>\r\n    </g>\r\n   </g>\r\n   <g id=\"matplotlib.axis_2\">\r\n    <g id=\"ytick_1\">\r\n     <g id=\"line2d_9\">\r\n      <defs>\r\n       <path d=\"M 0 0 \r\nL -3.5 0 \r\n\" id=\"m809344f801\" style=\"stroke:#000000;stroke-width:0.8;\"/>\r\n      </defs>\r\n      <g>\r\n       <use style=\"stroke:#000000;stroke-width:0.8;\" x=\"48.427188\" xlink:href=\"#m809344f801\" y=\"424.816079\"/>\r\n      </g>\r\n     </g>\r\n     <g id=\"text_10\">\r\n      <!-- −1 -->\r\n      <g transform=\"translate(26.685 428.615298)scale(0.1 -0.1)\">\r\n       <use xlink:href=\"#DejaVuSans-8722\"/>\r\n       <use x=\"83.789062\" xlink:href=\"#DejaVuSans-49\"/>\r\n      </g>\r\n     </g>\r\n    </g>\r\n    <g id=\"ytick_2\">\r\n     <g id=\"line2d_10\">\r\n      <g>\r\n       <use style=\"stroke:#000000;stroke-width:0.8;\" x=\"48.427188\" xlink:href=\"#m809344f801\" y=\"329.304994\"/>\r\n      </g>\r\n     </g>\r\n     <g id=\"text_11\">\r\n      <!-- 0 -->\r\n      <g transform=\"translate(35.064688 333.104213)scale(0.1 -0.1)\">\r\n       <use xlink:href=\"#DejaVuSans-48\"/>\r\n      </g>\r\n     </g>\r\n    </g>\r\n    <g id=\"ytick_3\">\r\n     <g id=\"line2d_11\">\r\n      <g>\r\n       <use style=\"stroke:#000000;stroke-width:0.8;\" x=\"48.427188\" xlink:href=\"#m809344f801\" y=\"233.79391\"/>\r\n      </g>\r\n     </g>\r\n     <g id=\"text_12\">\r\n      <!-- 1 -->\r\n      <g transform=\"translate(35.064688 237.593128)scale(0.1 -0.1)\">\r\n       <use xlink:href=\"#DejaVuSans-49\"/>\r\n      </g>\r\n     </g>\r\n    </g>\r\n    <g id=\"ytick_4\">\r\n     <g id=\"line2d_12\">\r\n      <g>\r\n       <use style=\"stroke:#000000;stroke-width:0.8;\" x=\"48.427188\" xlink:href=\"#m809344f801\" y=\"138.282825\"/>\r\n      </g>\r\n     </g>\r\n     <g id=\"text_13\">\r\n      <!-- 2 -->\r\n      <g transform=\"translate(35.064688 142.082044)scale(0.1 -0.1)\">\r\n       <use xlink:href=\"#DejaVuSans-50\"/>\r\n      </g>\r\n     </g>\r\n    </g>\r\n    <g id=\"ytick_5\">\r\n     <g id=\"line2d_13\">\r\n      <g>\r\n       <use style=\"stroke:#000000;stroke-width:0.8;\" x=\"48.427188\" xlink:href=\"#m809344f801\" y=\"42.771741\"/>\r\n      </g>\r\n     </g>\r\n     <g id=\"text_14\">\r\n      <!-- 3 -->\r\n      <g transform=\"translate(35.064688 46.570959)scale(0.1 -0.1)\">\r\n       <defs>\r\n        <path d=\"M 40.578125 39.3125 \r\nQ 47.65625 37.796875 51.625 33 \r\nQ 55.609375 28.21875 55.609375 21.1875 \r\nQ 55.609375 10.40625 48.1875 4.484375 \r\nQ 40.765625 -1.421875 27.09375 -1.421875 \r\nQ 22.515625 -1.421875 17.65625 -0.515625 \r\nQ 12.796875 0.390625 7.625 2.203125 \r\nL 7.625 11.71875 \r\nQ 11.71875 9.328125 16.59375 8.109375 \r\nQ 21.484375 6.890625 26.8125 6.890625 \r\nQ 36.078125 6.890625 40.9375 10.546875 \r\nQ 45.796875 14.203125 45.796875 21.1875 \r\nQ 45.796875 27.640625 41.28125 31.265625 \r\nQ 36.765625 34.90625 28.71875 34.90625 \r\nL 20.21875 34.90625 \r\nL 20.21875 43.015625 \r\nL 29.109375 43.015625 \r\nQ 36.375 43.015625 40.234375 45.921875 \r\nQ 44.09375 48.828125 44.09375 54.296875 \r\nQ 44.09375 59.90625 40.109375 62.90625 \r\nQ 36.140625 65.921875 28.71875 65.921875 \r\nQ 24.65625 65.921875 20.015625 65.03125 \r\nQ 15.375 64.15625 9.8125 62.3125 \r\nL 9.8125 71.09375 \r\nQ 15.4375 72.65625 20.34375 73.4375 \r\nQ 25.25 74.21875 29.59375 74.21875 \r\nQ 40.828125 74.21875 47.359375 69.109375 \r\nQ 53.90625 64.015625 53.90625 55.328125 \r\nQ 53.90625 49.265625 50.4375 45.09375 \r\nQ 46.96875 40.921875 40.578125 39.3125 \r\nz\r\n\" id=\"DejaVuSans-51\"/>\r\n       </defs>\r\n       <use xlink:href=\"#DejaVuSans-51\"/>\r\n      </g>\r\n     </g>\r\n    </g>\r\n    <g id=\"text_15\">\r\n     <!-- Annual Income -->\r\n     <g transform=\"translate(19.3575 332.805625)rotate(-90)scale(0.16 -0.16)\">\r\n      <defs>\r\n       <path d=\"M 54.890625 33.015625 \r\nL 54.890625 0 \r\nL 45.90625 0 \r\nL 45.90625 32.71875 \r\nQ 45.90625 40.484375 42.875 44.328125 \r\nQ 39.84375 48.1875 33.796875 48.1875 \r\nQ 26.515625 48.1875 22.3125 43.546875 \r\nQ 18.109375 38.921875 18.109375 30.90625 \r\nL 18.109375 0 \r\nL 9.078125 0 \r\nL 9.078125 54.6875 \r\nL 18.109375 54.6875 \r\nL 18.109375 46.1875 \r\nQ 21.34375 51.125 25.703125 53.5625 \r\nQ 30.078125 56 35.796875 56 \r\nQ 45.21875 56 50.046875 50.171875 \r\nQ 54.890625 44.34375 54.890625 33.015625 \r\nz\r\n\" id=\"DejaVuSans-110\"/>\r\n       <path d=\"M 8.5 21.578125 \r\nL 8.5 54.6875 \r\nL 17.484375 54.6875 \r\nL 17.484375 21.921875 \r\nQ 17.484375 14.15625 20.5 10.265625 \r\nQ 23.53125 6.390625 29.59375 6.390625 \r\nQ 36.859375 6.390625 41.078125 11.03125 \r\nQ 45.3125 15.671875 45.3125 23.6875 \r\nL 45.3125 54.6875 \r\nL 54.296875 54.6875 \r\nL 54.296875 0 \r\nL 45.3125 0 \r\nL 45.3125 8.40625 \r\nQ 42.046875 3.421875 37.71875 1 \r\nQ 33.40625 -1.421875 27.6875 -1.421875 \r\nQ 18.265625 -1.421875 13.375 4.4375 \r\nQ 8.5 10.296875 8.5 21.578125 \r\nz\r\nM 31.109375 56 \r\nz\r\n\" id=\"DejaVuSans-117\"/>\r\n       <path d=\"M 34.28125 27.484375 \r\nQ 23.390625 27.484375 19.1875 25 \r\nQ 14.984375 22.515625 14.984375 16.5 \r\nQ 14.984375 11.71875 18.140625 8.90625 \r\nQ 21.296875 6.109375 26.703125 6.109375 \r\nQ 34.1875 6.109375 38.703125 11.40625 \r\nQ 43.21875 16.703125 43.21875 25.484375 \r\nL 43.21875 27.484375 \r\nz\r\nM 52.203125 31.203125 \r\nL 52.203125 0 \r\nL 43.21875 0 \r\nL 43.21875 8.296875 \r\nQ 40.140625 3.328125 35.546875 0.953125 \r\nQ 30.953125 -1.421875 24.3125 -1.421875 \r\nQ 15.921875 -1.421875 10.953125 3.296875 \r\nQ 6 8.015625 6 15.921875 \r\nQ 6 25.140625 12.171875 29.828125 \r\nQ 18.359375 34.515625 30.609375 34.515625 \r\nL 43.21875 34.515625 \r\nL 43.21875 35.40625 \r\nQ 43.21875 41.609375 39.140625 45 \r\nQ 35.0625 48.390625 27.6875 48.390625 \r\nQ 23 48.390625 18.546875 47.265625 \r\nQ 14.109375 46.140625 10.015625 43.890625 \r\nL 10.015625 52.203125 \r\nQ 14.9375 54.109375 19.578125 55.046875 \r\nQ 24.21875 56 28.609375 56 \r\nQ 40.484375 56 46.34375 49.84375 \r\nQ 52.203125 43.703125 52.203125 31.203125 \r\nz\r\n\" id=\"DejaVuSans-97\"/>\r\n       <path d=\"M 9.421875 75.984375 \r\nL 18.40625 75.984375 \r\nL 18.40625 0 \r\nL 9.421875 0 \r\nz\r\n\" id=\"DejaVuSans-108\"/>\r\n       <path id=\"DejaVuSans-32\"/>\r\n       <path d=\"M 9.8125 72.90625 \r\nL 19.671875 72.90625 \r\nL 19.671875 0 \r\nL 9.8125 0 \r\nz\r\n\" id=\"DejaVuSans-73\"/>\r\n       <path d=\"M 48.78125 52.59375 \r\nL 48.78125 44.1875 \r\nQ 44.96875 46.296875 41.140625 47.34375 \r\nQ 37.3125 48.390625 33.40625 48.390625 \r\nQ 24.65625 48.390625 19.8125 42.84375 \r\nQ 14.984375 37.3125 14.984375 27.296875 \r\nQ 14.984375 17.28125 19.8125 11.734375 \r\nQ 24.65625 6.203125 33.40625 6.203125 \r\nQ 37.3125 6.203125 41.140625 7.25 \r\nQ 44.96875 8.296875 48.78125 10.40625 \r\nL 48.78125 2.09375 \r\nQ 45.015625 0.34375 40.984375 -0.53125 \r\nQ 36.96875 -1.421875 32.421875 -1.421875 \r\nQ 20.0625 -1.421875 12.78125 6.34375 \r\nQ 5.515625 14.109375 5.515625 27.296875 \r\nQ 5.515625 40.671875 12.859375 48.328125 \r\nQ 20.21875 56 33.015625 56 \r\nQ 37.15625 56 41.109375 55.140625 \r\nQ 45.0625 54.296875 48.78125 52.59375 \r\nz\r\n\" id=\"DejaVuSans-99\"/>\r\n       <path d=\"M 30.609375 48.390625 \r\nQ 23.390625 48.390625 19.1875 42.75 \r\nQ 14.984375 37.109375 14.984375 27.296875 \r\nQ 14.984375 17.484375 19.15625 11.84375 \r\nQ 23.34375 6.203125 30.609375 6.203125 \r\nQ 37.796875 6.203125 41.984375 11.859375 \r\nQ 46.1875 17.53125 46.1875 27.296875 \r\nQ 46.1875 37.015625 41.984375 42.703125 \r\nQ 37.796875 48.390625 30.609375 48.390625 \r\nz\r\nM 30.609375 56 \r\nQ 42.328125 56 49.015625 48.375 \r\nQ 55.71875 40.765625 55.71875 27.296875 \r\nQ 55.71875 13.875 49.015625 6.21875 \r\nQ 42.328125 -1.421875 30.609375 -1.421875 \r\nQ 18.84375 -1.421875 12.171875 6.21875 \r\nQ 5.515625 13.875 5.515625 27.296875 \r\nQ 5.515625 40.765625 12.171875 48.375 \r\nQ 18.84375 56 30.609375 56 \r\nz\r\n\" id=\"DejaVuSans-111\"/>\r\n       <path d=\"M 52 44.1875 \r\nQ 55.375 50.25 60.0625 53.125 \r\nQ 64.75 56 71.09375 56 \r\nQ 79.640625 56 84.28125 50.015625 \r\nQ 88.921875 44.046875 88.921875 33.015625 \r\nL 88.921875 0 \r\nL 79.890625 0 \r\nL 79.890625 32.71875 \r\nQ 79.890625 40.578125 77.09375 44.375 \r\nQ 74.3125 48.1875 68.609375 48.1875 \r\nQ 61.625 48.1875 57.5625 43.546875 \r\nQ 53.515625 38.921875 53.515625 30.90625 \r\nL 53.515625 0 \r\nL 44.484375 0 \r\nL 44.484375 32.71875 \r\nQ 44.484375 40.625 41.703125 44.40625 \r\nQ 38.921875 48.1875 33.109375 48.1875 \r\nQ 26.21875 48.1875 22.15625 43.53125 \r\nQ 18.109375 38.875 18.109375 30.90625 \r\nL 18.109375 0 \r\nL 9.078125 0 \r\nL 9.078125 54.6875 \r\nL 18.109375 54.6875 \r\nL 18.109375 46.1875 \r\nQ 21.1875 51.21875 25.484375 53.609375 \r\nQ 29.78125 56 35.6875 56 \r\nQ 41.65625 56 45.828125 52.96875 \r\nQ 50 49.953125 52 44.1875 \r\nz\r\n\" id=\"DejaVuSans-109\"/>\r\n      </defs>\r\n      <use xlink:href=\"#DejaVuSans-65\"/>\r\n      <use x=\"68.408203\" xlink:href=\"#DejaVuSans-110\"/>\r\n      <use x=\"131.787109\" xlink:href=\"#DejaVuSans-110\"/>\r\n      <use x=\"195.166016\" xlink:href=\"#DejaVuSans-117\"/>\r\n      <use x=\"258.544922\" xlink:href=\"#DejaVuSans-97\"/>\r\n      <use x=\"319.824219\" xlink:href=\"#DejaVuSans-108\"/>\r\n      <use x=\"347.607422\" xlink:href=\"#DejaVuSans-32\"/>\r\n      <use x=\"379.394531\" xlink:href=\"#DejaVuSans-73\"/>\r\n      <use x=\"408.886719\" xlink:href=\"#DejaVuSans-110\"/>\r\n      <use x=\"472.265625\" xlink:href=\"#DejaVuSans-99\"/>\r\n      <use x=\"527.246094\" xlink:href=\"#DejaVuSans-111\"/>\r\n      <use x=\"588.427734\" xlink:href=\"#DejaVuSans-109\"/>\r\n      <use x=\"685.839844\" xlink:href=\"#DejaVuSans-101\"/>\r\n     </g>\r\n    </g>\r\n   </g>\r\n   <g id=\"patch_3\">\r\n    <path d=\"M 48.427188 517.636875 \r\nL 48.427188 28.396875 \r\n\" style=\"fill:none;stroke:#000000;stroke-linecap:square;stroke-linejoin:miter;stroke-width:0.8;\"/>\r\n   </g>\r\n   <g id=\"patch_4\">\r\n    <path d=\"M 997.027188 517.636875 \r\nL 997.027188 28.396875 \r\n\" style=\"fill:none;stroke:#000000;stroke-linecap:square;stroke-linejoin:miter;stroke-width:0.8;\"/>\r\n   </g>\r\n   <g id=\"patch_5\">\r\n    <path d=\"M 48.427188 517.636875 \r\nL 997.027187 517.636875 \r\n\" style=\"fill:none;stroke:#000000;stroke-linecap:square;stroke-linejoin:miter;stroke-width:0.8;\"/>\r\n   </g>\r\n   <g id=\"patch_6\">\r\n    <path d=\"M 48.427188 28.396875 \r\nL 997.027187 28.396875 \r\n\" style=\"fill:none;stroke:#000000;stroke-linecap:square;stroke-linejoin:miter;stroke-width:0.8;\"/>\r\n   </g>\r\n   <g id=\"text_16\">\r\n    <!-- Customers by color (Mean Shift clustering) -->\r\n    <g transform=\"translate(308.91 22.396875)scale(0.2 -0.2)\">\r\n     <defs>\r\n      <path d=\"M 64.40625 67.28125 \r\nL 64.40625 56.890625 \r\nQ 59.421875 61.53125 53.78125 63.8125 \r\nQ 48.140625 66.109375 41.796875 66.109375 \r\nQ 29.296875 66.109375 22.65625 58.46875 \r\nQ 16.015625 50.828125 16.015625 36.375 \r\nQ 16.015625 21.96875 22.65625 14.328125 \r\nQ 29.296875 6.6875 41.796875 6.6875 \r\nQ 48.140625 6.6875 53.78125 8.984375 \r\nQ 59.421875 11.28125 64.40625 15.921875 \r\nL 64.40625 5.609375 \r\nQ 59.234375 2.09375 53.4375 0.328125 \r\nQ 47.65625 -1.421875 41.21875 -1.421875 \r\nQ 24.65625 -1.421875 15.125 8.703125 \r\nQ 5.609375 18.84375 5.609375 36.375 \r\nQ 5.609375 53.953125 15.125 64.078125 \r\nQ 24.65625 74.21875 41.21875 74.21875 \r\nQ 47.75 74.21875 53.53125 72.484375 \r\nQ 59.328125 70.75 64.40625 67.28125 \r\nz\r\n\" id=\"DejaVuSans-67\"/>\r\n      <path d=\"M 44.28125 53.078125 \r\nL 44.28125 44.578125 \r\nQ 40.484375 46.53125 36.375 47.5 \r\nQ 32.28125 48.484375 27.875 48.484375 \r\nQ 21.1875 48.484375 17.84375 46.4375 \r\nQ 14.5 44.390625 14.5 40.28125 \r\nQ 14.5 37.15625 16.890625 35.375 \r\nQ 19.28125 33.59375 26.515625 31.984375 \r\nL 29.59375 31.296875 \r\nQ 39.15625 29.25 43.1875 25.515625 \r\nQ 47.21875 21.78125 47.21875 15.09375 \r\nQ 47.21875 7.46875 41.1875 3.015625 \r\nQ 35.15625 -1.421875 24.609375 -1.421875 \r\nQ 20.21875 -1.421875 15.453125 -0.5625 \r\nQ 10.6875 0.296875 5.421875 2 \r\nL 5.421875 11.28125 \r\nQ 10.40625 8.6875 15.234375 7.390625 \r\nQ 20.0625 6.109375 24.8125 6.109375 \r\nQ 31.15625 6.109375 34.5625 8.28125 \r\nQ 37.984375 10.453125 37.984375 14.40625 \r\nQ 37.984375 18.0625 35.515625 20.015625 \r\nQ 33.0625 21.96875 24.703125 23.78125 \r\nL 21.578125 24.515625 \r\nQ 13.234375 26.265625 9.515625 29.90625 \r\nQ 5.8125 33.546875 5.8125 39.890625 \r\nQ 5.8125 47.609375 11.28125 51.796875 \r\nQ 16.75 56 26.8125 56 \r\nQ 31.78125 56 36.171875 55.265625 \r\nQ 40.578125 54.546875 44.28125 53.078125 \r\nz\r\n\" id=\"DejaVuSans-115\"/>\r\n      <path d=\"M 18.3125 70.21875 \r\nL 18.3125 54.6875 \r\nL 36.8125 54.6875 \r\nL 36.8125 47.703125 \r\nL 18.3125 47.703125 \r\nL 18.3125 18.015625 \r\nQ 18.3125 11.328125 20.140625 9.421875 \r\nQ 21.96875 7.515625 27.59375 7.515625 \r\nL 36.8125 7.515625 \r\nL 36.8125 0 \r\nL 27.59375 0 \r\nQ 17.1875 0 13.234375 3.875 \r\nQ 9.28125 7.765625 9.28125 18.015625 \r\nL 9.28125 47.703125 \r\nL 2.6875 47.703125 \r\nL 2.6875 54.6875 \r\nL 9.28125 54.6875 \r\nL 9.28125 70.21875 \r\nz\r\n\" id=\"DejaVuSans-116\"/>\r\n      <path d=\"M 41.109375 46.296875 \r\nQ 39.59375 47.171875 37.8125 47.578125 \r\nQ 36.03125 48 33.890625 48 \r\nQ 26.265625 48 22.1875 43.046875 \r\nQ 18.109375 38.09375 18.109375 28.8125 \r\nL 18.109375 0 \r\nL 9.078125 0 \r\nL 9.078125 54.6875 \r\nL 18.109375 54.6875 \r\nL 18.109375 46.1875 \r\nQ 20.953125 51.171875 25.484375 53.578125 \r\nQ 30.03125 56 36.53125 56 \r\nQ 37.453125 56 38.578125 55.875 \r\nQ 39.703125 55.765625 41.0625 55.515625 \r\nz\r\n\" id=\"DejaVuSans-114\"/>\r\n      <path d=\"M 48.6875 27.296875 \r\nQ 48.6875 37.203125 44.609375 42.84375 \r\nQ 40.53125 48.484375 33.40625 48.484375 \r\nQ 26.265625 48.484375 22.1875 42.84375 \r\nQ 18.109375 37.203125 18.109375 27.296875 \r\nQ 18.109375 17.390625 22.1875 11.75 \r\nQ 26.265625 6.109375 33.40625 6.109375 \r\nQ 40.53125 6.109375 44.609375 11.75 \r\nQ 48.6875 17.390625 48.6875 27.296875 \r\nz\r\nM 18.109375 46.390625 \r\nQ 20.953125 51.265625 25.265625 53.625 \r\nQ 29.59375 56 35.59375 56 \r\nQ 45.5625 56 51.78125 48.09375 \r\nQ 58.015625 40.1875 58.015625 27.296875 \r\nQ 58.015625 14.40625 51.78125 6.484375 \r\nQ 45.5625 -1.421875 35.59375 -1.421875 \r\nQ 29.59375 -1.421875 25.265625 0.953125 \r\nQ 20.953125 3.328125 18.109375 8.203125 \r\nL 18.109375 0 \r\nL 9.078125 0 \r\nL 9.078125 75.984375 \r\nL 18.109375 75.984375 \r\nz\r\n\" id=\"DejaVuSans-98\"/>\r\n      <path d=\"M 32.171875 -5.078125 \r\nQ 28.375 -14.84375 24.75 -17.8125 \r\nQ 21.140625 -20.796875 15.09375 -20.796875 \r\nL 7.90625 -20.796875 \r\nL 7.90625 -13.28125 \r\nL 13.1875 -13.28125 \r\nQ 16.890625 -13.28125 18.9375 -11.515625 \r\nQ 21 -9.765625 23.484375 -3.21875 \r\nL 25.09375 0.875 \r\nL 2.984375 54.6875 \r\nL 12.5 54.6875 \r\nL 29.59375 11.921875 \r\nL 46.6875 54.6875 \r\nL 56.203125 54.6875 \r\nz\r\n\" id=\"DejaVuSans-121\"/>\r\n      <path d=\"M 31 75.875 \r\nQ 24.46875 64.65625 21.28125 53.65625 \r\nQ 18.109375 42.671875 18.109375 31.390625 \r\nQ 18.109375 20.125 21.3125 9.0625 \r\nQ 24.515625 -2 31 -13.1875 \r\nL 23.1875 -13.1875 \r\nQ 15.875 -1.703125 12.234375 9.375 \r\nQ 8.59375 20.453125 8.59375 31.390625 \r\nQ 8.59375 42.28125 12.203125 53.3125 \r\nQ 15.828125 64.359375 23.1875 75.875 \r\nz\r\n\" id=\"DejaVuSans-40\"/>\r\n      <path d=\"M 9.8125 72.90625 \r\nL 24.515625 72.90625 \r\nL 43.109375 23.296875 \r\nL 61.8125 72.90625 \r\nL 76.515625 72.90625 \r\nL 76.515625 0 \r\nL 66.890625 0 \r\nL 66.890625 64.015625 \r\nL 48.09375 14.015625 \r\nL 38.1875 14.015625 \r\nL 19.390625 64.015625 \r\nL 19.390625 0 \r\nL 9.8125 0 \r\nz\r\n\" id=\"DejaVuSans-77\"/>\r\n      <path d=\"M 53.515625 70.515625 \r\nL 53.515625 60.890625 \r\nQ 47.90625 63.578125 42.921875 64.890625 \r\nQ 37.9375 66.21875 33.296875 66.21875 \r\nQ 25.25 66.21875 20.875 63.09375 \r\nQ 16.5 59.96875 16.5 54.203125 \r\nQ 16.5 49.359375 19.40625 46.890625 \r\nQ 22.3125 44.4375 30.421875 42.921875 \r\nL 36.375 41.703125 \r\nQ 47.40625 39.59375 52.65625 34.296875 \r\nQ 57.90625 29 57.90625 20.125 \r\nQ 57.90625 9.515625 50.796875 4.046875 \r\nQ 43.703125 -1.421875 29.984375 -1.421875 \r\nQ 24.8125 -1.421875 18.96875 -0.25 \r\nQ 13.140625 0.921875 6.890625 3.21875 \r\nL 6.890625 13.375 \r\nQ 12.890625 10.015625 18.65625 8.296875 \r\nQ 24.421875 6.59375 29.984375 6.59375 \r\nQ 38.421875 6.59375 43.015625 9.90625 \r\nQ 47.609375 13.234375 47.609375 19.390625 \r\nQ 47.609375 24.75 44.3125 27.78125 \r\nQ 41.015625 30.8125 33.5 32.328125 \r\nL 27.484375 33.5 \r\nQ 16.453125 35.6875 11.515625 40.375 \r\nQ 6.59375 45.0625 6.59375 53.421875 \r\nQ 6.59375 63.09375 13.40625 68.65625 \r\nQ 20.21875 74.21875 32.171875 74.21875 \r\nQ 37.3125 74.21875 42.625 73.28125 \r\nQ 47.953125 72.359375 53.515625 70.515625 \r\nz\r\n\" id=\"DejaVuSans-83\"/>\r\n      <path d=\"M 54.890625 33.015625 \r\nL 54.890625 0 \r\nL 45.90625 0 \r\nL 45.90625 32.71875 \r\nQ 45.90625 40.484375 42.875 44.328125 \r\nQ 39.84375 48.1875 33.796875 48.1875 \r\nQ 26.515625 48.1875 22.3125 43.546875 \r\nQ 18.109375 38.921875 18.109375 30.90625 \r\nL 18.109375 0 \r\nL 9.078125 0 \r\nL 9.078125 75.984375 \r\nL 18.109375 75.984375 \r\nL 18.109375 46.1875 \r\nQ 21.34375 51.125 25.703125 53.5625 \r\nQ 30.078125 56 35.796875 56 \r\nQ 45.21875 56 50.046875 50.171875 \r\nQ 54.890625 44.34375 54.890625 33.015625 \r\nz\r\n\" id=\"DejaVuSans-104\"/>\r\n      <path d=\"M 9.421875 54.6875 \r\nL 18.40625 54.6875 \r\nL 18.40625 0 \r\nL 9.421875 0 \r\nz\r\nM 9.421875 75.984375 \r\nL 18.40625 75.984375 \r\nL 18.40625 64.59375 \r\nL 9.421875 64.59375 \r\nz\r\n\" id=\"DejaVuSans-105\"/>\r\n      <path d=\"M 37.109375 75.984375 \r\nL 37.109375 68.5 \r\nL 28.515625 68.5 \r\nQ 23.6875 68.5 21.796875 66.546875 \r\nQ 19.921875 64.59375 19.921875 59.515625 \r\nL 19.921875 54.6875 \r\nL 34.71875 54.6875 \r\nL 34.71875 47.703125 \r\nL 19.921875 47.703125 \r\nL 19.921875 0 \r\nL 10.890625 0 \r\nL 10.890625 47.703125 \r\nL 2.296875 47.703125 \r\nL 2.296875 54.6875 \r\nL 10.890625 54.6875 \r\nL 10.890625 58.5 \r\nQ 10.890625 67.625 15.140625 71.796875 \r\nQ 19.390625 75.984375 28.609375 75.984375 \r\nz\r\n\" id=\"DejaVuSans-102\"/>\r\n      <path d=\"M 8.015625 75.875 \r\nL 15.828125 75.875 \r\nQ 23.140625 64.359375 26.78125 53.3125 \r\nQ 30.421875 42.28125 30.421875 31.390625 \r\nQ 30.421875 20.453125 26.78125 9.375 \r\nQ 23.140625 -1.703125 15.828125 -13.1875 \r\nL 8.015625 -13.1875 \r\nQ 14.5 -2 17.703125 9.0625 \r\nQ 20.90625 20.125 20.90625 31.390625 \r\nQ 20.90625 42.671875 17.703125 53.65625 \r\nQ 14.5 64.65625 8.015625 75.875 \r\nz\r\n\" id=\"DejaVuSans-41\"/>\r\n     </defs>\r\n     <use xlink:href=\"#DejaVuSans-67\"/>\r\n     <use x=\"69.824219\" xlink:href=\"#DejaVuSans-117\"/>\r\n     <use x=\"133.203125\" xlink:href=\"#DejaVuSans-115\"/>\r\n     <use x=\"185.302734\" xlink:href=\"#DejaVuSans-116\"/>\r\n     <use x=\"224.511719\" xlink:href=\"#DejaVuSans-111\"/>\r\n     <use x=\"285.693359\" xlink:href=\"#DejaVuSans-109\"/>\r\n     <use x=\"383.105469\" xlink:href=\"#DejaVuSans-101\"/>\r\n     <use x=\"444.628906\" xlink:href=\"#DejaVuSans-114\"/>\r\n     <use x=\"485.742188\" xlink:href=\"#DejaVuSans-115\"/>\r\n     <use x=\"537.841797\" xlink:href=\"#DejaVuSans-32\"/>\r\n     <use x=\"569.628906\" xlink:href=\"#DejaVuSans-98\"/>\r\n     <use x=\"633.105469\" xlink:href=\"#DejaVuSans-121\"/>\r\n     <use x=\"692.285156\" xlink:href=\"#DejaVuSans-32\"/>\r\n     <use x=\"724.072266\" xlink:href=\"#DejaVuSans-99\"/>\r\n     <use x=\"779.052734\" xlink:href=\"#DejaVuSans-111\"/>\r\n     <use x=\"840.234375\" xlink:href=\"#DejaVuSans-108\"/>\r\n     <use x=\"868.017578\" xlink:href=\"#DejaVuSans-111\"/>\r\n     <use x=\"929.199219\" xlink:href=\"#DejaVuSans-114\"/>\r\n     <use x=\"970.3125\" xlink:href=\"#DejaVuSans-32\"/>\r\n     <use x=\"1002.099609\" xlink:href=\"#DejaVuSans-40\"/>\r\n     <use x=\"1041.113281\" xlink:href=\"#DejaVuSans-77\"/>\r\n     <use x=\"1127.392578\" xlink:href=\"#DejaVuSans-101\"/>\r\n     <use x=\"1188.916016\" xlink:href=\"#DejaVuSans-97\"/>\r\n     <use x=\"1250.195312\" xlink:href=\"#DejaVuSans-110\"/>\r\n     <use x=\"1313.574219\" xlink:href=\"#DejaVuSans-32\"/>\r\n     <use x=\"1345.361328\" xlink:href=\"#DejaVuSans-83\"/>\r\n     <use x=\"1408.837891\" xlink:href=\"#DejaVuSans-104\"/>\r\n     <use x=\"1472.216797\" xlink:href=\"#DejaVuSans-105\"/>\r\n     <use x=\"1500\" xlink:href=\"#DejaVuSans-102\"/>\r\n     <use x=\"1533.455078\" xlink:href=\"#DejaVuSans-116\"/>\r\n     <use x=\"1572.664062\" xlink:href=\"#DejaVuSans-32\"/>\r\n     <use x=\"1604.451172\" xlink:href=\"#DejaVuSans-99\"/>\r\n     <use x=\"1659.431641\" xlink:href=\"#DejaVuSans-108\"/>\r\n     <use x=\"1687.214844\" xlink:href=\"#DejaVuSans-117\"/>\r\n     <use x=\"1750.59375\" xlink:href=\"#DejaVuSans-115\"/>\r\n     <use x=\"1802.693359\" xlink:href=\"#DejaVuSans-116\"/>\r\n     <use x=\"1841.902344\" xlink:href=\"#DejaVuSans-101\"/>\r\n     <use x=\"1903.425781\" xlink:href=\"#DejaVuSans-114\"/>\r\n     <use x=\"1944.539062\" xlink:href=\"#DejaVuSans-105\"/>\r\n     <use x=\"1972.322266\" xlink:href=\"#DejaVuSans-110\"/>\r\n     <use x=\"2035.701172\" xlink:href=\"#DejaVuSans-103\"/>\r\n     <use x=\"2099.177734\" xlink:href=\"#DejaVuSans-41\"/>\r\n    </g>\r\n   </g>\r\n   <g id=\"legend_1\">\r\n    <g id=\"patch_7\">\r\n     <path d=\"M 867.805313 124.465625 \r\nL 990.027188 124.465625 \r\nQ 992.027188 124.465625 992.027188 122.465625 \r\nL 992.027188 35.396875 \r\nQ 992.027188 33.396875 990.027188 33.396875 \r\nL 867.805313 33.396875 \r\nQ 865.805313 33.396875 865.805313 35.396875 \r\nL 865.805313 122.465625 \r\nQ 865.805313 124.465625 867.805313 124.465625 \r\nz\r\n\" style=\"fill:#ffffff;opacity:0.8;stroke:#cccccc;stroke-linejoin:miter;\"/>\r\n    </g>\r\n    <g id=\"text_17\">\r\n     <!-- Spending Score (1-100) -->\r\n     <g transform=\"translate(869.805313 44.995312)scale(0.1 -0.1)\">\r\n      <defs>\r\n       <path d=\"M 18.109375 8.203125 \r\nL 18.109375 -20.796875 \r\nL 9.078125 -20.796875 \r\nL 9.078125 54.6875 \r\nL 18.109375 54.6875 \r\nL 18.109375 46.390625 \r\nQ 20.953125 51.265625 25.265625 53.625 \r\nQ 29.59375 56 35.59375 56 \r\nQ 45.5625 56 51.78125 48.09375 \r\nQ 58.015625 40.1875 58.015625 27.296875 \r\nQ 58.015625 14.40625 51.78125 6.484375 \r\nQ 45.5625 -1.421875 35.59375 -1.421875 \r\nQ 29.59375 -1.421875 25.265625 0.953125 \r\nQ 20.953125 3.328125 18.109375 8.203125 \r\nz\r\nM 48.6875 27.296875 \r\nQ 48.6875 37.203125 44.609375 42.84375 \r\nQ 40.53125 48.484375 33.40625 48.484375 \r\nQ 26.265625 48.484375 22.1875 42.84375 \r\nQ 18.109375 37.203125 18.109375 27.296875 \r\nQ 18.109375 17.390625 22.1875 11.75 \r\nQ 26.265625 6.109375 33.40625 6.109375 \r\nQ 40.53125 6.109375 44.609375 11.75 \r\nQ 48.6875 17.390625 48.6875 27.296875 \r\nz\r\n\" id=\"DejaVuSans-112\"/>\r\n       <path d=\"M 45.40625 46.390625 \r\nL 45.40625 75.984375 \r\nL 54.390625 75.984375 \r\nL 54.390625 0 \r\nL 45.40625 0 \r\nL 45.40625 8.203125 \r\nQ 42.578125 3.328125 38.25 0.953125 \r\nQ 33.9375 -1.421875 27.875 -1.421875 \r\nQ 17.96875 -1.421875 11.734375 6.484375 \r\nQ 5.515625 14.40625 5.515625 27.296875 \r\nQ 5.515625 40.1875 11.734375 48.09375 \r\nQ 17.96875 56 27.875 56 \r\nQ 33.9375 56 38.25 53.625 \r\nQ 42.578125 51.265625 45.40625 46.390625 \r\nz\r\nM 14.796875 27.296875 \r\nQ 14.796875 17.390625 18.875 11.75 \r\nQ 22.953125 6.109375 30.078125 6.109375 \r\nQ 37.203125 6.109375 41.296875 11.75 \r\nQ 45.40625 17.390625 45.40625 27.296875 \r\nQ 45.40625 37.203125 41.296875 42.84375 \r\nQ 37.203125 48.484375 30.078125 48.484375 \r\nQ 22.953125 48.484375 18.875 42.84375 \r\nQ 14.796875 37.203125 14.796875 27.296875 \r\nz\r\n\" id=\"DejaVuSans-100\"/>\r\n       <path d=\"M 4.890625 31.390625 \r\nL 31.203125 31.390625 \r\nL 31.203125 23.390625 \r\nL 4.890625 23.390625 \r\nz\r\n\" id=\"DejaVuSans-45\"/>\r\n      </defs>\r\n      <use xlink:href=\"#DejaVuSans-83\"/>\r\n      <use x=\"63.476562\" xlink:href=\"#DejaVuSans-112\"/>\r\n      <use x=\"126.953125\" xlink:href=\"#DejaVuSans-101\"/>\r\n      <use x=\"188.476562\" xlink:href=\"#DejaVuSans-110\"/>\r\n      <use x=\"251.855469\" xlink:href=\"#DejaVuSans-100\"/>\r\n      <use x=\"315.332031\" xlink:href=\"#DejaVuSans-105\"/>\r\n      <use x=\"343.115234\" xlink:href=\"#DejaVuSans-110\"/>\r\n      <use x=\"406.494141\" xlink:href=\"#DejaVuSans-103\"/>\r\n      <use x=\"469.970703\" xlink:href=\"#DejaVuSans-32\"/>\r\n      <use x=\"501.757812\" xlink:href=\"#DejaVuSans-83\"/>\r\n      <use x=\"565.234375\" xlink:href=\"#DejaVuSans-99\"/>\r\n      <use x=\"620.214844\" xlink:href=\"#DejaVuSans-111\"/>\r\n      <use x=\"681.396484\" xlink:href=\"#DejaVuSans-114\"/>\r\n      <use x=\"720.259766\" xlink:href=\"#DejaVuSans-101\"/>\r\n      <use x=\"781.783203\" xlink:href=\"#DejaVuSans-32\"/>\r\n      <use x=\"813.570312\" xlink:href=\"#DejaVuSans-40\"/>\r\n      <use x=\"852.583984\" xlink:href=\"#DejaVuSans-49\"/>\r\n      <use x=\"916.207031\" xlink:href=\"#DejaVuSans-45\"/>\r\n      <use x=\"952.291016\" xlink:href=\"#DejaVuSans-49\"/>\r\n      <use x=\"1015.914062\" xlink:href=\"#DejaVuSans-48\"/>\r\n      <use x=\"1079.537109\" xlink:href=\"#DejaVuSans-48\"/>\r\n      <use x=\"1143.160156\" xlink:href=\"#DejaVuSans-41\"/>\r\n     </g>\r\n    </g>\r\n    <g id=\"PathCollection_8\">\r\n     <defs>\r\n      <path d=\"M 0 3 \r\nC 0.795609 3 1.55874 2.683901 2.12132 2.12132 \r\nC 2.683901 1.55874 3 0.795609 3 0 \r\nC 3 -0.795609 2.683901 -1.55874 2.12132 -2.12132 \r\nC 1.55874 -2.683901 0.795609 -3 0 -3 \r\nC -0.795609 -3 -1.55874 -2.683901 -2.12132 -2.12132 \r\nC -2.683901 -1.55874 -3 -0.795609 -3 0 \r\nC -3 0.795609 -2.683901 1.55874 -2.12132 2.12132 \r\nC -1.55874 2.683901 -0.795609 3 0 3 \r\nz\r\n\" id=\"mfaad7a8834\" style=\"stroke:#1f77b4;\"/>\r\n     </defs>\r\n     <g>\r\n      <use style=\"fill:#1f77b4;stroke:#1f77b4;\" x=\"918.55375\" xlink:href=\"#mfaad7a8834\" y=\"57.048437\"/>\r\n     </g>\r\n    </g>\r\n    <g id=\"text_18\">\r\n     <!-- 0 -->\r\n     <g transform=\"translate(936.55375 59.673437)scale(0.1 -0.1)\">\r\n      <use xlink:href=\"#DejaVuSans-48\"/>\r\n     </g>\r\n    </g>\r\n    <g id=\"PathCollection_9\">\r\n     <defs>\r\n      <path d=\"M 0 5.123475 \r\nC 1.358762 5.123475 2.662055 4.583634 3.622844 3.622844 \r\nC 4.583634 2.662055 5.123475 1.358762 5.123475 0 \r\nC 5.123475 -1.358762 4.583634 -2.662055 3.622844 -3.622844 \r\nC 2.662055 -4.583634 1.358762 -5.123475 0 -5.123475 \r\nC -1.358762 -5.123475 -2.662055 -4.583634 -3.622844 -3.622844 \r\nC -4.583634 -2.662055 -5.123475 -1.358762 -5.123475 0 \r\nC -5.123475 1.358762 -4.583634 2.662055 -3.622844 3.622844 \r\nC -2.662055 4.583634 -1.358762 5.123475 0 5.123475 \r\nz\r\n\" id=\"mc1e3d26fc6\" style=\"stroke:#333333;\"/>\r\n     </defs>\r\n     <g>\r\n      <use style=\"fill:#333333;stroke:#333333;\" x=\"918.55375\" xlink:href=\"#mc1e3d26fc6\" y=\"71.726562\"/>\r\n     </g>\r\n    </g>\r\n    <g id=\"text_19\">\r\n     <!-- 20 -->\r\n     <g transform=\"translate(936.55375 74.351562)scale(0.1 -0.1)\">\r\n      <use xlink:href=\"#DejaVuSans-50\"/>\r\n      <use x=\"63.623047\" xlink:href=\"#DejaVuSans-48\"/>\r\n     </g>\r\n    </g>\r\n    <g id=\"PathCollection_10\">\r\n     <defs>\r\n      <path d=\"M 0 7.158911 \r\nC 1.898565 7.158911 3.719626 6.404603 5.062114 5.062114 \r\nC 6.404603 3.719626 7.158911 1.898565 7.158911 0 \r\nC 7.158911 -1.898565 6.404603 -3.719626 5.062114 -5.062114 \r\nC 3.719626 -6.404603 1.898565 -7.158911 0 -7.158911 \r\nC -1.898565 -7.158911 -3.719626 -6.404603 -5.062114 -5.062114 \r\nC -6.404603 -3.719626 -7.158911 -1.898565 -7.158911 0 \r\nC -7.158911 1.898565 -6.404603 3.719626 -5.062114 5.062114 \r\nC -3.719626 6.404603 -1.898565 7.158911 0 7.158911 \r\nz\r\n\" id=\"mc03c32c9cc\" style=\"stroke:#333333;\"/>\r\n     </defs>\r\n     <g>\r\n      <use style=\"fill:#333333;stroke:#333333;\" x=\"918.55375\" xlink:href=\"#mc03c32c9cc\" y=\"86.404687\"/>\r\n     </g>\r\n    </g>\r\n    <g id=\"text_20\">\r\n     <!-- 40 -->\r\n     <g transform=\"translate(936.55375 89.029687)scale(0.1 -0.1)\">\r\n      <defs>\r\n       <path d=\"M 37.796875 64.3125 \r\nL 12.890625 25.390625 \r\nL 37.796875 25.390625 \r\nz\r\nM 35.203125 72.90625 \r\nL 47.609375 72.90625 \r\nL 47.609375 25.390625 \r\nL 58.015625 25.390625 \r\nL 58.015625 17.1875 \r\nL 47.609375 17.1875 \r\nL 47.609375 0 \r\nL 37.796875 0 \r\nL 37.796875 17.1875 \r\nL 4.890625 17.1875 \r\nL 4.890625 26.703125 \r\nz\r\n\" id=\"DejaVuSans-52\"/>\r\n      </defs>\r\n      <use xlink:href=\"#DejaVuSans-52\"/>\r\n      <use x=\"63.623047\" xlink:href=\"#DejaVuSans-48\"/>\r\n     </g>\r\n    </g>\r\n    <g id=\"PathCollection_11\">\r\n     <defs>\r\n      <path d=\"M 0 8.732125 \r\nC 2.315787 8.732125 4.537036 7.812053 6.174545 6.174545 \r\nC 7.812053 4.537036 8.732125 2.315787 8.732125 0 \r\nC 8.732125 -2.315787 7.812053 -4.537036 6.174545 -6.174545 \r\nC 4.537036 -7.812053 2.315787 -8.732125 0 -8.732125 \r\nC -2.315787 -8.732125 -4.537036 -7.812053 -6.174545 -6.174545 \r\nC -7.812053 -4.537036 -8.732125 -2.315787 -8.732125 0 \r\nC -8.732125 2.315787 -7.812053 4.537036 -6.174545 6.174545 \r\nC -4.537036 7.812053 -2.315787 8.732125 0 8.732125 \r\nz\r\n\" id=\"mc0faec9b9b\" style=\"stroke:#333333;\"/>\r\n     </defs>\r\n     <g>\r\n      <use style=\"fill:#333333;stroke:#333333;\" x=\"918.55375\" xlink:href=\"#mc0faec9b9b\" y=\"101.082812\"/>\r\n     </g>\r\n    </g>\r\n    <g id=\"text_21\">\r\n     <!-- 60 -->\r\n     <g transform=\"translate(936.55375 103.707812)scale(0.1 -0.1)\">\r\n      <defs>\r\n       <path d=\"M 33.015625 40.375 \r\nQ 26.375 40.375 22.484375 35.828125 \r\nQ 18.609375 31.296875 18.609375 23.390625 \r\nQ 18.609375 15.53125 22.484375 10.953125 \r\nQ 26.375 6.390625 33.015625 6.390625 \r\nQ 39.65625 6.390625 43.53125 10.953125 \r\nQ 47.40625 15.53125 47.40625 23.390625 \r\nQ 47.40625 31.296875 43.53125 35.828125 \r\nQ 39.65625 40.375 33.015625 40.375 \r\nz\r\nM 52.59375 71.296875 \r\nL 52.59375 62.3125 \r\nQ 48.875 64.0625 45.09375 64.984375 \r\nQ 41.3125 65.921875 37.59375 65.921875 \r\nQ 27.828125 65.921875 22.671875 59.328125 \r\nQ 17.53125 52.734375 16.796875 39.40625 \r\nQ 19.671875 43.65625 24.015625 45.921875 \r\nQ 28.375 48.1875 33.59375 48.1875 \r\nQ 44.578125 48.1875 50.953125 41.515625 \r\nQ 57.328125 34.859375 57.328125 23.390625 \r\nQ 57.328125 12.15625 50.6875 5.359375 \r\nQ 44.046875 -1.421875 33.015625 -1.421875 \r\nQ 20.359375 -1.421875 13.671875 8.265625 \r\nQ 6.984375 17.96875 6.984375 36.375 \r\nQ 6.984375 53.65625 15.1875 63.9375 \r\nQ 23.390625 74.21875 37.203125 74.21875 \r\nQ 40.921875 74.21875 44.703125 73.484375 \r\nQ 48.484375 72.75 52.59375 71.296875 \r\nz\r\n\" id=\"DejaVuSans-54\"/>\r\n      </defs>\r\n      <use xlink:href=\"#DejaVuSans-54\"/>\r\n      <use x=\"63.623047\" xlink:href=\"#DejaVuSans-48\"/>\r\n     </g>\r\n    </g>\r\n    <g id=\"PathCollection_12\">\r\n     <defs>\r\n      <path d=\"M 0 10.062306 \r\nC 2.668555 10.062306 5.228172 9.002078 7.115125 7.115125 \r\nC 9.002078 5.228172 10.062306 2.668555 10.062306 0 \r\nC 10.062306 -2.668555 9.002078 -5.228172 7.115125 -7.115125 \r\nC 5.228172 -9.002078 2.668555 -10.062306 0 -10.062306 \r\nC -2.668555 -10.062306 -5.228172 -9.002078 -7.115125 -7.115125 \r\nC -9.002078 -5.228172 -10.062306 -2.668555 -10.062306 0 \r\nC -10.062306 2.668555 -9.002078 5.228172 -7.115125 7.115125 \r\nC -5.228172 9.002078 -2.668555 10.062306 0 10.062306 \r\nz\r\n\" id=\"m2fa9f9c804\" style=\"stroke:#333333;\"/>\r\n     </defs>\r\n     <g>\r\n      <use style=\"fill:#333333;stroke:#333333;\" x=\"918.55375\" xlink:href=\"#m2fa9f9c804\" y=\"115.760937\"/>\r\n     </g>\r\n    </g>\r\n    <g id=\"text_22\">\r\n     <!-- 80 -->\r\n     <g transform=\"translate(936.55375 118.385937)scale(0.1 -0.1)\">\r\n      <defs>\r\n       <path d=\"M 31.78125 34.625 \r\nQ 24.75 34.625 20.71875 30.859375 \r\nQ 16.703125 27.09375 16.703125 20.515625 \r\nQ 16.703125 13.921875 20.71875 10.15625 \r\nQ 24.75 6.390625 31.78125 6.390625 \r\nQ 38.8125 6.390625 42.859375 10.171875 \r\nQ 46.921875 13.96875 46.921875 20.515625 \r\nQ 46.921875 27.09375 42.890625 30.859375 \r\nQ 38.875 34.625 31.78125 34.625 \r\nz\r\nM 21.921875 38.8125 \r\nQ 15.578125 40.375 12.03125 44.71875 \r\nQ 8.5 49.078125 8.5 55.328125 \r\nQ 8.5 64.0625 14.71875 69.140625 \r\nQ 20.953125 74.21875 31.78125 74.21875 \r\nQ 42.671875 74.21875 48.875 69.140625 \r\nQ 55.078125 64.0625 55.078125 55.328125 \r\nQ 55.078125 49.078125 51.53125 44.71875 \r\nQ 48 40.375 41.703125 38.8125 \r\nQ 48.828125 37.15625 52.796875 32.3125 \r\nQ 56.78125 27.484375 56.78125 20.515625 \r\nQ 56.78125 9.90625 50.3125 4.234375 \r\nQ 43.84375 -1.421875 31.78125 -1.421875 \r\nQ 19.734375 -1.421875 13.25 4.234375 \r\nQ 6.78125 9.90625 6.78125 20.515625 \r\nQ 6.78125 27.484375 10.78125 32.3125 \r\nQ 14.796875 37.15625 21.921875 38.8125 \r\nz\r\nM 18.3125 54.390625 \r\nQ 18.3125 48.734375 21.84375 45.5625 \r\nQ 25.390625 42.390625 31.78125 42.390625 \r\nQ 38.140625 42.390625 41.71875 45.5625 \r\nQ 45.3125 48.734375 45.3125 54.390625 \r\nQ 45.3125 60.0625 41.71875 63.234375 \r\nQ 38.140625 66.40625 31.78125 66.40625 \r\nQ 25.390625 66.40625 21.84375 63.234375 \r\nQ 18.3125 60.0625 18.3125 54.390625 \r\nz\r\n\" id=\"DejaVuSans-56\"/>\r\n      </defs>\r\n      <use xlink:href=\"#DejaVuSans-56\"/>\r\n      <use x=\"63.623047\" xlink:href=\"#DejaVuSans-48\"/>\r\n     </g>\r\n    </g>\r\n   </g>\r\n  </g>\r\n </g>\r\n <defs>\r\n  <clipPath id=\"pd9aac72c43\">\r\n   <rect height=\"489.24\" width=\"948.6\" x=\"48.427188\" y=\"28.396875\"/>\r\n  </clipPath>\r\n </defs>\r\n</svg>\r\n",
      "text/plain": [
       "<Figure size 1224x648 with 1 Axes>"
      ]
     },
     "metadata": {
      "needs_background": "light"
     },
     "output_type": "display_data"
    }
   ],
   "source": [
    "# Try Mean Shift Clustering\n",
    "ms = MeanShift()\n",
    "ms.fit(df_scaled)\n",
    "cluster_centers = ms.cluster_centers_\n",
    "\n",
    "fig, ax = plt.subplots(figsize=(17,9))\n",
    "ax = sns.scatterplot(x=df_scaled['Age'], y=df_scaled['Annual Income'], hue=ms.labels_, size=df['Spending Score (1-100)'], sizes=(10,500), alpha=0.7)\n",
    "ax = sns.scatterplot(x=cluster_centers[:, 0], y=cluster_centers[:, 1],\n",
    "                      s=400, ec='black', legend=False, ax=ax, marker='x')\n",
    "plt.title('Customers by color (Mean Shift clustering)', fontsize=20)\n",
    "plt.xlabel('Age', fontsize=16)\n",
    "plt.ylabel('Annual Income', fontsize=16)\n",
    "plt.show()"
   ]
  },
  {
   "cell_type": "markdown",
   "metadata": {},
   "source": [
    "## We see that the algorithm only found 1 group of customers."
   ]
  },
  {
   "cell_type": "code",
   "execution_count": 33,
   "metadata": {},
   "outputs": [
    {
     "data": {
      "application/vnd.plotly.v1+json": {
       "config": {
        "plotlyServerURL": "https://plot.ly"
       },
       "data": [
        {
         "hovertemplate": "label=0<br>value=%{r}<br>variable=%{theta}<extra></extra>",
         "legendgroup": "0",
         "line": {
          "color": "#636efa",
          "dash": "solid"
         },
         "mode": "lines",
         "name": "0",
         "r": [
          -9.603429163007604e-17,
          -6.128431095930864e-16,
          -1.121325254871408e-16,
          -9.603429163007604e-17
         ],
         "showlegend": true,
         "subplot": "polar",
         "theta": [
          "Age",
          "Annual Income",
          "Spending Score",
          "Age"
         ],
         "type": "scatterpolar"
        }
       ],
       "layout": {
        "height": 800,
        "legend": {
         "title": {
          "text": "label"
         },
         "tracegroupgap": 0
        },
        "polar": {
         "angularaxis": {
          "direction": "clockwise",
          "rotation": 90
         },
         "domain": {
          "x": [
           0,
           1
          ],
          "y": [
           0,
           1
          ]
         }
        },
        "template": {
         "data": {
          "bar": [
           {
            "error_x": {
             "color": "#2a3f5f"
            },
            "error_y": {
             "color": "#2a3f5f"
            },
            "marker": {
             "line": {
              "color": "#E5ECF6",
              "width": 0.5
             }
            },
            "type": "bar"
           }
          ],
          "barpolar": [
           {
            "marker": {
             "line": {
              "color": "#E5ECF6",
              "width": 0.5
             }
            },
            "type": "barpolar"
           }
          ],
          "carpet": [
           {
            "aaxis": {
             "endlinecolor": "#2a3f5f",
             "gridcolor": "white",
             "linecolor": "white",
             "minorgridcolor": "white",
             "startlinecolor": "#2a3f5f"
            },
            "baxis": {
             "endlinecolor": "#2a3f5f",
             "gridcolor": "white",
             "linecolor": "white",
             "minorgridcolor": "white",
             "startlinecolor": "#2a3f5f"
            },
            "type": "carpet"
           }
          ],
          "choropleth": [
           {
            "colorbar": {
             "outlinewidth": 0,
             "ticks": ""
            },
            "type": "choropleth"
           }
          ],
          "contour": [
           {
            "colorbar": {
             "outlinewidth": 0,
             "ticks": ""
            },
            "colorscale": [
             [
              0,
              "#0d0887"
             ],
             [
              0.1111111111111111,
              "#46039f"
             ],
             [
              0.2222222222222222,
              "#7201a8"
             ],
             [
              0.3333333333333333,
              "#9c179e"
             ],
             [
              0.4444444444444444,
              "#bd3786"
             ],
             [
              0.5555555555555556,
              "#d8576b"
             ],
             [
              0.6666666666666666,
              "#ed7953"
             ],
             [
              0.7777777777777778,
              "#fb9f3a"
             ],
             [
              0.8888888888888888,
              "#fdca26"
             ],
             [
              1,
              "#f0f921"
             ]
            ],
            "type": "contour"
           }
          ],
          "contourcarpet": [
           {
            "colorbar": {
             "outlinewidth": 0,
             "ticks": ""
            },
            "type": "contourcarpet"
           }
          ],
          "heatmap": [
           {
            "colorbar": {
             "outlinewidth": 0,
             "ticks": ""
            },
            "colorscale": [
             [
              0,
              "#0d0887"
             ],
             [
              0.1111111111111111,
              "#46039f"
             ],
             [
              0.2222222222222222,
              "#7201a8"
             ],
             [
              0.3333333333333333,
              "#9c179e"
             ],
             [
              0.4444444444444444,
              "#bd3786"
             ],
             [
              0.5555555555555556,
              "#d8576b"
             ],
             [
              0.6666666666666666,
              "#ed7953"
             ],
             [
              0.7777777777777778,
              "#fb9f3a"
             ],
             [
              0.8888888888888888,
              "#fdca26"
             ],
             [
              1,
              "#f0f921"
             ]
            ],
            "type": "heatmap"
           }
          ],
          "heatmapgl": [
           {
            "colorbar": {
             "outlinewidth": 0,
             "ticks": ""
            },
            "colorscale": [
             [
              0,
              "#0d0887"
             ],
             [
              0.1111111111111111,
              "#46039f"
             ],
             [
              0.2222222222222222,
              "#7201a8"
             ],
             [
              0.3333333333333333,
              "#9c179e"
             ],
             [
              0.4444444444444444,
              "#bd3786"
             ],
             [
              0.5555555555555556,
              "#d8576b"
             ],
             [
              0.6666666666666666,
              "#ed7953"
             ],
             [
              0.7777777777777778,
              "#fb9f3a"
             ],
             [
              0.8888888888888888,
              "#fdca26"
             ],
             [
              1,
              "#f0f921"
             ]
            ],
            "type": "heatmapgl"
           }
          ],
          "histogram": [
           {
            "marker": {
             "colorbar": {
              "outlinewidth": 0,
              "ticks": ""
             }
            },
            "type": "histogram"
           }
          ],
          "histogram2d": [
           {
            "colorbar": {
             "outlinewidth": 0,
             "ticks": ""
            },
            "colorscale": [
             [
              0,
              "#0d0887"
             ],
             [
              0.1111111111111111,
              "#46039f"
             ],
             [
              0.2222222222222222,
              "#7201a8"
             ],
             [
              0.3333333333333333,
              "#9c179e"
             ],
             [
              0.4444444444444444,
              "#bd3786"
             ],
             [
              0.5555555555555556,
              "#d8576b"
             ],
             [
              0.6666666666666666,
              "#ed7953"
             ],
             [
              0.7777777777777778,
              "#fb9f3a"
             ],
             [
              0.8888888888888888,
              "#fdca26"
             ],
             [
              1,
              "#f0f921"
             ]
            ],
            "type": "histogram2d"
           }
          ],
          "histogram2dcontour": [
           {
            "colorbar": {
             "outlinewidth": 0,
             "ticks": ""
            },
            "colorscale": [
             [
              0,
              "#0d0887"
             ],
             [
              0.1111111111111111,
              "#46039f"
             ],
             [
              0.2222222222222222,
              "#7201a8"
             ],
             [
              0.3333333333333333,
              "#9c179e"
             ],
             [
              0.4444444444444444,
              "#bd3786"
             ],
             [
              0.5555555555555556,
              "#d8576b"
             ],
             [
              0.6666666666666666,
              "#ed7953"
             ],
             [
              0.7777777777777778,
              "#fb9f3a"
             ],
             [
              0.8888888888888888,
              "#fdca26"
             ],
             [
              1,
              "#f0f921"
             ]
            ],
            "type": "histogram2dcontour"
           }
          ],
          "mesh3d": [
           {
            "colorbar": {
             "outlinewidth": 0,
             "ticks": ""
            },
            "type": "mesh3d"
           }
          ],
          "parcoords": [
           {
            "line": {
             "colorbar": {
              "outlinewidth": 0,
              "ticks": ""
             }
            },
            "type": "parcoords"
           }
          ],
          "pie": [
           {
            "automargin": true,
            "type": "pie"
           }
          ],
          "scatter": [
           {
            "marker": {
             "colorbar": {
              "outlinewidth": 0,
              "ticks": ""
             }
            },
            "type": "scatter"
           }
          ],
          "scatter3d": [
           {
            "line": {
             "colorbar": {
              "outlinewidth": 0,
              "ticks": ""
             }
            },
            "marker": {
             "colorbar": {
              "outlinewidth": 0,
              "ticks": ""
             }
            },
            "type": "scatter3d"
           }
          ],
          "scattercarpet": [
           {
            "marker": {
             "colorbar": {
              "outlinewidth": 0,
              "ticks": ""
             }
            },
            "type": "scattercarpet"
           }
          ],
          "scattergeo": [
           {
            "marker": {
             "colorbar": {
              "outlinewidth": 0,
              "ticks": ""
             }
            },
            "type": "scattergeo"
           }
          ],
          "scattergl": [
           {
            "marker": {
             "colorbar": {
              "outlinewidth": 0,
              "ticks": ""
             }
            },
            "type": "scattergl"
           }
          ],
          "scattermapbox": [
           {
            "marker": {
             "colorbar": {
              "outlinewidth": 0,
              "ticks": ""
             }
            },
            "type": "scattermapbox"
           }
          ],
          "scatterpolar": [
           {
            "marker": {
             "colorbar": {
              "outlinewidth": 0,
              "ticks": ""
             }
            },
            "type": "scatterpolar"
           }
          ],
          "scatterpolargl": [
           {
            "marker": {
             "colorbar": {
              "outlinewidth": 0,
              "ticks": ""
             }
            },
            "type": "scatterpolargl"
           }
          ],
          "scatterternary": [
           {
            "marker": {
             "colorbar": {
              "outlinewidth": 0,
              "ticks": ""
             }
            },
            "type": "scatterternary"
           }
          ],
          "surface": [
           {
            "colorbar": {
             "outlinewidth": 0,
             "ticks": ""
            },
            "colorscale": [
             [
              0,
              "#0d0887"
             ],
             [
              0.1111111111111111,
              "#46039f"
             ],
             [
              0.2222222222222222,
              "#7201a8"
             ],
             [
              0.3333333333333333,
              "#9c179e"
             ],
             [
              0.4444444444444444,
              "#bd3786"
             ],
             [
              0.5555555555555556,
              "#d8576b"
             ],
             [
              0.6666666666666666,
              "#ed7953"
             ],
             [
              0.7777777777777778,
              "#fb9f3a"
             ],
             [
              0.8888888888888888,
              "#fdca26"
             ],
             [
              1,
              "#f0f921"
             ]
            ],
            "type": "surface"
           }
          ],
          "table": [
           {
            "cells": {
             "fill": {
              "color": "#EBF0F8"
             },
             "line": {
              "color": "white"
             }
            },
            "header": {
             "fill": {
              "color": "#C8D4E3"
             },
             "line": {
              "color": "white"
             }
            },
            "type": "table"
           }
          ]
         },
         "layout": {
          "annotationdefaults": {
           "arrowcolor": "#2a3f5f",
           "arrowhead": 0,
           "arrowwidth": 1
          },
          "autotypenumbers": "strict",
          "coloraxis": {
           "colorbar": {
            "outlinewidth": 0,
            "ticks": ""
           }
          },
          "colorscale": {
           "diverging": [
            [
             0,
             "#8e0152"
            ],
            [
             0.1,
             "#c51b7d"
            ],
            [
             0.2,
             "#de77ae"
            ],
            [
             0.3,
             "#f1b6da"
            ],
            [
             0.4,
             "#fde0ef"
            ],
            [
             0.5,
             "#f7f7f7"
            ],
            [
             0.6,
             "#e6f5d0"
            ],
            [
             0.7,
             "#b8e186"
            ],
            [
             0.8,
             "#7fbc41"
            ],
            [
             0.9,
             "#4d9221"
            ],
            [
             1,
             "#276419"
            ]
           ],
           "sequential": [
            [
             0,
             "#0d0887"
            ],
            [
             0.1111111111111111,
             "#46039f"
            ],
            [
             0.2222222222222222,
             "#7201a8"
            ],
            [
             0.3333333333333333,
             "#9c179e"
            ],
            [
             0.4444444444444444,
             "#bd3786"
            ],
            [
             0.5555555555555556,
             "#d8576b"
            ],
            [
             0.6666666666666666,
             "#ed7953"
            ],
            [
             0.7777777777777778,
             "#fb9f3a"
            ],
            [
             0.8888888888888888,
             "#fdca26"
            ],
            [
             1,
             "#f0f921"
            ]
           ],
           "sequentialminus": [
            [
             0,
             "#0d0887"
            ],
            [
             0.1111111111111111,
             "#46039f"
            ],
            [
             0.2222222222222222,
             "#7201a8"
            ],
            [
             0.3333333333333333,
             "#9c179e"
            ],
            [
             0.4444444444444444,
             "#bd3786"
            ],
            [
             0.5555555555555556,
             "#d8576b"
            ],
            [
             0.6666666666666666,
             "#ed7953"
            ],
            [
             0.7777777777777778,
             "#fb9f3a"
            ],
            [
             0.8888888888888888,
             "#fdca26"
            ],
            [
             1,
             "#f0f921"
            ]
           ]
          },
          "colorway": [
           "#636efa",
           "#EF553B",
           "#00cc96",
           "#ab63fa",
           "#FFA15A",
           "#19d3f3",
           "#FF6692",
           "#B6E880",
           "#FF97FF",
           "#FECB52"
          ],
          "font": {
           "color": "#2a3f5f"
          },
          "geo": {
           "bgcolor": "white",
           "lakecolor": "white",
           "landcolor": "#E5ECF6",
           "showlakes": true,
           "showland": true,
           "subunitcolor": "white"
          },
          "hoverlabel": {
           "align": "left"
          },
          "hovermode": "closest",
          "mapbox": {
           "style": "light"
          },
          "paper_bgcolor": "white",
          "plot_bgcolor": "#E5ECF6",
          "polar": {
           "angularaxis": {
            "gridcolor": "white",
            "linecolor": "white",
            "ticks": ""
           },
           "bgcolor": "#E5ECF6",
           "radialaxis": {
            "gridcolor": "white",
            "linecolor": "white",
            "ticks": ""
           }
          },
          "scene": {
           "xaxis": {
            "backgroundcolor": "#E5ECF6",
            "gridcolor": "white",
            "gridwidth": 2,
            "linecolor": "white",
            "showbackground": true,
            "ticks": "",
            "zerolinecolor": "white"
           },
           "yaxis": {
            "backgroundcolor": "#E5ECF6",
            "gridcolor": "white",
            "gridwidth": 2,
            "linecolor": "white",
            "showbackground": true,
            "ticks": "",
            "zerolinecolor": "white"
           },
           "zaxis": {
            "backgroundcolor": "#E5ECF6",
            "gridcolor": "white",
            "gridwidth": 2,
            "linecolor": "white",
            "showbackground": true,
            "ticks": "",
            "zerolinecolor": "white"
           }
          },
          "shapedefaults": {
           "line": {
            "color": "#2a3f5f"
           }
          },
          "ternary": {
           "aaxis": {
            "gridcolor": "white",
            "linecolor": "white",
            "ticks": ""
           },
           "baxis": {
            "gridcolor": "white",
            "linecolor": "white",
            "ticks": ""
           },
           "bgcolor": "#E5ECF6",
           "caxis": {
            "gridcolor": "white",
            "linecolor": "white",
            "ticks": ""
           }
          },
          "title": {
           "x": 0.05
          },
          "xaxis": {
           "automargin": true,
           "gridcolor": "white",
           "linecolor": "white",
           "ticks": "",
           "title": {
            "standoff": 15
           },
           "zerolinecolor": "white",
           "zerolinewidth": 2
          },
          "yaxis": {
           "automargin": true,
           "gridcolor": "white",
           "linecolor": "white",
           "ticks": "",
           "title": {
            "standoff": 15
           },
           "zerolinecolor": "white",
           "zerolinewidth": 2
          }
         }
        },
        "title": {
         "text": "Line polar chart to visualise the 1 group of customers"
        },
        "width": 1000
       }
      }
     },
     "metadata": {},
     "output_type": "display_data"
    }
   ],
   "source": [
    "# Visualising the 1 group of customers\n",
    "df_scaled_new2 = df_scaled\n",
    "df_scaled_new2['label']=ms.labels_\n",
    "polar=df_scaled_new2.groupby(\"label\").mean().reset_index()\n",
    "polar=pd.melt(polar,id_vars=[\"label\"])\n",
    "fig5 = px.line_polar(polar, r=\"value\", theta=\"variable\", color=\"label\", line_close=True,height=800,width=1000, title=\"Line polar chart to visualise the 1 group of customers\")\n",
    "fig5.show()"
   ]
  },
  {
   "cell_type": "markdown",
   "metadata": {},
   "source": [
    "## From this polar line chart, we only see 1 possible cluster of customers, those with low annual income, high spending score and older adults. Clearly this is not representative of the different groups of customers.\n"
   ]
  },
  {
   "cell_type": "markdown",
   "metadata": {},
   "source": [
    "# Conclusion\n",
    "### It appears that kmeans clustering performed better than mean shift clustering on this dataset. From there we see 6 distinct groups of mall customers.  <br> I recommend the mall target both its older customers and younger ones, as these 2 groups form the highest majority and spending power respectively."
   ]
  }
 ],
 "metadata": {
  "interpreter": {
   "hash": "dcacb0086e9a4f4eabd41c33bf4faac5ea0a3337ed3f5eff0680afa930572c04"
  },
  "kernelspec": {
   "display_name": "Python 3.9.0 64-bit",
   "name": "python3"
  },
  "language_info": {
   "codemirror_mode": {
    "name": "ipython",
    "version": 3
   },
   "file_extension": ".py",
   "mimetype": "text/x-python",
   "name": "python",
   "nbconvert_exporter": "python",
   "pygments_lexer": "ipython3",
   "version": "3.9.0"
  },
  "orig_nbformat": 4
 },
 "nbformat": 4,
 "nbformat_minor": 2
}
